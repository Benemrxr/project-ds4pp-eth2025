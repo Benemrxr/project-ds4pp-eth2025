{
 "cells": [
  {
   "cell_type": "markdown",
   "id": "1b726470",
   "metadata": {},
   "source": [
    "# 📈 Predicting US Industrial Production Index Using GDELT News Data\n",
    "This notebook demonstrates how to retrieve and process economic news data from the GDELT database, and use it to predict the Industrial Production Index (IPI) from the Federal Reserve.\n"
   ]
  },
  {
   "cell_type": "code",
   "execution_count": null,
   "id": "4f0f7b64",
   "metadata": {},
   "outputs": [],
   "source": [
    "# Install necessary packages (if not already installed)\n",
    "!pip install pandas pandas_datareader pandas-gbq google-cloud-bigquery openai scikit-learn matplotlib\n"
   ]
  },
  {
   "cell_type": "code",
   "execution_count": null,
   "id": "6f729c5e",
   "metadata": {},
   "outputs": [],
   "source": [
    "import pandas as pd\n",
    "from pandas_datareader import data as web\n",
    "from datetime import datetime\n",
    "import matplotlib.pyplot as plt\n",
    "\n",
    "# Fetch Industrial Production Index (IPI) from FRED\n",
    "start = datetime(2005, 1, 1)\n",
    "end = datetime(2025, 1, 1)\n",
    "ipi = web.DataReader('INDPRO', 'fred', start, end)\n",
    "ipi = ipi.resample('M').mean()\n",
    "ipi.plot(title='US Industrial Production Index (INDPRO)', figsize=(10, 4))\n",
    "plt.show()"
   ]
  },
  {
   "cell_type": "markdown",
   "id": "7d35e8d5",
   "metadata": {},
   "source": [
    "## 📰 Load GDELT News Data from BigQuery\n",
    "You will need to set up a Google Cloud project and download a service account JSON file."
   ]
  },
  {
   "cell_type": "code",
   "execution_count": null,
   "id": "30d33446",
   "metadata": {},
   "outputs": [],
   "source": [
    "from google.cloud import bigquery\n",
    "from google.oauth2 import service_account\n",
    "\n",
    "# Replace with your service account path and project ID\n",
    "credentials = service_account.Credentials.from_service_account_file(\"your-service-account.json\")\n",
    "project_id = \"your-gcp-project-id\"\n",
    "client = bigquery.Client(credentials=credentials, project=project_id)\n",
    "\n",
    "query = '''\n",
    "SELECT DATE, AvgTone, GoldsteinScale, NumArticles\n",
    "FROM `gdelt-bq.gdeltv2.gkg`\n",
    "WHERE DATE >= '20050101' AND DATE < '20250101'\n",
    "AND V2Themes LIKE '%ECON%'\n",
    "'''\n",
    "df_gdelt = client.query(query).to_dataframe()\n",
    "df_gdelt['DATE'] = pd.to_datetime(df_gdelt['DATE'], format='%Y%m%d')\n",
    "df_gdelt = df_gdelt.set_index('DATE').resample('M').mean()\n",
    "df_gdelt.head()"
   ]
  },
  {
   "cell_type": "code",
   "execution_count": null,
   "id": "75ed06aa",
   "metadata": {},
   "outputs": [],
   "source": [
    "# Merge GDELT and IPI data\n",
    "df = df_gdelt.join(ipi, how='inner')\n",
    "df.dropna(inplace=True)\n",
    "df.head()"
   ]
  },
  {
   "cell_type": "code",
   "execution_count": null,
   "id": "a4ce7d72",
   "metadata": {},
   "outputs": [],
   "source": [
    "# Simple ML Model: Random Forest\n",
    "from sklearn.ensemble import RandomForestRegressor\n",
    "from sklearn.model_selection import train_test_split\n",
    "from sklearn.metrics import mean_squared_error\n",
    "\n",
    "X = df.drop(columns=['INDPRO'])\n",
    "y = df['INDPRO']\n",
    "X_train, X_test, y_train, y_test = train_test_split(X, y, test_size=0.2, shuffle=False)\n",
    "\n",
    "model = RandomForestRegressor()\n",
    "model.fit(X_train, y_train)\n",
    "preds = model.predict(X_test)\n",
    "\n",
    "mse = mean_squared_error(y_test, preds)\n",
    "print(f\"Mean Squared Error: {mse:.2f}\")"
   ]
  }
 ],
 "metadata": {
  "kernelspec": {
   "display_name": "Python 3",
   "language": "python",
   "name": "python3"
  },
  "language_info": {
   "name": "python",
   "version": "3.8"
  }
 },
 "nbformat": 4,
 "nbformat_minor": 5
}
