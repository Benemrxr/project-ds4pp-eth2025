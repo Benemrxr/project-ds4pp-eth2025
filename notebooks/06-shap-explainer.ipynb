{
 "cells": [
  {
   "cell_type": "markdown",
   "id": "0aa3c912",
   "metadata": {},
   "source": [
    "# SHAP Explainer\n",
    "\n",
    "SHAP values and feature importance interpretation for top model(s)."
   ]
  },
  {
   "cell_type": "markdown",
   "id": "6af643fd",
   "metadata": {},
   "source": [
    "To be added from national-news.ipynb soon!"
   ]
  }
 ],
 "metadata": {
  "language_info": {
   "name": "python"
  }
 },
 "nbformat": 4,
 "nbformat_minor": 5
}
