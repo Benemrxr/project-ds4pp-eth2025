{
 "cells": [
  {
   "cell_type": "code",
   "execution_count": 1,
   "id": "981b4eba",
   "metadata": {},
   "outputs": [
    {
     "name": "stderr",
     "output_type": "stream",
     "text": [
      "[nltk_data] Downloading package stopwords to /Users/rada/nltk_data...\n",
      "[nltk_data]   Package stopwords is already up-to-date!\n"
     ]
    },
    {
     "name": "stdout",
     "output_type": "stream",
     "text": [
      "Collecting en-core-web-sm==3.8.0\n",
      "  Downloading https://github.com/explosion/spacy-models/releases/download/en_core_web_sm-3.8.0/en_core_web_sm-3.8.0-py3-none-any.whl (12.8 MB)\n",
      "\u001b[2K     \u001b[90m━━━━━━━━━━━━━━━━━━━━━━━━━━━━━━━━━━━━━━━━\u001b[0m \u001b[32m12.8/12.8 MB\u001b[0m \u001b[31m43.8 MB/s\u001b[0m eta \u001b[36m0:00:00\u001b[0m \u001b[36m0:00:01\u001b[0m\n",
      "\u001b[?25h\u001b[38;5;2m✔ Download and installation successful\u001b[0m\n",
      "You can now load the package via spacy.load('en_core_web_sm')\n",
      "\u001b[38;5;3m⚠ Restart to reload dependencies\u001b[0m\n",
      "If you are in a Jupyter or Colab notebook, you may need to restart Python in\n",
      "order to load all the package's dependencies. You can do this by selecting the\n",
      "'Restart kernel' or 'Restart runtime' option.\n"
     ]
    }
   ],
   "source": [
    "# --- Load full dataset and drop missing articles ---\n",
    "import pandas as pd\n",
    "\n",
    "csv_path = \"../data/raw/newspapers/all-the-news-2-1.csv\"\n",
    "df = pd.read_csv(csv_path, nrows=100_000)\n",
    "df = df.dropna(subset=[\"article\"])\n",
    "df = df[df[\"article\"].str.strip().astype(bool)]\n",
    "\n",
    "# --- Preprocess text ---\n",
    "import re\n",
    "import nltk\n",
    "from nltk.corpus import stopwords\n",
    "import spacy\n",
    "\n",
    "# Download stopwords if not done already\n",
    "nltk.download('stopwords')\n",
    "stop_words = set(stopwords.words('english'))\n",
    "\n",
    "# Load spacy model for lemmatization\n",
    "spacy.cli.download(\"en_core_web_sm\")\n",
    "\n",
    "nlp = spacy.load('en_core_web_sm')\n",
    "\n",
    "def preprocess_text(text):\n",
    "    if not isinstance(text, str):\n",
    "        return \"\"\n",
    "\n",
    "    text = text.lower()  # Lowercase\n",
    "    text = re.sub(r'http\\S+|www\\S+', '', text)  # Remove URLs\n",
    "    text = re.sub(r'\\d+', '', text)  # Remove digits (optional)\n",
    "    text = re.sub(r'[^\\w\\s]', '', text)  # Remove punctuation\n",
    "    text = re.sub(r'\\s+', ' ', text).strip()  # Normalize whitespace\n",
    "    \n",
    "    # Remove stopwords\n",
    "    tokens = [word for word in text.split() if word not in stop_words]\n",
    "    return \" \".join(tokens)\n",
    "\n",
    "# Example: assume your DataFrame has a 'raw_text' column\n",
    "df['clean_text'] = df['article'].apply(preprocess_text)"
   ]
  },
  {
   "cell_type": "code",
   "execution_count": 2,
   "id": "4b09ae38",
   "metadata": {},
   "outputs": [
    {
     "name": "stderr",
     "output_type": "stream",
     "text": [
      "2025-05-27 21:48:09,851 - BERTopic - Embedding - Transforming documents to embeddings.\n"
     ]
    },
    {
     "data": {
      "application/vnd.jupyter.widget-view+json": {
       "model_id": "085de622b5624684acf6fec04a0f08f6",
       "version_major": 2,
       "version_minor": 0
      },
      "text/plain": [
       "Batches:   0%|          | 0/157 [00:00<?, ?it/s]"
      ]
     },
     "metadata": {},
     "output_type": "display_data"
    },
    {
     "name": "stderr",
     "output_type": "stream",
     "text": [
      "2025-05-27 21:48:30,047 - BERTopic - Embedding - Completed ✓\n",
      "2025-05-27 21:48:30,047 - BERTopic - Dimensionality - Fitting the dimensionality reduction algorithm\n",
      "2025-05-27 21:48:39,342 - BERTopic - Dimensionality - Completed ✓\n",
      "2025-05-27 21:48:39,342 - BERTopic - Cluster - Start clustering the reduced embeddings\n",
      "2025-05-27 21:48:39,433 - BERTopic - Cluster - Completed ✓\n",
      "2025-05-27 21:48:39,434 - BERTopic - Representation - Fine-tuning topics using representation models.\n",
      "2025-05-27 21:48:40,297 - BERTopic - Representation - Completed ✓\n"
     ]
    },
    {
     "data": {
      "text/html": [
       "<div>\n",
       "<style scoped>\n",
       "    .dataframe tbody tr th:only-of-type {\n",
       "        vertical-align: middle;\n",
       "    }\n",
       "\n",
       "    .dataframe tbody tr th {\n",
       "        vertical-align: top;\n",
       "    }\n",
       "\n",
       "    .dataframe thead th {\n",
       "        text-align: right;\n",
       "    }\n",
       "</style>\n",
       "<table border=\"1\" class=\"dataframe\">\n",
       "  <thead>\n",
       "    <tr style=\"text-align: right;\">\n",
       "      <th></th>\n",
       "      <th>Topic</th>\n",
       "      <th>Count</th>\n",
       "      <th>Name</th>\n",
       "      <th>Representation</th>\n",
       "      <th>Representative_Docs</th>\n",
       "    </tr>\n",
       "  </thead>\n",
       "  <tbody>\n",
       "    <tr>\n",
       "      <th>0</th>\n",
       "      <td>-1</td>\n",
       "      <td>1617</td>\n",
       "      <td>-1_said_people_like_trump</td>\n",
       "      <td>[said, people, like, trump, one, also, us, new...</td>\n",
       "      <td>[back november obama backlash gathering steam ...</td>\n",
       "    </tr>\n",
       "    <tr>\n",
       "      <th>1</th>\n",
       "      <td>0</td>\n",
       "      <td>271</td>\n",
       "      <td>0_art_artists_work_museum</td>\n",
       "      <td>[art, artists, work, museum, artist, paintings...</td>\n",
       "      <td>[advertise hyperallergic nectar ads new york c...</td>\n",
       "    </tr>\n",
       "    <tr>\n",
       "      <th>2</th>\n",
       "      <td>1</td>\n",
       "      <td>181</td>\n",
       "      <td>1_music_album_band_song</td>\n",
       "      <td>[music, album, band, song, songs, like, record...</td>\n",
       "      <td>[last time green day released album three exac...</td>\n",
       "    </tr>\n",
       "    <tr>\n",
       "      <th>3</th>\n",
       "      <td>2</td>\n",
       "      <td>122</td>\n",
       "      <td>2_brexit_eu_britain_minister</td>\n",
       "      <td>[brexit, eu, britain, minister, european, brit...</td>\n",
       "      <td>[british prime minister theresa may asked parl...</td>\n",
       "    </tr>\n",
       "    <tr>\n",
       "      <th>4</th>\n",
       "      <td>3</td>\n",
       "      <td>117</td>\n",
       "      <td>3_chyna_kardashian_kylie_got</td>\n",
       "      <td>[chyna, kardashian, kylie, got, baby, shes, ro...</td>\n",
       "      <td>[kim khloe kourtney kardashian sticking guns c...</td>\n",
       "    </tr>\n",
       "  </tbody>\n",
       "</table>\n",
       "</div>"
      ],
      "text/plain": [
       "   Topic  Count                          Name  \\\n",
       "0     -1   1617     -1_said_people_like_trump   \n",
       "1      0    271     0_art_artists_work_museum   \n",
       "2      1    181       1_music_album_band_song   \n",
       "3      2    122  2_brexit_eu_britain_minister   \n",
       "4      3    117  3_chyna_kardashian_kylie_got   \n",
       "\n",
       "                                      Representation  \\\n",
       "0  [said, people, like, trump, one, also, us, new...   \n",
       "1  [art, artists, work, museum, artist, paintings...   \n",
       "2  [music, album, band, song, songs, like, record...   \n",
       "3  [brexit, eu, britain, minister, european, brit...   \n",
       "4  [chyna, kardashian, kylie, got, baby, shes, ro...   \n",
       "\n",
       "                                 Representative_Docs  \n",
       "0  [back november obama backlash gathering steam ...  \n",
       "1  [advertise hyperallergic nectar ads new york c...  \n",
       "2  [last time green day released album three exac...  \n",
       "3  [british prime minister theresa may asked parl...  \n",
       "4  [kim khloe kourtney kardashian sticking guns c...  "
      ]
     },
     "metadata": {},
     "output_type": "display_data"
    }
   ],
   "source": [
    "# Optional: sample for performance (adjust as needed)\n",
    "df_sample = df.sample(n=5000, random_state=42)  # You can increase this\n",
    "\n",
    "# --- Fit BERTopic ---\n",
    "from bertopic import BERTopic\n",
    "\n",
    "topic_model = BERTopic(language=\"english\", verbose=True)\n",
    "topics, probs = topic_model.fit_transform(df_sample[\"clean_text\"].tolist())\n",
    "\n",
    "# --- View top topics ---\n",
    "topic_info = topic_model.get_topic_info()\n",
    "display(topic_info.head())\n",
    "\n",
    "# --- Visualize ---\n",
    "topic_model.visualize_topics()\n",
    "\n",
    "# --- Representative documents ---\n",
    "reps = topic_model.get_representative_docs()\n"
   ]
  },
  {
   "cell_type": "code",
   "execution_count": 3,
   "id": "98bc2f57",
   "metadata": {},
   "outputs": [
    {
     "data": {
      "application/vnd.plotly.v1+json": {
       "config": {
        "plotlyServerURL": "https://plot.ly"
       },
       "data": [
        {
         "marker": {
          "color": "#D55E00"
         },
         "orientation": "h",
         "type": "bar",
         "x": [
          0.009063909649488871,
          0.009473782827865405,
          0.010324949532614914,
          0.012269472686396415,
          0.019831095866333352
         ],
         "xaxis": "x",
         "y": [
          "artist  ",
          "museum  ",
          "work  ",
          "artists  ",
          "art  "
         ],
         "yaxis": "y"
        },
        {
         "marker": {
          "color": "#0072B2"
         },
         "orientation": "h",
         "type": "bar",
         "x": [
          0.014264308289017839,
          0.014921909407808477,
          0.015301923927306765,
          0.016802862152850078,
          0.022463997621645557
         ],
         "xaxis": "x2",
         "y": [
          "songs  ",
          "song  ",
          "band  ",
          "album  ",
          "music  "
         ],
         "yaxis": "y2"
        },
        {
         "marker": {
          "color": "#CC79A7"
         },
         "orientation": "h",
         "type": "bar",
         "x": [
          0.018474850118482492,
          0.01903400999190374,
          0.019530314059041265,
          0.03405499102017294,
          0.03540715520172889
         ],
         "xaxis": "x3",
         "y": [
          "european  ",
          "minister  ",
          "britain  ",
          "eu  ",
          "brexit  "
         ],
         "yaxis": "y3"
        },
        {
         "marker": {
          "color": "#E69F00"
         },
         "orientation": "h",
         "type": "bar",
         "x": [
          0.017484024449236156,
          0.018573282625268694,
          0.021068409558326978,
          0.02512271536698791,
          0.02607077317452875
         ],
         "xaxis": "x4",
         "y": [
          "baby  ",
          "got  ",
          "kylie  ",
          "kardashian  ",
          "chyna  "
         ],
         "yaxis": "y4"
        },
        {
         "marker": {
          "color": "#56B4E9"
         },
         "orientation": "h",
         "type": "bar",
         "x": [
          0.016768766825001127,
          0.016873077640756018,
          0.01862128579402644,
          0.03916126644675724,
          0.043297666334714976
         ],
         "xaxis": "x5",
         "y": [
          "mma  ",
          "thai  ",
          "boxing  ",
          "ufc  ",
          "fight  "
         ],
         "yaxis": "y5"
        },
        {
         "marker": {
          "color": "#009E73"
         },
         "orientation": "h",
         "type": "bar",
         "x": [
          0.017018944935421523,
          0.02142180117637501,
          0.025880837682958468,
          0.030352191275779723,
          0.03275620168010409
         ],
         "xaxis": "x6",
         "y": [
          "children  ",
          "immigrants  ",
          "border  ",
          "daca  ",
          "immigration  "
         ],
         "yaxis": "y6"
        },
        {
         "marker": {
          "color": "#F0E442"
         },
         "orientation": "h",
         "type": "bar",
         "x": [
          0.014585000976229407,
          0.014965991896828328,
          0.01648392104799115,
          0.016911778754880077,
          0.03513697354151349
         ],
         "xaxis": "x7",
         "y": [
          "users  ",
          "information  ",
          "zuckerberg  ",
          "data  ",
          "facebook  "
         ],
         "yaxis": "y7"
        },
        {
         "marker": {
          "color": "#D55E00"
         },
         "orientation": "h",
         "type": "bar",
         "x": [
          0.02016128304633844,
          0.02132312957263923,
          0.02225025390430608,
          0.025978373501257687,
          0.029246965675673843
         ],
         "xaxis": "x8",
         "y": [
          "rate  ",
          "dollar  ",
          "index  ",
          "fed  ",
          "trade  "
         ],
         "yaxis": "y8"
        },
        {
         "marker": {
          "color": "#0072B2"
         },
         "orientation": "h",
         "type": "bar",
         "x": [
          0.01861935346523552,
          0.018965524817346265,
          0.02067969349692587,
          0.022128977861676544,
          0.02504715757688931
         ],
         "xaxis": "x9",
         "y": [
          "million  ",
          "hmny  ",
          "shares  ",
          "company  ",
          "hmit  "
         ],
         "yaxis": "y9"
        },
        {
         "marker": {
          "color": "#CC79A7"
         },
         "orientation": "h",
         "type": "bar",
         "x": [
          0.02305585910567226,
          0.036612503758312945,
          0.04088487723651649,
          0.0410777689980608,
          0.05018683665844493
         ],
         "xaxis": "x10",
         "y": [
          "sanctions  ",
          "moscow  ",
          "putin  ",
          "russia  ",
          "russian  "
         ],
         "yaxis": "y10"
        }
       ],
       "layout": {
        "annotations": [
         {
          "font": {
           "size": 16
          },
          "showarrow": false,
          "text": "Topic 0",
          "x": 0.0875,
          "xanchor": "center",
          "xref": "paper",
          "y": 1,
          "yanchor": "bottom",
          "yref": "paper"
         },
         {
          "font": {
           "size": 16
          },
          "showarrow": false,
          "text": "Topic 1",
          "x": 0.36250000000000004,
          "xanchor": "center",
          "xref": "paper",
          "y": 1,
          "yanchor": "bottom",
          "yref": "paper"
         },
         {
          "font": {
           "size": 16
          },
          "showarrow": false,
          "text": "Topic 2",
          "x": 0.6375000000000001,
          "xanchor": "center",
          "xref": "paper",
          "y": 1,
          "yanchor": "bottom",
          "yref": "paper"
         },
         {
          "font": {
           "size": 16
          },
          "showarrow": false,
          "text": "Topic 3",
          "x": 0.9125,
          "xanchor": "center",
          "xref": "paper",
          "y": 1,
          "yanchor": "bottom",
          "yref": "paper"
         },
         {
          "font": {
           "size": 16
          },
          "showarrow": false,
          "text": "Topic 4",
          "x": 0.0875,
          "xanchor": "center",
          "xref": "paper",
          "y": 0.6222222222222222,
          "yanchor": "bottom",
          "yref": "paper"
         },
         {
          "font": {
           "size": 16
          },
          "showarrow": false,
          "text": "Topic 5",
          "x": 0.36250000000000004,
          "xanchor": "center",
          "xref": "paper",
          "y": 0.6222222222222222,
          "yanchor": "bottom",
          "yref": "paper"
         },
         {
          "font": {
           "size": 16
          },
          "showarrow": false,
          "text": "Topic 6",
          "x": 0.6375000000000001,
          "xanchor": "center",
          "xref": "paper",
          "y": 0.6222222222222222,
          "yanchor": "bottom",
          "yref": "paper"
         },
         {
          "font": {
           "size": 16
          },
          "showarrow": false,
          "text": "Topic 7",
          "x": 0.9125,
          "xanchor": "center",
          "xref": "paper",
          "y": 0.6222222222222222,
          "yanchor": "bottom",
          "yref": "paper"
         },
         {
          "font": {
           "size": 16
          },
          "showarrow": false,
          "text": "Topic 8",
          "x": 0.0875,
          "xanchor": "center",
          "xref": "paper",
          "y": 0.24444444444444446,
          "yanchor": "bottom",
          "yref": "paper"
         },
         {
          "font": {
           "size": 16
          },
          "showarrow": false,
          "text": "Topic 9",
          "x": 0.36250000000000004,
          "xanchor": "center",
          "xref": "paper",
          "y": 0.24444444444444446,
          "yanchor": "bottom",
          "yref": "paper"
         }
        ],
        "height": 750,
        "hoverlabel": {
         "bgcolor": "white",
         "font": {
          "family": "Rockwell",
          "size": 16
         }
        },
        "showlegend": false,
        "template": {
         "data": {
          "bar": [
           {
            "error_x": {
             "color": "#2a3f5f"
            },
            "error_y": {
             "color": "#2a3f5f"
            },
            "marker": {
             "line": {
              "color": "white",
              "width": 0.5
             },
             "pattern": {
              "fillmode": "overlay",
              "size": 10,
              "solidity": 0.2
             }
            },
            "type": "bar"
           }
          ],
          "barpolar": [
           {
            "marker": {
             "line": {
              "color": "white",
              "width": 0.5
             },
             "pattern": {
              "fillmode": "overlay",
              "size": 10,
              "solidity": 0.2
             }
            },
            "type": "barpolar"
           }
          ],
          "carpet": [
           {
            "aaxis": {
             "endlinecolor": "#2a3f5f",
             "gridcolor": "#C8D4E3",
             "linecolor": "#C8D4E3",
             "minorgridcolor": "#C8D4E3",
             "startlinecolor": "#2a3f5f"
            },
            "baxis": {
             "endlinecolor": "#2a3f5f",
             "gridcolor": "#C8D4E3",
             "linecolor": "#C8D4E3",
             "minorgridcolor": "#C8D4E3",
             "startlinecolor": "#2a3f5f"
            },
            "type": "carpet"
           }
          ],
          "choropleth": [
           {
            "colorbar": {
             "outlinewidth": 0,
             "ticks": ""
            },
            "type": "choropleth"
           }
          ],
          "contour": [
           {
            "colorbar": {
             "outlinewidth": 0,
             "ticks": ""
            },
            "colorscale": [
             [
              0,
              "#0d0887"
             ],
             [
              0.1111111111111111,
              "#46039f"
             ],
             [
              0.2222222222222222,
              "#7201a8"
             ],
             [
              0.3333333333333333,
              "#9c179e"
             ],
             [
              0.4444444444444444,
              "#bd3786"
             ],
             [
              0.5555555555555556,
              "#d8576b"
             ],
             [
              0.6666666666666666,
              "#ed7953"
             ],
             [
              0.7777777777777778,
              "#fb9f3a"
             ],
             [
              0.8888888888888888,
              "#fdca26"
             ],
             [
              1,
              "#f0f921"
             ]
            ],
            "type": "contour"
           }
          ],
          "contourcarpet": [
           {
            "colorbar": {
             "outlinewidth": 0,
             "ticks": ""
            },
            "type": "contourcarpet"
           }
          ],
          "heatmap": [
           {
            "colorbar": {
             "outlinewidth": 0,
             "ticks": ""
            },
            "colorscale": [
             [
              0,
              "#0d0887"
             ],
             [
              0.1111111111111111,
              "#46039f"
             ],
             [
              0.2222222222222222,
              "#7201a8"
             ],
             [
              0.3333333333333333,
              "#9c179e"
             ],
             [
              0.4444444444444444,
              "#bd3786"
             ],
             [
              0.5555555555555556,
              "#d8576b"
             ],
             [
              0.6666666666666666,
              "#ed7953"
             ],
             [
              0.7777777777777778,
              "#fb9f3a"
             ],
             [
              0.8888888888888888,
              "#fdca26"
             ],
             [
              1,
              "#f0f921"
             ]
            ],
            "type": "heatmap"
           }
          ],
          "histogram": [
           {
            "marker": {
             "pattern": {
              "fillmode": "overlay",
              "size": 10,
              "solidity": 0.2
             }
            },
            "type": "histogram"
           }
          ],
          "histogram2d": [
           {
            "colorbar": {
             "outlinewidth": 0,
             "ticks": ""
            },
            "colorscale": [
             [
              0,
              "#0d0887"
             ],
             [
              0.1111111111111111,
              "#46039f"
             ],
             [
              0.2222222222222222,
              "#7201a8"
             ],
             [
              0.3333333333333333,
              "#9c179e"
             ],
             [
              0.4444444444444444,
              "#bd3786"
             ],
             [
              0.5555555555555556,
              "#d8576b"
             ],
             [
              0.6666666666666666,
              "#ed7953"
             ],
             [
              0.7777777777777778,
              "#fb9f3a"
             ],
             [
              0.8888888888888888,
              "#fdca26"
             ],
             [
              1,
              "#f0f921"
             ]
            ],
            "type": "histogram2d"
           }
          ],
          "histogram2dcontour": [
           {
            "colorbar": {
             "outlinewidth": 0,
             "ticks": ""
            },
            "colorscale": [
             [
              0,
              "#0d0887"
             ],
             [
              0.1111111111111111,
              "#46039f"
             ],
             [
              0.2222222222222222,
              "#7201a8"
             ],
             [
              0.3333333333333333,
              "#9c179e"
             ],
             [
              0.4444444444444444,
              "#bd3786"
             ],
             [
              0.5555555555555556,
              "#d8576b"
             ],
             [
              0.6666666666666666,
              "#ed7953"
             ],
             [
              0.7777777777777778,
              "#fb9f3a"
             ],
             [
              0.8888888888888888,
              "#fdca26"
             ],
             [
              1,
              "#f0f921"
             ]
            ],
            "type": "histogram2dcontour"
           }
          ],
          "mesh3d": [
           {
            "colorbar": {
             "outlinewidth": 0,
             "ticks": ""
            },
            "type": "mesh3d"
           }
          ],
          "parcoords": [
           {
            "line": {
             "colorbar": {
              "outlinewidth": 0,
              "ticks": ""
             }
            },
            "type": "parcoords"
           }
          ],
          "pie": [
           {
            "automargin": true,
            "type": "pie"
           }
          ],
          "scatter": [
           {
            "fillpattern": {
             "fillmode": "overlay",
             "size": 10,
             "solidity": 0.2
            },
            "type": "scatter"
           }
          ],
          "scatter3d": [
           {
            "line": {
             "colorbar": {
              "outlinewidth": 0,
              "ticks": ""
             }
            },
            "marker": {
             "colorbar": {
              "outlinewidth": 0,
              "ticks": ""
             }
            },
            "type": "scatter3d"
           }
          ],
          "scattercarpet": [
           {
            "marker": {
             "colorbar": {
              "outlinewidth": 0,
              "ticks": ""
             }
            },
            "type": "scattercarpet"
           }
          ],
          "scattergeo": [
           {
            "marker": {
             "colorbar": {
              "outlinewidth": 0,
              "ticks": ""
             }
            },
            "type": "scattergeo"
           }
          ],
          "scattergl": [
           {
            "marker": {
             "colorbar": {
              "outlinewidth": 0,
              "ticks": ""
             }
            },
            "type": "scattergl"
           }
          ],
          "scattermap": [
           {
            "marker": {
             "colorbar": {
              "outlinewidth": 0,
              "ticks": ""
             }
            },
            "type": "scattermap"
           }
          ],
          "scattermapbox": [
           {
            "marker": {
             "colorbar": {
              "outlinewidth": 0,
              "ticks": ""
             }
            },
            "type": "scattermapbox"
           }
          ],
          "scatterpolar": [
           {
            "marker": {
             "colorbar": {
              "outlinewidth": 0,
              "ticks": ""
             }
            },
            "type": "scatterpolar"
           }
          ],
          "scatterpolargl": [
           {
            "marker": {
             "colorbar": {
              "outlinewidth": 0,
              "ticks": ""
             }
            },
            "type": "scatterpolargl"
           }
          ],
          "scatterternary": [
           {
            "marker": {
             "colorbar": {
              "outlinewidth": 0,
              "ticks": ""
             }
            },
            "type": "scatterternary"
           }
          ],
          "surface": [
           {
            "colorbar": {
             "outlinewidth": 0,
             "ticks": ""
            },
            "colorscale": [
             [
              0,
              "#0d0887"
             ],
             [
              0.1111111111111111,
              "#46039f"
             ],
             [
              0.2222222222222222,
              "#7201a8"
             ],
             [
              0.3333333333333333,
              "#9c179e"
             ],
             [
              0.4444444444444444,
              "#bd3786"
             ],
             [
              0.5555555555555556,
              "#d8576b"
             ],
             [
              0.6666666666666666,
              "#ed7953"
             ],
             [
              0.7777777777777778,
              "#fb9f3a"
             ],
             [
              0.8888888888888888,
              "#fdca26"
             ],
             [
              1,
              "#f0f921"
             ]
            ],
            "type": "surface"
           }
          ],
          "table": [
           {
            "cells": {
             "fill": {
              "color": "#EBF0F8"
             },
             "line": {
              "color": "white"
             }
            },
            "header": {
             "fill": {
              "color": "#C8D4E3"
             },
             "line": {
              "color": "white"
             }
            },
            "type": "table"
           }
          ]
         },
         "layout": {
          "annotationdefaults": {
           "arrowcolor": "#2a3f5f",
           "arrowhead": 0,
           "arrowwidth": 1
          },
          "autotypenumbers": "strict",
          "coloraxis": {
           "colorbar": {
            "outlinewidth": 0,
            "ticks": ""
           }
          },
          "colorscale": {
           "diverging": [
            [
             0,
             "#8e0152"
            ],
            [
             0.1,
             "#c51b7d"
            ],
            [
             0.2,
             "#de77ae"
            ],
            [
             0.3,
             "#f1b6da"
            ],
            [
             0.4,
             "#fde0ef"
            ],
            [
             0.5,
             "#f7f7f7"
            ],
            [
             0.6,
             "#e6f5d0"
            ],
            [
             0.7,
             "#b8e186"
            ],
            [
             0.8,
             "#7fbc41"
            ],
            [
             0.9,
             "#4d9221"
            ],
            [
             1,
             "#276419"
            ]
           ],
           "sequential": [
            [
             0,
             "#0d0887"
            ],
            [
             0.1111111111111111,
             "#46039f"
            ],
            [
             0.2222222222222222,
             "#7201a8"
            ],
            [
             0.3333333333333333,
             "#9c179e"
            ],
            [
             0.4444444444444444,
             "#bd3786"
            ],
            [
             0.5555555555555556,
             "#d8576b"
            ],
            [
             0.6666666666666666,
             "#ed7953"
            ],
            [
             0.7777777777777778,
             "#fb9f3a"
            ],
            [
             0.8888888888888888,
             "#fdca26"
            ],
            [
             1,
             "#f0f921"
            ]
           ],
           "sequentialminus": [
            [
             0,
             "#0d0887"
            ],
            [
             0.1111111111111111,
             "#46039f"
            ],
            [
             0.2222222222222222,
             "#7201a8"
            ],
            [
             0.3333333333333333,
             "#9c179e"
            ],
            [
             0.4444444444444444,
             "#bd3786"
            ],
            [
             0.5555555555555556,
             "#d8576b"
            ],
            [
             0.6666666666666666,
             "#ed7953"
            ],
            [
             0.7777777777777778,
             "#fb9f3a"
            ],
            [
             0.8888888888888888,
             "#fdca26"
            ],
            [
             1,
             "#f0f921"
            ]
           ]
          },
          "colorway": [
           "#636efa",
           "#EF553B",
           "#00cc96",
           "#ab63fa",
           "#FFA15A",
           "#19d3f3",
           "#FF6692",
           "#B6E880",
           "#FF97FF",
           "#FECB52"
          ],
          "font": {
           "color": "#2a3f5f"
          },
          "geo": {
           "bgcolor": "white",
           "lakecolor": "white",
           "landcolor": "white",
           "showlakes": true,
           "showland": true,
           "subunitcolor": "#C8D4E3"
          },
          "hoverlabel": {
           "align": "left"
          },
          "hovermode": "closest",
          "mapbox": {
           "style": "light"
          },
          "paper_bgcolor": "white",
          "plot_bgcolor": "white",
          "polar": {
           "angularaxis": {
            "gridcolor": "#EBF0F8",
            "linecolor": "#EBF0F8",
            "ticks": ""
           },
           "bgcolor": "white",
           "radialaxis": {
            "gridcolor": "#EBF0F8",
            "linecolor": "#EBF0F8",
            "ticks": ""
           }
          },
          "scene": {
           "xaxis": {
            "backgroundcolor": "white",
            "gridcolor": "#DFE8F3",
            "gridwidth": 2,
            "linecolor": "#EBF0F8",
            "showbackground": true,
            "ticks": "",
            "zerolinecolor": "#EBF0F8"
           },
           "yaxis": {
            "backgroundcolor": "white",
            "gridcolor": "#DFE8F3",
            "gridwidth": 2,
            "linecolor": "#EBF0F8",
            "showbackground": true,
            "ticks": "",
            "zerolinecolor": "#EBF0F8"
           },
           "zaxis": {
            "backgroundcolor": "white",
            "gridcolor": "#DFE8F3",
            "gridwidth": 2,
            "linecolor": "#EBF0F8",
            "showbackground": true,
            "ticks": "",
            "zerolinecolor": "#EBF0F8"
           }
          },
          "shapedefaults": {
           "line": {
            "color": "#2a3f5f"
           }
          },
          "ternary": {
           "aaxis": {
            "gridcolor": "#DFE8F3",
            "linecolor": "#A2B1C6",
            "ticks": ""
           },
           "baxis": {
            "gridcolor": "#DFE8F3",
            "linecolor": "#A2B1C6",
            "ticks": ""
           },
           "bgcolor": "white",
           "caxis": {
            "gridcolor": "#DFE8F3",
            "linecolor": "#A2B1C6",
            "ticks": ""
           }
          },
          "title": {
           "x": 0.05
          },
          "xaxis": {
           "automargin": true,
           "gridcolor": "#EBF0F8",
           "linecolor": "#EBF0F8",
           "ticks": "",
           "title": {
            "standoff": 15
           },
           "zerolinecolor": "#EBF0F8",
           "zerolinewidth": 2
          },
          "yaxis": {
           "automargin": true,
           "gridcolor": "#EBF0F8",
           "linecolor": "#EBF0F8",
           "ticks": "",
           "title": {
            "standoff": 15
           },
           "zerolinecolor": "#EBF0F8",
           "zerolinewidth": 2
          }
         }
        },
        "title": {
         "font": {
          "color": "Black",
          "size": 22
         },
         "text": "Topic Word Scores",
         "x": 0.5,
         "xanchor": "center",
         "yanchor": "top"
        },
        "width": 1000,
        "xaxis": {
         "anchor": "y",
         "domain": [
          0,
          0.175
         ],
         "showgrid": true
        },
        "xaxis10": {
         "anchor": "y10",
         "domain": [
          0.275,
          0.45
         ],
         "showgrid": true
        },
        "xaxis11": {
         "anchor": "y11",
         "domain": [
          0.55,
          0.7250000000000001
         ],
         "showgrid": true
        },
        "xaxis12": {
         "anchor": "y12",
         "domain": [
          0.825,
          1
         ],
         "showgrid": true
        },
        "xaxis2": {
         "anchor": "y2",
         "domain": [
          0.275,
          0.45
         ],
         "showgrid": true
        },
        "xaxis3": {
         "anchor": "y3",
         "domain": [
          0.55,
          0.7250000000000001
         ],
         "showgrid": true
        },
        "xaxis4": {
         "anchor": "y4",
         "domain": [
          0.825,
          1
         ],
         "showgrid": true
        },
        "xaxis5": {
         "anchor": "y5",
         "domain": [
          0,
          0.175
         ],
         "showgrid": true
        },
        "xaxis6": {
         "anchor": "y6",
         "domain": [
          0.275,
          0.45
         ],
         "showgrid": true
        },
        "xaxis7": {
         "anchor": "y7",
         "domain": [
          0.55,
          0.7250000000000001
         ],
         "showgrid": true
        },
        "xaxis8": {
         "anchor": "y8",
         "domain": [
          0.825,
          1
         ],
         "showgrid": true
        },
        "xaxis9": {
         "anchor": "y9",
         "domain": [
          0,
          0.175
         ],
         "showgrid": true
        },
        "yaxis": {
         "anchor": "x",
         "domain": [
          0.7555555555555555,
          1
         ],
         "showgrid": true
        },
        "yaxis10": {
         "anchor": "x10",
         "domain": [
          0,
          0.24444444444444446
         ],
         "showgrid": true
        },
        "yaxis11": {
         "anchor": "x11",
         "domain": [
          0,
          0.24444444444444446
         ],
         "showgrid": true
        },
        "yaxis12": {
         "anchor": "x12",
         "domain": [
          0,
          0.24444444444444446
         ],
         "showgrid": true
        },
        "yaxis2": {
         "anchor": "x2",
         "domain": [
          0.7555555555555555,
          1
         ],
         "showgrid": true
        },
        "yaxis3": {
         "anchor": "x3",
         "domain": [
          0.7555555555555555,
          1
         ],
         "showgrid": true
        },
        "yaxis4": {
         "anchor": "x4",
         "domain": [
          0.7555555555555555,
          1
         ],
         "showgrid": true
        },
        "yaxis5": {
         "anchor": "x5",
         "domain": [
          0.37777777777777777,
          0.6222222222222222
         ],
         "showgrid": true
        },
        "yaxis6": {
         "anchor": "x6",
         "domain": [
          0.37777777777777777,
          0.6222222222222222
         ],
         "showgrid": true
        },
        "yaxis7": {
         "anchor": "x7",
         "domain": [
          0.37777777777777777,
          0.6222222222222222
         ],
         "showgrid": true
        },
        "yaxis8": {
         "anchor": "x8",
         "domain": [
          0.37777777777777777,
          0.6222222222222222
         ],
         "showgrid": true
        },
        "yaxis9": {
         "anchor": "x9",
         "domain": [
          0,
          0.24444444444444446
         ],
         "showgrid": true
        }
       }
      }
     },
     "metadata": {},
     "output_type": "display_data"
    }
   ],
   "source": [
    "topic_model.visualize_barchart(top_n_topics=10)"
   ]
  },
  {
   "cell_type": "code",
   "execution_count": 4,
   "id": "be4d8ef5",
   "metadata": {},
   "outputs": [
    {
     "data": {
      "application/vnd.plotly.v1+json": {
       "config": {
        "plotlyServerURL": "https://plot.ly"
       },
       "data": [
        {
         "coloraxis": "coloraxis",
         "hovertemplate": "x: %{x}<br>y: %{y}<br>Similarity Score: %{z}<extra></extra>",
         "name": "0",
         "type": "heatmap",
         "x": [
          "0_art_artists_work",
          "1_music_album_band",
          "2_brexit_eu_britain",
          "3_chyna_kardashian_kylie",
          "4_fight_ufc_boxing",
          "5_immigration_daca_border",
          "6_facebook_data_zuckerberg",
          "7_trade_fed_index",
          "8_hmit_company_shares",
          "9_russian_russia_putin",
          "10_drug_opioid_marijuana",
          "11_food_pizza_breakfast",
          "12_north_korea_korean",
          "13_republican_democrats_trump",
          "14_climate_coal_water",
          "15_iran_nuclear_tehran",
          "16_syria_syrian_forces",
          "17_sexual_kelly_charges",
          "18_film_movie_movies",
          "19_police_officers_shooting",
          "20_nfl_football_bowl",
          "21_maduro_venezuelan_venezu...",
          "22_tariffs_trade_china",
          "23_mueller_investigation_fbi",
          "24_sentences_vox_px",
          "25_trump_trumps_media",
          "26_lebron_lavar_lakers",
          "27_health_insurance_care",
          "28_moon_enters_mercury",
          "29_twitter_snapchat_facebook",
          "30_tesla_musk_car",
          "31_oil_crude_opec",
          "32_menu_expandable_indicates",
          "33_israeli_jerusalem_israel",
          "34_hurricane_fire_storm",
          "35_bank_banks_deutsche",
          "36_plastic_species_recycling",
          "37_cup_gibb_marathon",
          "38_netflix_expandable_navig...",
          "39_game_games_players",
          "40_book_books_cinderella",
          "41_nba_basketball_game",
          "42_china_chinese_beijing",
          "43_season_episode_buffy",
          "44_amazon_flywheel_delivery",
          "45_gun_guns_violence",
          "46_apple_iphone_apples",
          "47_rohingya_ullah_buddhist",
          "48_flight_boeing_airlines",
          "49_tyga_tmz_depp",
          "50_kanye_lemon_kanyes",
          "51_uber_drivers_ubers",
          "52_ceo_company_tinder",
          "53_thrones_game_season",
          "54_french_france_le",
          "55_prison_inmates_crime",
          "56_tax_budget_taxes",
          "57_ceu_hungary_german",
          "58_gmt_italy_euro",
          "59_athletes_olympic_nassar",
          "60_cow_india_bjp",
          "61_manafort_gates_manaforts",
          "62_maternal_health_abortion",
          "63_inning_innings_homer",
          "64_chapo_mexico_mexican",
          "65_cohen_trump_campaign",
          "66_obama_politics_americans",
          "67_kavanaugh_court_supreme",
          "68_died_zsa_death",
          "69_bolsonaro_brazilians_bra...",
          "70_kavanaugh_sexual_ford",
          "71_teachers_workers_unions",
          "72_nhl_hockey_season",
          "73_daphne_daphnes_police",
          "74_roseanne_kareem_show",
          "75_meat_food_labgrown",
          "76_parhamovich_court_gun",
          "77_nafta_canada_trade",
          "78_political_party_voters",
          "79_google_tim_cci",
          "80_saudi_prince_arabia",
          "81_baseball_yankees_players",
          "82_erdogan_turkish_turkey",
          "83_yeah_ks_think",
          "84_clinton_clintons_campaign"
         ],
         "xaxis": "x",
         "y": [
          "0_art_artists_work",
          "1_music_album_band",
          "2_brexit_eu_britain",
          "3_chyna_kardashian_kylie",
          "4_fight_ufc_boxing",
          "5_immigration_daca_border",
          "6_facebook_data_zuckerberg",
          "7_trade_fed_index",
          "8_hmit_company_shares",
          "9_russian_russia_putin",
          "10_drug_opioid_marijuana",
          "11_food_pizza_breakfast",
          "12_north_korea_korean",
          "13_republican_democrats_trump",
          "14_climate_coal_water",
          "15_iran_nuclear_tehran",
          "16_syria_syrian_forces",
          "17_sexual_kelly_charges",
          "18_film_movie_movies",
          "19_police_officers_shooting",
          "20_nfl_football_bowl",
          "21_maduro_venezuelan_venezu...",
          "22_tariffs_trade_china",
          "23_mueller_investigation_fbi",
          "24_sentences_vox_px",
          "25_trump_trumps_media",
          "26_lebron_lavar_lakers",
          "27_health_insurance_care",
          "28_moon_enters_mercury",
          "29_twitter_snapchat_facebook",
          "30_tesla_musk_car",
          "31_oil_crude_opec",
          "32_menu_expandable_indicates",
          "33_israeli_jerusalem_israel",
          "34_hurricane_fire_storm",
          "35_bank_banks_deutsche",
          "36_plastic_species_recycling",
          "37_cup_gibb_marathon",
          "38_netflix_expandable_navig...",
          "39_game_games_players",
          "40_book_books_cinderella",
          "41_nba_basketball_game",
          "42_china_chinese_beijing",
          "43_season_episode_buffy",
          "44_amazon_flywheel_delivery",
          "45_gun_guns_violence",
          "46_apple_iphone_apples",
          "47_rohingya_ullah_buddhist",
          "48_flight_boeing_airlines",
          "49_tyga_tmz_depp",
          "50_kanye_lemon_kanyes",
          "51_uber_drivers_ubers",
          "52_ceo_company_tinder",
          "53_thrones_game_season",
          "54_french_france_le",
          "55_prison_inmates_crime",
          "56_tax_budget_taxes",
          "57_ceu_hungary_german",
          "58_gmt_italy_euro",
          "59_athletes_olympic_nassar",
          "60_cow_india_bjp",
          "61_manafort_gates_manaforts",
          "62_maternal_health_abortion",
          "63_inning_innings_homer",
          "64_chapo_mexico_mexican",
          "65_cohen_trump_campaign",
          "66_obama_politics_americans",
          "67_kavanaugh_court_supreme",
          "68_died_zsa_death",
          "69_bolsonaro_brazilians_bra...",
          "70_kavanaugh_sexual_ford",
          "71_teachers_workers_unions",
          "72_nhl_hockey_season",
          "73_daphne_daphnes_police",
          "74_roseanne_kareem_show",
          "75_meat_food_labgrown",
          "76_parhamovich_court_gun",
          "77_nafta_canada_trade",
          "78_political_party_voters",
          "79_google_tim_cci",
          "80_saudi_prince_arabia",
          "81_baseball_yankees_players",
          "82_erdogan_turkish_turkey",
          "83_yeah_ks_think",
          "84_clinton_clintons_campaign"
         ],
         "yaxis": "y",
         "z": {
          "bdata": "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",
          "dtype": "f4",
          "shape": "85, 85"
         }
        }
       ],
       "layout": {
        "coloraxis": {
         "colorbar": {
          "title": {
           "text": "Similarity Score"
          }
         },
         "colorscale": [
          [
           0,
           "rgb(247,252,240)"
          ],
          [
           0.125,
           "rgb(224,243,219)"
          ],
          [
           0.25,
           "rgb(204,235,197)"
          ],
          [
           0.375,
           "rgb(168,221,181)"
          ],
          [
           0.5,
           "rgb(123,204,196)"
          ],
          [
           0.625,
           "rgb(78,179,211)"
          ],
          [
           0.75,
           "rgb(43,140,190)"
          ],
          [
           0.875,
           "rgb(8,104,172)"
          ],
          [
           1,
           "rgb(8,64,129)"
          ]
         ]
        },
        "height": 800,
        "hoverlabel": {
         "bgcolor": "white",
         "font": {
          "family": "Rockwell",
          "size": 16
         }
        },
        "legend": {
         "title": {
          "text": "Trend"
         }
        },
        "margin": {
         "t": 60
        },
        "showlegend": true,
        "template": {
         "data": {
          "bar": [
           {
            "error_x": {
             "color": "#2a3f5f"
            },
            "error_y": {
             "color": "#2a3f5f"
            },
            "marker": {
             "line": {
              "color": "#E5ECF6",
              "width": 0.5
             },
             "pattern": {
              "fillmode": "overlay",
              "size": 10,
              "solidity": 0.2
             }
            },
            "type": "bar"
           }
          ],
          "barpolar": [
           {
            "marker": {
             "line": {
              "color": "#E5ECF6",
              "width": 0.5
             },
             "pattern": {
              "fillmode": "overlay",
              "size": 10,
              "solidity": 0.2
             }
            },
            "type": "barpolar"
           }
          ],
          "carpet": [
           {
            "aaxis": {
             "endlinecolor": "#2a3f5f",
             "gridcolor": "white",
             "linecolor": "white",
             "minorgridcolor": "white",
             "startlinecolor": "#2a3f5f"
            },
            "baxis": {
             "endlinecolor": "#2a3f5f",
             "gridcolor": "white",
             "linecolor": "white",
             "minorgridcolor": "white",
             "startlinecolor": "#2a3f5f"
            },
            "type": "carpet"
           }
          ],
          "choropleth": [
           {
            "colorbar": {
             "outlinewidth": 0,
             "ticks": ""
            },
            "type": "choropleth"
           }
          ],
          "contour": [
           {
            "colorbar": {
             "outlinewidth": 0,
             "ticks": ""
            },
            "colorscale": [
             [
              0,
              "#0d0887"
             ],
             [
              0.1111111111111111,
              "#46039f"
             ],
             [
              0.2222222222222222,
              "#7201a8"
             ],
             [
              0.3333333333333333,
              "#9c179e"
             ],
             [
              0.4444444444444444,
              "#bd3786"
             ],
             [
              0.5555555555555556,
              "#d8576b"
             ],
             [
              0.6666666666666666,
              "#ed7953"
             ],
             [
              0.7777777777777778,
              "#fb9f3a"
             ],
             [
              0.8888888888888888,
              "#fdca26"
             ],
             [
              1,
              "#f0f921"
             ]
            ],
            "type": "contour"
           }
          ],
          "contourcarpet": [
           {
            "colorbar": {
             "outlinewidth": 0,
             "ticks": ""
            },
            "type": "contourcarpet"
           }
          ],
          "heatmap": [
           {
            "colorbar": {
             "outlinewidth": 0,
             "ticks": ""
            },
            "colorscale": [
             [
              0,
              "#0d0887"
             ],
             [
              0.1111111111111111,
              "#46039f"
             ],
             [
              0.2222222222222222,
              "#7201a8"
             ],
             [
              0.3333333333333333,
              "#9c179e"
             ],
             [
              0.4444444444444444,
              "#bd3786"
             ],
             [
              0.5555555555555556,
              "#d8576b"
             ],
             [
              0.6666666666666666,
              "#ed7953"
             ],
             [
              0.7777777777777778,
              "#fb9f3a"
             ],
             [
              0.8888888888888888,
              "#fdca26"
             ],
             [
              1,
              "#f0f921"
             ]
            ],
            "type": "heatmap"
           }
          ],
          "histogram": [
           {
            "marker": {
             "pattern": {
              "fillmode": "overlay",
              "size": 10,
              "solidity": 0.2
             }
            },
            "type": "histogram"
           }
          ],
          "histogram2d": [
           {
            "colorbar": {
             "outlinewidth": 0,
             "ticks": ""
            },
            "colorscale": [
             [
              0,
              "#0d0887"
             ],
             [
              0.1111111111111111,
              "#46039f"
             ],
             [
              0.2222222222222222,
              "#7201a8"
             ],
             [
              0.3333333333333333,
              "#9c179e"
             ],
             [
              0.4444444444444444,
              "#bd3786"
             ],
             [
              0.5555555555555556,
              "#d8576b"
             ],
             [
              0.6666666666666666,
              "#ed7953"
             ],
             [
              0.7777777777777778,
              "#fb9f3a"
             ],
             [
              0.8888888888888888,
              "#fdca26"
             ],
             [
              1,
              "#f0f921"
             ]
            ],
            "type": "histogram2d"
           }
          ],
          "histogram2dcontour": [
           {
            "colorbar": {
             "outlinewidth": 0,
             "ticks": ""
            },
            "colorscale": [
             [
              0,
              "#0d0887"
             ],
             [
              0.1111111111111111,
              "#46039f"
             ],
             [
              0.2222222222222222,
              "#7201a8"
             ],
             [
              0.3333333333333333,
              "#9c179e"
             ],
             [
              0.4444444444444444,
              "#bd3786"
             ],
             [
              0.5555555555555556,
              "#d8576b"
             ],
             [
              0.6666666666666666,
              "#ed7953"
             ],
             [
              0.7777777777777778,
              "#fb9f3a"
             ],
             [
              0.8888888888888888,
              "#fdca26"
             ],
             [
              1,
              "#f0f921"
             ]
            ],
            "type": "histogram2dcontour"
           }
          ],
          "mesh3d": [
           {
            "colorbar": {
             "outlinewidth": 0,
             "ticks": ""
            },
            "type": "mesh3d"
           }
          ],
          "parcoords": [
           {
            "line": {
             "colorbar": {
              "outlinewidth": 0,
              "ticks": ""
             }
            },
            "type": "parcoords"
           }
          ],
          "pie": [
           {
            "automargin": true,
            "type": "pie"
           }
          ],
          "scatter": [
           {
            "fillpattern": {
             "fillmode": "overlay",
             "size": 10,
             "solidity": 0.2
            },
            "type": "scatter"
           }
          ],
          "scatter3d": [
           {
            "line": {
             "colorbar": {
              "outlinewidth": 0,
              "ticks": ""
             }
            },
            "marker": {
             "colorbar": {
              "outlinewidth": 0,
              "ticks": ""
             }
            },
            "type": "scatter3d"
           }
          ],
          "scattercarpet": [
           {
            "marker": {
             "colorbar": {
              "outlinewidth": 0,
              "ticks": ""
             }
            },
            "type": "scattercarpet"
           }
          ],
          "scattergeo": [
           {
            "marker": {
             "colorbar": {
              "outlinewidth": 0,
              "ticks": ""
             }
            },
            "type": "scattergeo"
           }
          ],
          "scattergl": [
           {
            "marker": {
             "colorbar": {
              "outlinewidth": 0,
              "ticks": ""
             }
            },
            "type": "scattergl"
           }
          ],
          "scattermap": [
           {
            "marker": {
             "colorbar": {
              "outlinewidth": 0,
              "ticks": ""
             }
            },
            "type": "scattermap"
           }
          ],
          "scattermapbox": [
           {
            "marker": {
             "colorbar": {
              "outlinewidth": 0,
              "ticks": ""
             }
            },
            "type": "scattermapbox"
           }
          ],
          "scatterpolar": [
           {
            "marker": {
             "colorbar": {
              "outlinewidth": 0,
              "ticks": ""
             }
            },
            "type": "scatterpolar"
           }
          ],
          "scatterpolargl": [
           {
            "marker": {
             "colorbar": {
              "outlinewidth": 0,
              "ticks": ""
             }
            },
            "type": "scatterpolargl"
           }
          ],
          "scatterternary": [
           {
            "marker": {
             "colorbar": {
              "outlinewidth": 0,
              "ticks": ""
             }
            },
            "type": "scatterternary"
           }
          ],
          "surface": [
           {
            "colorbar": {
             "outlinewidth": 0,
             "ticks": ""
            },
            "colorscale": [
             [
              0,
              "#0d0887"
             ],
             [
              0.1111111111111111,
              "#46039f"
             ],
             [
              0.2222222222222222,
              "#7201a8"
             ],
             [
              0.3333333333333333,
              "#9c179e"
             ],
             [
              0.4444444444444444,
              "#bd3786"
             ],
             [
              0.5555555555555556,
              "#d8576b"
             ],
             [
              0.6666666666666666,
              "#ed7953"
             ],
             [
              0.7777777777777778,
              "#fb9f3a"
             ],
             [
              0.8888888888888888,
              "#fdca26"
             ],
             [
              1,
              "#f0f921"
             ]
            ],
            "type": "surface"
           }
          ],
          "table": [
           {
            "cells": {
             "fill": {
              "color": "#EBF0F8"
             },
             "line": {
              "color": "white"
             }
            },
            "header": {
             "fill": {
              "color": "#C8D4E3"
             },
             "line": {
              "color": "white"
             }
            },
            "type": "table"
           }
          ]
         },
         "layout": {
          "annotationdefaults": {
           "arrowcolor": "#2a3f5f",
           "arrowhead": 0,
           "arrowwidth": 1
          },
          "autotypenumbers": "strict",
          "coloraxis": {
           "colorbar": {
            "outlinewidth": 0,
            "ticks": ""
           }
          },
          "colorscale": {
           "diverging": [
            [
             0,
             "#8e0152"
            ],
            [
             0.1,
             "#c51b7d"
            ],
            [
             0.2,
             "#de77ae"
            ],
            [
             0.3,
             "#f1b6da"
            ],
            [
             0.4,
             "#fde0ef"
            ],
            [
             0.5,
             "#f7f7f7"
            ],
            [
             0.6,
             "#e6f5d0"
            ],
            [
             0.7,
             "#b8e186"
            ],
            [
             0.8,
             "#7fbc41"
            ],
            [
             0.9,
             "#4d9221"
            ],
            [
             1,
             "#276419"
            ]
           ],
           "sequential": [
            [
             0,
             "#0d0887"
            ],
            [
             0.1111111111111111,
             "#46039f"
            ],
            [
             0.2222222222222222,
             "#7201a8"
            ],
            [
             0.3333333333333333,
             "#9c179e"
            ],
            [
             0.4444444444444444,
             "#bd3786"
            ],
            [
             0.5555555555555556,
             "#d8576b"
            ],
            [
             0.6666666666666666,
             "#ed7953"
            ],
            [
             0.7777777777777778,
             "#fb9f3a"
            ],
            [
             0.8888888888888888,
             "#fdca26"
            ],
            [
             1,
             "#f0f921"
            ]
           ],
           "sequentialminus": [
            [
             0,
             "#0d0887"
            ],
            [
             0.1111111111111111,
             "#46039f"
            ],
            [
             0.2222222222222222,
             "#7201a8"
            ],
            [
             0.3333333333333333,
             "#9c179e"
            ],
            [
             0.4444444444444444,
             "#bd3786"
            ],
            [
             0.5555555555555556,
             "#d8576b"
            ],
            [
             0.6666666666666666,
             "#ed7953"
            ],
            [
             0.7777777777777778,
             "#fb9f3a"
            ],
            [
             0.8888888888888888,
             "#fdca26"
            ],
            [
             1,
             "#f0f921"
            ]
           ]
          },
          "colorway": [
           "#636efa",
           "#EF553B",
           "#00cc96",
           "#ab63fa",
           "#FFA15A",
           "#19d3f3",
           "#FF6692",
           "#B6E880",
           "#FF97FF",
           "#FECB52"
          ],
          "font": {
           "color": "#2a3f5f"
          },
          "geo": {
           "bgcolor": "white",
           "lakecolor": "white",
           "landcolor": "#E5ECF6",
           "showlakes": true,
           "showland": true,
           "subunitcolor": "white"
          },
          "hoverlabel": {
           "align": "left"
          },
          "hovermode": "closest",
          "mapbox": {
           "style": "light"
          },
          "paper_bgcolor": "white",
          "plot_bgcolor": "#E5ECF6",
          "polar": {
           "angularaxis": {
            "gridcolor": "white",
            "linecolor": "white",
            "ticks": ""
           },
           "bgcolor": "#E5ECF6",
           "radialaxis": {
            "gridcolor": "white",
            "linecolor": "white",
            "ticks": ""
           }
          },
          "scene": {
           "xaxis": {
            "backgroundcolor": "#E5ECF6",
            "gridcolor": "white",
            "gridwidth": 2,
            "linecolor": "white",
            "showbackground": true,
            "ticks": "",
            "zerolinecolor": "white"
           },
           "yaxis": {
            "backgroundcolor": "#E5ECF6",
            "gridcolor": "white",
            "gridwidth": 2,
            "linecolor": "white",
            "showbackground": true,
            "ticks": "",
            "zerolinecolor": "white"
           },
           "zaxis": {
            "backgroundcolor": "#E5ECF6",
            "gridcolor": "white",
            "gridwidth": 2,
            "linecolor": "white",
            "showbackground": true,
            "ticks": "",
            "zerolinecolor": "white"
           }
          },
          "shapedefaults": {
           "line": {
            "color": "#2a3f5f"
           }
          },
          "ternary": {
           "aaxis": {
            "gridcolor": "white",
            "linecolor": "white",
            "ticks": ""
           },
           "baxis": {
            "gridcolor": "white",
            "linecolor": "white",
            "ticks": ""
           },
           "bgcolor": "#E5ECF6",
           "caxis": {
            "gridcolor": "white",
            "linecolor": "white",
            "ticks": ""
           }
          },
          "title": {
           "x": 0.05
          },
          "xaxis": {
           "automargin": true,
           "gridcolor": "white",
           "linecolor": "white",
           "ticks": "",
           "title": {
            "standoff": 15
           },
           "zerolinecolor": "white",
           "zerolinewidth": 2
          },
          "yaxis": {
           "automargin": true,
           "gridcolor": "white",
           "linecolor": "white",
           "ticks": "",
           "title": {
            "standoff": 15
           },
           "zerolinecolor": "white",
           "zerolinewidth": 2
          }
         }
        },
        "title": {
         "font": {
          "color": "Black",
          "size": 22
         },
         "text": "<b>Similarity Matrix</b>",
         "x": 0.55,
         "xanchor": "center",
         "y": 0.95,
         "yanchor": "top"
        },
        "width": 800,
        "xaxis": {
         "anchor": "y",
         "constrain": "domain",
         "domain": [
          0,
          1
         ],
         "scaleanchor": "y"
        },
        "yaxis": {
         "anchor": "x",
         "autorange": "reversed",
         "constrain": "domain",
         "domain": [
          0,
          1
         ]
        }
       }
      }
     },
     "metadata": {},
     "output_type": "display_data"
    }
   ],
   "source": [
    "topic_model.visualize_heatmap()"
   ]
  },
  {
   "cell_type": "code",
   "execution_count": 5,
   "id": "7137ffe4",
   "metadata": {},
   "outputs": [
    {
     "data": {
      "application/vnd.plotly.v1+json": {
       "config": {
        "plotlyServerURL": "https://plot.ly"
       },
       "data": [
        {
         "hovertext": "<b>Topic -1</b>:said_people_like_trump_one_also_us",
         "line": {
          "color": "black",
          "width": 1.5
         },
         "mode": "lines+lines",
         "name": "",
         "opacity": 0.1,
         "type": "scatter",
         "x": {
          "bdata": "AQIDBAUGBwgJCg==",
          "dtype": "i1"
         },
         "y": {
          "bdata": "kzbDr/xpej9SA8dlf2d6P6Wr9DE5dnk/Zv3Pim5SeD8U+iuZcvF3P0g6nKfdMHU/ps3CftUsdT+m4SE3Eb90Pwo8wxAFiXQ/J5c6dWUvcj8=",
          "dtype": "f8"
         }
        },
        {
         "hovertext": "<b>Topic 0</b>:art_artists_work_museum_artist_pain",
         "line": {
          "color": "black",
          "width": 1.5
         },
         "mode": "lines+lines",
         "name": "",
         "opacity": 0.1,
         "type": "scatter",
         "x": {
          "bdata": "AQIDBAUGBwgJCg==",
          "dtype": "i1"
         },
         "y": {
          "bdata": "3kvCUJpOlD+w+2q/vCCJP9p7mkQ/JYU/0hlSm/1mgz/2yiVcGZCCPx3ySTuR9IE/xlVezA+FgT8y5QF1vKGAP00vipJJ238/clmyhNajej8=",
          "dtype": "f8"
         }
        },
        {
         "hovertext": "<b>Topic 1</b>:music_album_band_song_songs_like_re",
         "line": {
          "color": "black",
          "width": 1.5
         },
         "mode": "lines+lines",
         "name": "",
         "opacity": 0.1,
         "type": "scatter",
         "x": {
          "bdata": "AQIDBAUGBwgJCg==",
          "dtype": "i1"
         },
         "y": {
          "bdata": "qVN9XM0Alz9b57P9xDSRPzZXq3adVo8/Rws0x2CPjj9Pp88MmzaNP0J+hdhYGI0/JCoGQQoaiz+I2uCq/TqFP4J4/ppMn4E/bjNVDyCBgT8=",
          "dtype": "f8"
         }
        },
        {
         "hovertext": "<b>Topic 2</b>:brexit_eu_britain_minister_european",
         "line": {
          "color": "black",
          "width": 1.5
         },
         "mode": "lines+lines",
         "name": "",
         "opacity": 0.1,
         "type": "scatter",
         "x": {
          "bdata": "AQIDBAUGBwgJCg==",
          "dtype": "i1"
         },
         "y": {
          "bdata": "copF++Igoj+O+WThp2+hP8AhqDDB/5M//zW1yaZ9kz/hwjo0EuuSP7fzTwZgn5E/YnRXTEtTkT88dEz3wNmQP/rLf3cJOJA/o/nmSuxijz8=",
          "dtype": "f8"
         }
        },
        {
         "hovertext": "<b>Topic 3</b>:chyna_kardashian_kylie_got_baby_she",
         "line": {
          "color": "black",
          "width": 1.5
         },
         "mode": "lines+lines",
         "name": "",
         "opacity": 0.1,
         "type": "scatter",
         "x": {
          "bdata": "AQIDBAUGBwgJCg==",
          "dtype": "i1"
         },
         "y": {
          "bdata": "GgWq+Euymj9yPY3jxLmZP5iCIAj1kpU/wM/R5d8Ekz8mBdkEVeeRP/6hFyOo4ZE/q2d0Sx4jjz/31aAJvS6MP4KwTa4pdos/uc3/3gR9ij8=",
          "dtype": "f8"
         }
        },
        {
         "hovertext": "<b>Topic 4</b>:fight_ufc_boxing_thai_mma_muay_floy",
         "line": {
          "color": "black",
          "width": 1.5
         },
         "mode": "lines+lines",
         "name": "",
         "opacity": 0.1,
         "type": "scatter",
         "x": {
          "bdata": "AQIDBAUGBwgJCg==",
          "dtype": "i1"
         },
         "y": {
          "bdata": "TivNmRwrpj+USVEN8gykPz+w+lV1EZM/kIOZEi1HkT90Nm7k1CuRPzOZVJb2tZA/BhXugkyMjz8TPo8vUl6PP8cHhyNKrY0/H9RzgH65iz8=",
          "dtype": "f8"
         }
        },
        {
         "hovertext": "<b>Topic 5</b>:immigration_daca_border_immigrants_",
         "line": {
          "color": "black",
          "width": 1.5
         },
         "mode": "lines+lines",
         "name": "",
         "opacity": 0.1,
         "type": "scatter",
         "x": {
          "bdata": "AQIDBAUGBwgJCg==",
          "dtype": "i1"
         },
         "y": {
          "bdata": "sxnqvWvFoD/lzZATpRSfPwP8w52BgJo/1lHlvZjvlT/X5qMPam2RP02unfcvvZA/5PXEP7eFkD+4MG+kYVCOP66jtoDC340/sZGXtAiCiz8=",
          "dtype": "f8"
         }
        },
        {
         "hovertext": "<b>Topic 6</b>:facebook_data_zuckerberg_informatio",
         "line": {
          "color": "black",
          "width": 1.5
         },
         "mode": "lines+lines",
         "name": "",
         "opacity": 0.1,
         "type": "scatter",
         "x": {
          "bdata": "AQIDBAUGBwgJCg==",
          "dtype": "i1"
         },
         "y": {
          "bdata": "5IB7MHn9oT+Mdq1CUlGRP2huPjcp4ZA/9hz+bX2mjj+K6KOxvd6NP91xF4spcoo/HPKPjTTHhz+rnjJc38OHP7via5wNG4Y/RoL2dSTrhT8=",
          "dtype": "f8"
         }
        },
        {
         "hovertext": "<b>Topic 7</b>:trade_fed_index_dollar_rate_us_stoc",
         "line": {
          "color": "black",
          "width": 1.5
         },
         "mode": "lines+lines",
         "name": "",
         "opacity": 0.1,
         "type": "scatter",
         "x": {
          "bdata": "AQIDBAUGBwgJCg==",
          "dtype": "i1"
         },
         "y": {
          "bdata": "mkZWpOrynT/sXF0iE5qaP/ICY0PFyJY/tsOmALvVlT85VFHNKKWUP8hb+cCcfZM//IYKwGn3kj+tMHumWu+RP0tY3+W35JE/Rm1iJsT5kD8=",
          "dtype": "f8"
         }
        },
        {
         "hovertext": "<b>Topic 8</b>:hmit_company_shares_hmny_million_bi",
         "line": {
          "color": "black",
          "width": 1.5
         },
         "mode": "lines+lines",
         "name": "",
         "opacity": 0.1,
         "type": "scatter",
         "x": {
          "bdata": "AQIDBAUGBwgJCg==",
          "dtype": "i1"
         },
         "y": {
          "bdata": "MxyaSvalmT8c2NaQ+qiWP9vaCr0OLZU/oi9e07Jrkz+PytKo8xCTP4l3XJ6NRJA/4lZl36DNjz8G6wHlCnWPP/y8g4NEHY0/1a2k9Y0fiT8=",
          "dtype": "f8"
         }
        },
        {
         "hovertext": "<b>Topic 9</b>:russian_russia_putin_moscow_sanctio",
         "line": {
          "color": "black",
          "width": 1.5
         },
         "mode": "lines+lines",
         "name": "",
         "opacity": 0.1,
         "type": "scatter",
         "x": {
          "bdata": "AQIDBAUGBwgJCg==",
          "dtype": "i1"
         },
         "y": {
          "bdata": "kYJGzBayqT++7eA0JQilPwR9Q9Xc7qQ/4oOIxN++oj8QNVyD9JuXP0JLVJKsyZM/GX07TO2nkj+Nw64JnlqSP2eebH1h344/rItU08VXjT8=",
          "dtype": "f8"
         }
        },
        {
         "hovertext": "<b>Topic 10</b>:drug_opioid_marijuana_drugs_kratom",
         "line": {
          "color": "black",
          "width": 1.5
         },
         "mode": "lines+lines",
         "name": "",
         "opacity": 0.1,
         "type": "scatter",
         "x": {
          "bdata": "AQIDBAUGBwgJCg==",
          "dtype": "i1"
         },
         "y": {
          "bdata": "KwEqpa2Rlj9GCrVyjgaVP5Glkrog8ZI/eLkp/tUbkj9SoQGpv5mNPw/DHin7Zos/6hjP65LViT87240WjtqIP8RD8wmFzYg/uMWboOFwiD8=",
          "dtype": "f8"
         }
        },
        {
         "hovertext": "<b>Topic 11</b>:food_pizza_breakfast_eating_eat_ba",
         "line": {
          "color": "black",
          "width": 1.5
         },
         "mode": "lines+lines",
         "name": "",
         "opacity": 0.1,
         "type": "scatter",
         "x": {
          "bdata": "AQIDBAUGBwgJCg==",
          "dtype": "i1"
         },
         "y": {
          "bdata": "UZpUAZaTlT+ND/ie2XGTPzJ2LDWWfYw/y+uUvdc9ij9KoQGvZ3+JP0nu/44Ooog/Uyq6Dh1hiD/QtRxQCgyHP4EkCb0ACoQ/szfDZF1ygz8=",
          "dtype": "f8"
         }
        },
        {
         "hovertext": "<b>Topic 12</b>:north_korea_korean_kim_south_nucle",
         "line": {
          "color": "black",
          "width": 1.5
         },
         "mode": "lines+lines",
         "name": "",
         "opacity": 0.1,
         "type": "scatter",
         "x": {
          "bdata": "AQIDBAUGBwgJCg==",
          "dtype": "i1"
         },
         "y": {
          "bdata": "o6aVbAMouD+Jmy99x3K0P9zCTKt6fKw/B0N5DvveqT/VOoal5rOjP/AFOHRoaaA/3WeTZb6unz8MbSvsQCGaP6QdDcONfpc/Dj6blytQlD8=",
          "dtype": "f8"
         }
        },
        {
         "hovertext": "<b>Topic 13</b>:republican_democrats_trump_democra",
         "line": {
          "color": "black",
          "width": 1.5
         },
         "mode": "lines+lines",
         "name": "",
         "opacity": 0.1,
         "type": "scatter",
         "x": {
          "bdata": "AQIDBAUGBwgJCg==",
          "dtype": "i1"
         },
         "y": {
          "bdata": "Adz0p7+6lD8yFhkTBnySP31QYZoijJA/k7ZzrwcukD9UytqLnK6PPz0OKYe1HI8/UavbCMaljj8VueqYzLWNPx0ozfdd9Is/t9a61sHKij8=",
          "dtype": "f8"
         }
        },
        {
         "hovertext": "<b>Topic 14</b>:climate_coal_water_energy_fossil_e",
         "line": {
          "color": "black",
          "width": 1.5
         },
         "mode": "lines+lines",
         "name": "",
         "opacity": 0.1,
         "type": "scatter",
         "x": {
          "bdata": "AQIDBAUGBwgJCg==",
          "dtype": "i1"
         },
         "y": {
          "bdata": "N5uamsrbnz/Vbi9aZ9eaP4QofKsoq5c//QNLrZuDlz81FD7ayWuRP1M/tFo7T5A/qt9HtqCxjj+PKaQwznKOP3tsp/LUuow/fTfk8jsWiz8=",
          "dtype": "f8"
         }
        },
        {
         "hovertext": "<b>Topic 15</b>:iran_nuclear_tehran_irans_iranian_",
         "line": {
          "color": "black",
          "width": 1.5
         },
         "mode": "lines+lines",
         "name": "",
         "opacity": 0.1,
         "type": "scatter",
         "x": {
          "bdata": "AQIDBAUGBwgJCg==",
          "dtype": "i1"
         },
         "y": {
          "bdata": "5jvgpX7FsD+1+n6p4SyjP1sw7llLP5o/+p9vEX1mmT/u/g2v3U2ZP6TK8bKv6Zc/atoosIHblD+6j3+OxuySP34mNXDim5E/xW0W99+9jT8=",
          "dtype": "f8"
         }
        },
        {
         "hovertext": "<b>Topic 16</b>:syria_syrian_forces_islamic_iraq_k",
         "line": {
          "color": "black",
          "width": 1.5
         },
         "mode": "lines+lines",
         "name": "",
         "opacity": 0.1,
         "type": "scatter",
         "x": {
          "bdata": "AQIDBAUGBwgJCg==",
          "dtype": "i1"
         },
         "y": {
          "bdata": "y9mQkpbOoT/YCPVcsbibP3grbkVRgJs/QpgXwHxAlz/8DZOMqVGRP+d5NEaH45A/YV0U65ZYkD/HgSykPQyQP0m3ys1s5o8/1DVu5B6djz8=",
          "dtype": "f8"
         }
        },
        {
         "hovertext": "<b>Topic 17</b>:sexual_kelly_charges_mcfarland_cou",
         "line": {
          "color": "black",
          "width": 1.5
         },
         "mode": "lines+lines",
         "name": "",
         "opacity": 0.1,
         "type": "scatter",
         "x": {
          "bdata": "AQIDBAUGBwgJCg==",
          "dtype": "i1"
         },
         "y": {
          "bdata": "lryynBu9mT/4ikUXmqyZP4/VJTv7XpQ/ZK86DxGXkT9dNbU6hZCQP8iy/EbCdo8/uRuQyYf4jD/4gx0w7m6MPy5rvgsDOow/pF6+3egQjD8=",
          "dtype": "f8"
         }
        },
        {
         "hovertext": "<b>Topic 18</b>:film_movie_movies_films_story_best",
         "line": {
          "color": "black",
          "width": 1.5
         },
         "mode": "lines+lines",
         "name": "",
         "opacity": 0.1,
         "type": "scatter",
         "x": {
          "bdata": "AQIDBAUGBwgJCg==",
          "dtype": "i1"
         },
         "y": {
          "bdata": "MZusabnSoD/Vs4O6O6yXP1qu6yvo+ZI/d4TN2gBFkj9aeJQ4N92LP30jyi22B4o/5VL8FJOsgj8kwCeLdieBP5HWLRk18YA/V6ZXTHH2fz8=",
          "dtype": "f8"
         }
        },
        {
         "hovertext": "<b>Topic 19</b>:police_officers_shooting_officer_b",
         "line": {
          "color": "black",
          "width": 1.5
         },
         "mode": "lines+lines",
         "name": "",
         "opacity": 0.1,
         "type": "scatter",
         "x": {
          "bdata": "AQIDBAUGBwgJCg==",
          "dtype": "i1"
         },
         "y": {
          "bdata": "+dJ+K0P9qz+V4xeNAzqeP3K5fRHyk5g/XT/ZKluYlj/piiiWpLqLPwF9ai9KEYo/Dcsfz9fWhz+E4r6qvyCGPx54DmcWJoU/+LqWVYcOhD8=",
          "dtype": "f8"
         }
        },
        {
         "hovertext": "<b>Topic 20</b>:nfl_football_bowl_team_patriots_ga",
         "line": {
          "color": "black",
          "width": 1.5
         },
         "mode": "lines+lines",
         "name": "",
         "opacity": 0.1,
         "type": "scatter",
         "x": {
          "bdata": "AQIDBAUGBwgJCg==",
          "dtype": "i1"
         },
         "y": {
          "bdata": "092Z5+fCoT+LovHbgVCcP6TP+rOvg5U/P+4UVj/dkj+qWkc5wliSP/UjRFAU6pE/6qAID2yrkD82IAC+pSKPPz5BHAT1Ko4/wwWPpuYnjj8=",
          "dtype": "f8"
         }
        },
        {
         "hovertext": "<b>Topic 21</b>:maduro_venezuelan_venezuelas_kuczy",
         "line": {
          "color": "black",
          "width": 1.5
         },
         "mode": "lines+lines",
         "name": "",
         "opacity": 0.1,
         "type": "scatter",
         "x": {
          "bdata": "AQIDBAUGBwgJCg==",
          "dtype": "i1"
         },
         "y": {
          "bdata": "KOYshVnHnj+mx8PkGQ2XP0+RAoHI9pQ/WpAQkRPrkD9fbgCIjJ+QP1WH5QyVBI4/oA80pqsgjT92eVFuiPqLP+fXxRJltYs/lpINdwRGiz8=",
          "dtype": "f8"
         }
        },
        {
         "hovertext": "<b>Topic 22</b>:tariffs_trade_china_steel_chinese_",
         "line": {
          "color": "black",
          "width": 1.5
         },
         "mode": "lines+lines",
         "name": "",
         "opacity": 0.1,
         "type": "scatter",
         "x": {
          "bdata": "AQIDBAUGBwgJCg==",
          "dtype": "i1"
         },
         "y": {
          "bdata": "l1tb8TkLsD8wUuOWeMiqP+glE+rGLqQ/VgWiiGCqnz/m6eh0YX6fP/8tMi8Uc5w/b210yEz5mj/m/G33Z/CTP1R+WFOHjpI/ren3D5r8kT8=",
          "dtype": "f8"
         }
        },
        {
         "hovertext": "<b>Topic 23</b>:mueller_investigation_fbi_attorney",
         "line": {
          "color": "black",
          "width": 1.5
         },
         "mode": "lines+lines",
         "name": "",
         "opacity": 0.1,
         "type": "scatter",
         "x": {
          "bdata": "AQIDBAUGBwgJCg==",
          "dtype": "i1"
         },
         "y": {
          "bdata": "nBxULy6Uoj82DIXq2rCeP9SjWHG4+ps/rusxZaUnmz9p78iERU2ZP41lWYfTk5g/o0FIMcnIlz8ioQ8jntuWPzieOmztjZY/3xOS9toplD8=",
          "dtype": "f8"
         }
        },
        {
         "hovertext": "<b>Topic 24</b>:sentences_vox_px_inbox_em_delivere",
         "line": {
          "color": "black",
          "width": 1.5
         },
         "mode": "lines+lines",
         "name": "",
         "opacity": 0.1,
         "type": "scatter",
         "x": {
          "bdata": "AQIDBAUGBwgJCg==",
          "dtype": "i1"
         },
         "y": {
          "bdata": "p4+2DIdfoj8E2yfGhm6hP1EmYqv+KpU/RzWEMfkFkz9f5kSeObiSP+ckNnovi5E/MhTiLN4gkT/t4IT+dkmQPxh9v+y/EJA/iei45jrdiz8=",
          "dtype": "f8"
         }
        },
        {
         "hovertext": "<b>Topic 25</b>:trump_trumps_media_president_campa",
         "line": {
          "color": "black",
          "width": 1.5
         },
         "mode": "lines+lines",
         "name": "",
         "opacity": 0.1,
         "type": "scatter",
         "x": {
          "bdata": "AQIDBAUGBwgJCg==",
          "dtype": "i1"
         },
         "y": {
          "bdata": "6z7fDtDUnT/ZqHrWq7iNPwE0mCWZcog/8r8AV7rJhz/Cl+518eOGP5P547QuW4Y/WbRhyEfEhT+P7HyZLlKFP5MFfNChQ4M/ONJOIF8Xgz8=",
          "dtype": "f8"
         }
        },
        {
         "hovertext": "<b>Topic 26</b>:lebron_lavar_lakers_nba_kobe_says_",
         "line": {
          "color": "black",
          "width": 1.5
         },
         "mode": "lines+lines",
         "name": "",
         "opacity": 0.1,
         "type": "scatter",
         "x": {
          "bdata": "AQIDBAUGBwgJCg==",
          "dtype": "i1"
         },
         "y": {
          "bdata": "P4ixpooaqD+P67vEEQGnPzfKWrJHvKY/IAd7bgyPoj+sjpJggS6bP0L1yQBQXpk/lDWLi99QmD8g2qaEYTmXPy5EmUHP8ZY/7w2/5UBslj8=",
          "dtype": "f8"
         }
        },
        {
         "hovertext": "<b>Topic 27</b>:health_insurance_care_medicaid_oba",
         "line": {
          "color": "black",
          "width": 1.5
         },
         "mode": "lines+lines",
         "name": "",
         "opacity": 0.1,
         "type": "scatter",
         "x": {
          "bdata": "AQIDBAUGBwgJCg==",
          "dtype": "i1"
         },
         "y": {
          "bdata": "2WkL0NsrpT/VUZ3edZSkP7J7UHkzDKI/kXYpKogvoD+KW20wsMucP7ehvtf2UJc/TXHLLQzckj/tZ1YHLPSMPwRF3VbrfYs/0KuAcTFpiz8=",
          "dtype": "f8"
         }
        },
        {
         "hovertext": "<b>Topic 28</b>:moon_enters_mercury_mars_sign_venu",
         "line": {
          "color": "black",
          "width": 1.5
         },
         "mode": "lines+lines",
         "name": "",
         "opacity": 0.1,
         "type": "scatter",
         "x": {
          "bdata": "AQIDBAUGBwgJCg==",
          "dtype": "i1"
         },
         "y": {
          "bdata": "b0ak0gU4tz/1e4N6v1WiPxjYb2azxaA/DqnP2xwhnD8ipojrFLSbP0LxN4DrIJo/LVQOjWF4mT8w1RITPSGYP6FfpctKJZc/xIRJStwHlT8=",
          "dtype": "f8"
         }
        },
        {
         "hovertext": "<b>Topic 29</b>:twitter_snapchat_facebook_content_",
         "line": {
          "color": "black",
          "width": 1.5
         },
         "mode": "lines+lines",
         "name": "",
         "opacity": 0.1,
         "type": "scatter",
         "x": {
          "bdata": "AQIDBAUGBwgJCg==",
          "dtype": "i1"
         },
         "y": {
          "bdata": "FUW9ndRNmz8NqlzLaYyaPz3reY+1pZg/jUPnAUDxlj8w0GE717ORP9iBlW9dSo4/50hIM+OSjD/PciZCI32MP79gSnSPtYo/v/jLM6LtiT8=",
          "dtype": "f8"
         }
        },
        {
         "hovertext": "<b>Topic 30</b>:tesla_musk_car_vehicles_cars_tesla",
         "line": {
          "color": "black",
          "width": 1.5
         },
         "mode": "lines+lines",
         "name": "",
         "opacity": 0.1,
         "type": "scatter",
         "x": {
          "bdata": "AQIDBAUGBwgJCg==",
          "dtype": "i1"
         },
         "y": {
          "bdata": "FhN/TFx7rj+rQ/ET3eChP2ORSFkVk6A/hLokWsxCnD+tOC9wXBqcP9BcwcByqpg/aVFNtozalz+aEJGyZRaXPyXW1VsEBZU/1qK0GGuxlD8=",
          "dtype": "f8"
         }
        },
        {
         "hovertext": "<b>Topic 31</b>:oil_crude_opec_bpd_saudi_output_pr",
         "line": {
          "color": "black",
          "width": 1.5
         },
         "mode": "lines+lines",
         "name": "",
         "opacity": 0.1,
         "type": "scatter",
         "x": {
          "bdata": "AQIDBAUGBwgJCg==",
          "dtype": "i1"
         },
         "y": {
          "bdata": "XlN3xqcRsD+nG9WjhZqpP4xual3PK6Q/O9WnJVJsoj9IBCeTyDydP9CW1BcggZk/ssCYB/TOmD9C1lBgD0eYP0jlICJyIZY/YJxFAZzWlT8=",
          "dtype": "f8"
         }
        },
        {
         "hovertext": "<b>Topic 32</b>:menu_expandable_indicates_icon_nav",
         "line": {
          "color": "black",
          "width": 1.5
         },
         "mode": "lines+lines",
         "name": "",
         "opacity": 0.1,
         "type": "scatter",
         "x": {
          "bdata": "AQIDBAUGBwgJCg==",
          "dtype": "i1"
         },
         "y": {
          "bdata": "0DdvHBLIqD+j5s5ZlJeoPyNzmk4Xl6g/oE4JmqaEqD+nCmcqW3ioP7fW8J0rcqg/CoHPYSbNpz+7h3y6cpenP3oO6/jkqKY/7VcFkPrqpT8=",
          "dtype": "f8"
         }
        },
        {
         "hovertext": "<b>Topic 33</b>:israeli_jerusalem_israel_palestini",
         "line": {
          "color": "black",
          "width": 1.5
         },
         "mode": "lines+lines",
         "name": "",
         "opacity": 0.1,
         "type": "scatter",
         "x": {
          "bdata": "AQIDBAUGBwgJCg==",
          "dtype": "i1"
         },
         "y": {
          "bdata": "sddNFoN9rj9QP5U2TyurP5496HGkzKo/PHSloMOWpj88zC3cdZ2fP7k/oqhd/Zg/v/gc1AyJmD9k0PlVel6YP+d4+U28bJI/NbPzTqpbkT8=",
          "dtype": "f8"
         }
        },
        {
         "hovertext": "<b>Topic 34</b>:hurricane_fire_storm_said_water_fl",
         "line": {
          "color": "black",
          "width": 1.5
         },
         "mode": "lines+lines",
         "name": "",
         "opacity": 0.1,
         "type": "scatter",
         "x": {
          "bdata": "AQIDBAUGBwgJCg==",
          "dtype": "i1"
         },
         "y": {
          "bdata": "+f/J3tA2mD9erv+9jJaUPxtRkW76CpI/tN0Ty8LzjT/u88SdK9KLPztLTzp1wIs/BUlKiPH3iD9DZGWB2uiIP1eDdX/Qs4c/B1DvcvxIhz8=",
          "dtype": "f8"
         }
        },
        {
         "hovertext": "<b>Topic 35</b>:bank_banks_deutsche_trading_swiss_",
         "line": {
          "color": "black",
          "width": 1.5
         },
         "mode": "lines+lines",
         "name": "",
         "opacity": 0.1,
         "type": "scatter",
         "x": {
          "bdata": "AQIDBAUGBwgJCg==",
          "dtype": "i1"
         },
         "y": {
          "bdata": "/dKl769UsT9Nhp2ykWipP6Ig+sOoyqI/7keZtnmImT8s+0jNtmeZP9UysmHuspU/nT/kOiadlT8U1P1m0G+UP8HK+7ke0pA/tmRfHdyAkD8=",
          "dtype": "f8"
         }
        },
        {
         "hovertext": "<b>Topic 36</b>:plastic_species_recycling_shark_oc",
         "line": {
          "color": "black",
          "width": 1.5
         },
         "mode": "lines+lines",
         "name": "",
         "opacity": 0.1,
         "type": "scatter",
         "x": {
          "bdata": "AQIDBAUGBwgJCg==",
          "dtype": "i1"
         },
         "y": {
          "bdata": "3vSqhyzlmj+abEPcGmOVP5U2gyQLzo8/yCDDOymLiz/Rq2Q1/sKIP5k8MSlpSYc/28lFrazyhT+F8Uy/+c2FP2ZE2RKG44Q/sr+kdV4DhD8=",
          "dtype": "f8"
         }
        },
        {
         "hovertext": "<b>Topic 37</b>:cup_gibb_marathon_soccer_game_spor",
         "line": {
          "color": "black",
          "width": 1.5
         },
         "mode": "lines+lines",
         "name": "",
         "opacity": 0.1,
         "type": "scatter",
         "x": {
          "bdata": "AQIDBAUGBwgJCg==",
          "dtype": "i1"
         },
         "y": {
          "bdata": "3Z1It365nD89JF0caHKZP4f4E4WtY5c/svkIEEFKlz8k7PLzEsyVPzbTQQ+DEJU/QAm9wDcZkj+ANVqGVDaRP+WK/ORYDZE/qtZlh9VwkD8=",
          "dtype": "f8"
         }
        },
        {
         "hovertext": "<b>Topic 38</b>:netflix_expandable_navigation_chev",
         "line": {
          "color": "black",
          "width": 1.5
         },
         "mode": "lines+lines",
         "name": "",
         "opacity": 0.1,
         "type": "scatter",
         "x": {
          "bdata": "AQIDBAUGBwgJCg==",
          "dtype": "i1"
         },
         "y": {
          "bdata": "Lc8iqAkRsD92eEX09a6kP7yQezSzlKQ/EodrWH+PpD/sh4yGan2kP07gI8OHa6Q/Xchf1ahipD8TQpfySP2jP/S3Qwvm06M/oPhvjvPJoz8=",
          "dtype": "f8"
         }
        },
        {
         "hovertext": "<b>Topic 39</b>:game_games_players_warcraft_play_m",
         "line": {
          "color": "black",
          "width": 1.5
         },
         "mode": "lines+lines",
         "name": "",
         "opacity": 0.1,
         "type": "scatter",
         "x": {
          "bdata": "AQIDBAUGBwgJCg==",
          "dtype": "i1"
         },
         "y": {
          "bdata": "l6H/h7iBqT99mgiFE0GiP4C36hzK2pk/WsB4lFB7mT8UMyYr3JiQP4ObBj21eo8/OgMPFxcoiT8qWL6e+6SIP1M5Q9pXgYg/afJ3Ofq5hj8=",
          "dtype": "f8"
         }
        },
        {
         "hovertext": "<b>Topic 40</b>:book_books_cinderella_candles_ferr",
         "line": {
          "color": "black",
          "width": 1.5
         },
         "mode": "lines+lines",
         "name": "",
         "opacity": 0.1,
         "type": "scatter",
         "x": {
          "bdata": "AQIDBAUGBwgJCg==",
          "dtype": "i1"
         },
         "y": {
          "bdata": "8oDjISMbmD+xTQhgIlCTP+OfD5vMJ48//N3UmXGpiD9YeMjYYmeIP9qm7jruRIc/1WtWX7CHhT+nIcAPB2aFP9DNLhx63YQ/SzwjvLlOhD8=",
          "dtype": "f8"
         }
        },
        {
         "hovertext": "<b>Topic 41</b>:nba_basketball_game_team_season_pl",
         "line": {
          "color": "black",
          "width": 1.5
         },
         "mode": "lines+lines",
         "name": "",
         "opacity": 0.1,
         "type": "scatter",
         "x": {
          "bdata": "AQIDBAUGBwgJCg==",
          "dtype": "i1"
         },
         "y": {
          "bdata": "ePwEUMlbnz97lRAK8jaXPwFdAUQ++JQ/L0iccL5glD9ognxtRxmSP0qe/sx2x5E/H2CjCOlbkT8OkGMyBOKQP6/OeaynK5A/F37fyOahjj8=",
          "dtype": "f8"
         }
        },
        {
         "hovertext": "<b>Topic 42</b>:china_chinese_beijing_chinas_uighu",
         "line": {
          "color": "black",
          "width": 1.5
         },
         "mode": "lines+lines",
         "name": "",
         "opacity": 0.1,
         "type": "scatter",
         "x": {
          "bdata": "AQIDBAUGBwgJCg==",
          "dtype": "i1"
         },
         "y": {
          "bdata": "Tq+iEJ++qj+4jBG50kShP5ZAi9VAQZQ/apF1uWdokD/QYEymOUyQP3MKBQaeJ5A/3/ieRi2Ljj98Kt9/58GNP3HuQf0sfIw/vMMruc0wiT8=",
          "dtype": "f8"
         }
        },
        {
         "hovertext": "<b>Topic 43</b>:season_episode_buffy_show_cg_buffy",
         "line": {
          "color": "black",
          "width": 1.5
         },
         "mode": "lines+lines",
         "name": "",
         "opacity": 0.1,
         "type": "scatter",
         "x": {
          "bdata": "AQIDBAUGBwgJCg==",
          "dtype": "i1"
         },
         "y": {
          "bdata": "XQ3Widv5pT+1kM+Qxo2lP+HqkWKj+6M/hLCfRPGklD9kfXlVsYiTP/OU7PsASpA/Sh2qePNvjz9zsWOyzj2IPyqm/7c2Toc/5q/gFSZHhz8=",
          "dtype": "f8"
         }
        },
        {
         "hovertext": "<b>Topic 44</b>:amazon_flywheel_delivery_customers",
         "line": {
          "color": "black",
          "width": 1.5
         },
         "mode": "lines+lines",
         "name": "",
         "opacity": 0.1,
         "type": "scatter",
         "x": {
          "bdata": "AQIDBAUGBwgJCg==",
          "dtype": "i1"
         },
         "y": {
          "bdata": "7mAVxx4nnT+NVhXm+D2VPzZq2/yAZZM/EiAwlGGqij+LzMVji5uJP1pGe/KWN4k/or9KThaaiD9WRDgxTgiIPyfo7WDZOYc/g7BG2O0chz8=",
          "dtype": "f8"
         }
        },
        {
         "hovertext": "<b>Topic 45</b>:gun_guns_violence_militia_charlott",
         "line": {
          "color": "black",
          "width": 1.5
         },
         "mode": "lines+lines",
         "name": "",
         "opacity": 0.1,
         "type": "scatter",
         "x": {
          "bdata": "AQIDBAUGBwgJCg==",
          "dtype": "i1"
         },
         "y": {
          "bdata": "E3ixSYiTqj8+5D7KGv+bP2MMXQiISpk/UaALRQhHkz9h3+Gs2f2OPw5HK9dguI4/o/C1kA29jT+Swv+mLr+LP57fFSba04g/zLEnuSWaiD8=",
          "dtype": "f8"
         }
        },
        {
         "hovertext": "<b>Topic 46</b>:apple_iphone_apples_google_mac_mic",
         "line": {
          "color": "black",
          "width": 1.5
         },
         "mode": "lines+lines",
         "name": "",
         "opacity": 0.1,
         "type": "scatter",
         "x": {
          "bdata": "AQIDBAUGBwgJCg==",
          "dtype": "i1"
         },
         "y": {
          "bdata": "VjkJ7M48qz8zVVsoawWnP8JNGupfeaA/dil3DB/smD/I6tgk8fWXP5WinflHzpY/sB6PTb09kz9/kLiYrEuSP6XqkP3rko0/obITfAx/jT8=",
          "dtype": "f8"
         }
        },
        {
         "hovertext": "<b>Topic 47</b>:rohingya_ullah_buddhist_myanmar_po",
         "line": {
          "color": "black",
          "width": 1.5
         },
         "mode": "lines+lines",
         "name": "",
         "opacity": 0.1,
         "type": "scatter",
         "x": {
          "bdata": "AQIDBAUGBwgJCg==",
          "dtype": "i1"
         },
         "y": {
          "bdata": "2bJ7P05GoD9Jk77b336ZP4GmYDNjUZk/2ZOBxU8ymT/xHcRgiviXPwNiOPlc2pc/SKqZED8Ckz9pG7aSg8uSP2sF3jBwfpI/eqystLMVkT8=",
          "dtype": "f8"
         }
        },
        {
         "hovertext": "<b>Topic 48</b>:flight_boeing_airlines_plane_aviat",
         "line": {
          "color": "black",
          "width": 1.5
         },
         "mode": "lines+lines",
         "name": "",
         "opacity": 0.1,
         "type": "scatter",
         "x": {
          "bdata": "AQIDBAUGBwgJCg==",
          "dtype": "i1"
         },
         "y": {
          "bdata": "N6HH9xr6rj8/T1X7EJekPyk45lF2wKI/wdgBPn4UoT+S8kt/y8GgP/bdYMf0YZw/Sffgwmnomj/dMk/bsDWaP5ov+mjSPpg/3yCJ3yZ6lz8=",
          "dtype": "f8"
         }
        },
        {
         "hovertext": "<b>Topic 49</b>:tyga_tmz_depp_settlement_paddock_p",
         "line": {
          "color": "black",
          "width": 1.5
         },
         "mode": "lines+lines",
         "name": "",
         "opacity": 0.1,
         "type": "scatter",
         "x": {
          "bdata": "AQIDBAUGBwgJCg==",
          "dtype": "i1"
         },
         "y": {
          "bdata": "0evW77WlrD8tOrtxexOiP3O3Bj2TI50/XTFfhaSnmj+hepaGU2mXP00jbOlz/pY/lgnFba7alT+eNIOKa5+VP4gzjuoqa5Q/v3t3gXYwlD8=",
          "dtype": "f8"
         }
        },
        {
         "hovertext": "<b>Topic 50</b>:kanye_lemon_kanyes_west_tupac_ye_t",
         "line": {
          "color": "black",
          "width": 1.5
         },
         "mode": "lines+lines",
         "name": "",
         "opacity": 0.1,
         "type": "scatter",
         "x": {
          "bdata": "AQIDBAUGBwgJCg==",
          "dtype": "i1"
         },
         "y": {
          "bdata": "2Uq6Ww3QvT/LzKQgNFKjP+x3Iaq7wqE/blXFihNroD/bmcmiQ0+dP50xeA3SZpw/49kd3dxpmT+ajK4dUeeXP408aC85RZY/b9ikQXCOlD8=",
          "dtype": "f8"
         }
        },
        {
         "hovertext": "<b>Topic 51</b>:uber_drivers_ubers_company_kalanic",
         "line": {
          "color": "black",
          "width": 1.5
         },
         "mode": "lines+lines",
         "name": "",
         "opacity": 0.1,
         "type": "scatter",
         "x": {
          "bdata": "AQIDBAUGBwgJCg==",
          "dtype": "i1"
         },
         "y": {
          "bdata": "/szfu6wgtD9KTV2NQFmsP249eGL3mqA/mC1ZUcL1mT8N3C0YK7mYPyFVG1fsU5U/CerHZXy6lD8RlJgcduSPP7ElsJMwxY0/lYWxibfFiz8=",
          "dtype": "f8"
         }
        },
        {
         "hovertext": "<b>Topic 52</b>:ceo_company_tinder_shkreli_domain_",
         "line": {
          "color": "black",
          "width": 1.5
         },
         "mode": "lines+lines",
         "name": "",
         "opacity": 0.1,
         "type": "scatter",
         "x": {
          "bdata": "AQIDBAUGBwgJCg==",
          "dtype": "i1"
         },
         "y": {
          "bdata": "khhBFtAvoj9bJxJfB4ifP20sqi9utJw/E15O0KiFmj9pQDFm5wyZP7vUAE5ys5c/vZIuL5vBlj9kWTSo7v2UP9tVQW9kH5I/6GErEzqpkD8=",
          "dtype": "f8"
         }
        },
        {
         "hovertext": "<b>Topic 53</b>:thrones_game_season_books_cersei_s",
         "line": {
          "color": "black",
          "width": 1.5
         },
         "mode": "lines+lines",
         "name": "",
         "opacity": 0.1,
         "type": "scatter",
         "x": {
          "bdata": "AQIDBAUGBwgJCg==",
          "dtype": "i1"
         },
         "y": {
          "bdata": "2OB2vWPIrD9IwuyfU0qhP566XLzcMJ8/xr0jizxclj8HLjT3uEGWP+LvUXlTNpY/PMop1W6RlT+tawhqlUeSP18/PkTWCJE/Xz8+RNYIkT8=",
          "dtype": "f8"
         }
        },
        {
         "hovertext": "<b>Topic 54</b>:french_france_le_paris_macron_pen_",
         "line": {
          "color": "black",
          "width": 1.5
         },
         "mode": "lines+lines",
         "name": "",
         "opacity": 0.1,
         "type": "scatter",
         "x": {
          "bdata": "AQIDBAUGBwgJCg==",
          "dtype": "i1"
         },
         "y": {
          "bdata": "fUaZX7khqz8fMT6S28qlPz2U7X28sKQ/nVkW+Kl9oz8Fm8N4J/qgP3BpiWV0KZc/y7sRX4CFkz+6EP3ZU3aRP1JigZfVMZE/npLW+I7dkD8=",
          "dtype": "f8"
         }
        },
        {
         "hovertext": "<b>Topic 55</b>:prison_inmates_crime_incarceration",
         "line": {
          "color": "black",
          "width": 1.5
         },
         "mode": "lines+lines",
         "name": "",
         "opacity": 0.1,
         "type": "scatter",
         "x": {
          "bdata": "AQIDBAUGBwgJCg==",
          "dtype": "i1"
         },
         "y": {
          "bdata": "3S4LDgnZpj/uoiDLJcGfP4+GlE36Pps/J0Oy8Wl/mD9RRVMWrw+XP6Ie9jRCvJU/8NkFqT6zlT9c4eWAmvCTP4SpEUa67pE/AnmAeRPTkD8=",
          "dtype": "f8"
         }
        },
        {
         "hovertext": "<b>Topic 56</b>:tax_budget_taxes_bill_republicans_",
         "line": {
          "color": "black",
          "width": 1.5
         },
         "mode": "lines+lines",
         "name": "",
         "opacity": 0.1,
         "type": "scatter",
         "x": {
          "bdata": "AQIDBAUGBwgJCg==",
          "dtype": "i1"
         },
         "y": {
          "bdata": "iKE7ua5ttz/kH6lAXuGkP1s/GNL20KA/ddU1H5FeoD9H7uSbfqeaP/ZhPG/XIpg/KndAXtp6lT8U600rftuUPyZJxsqZv5Q/+SRhDOKTkz8=",
          "dtype": "f8"
         }
        },
        {
         "hovertext": "<b>Topic 57</b>:ceu_hungary_german_puigdemont_gren",
         "line": {
          "color": "black",
          "width": 1.5
         },
         "mode": "lines+lines",
         "name": "",
         "opacity": 0.1,
         "type": "scatter",
         "x": {
          "bdata": "AQIDBAUGBwgJCg==",
          "dtype": "i1"
         },
         "y": {
          "bdata": "61TBy8Uimj81Mk1I0KSYPzrl3ylFFZg/f7alrvJmlj8uJehZdk6VP0aqUtgNfpQ/uJG/EZx6kz+I7svm0teRPzt/ORWCnZE/QW93z+RlkT8=",
          "dtype": "f8"
         }
        },
        {
         "hovertext": "<b>Topic 58</b>:gmt_italy_euro_italian_releases_bo",
         "line": {
          "color": "black",
          "width": 1.5
         },
         "mode": "lines+lines",
         "name": "",
         "opacity": 0.1,
         "type": "scatter",
         "x": {
          "bdata": "AQIDBAUGBwgJCg==",
          "dtype": "i1"
         },
         "y": {
          "bdata": "GoOz0Bpusj+WGgXrNhuuPzLHBr4ld6Q/F08oCHKloj+xc0+penWfP9M8yALshp0/CnzdRZZgnT+mbUqhuUydPxNpz/QF/Zs/y/MV+Vxrmz8=",
          "dtype": "f8"
         }
        },
        {
         "hovertext": "<b>Topic 59</b>:athletes_olympic_nassar_olympics_s",
         "line": {
          "color": "black",
          "width": 1.5
         },
         "mode": "lines+lines",
         "name": "",
         "opacity": 0.1,
         "type": "scatter",
         "x": {
          "bdata": "AQIDBAUGBwgJCg==",
          "dtype": "i1"
         },
         "y": {
          "bdata": "YFi12sBRpT/8tNvHL9qkP0W/SeWpiZ0/sdELEfv5nD9OH6+g8zGcP1rsxvjTQZs/vbkDIidamj+9uQMiJ1qaP8lHNBArGZY/KKnH45aglT8=",
          "dtype": "f8"
         }
        },
        {
         "hovertext": "<b>Topic 60</b>:cow_india_bjp_cows_modis_modi_catt",
         "line": {
          "color": "black",
          "width": 1.5
         },
         "mode": "lines+lines",
         "name": "",
         "opacity": 0.1,
         "type": "scatter",
         "x": {
          "bdata": "AQIDBAUGBwgJCg==",
          "dtype": "i1"
         },
         "y": {
          "bdata": "iT5h+iLroD8YI/5U7tyZPx5ibH6bcpk/qF7qiMhPmD9ozzMpA+yXP8blsQ1FFZc/D8+N7Ng/lj/hE6yVb6qVPwFFtiWDUpQ/15yqxNVMlD8=",
          "dtype": "f8"
         }
        },
        {
         "hovertext": "<b>Topic 61</b>:manafort_gates_manaforts_mueller_c",
         "line": {
          "color": "black",
          "width": 1.5
         },
         "mode": "lines+lines",
         "name": "",
         "opacity": 0.1,
         "type": "scatter",
         "x": {
          "bdata": "AQIDBAUGBwgJCg==",
          "dtype": "i1"
         },
         "y": {
          "bdata": "HX7yCn/Qvj+0GtyPL+GnPzlMgNG1q6Y/DbM9yQR+mT/P17p0T0GZPxMeg11rfJc/cSJ6Uug5lz8PmgXnU2WVP0Gm1SiQGpM/2rKGY2ETkz8=",
          "dtype": "f8"
         }
        },
        {
         "hovertext": "<b>Topic 62</b>:maternal_health_abortion_mortality",
         "line": {
          "color": "black",
          "width": 1.5
         },
         "mode": "lines+lines",
         "name": "",
         "opacity": 0.1,
         "type": "scatter",
         "x": {
          "bdata": "AQIDBAUGBwgJCg==",
          "dtype": "i1"
         },
         "y": {
          "bdata": "Hd62BnYvpz8F2Y4+r/ikPx26n15TfaE/FUWL6vCgmT/rd2xLOb6XP0P2QLEWe5M/kPnak0CCkj8rdRPMFmySP3gCdxMFLZI/suGXgqZqkT8=",
          "dtype": "f8"
         }
        },
        {
         "hovertext": "<b>Topic 63</b>:inning_innings_homer_hits_runs_two",
         "line": {
          "color": "black",
          "width": 1.5
         },
         "mode": "lines+lines",
         "name": "",
         "opacity": 0.1,
         "type": "scatter",
         "x": {
          "bdata": "AQIDBAUGBwgJCg==",
          "dtype": "i1"
         },
         "y": {
          "bdata": "mM1iuFDisz+DkwbuzhKwP4OTBu7OErA/6MxQv6YQsD+jbmqH2tqnP5HFBCl+F6Q/4JILPI5goj+O0B8sHfmhPyG6s8liXqE/zQtcAfb8oD8=",
          "dtype": "f8"
         }
        },
        {
         "hovertext": "<b>Topic 64</b>:chapo_mexico_mexican_el_acapulco_c",
         "line": {
          "color": "black",
          "width": 1.5
         },
         "mode": "lines+lines",
         "name": "",
         "opacity": 0.1,
         "type": "scatter",
         "x": {
          "bdata": "AQIDBAUGBwgJCg==",
          "dtype": "i1"
         },
         "y": {
          "bdata": "Otwu73E5oD/MiklEEF+dP6Fkpf+DWZs/QJ2cXh3Qlz9Q635wv2WXPzrg4HBeuZU/cwSS+Hp3kj8bm/C2Vz2SPzNdvm0z8ZA/d0YfpwDgkD8=",
          "dtype": "f8"
         }
        },
        {
         "hovertext": "<b>Topic 65</b>:cohen_trump_campaign_vekselberg_gi",
         "line": {
          "color": "black",
          "width": 1.5
         },
         "mode": "lines+lines",
         "name": "",
         "opacity": 0.1,
         "type": "scatter",
         "x": {
          "bdata": "AQIDBAUGBwgJCg==",
          "dtype": "i1"
         },
         "y": {
          "bdata": "i2Tv/w0Duj/cuzNWCM6lP761zcbqEKE/jezQuVA9nT+0acCPfCibP4I514vytpo/5GZ4SbmamT/kqR2dQIKWP1ENoh7PfZY/xpYcR4Q1lD8=",
          "dtype": "f8"
         }
        },
        {
         "hovertext": "<b>Topic 66</b>:obama_politics_americans_america_t",
         "line": {
          "color": "black",
          "width": 1.5
         },
         "mode": "lines+lines",
         "name": "",
         "opacity": 0.1,
         "type": "scatter",
         "x": {
          "bdata": "AQIDBAUGBwgJCg==",
          "dtype": "i1"
         },
         "y": {
          "bdata": "LVWjHLXuoz+5khAUmzSUPy3/5xPDlI8/TVBtgAu3jj81Ueoyk4SLP2rNwExYOIs/wGNaLOFjij9+vKFlYLCIPynl/9WKf4g/deQiXtbVhz8=",
          "dtype": "f8"
         }
        },
        {
         "hovertext": "<b>Topic 67</b>:kavanaugh_court_supreme_justice_ka",
         "line": {
          "color": "black",
          "width": 1.5
         },
         "mode": "lines+lines",
         "name": "",
         "opacity": 0.1,
         "type": "scatter",
         "x": {
          "bdata": "AQIDBAUGBwgJCg==",
          "dtype": "i1"
         },
         "y": {
          "bdata": "oFtnFa2Frj/2KT6NE1qrP4xL9ZdaKqU/YZnOwOugoj+wXWnTwUCbP/2H2SvhSZk/9ZGdx4QYmD+HwTcpwa2XP6kWPFGLQZc/KtSVJAnXkz8=",
          "dtype": "f8"
         }
        },
        {
         "hovertext": "<b>Topic 68</b>:died_zsa_death_tmz_home_ross_drive",
         "line": {
          "color": "black",
          "width": 1.5
         },
         "mode": "lines+lines",
         "name": "",
         "opacity": 0.1,
         "type": "scatter",
         "x": {
          "bdata": "AQIDBAUGBwgJCg==",
          "dtype": "i1"
         },
         "y": {
          "bdata": "9vU/ugXvpT827pxWQWmlPxtkaQFtdqE/B7iPyAJyoT9jIOmDkMugPysnYd7MRKA/c/eueMd4nj8inKny39ibP9xblNThzJs/WgsMHsrgmT8=",
          "dtype": "f8"
         }
        },
        {
         "hovertext": "<b>Topic 69</b>:bolsonaro_brazilians_brazils_brazi",
         "line": {
          "color": "black",
          "width": 1.5
         },
         "mode": "lines+lines",
         "name": "",
         "opacity": 0.1,
         "type": "scatter",
         "x": {
          "bdata": "AQIDBAUGBwgJCg==",
          "dtype": "i1"
         },
         "y": {
          "bdata": "XM22KQx6qj+xsZUn726nP/QqXnRdoaU/XhyAT2Xroj9hMSkdqTyfP7ZqB8/mn50/KtHcV5QLnT+bSsYz1qKYP5sWsNGJkZc/7R3Q8CjMlD8=",
          "dtype": "f8"
         }
        },
        {
         "hovertext": "<b>Topic 70</b>:kavanaugh_sexual_ford_ernst_conyer",
         "line": {
          "color": "black",
          "width": 1.5
         },
         "mode": "lines+lines",
         "name": "",
         "opacity": 0.1,
         "type": "scatter",
         "x": {
          "bdata": "AQIDBAUGBwgJCg==",
          "dtype": "i1"
         },
         "y": {
          "bdata": "E4ejNmk4pj9PlhXu5/KjP0erz7WXX6A/lZQX4q8Bnz8803ZdnYeaP2cnPO6WPJo/qjfnu6OelT9K3PMFAVaVP4C4BGWW35M/JbMoqeIakj8=",
          "dtype": "f8"
         }
        },
        {
         "hovertext": "<b>Topic 71</b>:teachers_workers_unions_wage_labor",
         "line": {
          "color": "black",
          "width": 1.5
         },
         "mode": "lines+lines",
         "name": "",
         "opacity": 0.1,
         "type": "scatter",
         "x": {
          "bdata": "AQIDBAUGBwgJCg==",
          "dtype": "i1"
         },
         "y": {
          "bdata": "QKWt+XG+qz/ZglmYCBWjP8i+incqzps/a/HNSAJ7mj+jyN+HSjeaPyn++CUAiJU/oSBJqOB6lT+2dIerwJeUPwn863RcSZQ/6GhMdD0GlD8=",
          "dtype": "f8"
         }
        },
        {
         "hovertext": "<b>Topic 72</b>:nhl_hockey_season_goals_players_le",
         "line": {
          "color": "black",
          "width": 1.5
         },
         "mode": "lines+lines",
         "name": "",
         "opacity": 0.1,
         "type": "scatter",
         "x": {
          "bdata": "AQIDBAUGBwgJCg==",
          "dtype": "i1"
         },
         "y": {
          "bdata": "SgfPyRJkqT/rQBO+aoWiP1TZ8LxZJZ0/uuTrDz/hmj+lh7IYvqSaP6VThBw0zJk/DEUZR263mD9OP1CqPz2YPyRqa4Waw5U/LHgU9OYElT8=",
          "dtype": "f8"
         }
        },
        {
         "hovertext": "<b>Topic 73</b>:daphne_daphnes_police_migrants_mus",
         "line": {
          "color": "black",
          "width": 1.5
         },
         "mode": "lines+lines",
         "name": "",
         "opacity": 0.1,
         "type": "scatter",
         "x": {
          "bdata": "AQIDBAUGBwgJCg==",
          "dtype": "i1"
         },
         "y": {
          "bdata": "s4s65QdVoz+PMCwNq0ucP94iT+jW5pk/KEMiBGRRlz8ioKdW91yVPxrqojrLFpI/Za9uck3rkT8IVQE/PiOQP1ZC0RxPHY4/VkLRHE8djj8=",
          "dtype": "f8"
         }
        },
        {
         "hovertext": "<b>Topic 74</b>:roseanne_kareem_show_hillsong_spac",
         "line": {
          "color": "black",
          "width": 1.5
         },
         "mode": "lines+lines",
         "name": "",
         "opacity": 0.1,
         "type": "scatter",
         "x": {
          "bdata": "AQIDBAUGBwgJCg==",
          "dtype": "i1"
         },
         "y": {
          "bdata": "U5TwzKt7sD+K5DtinYKhPwp2JTBTa6E/434fxKaKoD989IJFJIKgPyxDIjNP+Z0/NSlHBZjomz/eV8l+gXWaP1naMfAMVJo/4r6AhwdFmj8=",
          "dtype": "f8"
         }
        },
        {
         "hovertext": "<b>Topic 75</b>:meat_food_labgrown_coffee_starbuck",
         "line": {
          "color": "black",
          "width": 1.5
         },
         "mode": "lines+lines",
         "name": "",
         "opacity": 0.1,
         "type": "scatter",
         "x": {
          "bdata": "AQIDBAUGBwgJCg==",
          "dtype": "i1"
         },
         "y": {
          "bdata": "m0ULjHHsuj/a02y+Yt6iP3gN7qxbEKI/3AecodK+oD96JG7iln+eP6ABK1kFIps/ie0HXEo6lT/rEL7hYE+UP9kUi2ysa5M/5B5Oo7bBkj8=",
          "dtype": "f8"
         }
        },
        {
         "hovertext": "<b>Topic 76</b>:parhamovich_court_gun_law_forfeitu",
         "line": {
          "color": "black",
          "width": 1.5
         },
         "mode": "lines+lines",
         "name": "",
         "opacity": 0.1,
         "type": "scatter",
         "x": {
          "bdata": "AQIDBAUGBwgJCg==",
          "dtype": "i1"
         },
         "y": {
          "bdata": "rQr3rHQ1pT/XCjL0aa6jPxazasDa15k/VmqwpLVWmT/e/n7x3ECYP/X3ppu7yJU/Kw4RrwmBlD96I7DmMlaUP2Z3CKo8C5Q/m5CAoBI2kz8=",
          "dtype": "f8"
         }
        },
        {
         "hovertext": "<b>Topic 77</b>:nafta_canada_trade_mexico_agreemen",
         "line": {
          "color": "black",
          "width": 1.5
         },
         "mode": "lines+lines",
         "name": "",
         "opacity": 0.1,
         "type": "scatter",
         "x": {
          "bdata": "AQIDBAUGBwgJCg==",
          "dtype": "i1"
         },
         "y": {
          "bdata": "3fUMiRVbtj/50hPxSvGzP24hyGWWh6k/+iCW6oSloj9f5L4fqjuiPyqcoUZIJKI/G69R0jiaoT9Gn+2C+WSgP/royxktvJ8/ClT8osiDnD8=",
          "dtype": "f8"
         }
        },
        {
         "hovertext": "<b>Topic 78</b>:political_party_voters_republican_",
         "line": {
          "color": "black",
          "width": 1.5
         },
         "mode": "lines+lines",
         "name": "",
         "opacity": 0.1,
         "type": "scatter",
         "x": {
          "bdata": "AQIDBAUGBwgJCg==",
          "dtype": "i1"
         },
         "y": {
          "bdata": "GG/ZmTEglT9dbg/P6uCUP0SLFHl+5JE/ZUPpDmfQjz+Zq2Rrij6NP5MGSZvv14o/OYSVUao3ij+3PyOJixOIP6NYLRCgRYY/XR1w5T+QhT8=",
          "dtype": "f8"
         }
        },
        {
         "hovertext": "<b>Topic 79</b>:google_tim_cci_competition_cdps_fi",
         "line": {
          "color": "black",
          "width": 1.5
         },
         "mode": "lines+lines",
         "name": "",
         "opacity": 0.1,
         "type": "scatter",
         "x": {
          "bdata": "AQIDBAUGBwgJCg==",
          "dtype": "i1"
         },
         "y": {
          "bdata": "vtq7wZMHqT/HRuUP4/WhPwU1Hx2AuZ8/RdLGcSlUnT+cug+4IrWYP4MywmFem5g/mw3HMifhlj/rLmQpzfiVP9YFb0/jtpQ/0g61HVGzlD8=",
          "dtype": "f8"
         }
        },
        {
         "hovertext": "<b>Topic 80</b>:saudi_prince_arabia_mbs_salman_cro",
         "line": {
          "color": "black",
          "width": 1.5
         },
         "mode": "lines+lines",
         "name": "",
         "opacity": 0.1,
         "type": "scatter",
         "x": {
          "bdata": "AQIDBAUGBwgJCg==",
          "dtype": "i1"
         },
         "y": {
          "bdata": "86fLztmjvj8SXCkX3lepP57R1HditKg/9y/VtJcmpD+iwKL3/nSjP/4BEMRW9qI/O+dtD7QLoj8EAZ7ylyGfP/ZJjrktuZg/XzPZ758nlz8=",
          "dtype": "f8"
         }
        },
        {
         "hovertext": "<b>Topic 81</b>:baseball_yankees_players_league_pi",
         "line": {
          "color": "black",
          "width": 1.5
         },
         "mode": "lines+lines",
         "name": "",
         "opacity": 0.1,
         "type": "scatter",
         "x": {
          "bdata": "AQIDBAUGBwgJCg==",
          "dtype": "i1"
         },
         "y": {
          "bdata": "r9GZtRc0pT/S3tRweemjP6iYdQtczqI/bLRyMPF6oD+joAwAv0yfP00tQPryvJw/IG0DAjZWmD903tv5aJ+VP1naWylKk5U/iwQiC9AQlT8=",
          "dtype": "f8"
         }
        },
        {
         "hovertext": "<b>Topic 82</b>:erdogan_turkish_turkey_turkeys_ist",
         "line": {
          "color": "black",
          "width": 1.5
         },
         "mode": "lines+lines",
         "name": "",
         "opacity": 0.1,
         "type": "scatter",
         "x": {
          "bdata": "AQIDBAUGBwgJCg==",
          "dtype": "i1"
         },
         "y": {
          "bdata": "N5l5nkzMsT/FhX+c2AuwP/Z7i+w3tq8/VTSPsybdpT8n2X/XFTugP4BzIY6suZ8/al2o7/3onT9IXD/FEb6dPwZHQia5spg/UFIv+HBwmD8=",
          "dtype": "f8"
         }
        },
        {
         "hovertext": "<b>Topic 83</b>:yeah_ks_think_right_lg_like_thats_",
         "line": {
          "color": "black",
          "width": 1.5
         },
         "mode": "lines+lines",
         "name": "",
         "opacity": 0.1,
         "type": "scatter",
         "x": {
          "bdata": "AQIDBAUGBwgJCg==",
          "dtype": "i1"
         },
         "y": {
          "bdata": "0u1Q7mDuoT9/wgMXGqugP8SvK4GUo58/7rkgzB0cmT9ydrf6VLSXPyOlKt7d6ZU/EaCDYYB8lD+UbyhsfguTPwzKbs62vpI/Tjjw9ObykT8=",
          "dtype": "f8"
         }
        },
        {
         "hovertext": "<b>Topic 84</b>:clinton_clintons_campaign_hillary_",
         "line": {
          "color": "black",
          "width": 1.5
         },
         "mode": "lines+lines",
         "name": "",
         "opacity": 0.1,
         "type": "scatter",
         "x": {
          "bdata": "AQIDBAUGBwgJCg==",
          "dtype": "i1"
         },
         "y": {
          "bdata": "lfyntbp4uT8mxD1gkLOiP2b+j0v31J8/yGbv62HQnT8WcLA0DnyTP7/jPbsxRJM/a054/uBckj+7gAPo2bOQP3ympIlTSpA/uB4t7rQhjz8=",
          "dtype": "f8"
         }
        }
       ],
       "layout": {
        "height": 500,
        "hoverlabel": {
         "bgcolor": "white",
         "font": {
          "family": "Rockwell",
          "size": 16
         }
        },
        "showlegend": false,
        "template": {
         "data": {
          "bar": [
           {
            "error_x": {
             "color": "#2a3f5f"
            },
            "error_y": {
             "color": "#2a3f5f"
            },
            "marker": {
             "line": {
              "color": "white",
              "width": 0.5
             },
             "pattern": {
              "fillmode": "overlay",
              "size": 10,
              "solidity": 0.2
             }
            },
            "type": "bar"
           }
          ],
          "barpolar": [
           {
            "marker": {
             "line": {
              "color": "white",
              "width": 0.5
             },
             "pattern": {
              "fillmode": "overlay",
              "size": 10,
              "solidity": 0.2
             }
            },
            "type": "barpolar"
           }
          ],
          "carpet": [
           {
            "aaxis": {
             "endlinecolor": "#2a3f5f",
             "gridcolor": "#C8D4E3",
             "linecolor": "#C8D4E3",
             "minorgridcolor": "#C8D4E3",
             "startlinecolor": "#2a3f5f"
            },
            "baxis": {
             "endlinecolor": "#2a3f5f",
             "gridcolor": "#C8D4E3",
             "linecolor": "#C8D4E3",
             "minorgridcolor": "#C8D4E3",
             "startlinecolor": "#2a3f5f"
            },
            "type": "carpet"
           }
          ],
          "choropleth": [
           {
            "colorbar": {
             "outlinewidth": 0,
             "ticks": ""
            },
            "type": "choropleth"
           }
          ],
          "contour": [
           {
            "colorbar": {
             "outlinewidth": 0,
             "ticks": ""
            },
            "colorscale": [
             [
              0,
              "#0d0887"
             ],
             [
              0.1111111111111111,
              "#46039f"
             ],
             [
              0.2222222222222222,
              "#7201a8"
             ],
             [
              0.3333333333333333,
              "#9c179e"
             ],
             [
              0.4444444444444444,
              "#bd3786"
             ],
             [
              0.5555555555555556,
              "#d8576b"
             ],
             [
              0.6666666666666666,
              "#ed7953"
             ],
             [
              0.7777777777777778,
              "#fb9f3a"
             ],
             [
              0.8888888888888888,
              "#fdca26"
             ],
             [
              1,
              "#f0f921"
             ]
            ],
            "type": "contour"
           }
          ],
          "contourcarpet": [
           {
            "colorbar": {
             "outlinewidth": 0,
             "ticks": ""
            },
            "type": "contourcarpet"
           }
          ],
          "heatmap": [
           {
            "colorbar": {
             "outlinewidth": 0,
             "ticks": ""
            },
            "colorscale": [
             [
              0,
              "#0d0887"
             ],
             [
              0.1111111111111111,
              "#46039f"
             ],
             [
              0.2222222222222222,
              "#7201a8"
             ],
             [
              0.3333333333333333,
              "#9c179e"
             ],
             [
              0.4444444444444444,
              "#bd3786"
             ],
             [
              0.5555555555555556,
              "#d8576b"
             ],
             [
              0.6666666666666666,
              "#ed7953"
             ],
             [
              0.7777777777777778,
              "#fb9f3a"
             ],
             [
              0.8888888888888888,
              "#fdca26"
             ],
             [
              1,
              "#f0f921"
             ]
            ],
            "type": "heatmap"
           }
          ],
          "histogram": [
           {
            "marker": {
             "pattern": {
              "fillmode": "overlay",
              "size": 10,
              "solidity": 0.2
             }
            },
            "type": "histogram"
           }
          ],
          "histogram2d": [
           {
            "colorbar": {
             "outlinewidth": 0,
             "ticks": ""
            },
            "colorscale": [
             [
              0,
              "#0d0887"
             ],
             [
              0.1111111111111111,
              "#46039f"
             ],
             [
              0.2222222222222222,
              "#7201a8"
             ],
             [
              0.3333333333333333,
              "#9c179e"
             ],
             [
              0.4444444444444444,
              "#bd3786"
             ],
             [
              0.5555555555555556,
              "#d8576b"
             ],
             [
              0.6666666666666666,
              "#ed7953"
             ],
             [
              0.7777777777777778,
              "#fb9f3a"
             ],
             [
              0.8888888888888888,
              "#fdca26"
             ],
             [
              1,
              "#f0f921"
             ]
            ],
            "type": "histogram2d"
           }
          ],
          "histogram2dcontour": [
           {
            "colorbar": {
             "outlinewidth": 0,
             "ticks": ""
            },
            "colorscale": [
             [
              0,
              "#0d0887"
             ],
             [
              0.1111111111111111,
              "#46039f"
             ],
             [
              0.2222222222222222,
              "#7201a8"
             ],
             [
              0.3333333333333333,
              "#9c179e"
             ],
             [
              0.4444444444444444,
              "#bd3786"
             ],
             [
              0.5555555555555556,
              "#d8576b"
             ],
             [
              0.6666666666666666,
              "#ed7953"
             ],
             [
              0.7777777777777778,
              "#fb9f3a"
             ],
             [
              0.8888888888888888,
              "#fdca26"
             ],
             [
              1,
              "#f0f921"
             ]
            ],
            "type": "histogram2dcontour"
           }
          ],
          "mesh3d": [
           {
            "colorbar": {
             "outlinewidth": 0,
             "ticks": ""
            },
            "type": "mesh3d"
           }
          ],
          "parcoords": [
           {
            "line": {
             "colorbar": {
              "outlinewidth": 0,
              "ticks": ""
             }
            },
            "type": "parcoords"
           }
          ],
          "pie": [
           {
            "automargin": true,
            "type": "pie"
           }
          ],
          "scatter": [
           {
            "fillpattern": {
             "fillmode": "overlay",
             "size": 10,
             "solidity": 0.2
            },
            "type": "scatter"
           }
          ],
          "scatter3d": [
           {
            "line": {
             "colorbar": {
              "outlinewidth": 0,
              "ticks": ""
             }
            },
            "marker": {
             "colorbar": {
              "outlinewidth": 0,
              "ticks": ""
             }
            },
            "type": "scatter3d"
           }
          ],
          "scattercarpet": [
           {
            "marker": {
             "colorbar": {
              "outlinewidth": 0,
              "ticks": ""
             }
            },
            "type": "scattercarpet"
           }
          ],
          "scattergeo": [
           {
            "marker": {
             "colorbar": {
              "outlinewidth": 0,
              "ticks": ""
             }
            },
            "type": "scattergeo"
           }
          ],
          "scattergl": [
           {
            "marker": {
             "colorbar": {
              "outlinewidth": 0,
              "ticks": ""
             }
            },
            "type": "scattergl"
           }
          ],
          "scattermap": [
           {
            "marker": {
             "colorbar": {
              "outlinewidth": 0,
              "ticks": ""
             }
            },
            "type": "scattermap"
           }
          ],
          "scattermapbox": [
           {
            "marker": {
             "colorbar": {
              "outlinewidth": 0,
              "ticks": ""
             }
            },
            "type": "scattermapbox"
           }
          ],
          "scatterpolar": [
           {
            "marker": {
             "colorbar": {
              "outlinewidth": 0,
              "ticks": ""
             }
            },
            "type": "scatterpolar"
           }
          ],
          "scatterpolargl": [
           {
            "marker": {
             "colorbar": {
              "outlinewidth": 0,
              "ticks": ""
             }
            },
            "type": "scatterpolargl"
           }
          ],
          "scatterternary": [
           {
            "marker": {
             "colorbar": {
              "outlinewidth": 0,
              "ticks": ""
             }
            },
            "type": "scatterternary"
           }
          ],
          "surface": [
           {
            "colorbar": {
             "outlinewidth": 0,
             "ticks": ""
            },
            "colorscale": [
             [
              0,
              "#0d0887"
             ],
             [
              0.1111111111111111,
              "#46039f"
             ],
             [
              0.2222222222222222,
              "#7201a8"
             ],
             [
              0.3333333333333333,
              "#9c179e"
             ],
             [
              0.4444444444444444,
              "#bd3786"
             ],
             [
              0.5555555555555556,
              "#d8576b"
             ],
             [
              0.6666666666666666,
              "#ed7953"
             ],
             [
              0.7777777777777778,
              "#fb9f3a"
             ],
             [
              0.8888888888888888,
              "#fdca26"
             ],
             [
              1,
              "#f0f921"
             ]
            ],
            "type": "surface"
           }
          ],
          "table": [
           {
            "cells": {
             "fill": {
              "color": "#EBF0F8"
             },
             "line": {
              "color": "white"
             }
            },
            "header": {
             "fill": {
              "color": "#C8D4E3"
             },
             "line": {
              "color": "white"
             }
            },
            "type": "table"
           }
          ]
         },
         "layout": {
          "annotationdefaults": {
           "arrowcolor": "#2a3f5f",
           "arrowhead": 0,
           "arrowwidth": 1
          },
          "autotypenumbers": "strict",
          "coloraxis": {
           "colorbar": {
            "outlinewidth": 0,
            "ticks": ""
           }
          },
          "colorscale": {
           "diverging": [
            [
             0,
             "#8e0152"
            ],
            [
             0.1,
             "#c51b7d"
            ],
            [
             0.2,
             "#de77ae"
            ],
            [
             0.3,
             "#f1b6da"
            ],
            [
             0.4,
             "#fde0ef"
            ],
            [
             0.5,
             "#f7f7f7"
            ],
            [
             0.6,
             "#e6f5d0"
            ],
            [
             0.7,
             "#b8e186"
            ],
            [
             0.8,
             "#7fbc41"
            ],
            [
             0.9,
             "#4d9221"
            ],
            [
             1,
             "#276419"
            ]
           ],
           "sequential": [
            [
             0,
             "#0d0887"
            ],
            [
             0.1111111111111111,
             "#46039f"
            ],
            [
             0.2222222222222222,
             "#7201a8"
            ],
            [
             0.3333333333333333,
             "#9c179e"
            ],
            [
             0.4444444444444444,
             "#bd3786"
            ],
            [
             0.5555555555555556,
             "#d8576b"
            ],
            [
             0.6666666666666666,
             "#ed7953"
            ],
            [
             0.7777777777777778,
             "#fb9f3a"
            ],
            [
             0.8888888888888888,
             "#fdca26"
            ],
            [
             1,
             "#f0f921"
            ]
           ],
           "sequentialminus": [
            [
             0,
             "#0d0887"
            ],
            [
             0.1111111111111111,
             "#46039f"
            ],
            [
             0.2222222222222222,
             "#7201a8"
            ],
            [
             0.3333333333333333,
             "#9c179e"
            ],
            [
             0.4444444444444444,
             "#bd3786"
            ],
            [
             0.5555555555555556,
             "#d8576b"
            ],
            [
             0.6666666666666666,
             "#ed7953"
            ],
            [
             0.7777777777777778,
             "#fb9f3a"
            ],
            [
             0.8888888888888888,
             "#fdca26"
            ],
            [
             1,
             "#f0f921"
            ]
           ]
          },
          "colorway": [
           "#636efa",
           "#EF553B",
           "#00cc96",
           "#ab63fa",
           "#FFA15A",
           "#19d3f3",
           "#FF6692",
           "#B6E880",
           "#FF97FF",
           "#FECB52"
          ],
          "font": {
           "color": "#2a3f5f"
          },
          "geo": {
           "bgcolor": "white",
           "lakecolor": "white",
           "landcolor": "white",
           "showlakes": true,
           "showland": true,
           "subunitcolor": "#C8D4E3"
          },
          "hoverlabel": {
           "align": "left"
          },
          "hovermode": "closest",
          "mapbox": {
           "style": "light"
          },
          "paper_bgcolor": "white",
          "plot_bgcolor": "white",
          "polar": {
           "angularaxis": {
            "gridcolor": "#EBF0F8",
            "linecolor": "#EBF0F8",
            "ticks": ""
           },
           "bgcolor": "white",
           "radialaxis": {
            "gridcolor": "#EBF0F8",
            "linecolor": "#EBF0F8",
            "ticks": ""
           }
          },
          "scene": {
           "xaxis": {
            "backgroundcolor": "white",
            "gridcolor": "#DFE8F3",
            "gridwidth": 2,
            "linecolor": "#EBF0F8",
            "showbackground": true,
            "ticks": "",
            "zerolinecolor": "#EBF0F8"
           },
           "yaxis": {
            "backgroundcolor": "white",
            "gridcolor": "#DFE8F3",
            "gridwidth": 2,
            "linecolor": "#EBF0F8",
            "showbackground": true,
            "ticks": "",
            "zerolinecolor": "#EBF0F8"
           },
           "zaxis": {
            "backgroundcolor": "white",
            "gridcolor": "#DFE8F3",
            "gridwidth": 2,
            "linecolor": "#EBF0F8",
            "showbackground": true,
            "ticks": "",
            "zerolinecolor": "#EBF0F8"
           }
          },
          "shapedefaults": {
           "line": {
            "color": "#2a3f5f"
           }
          },
          "ternary": {
           "aaxis": {
            "gridcolor": "#DFE8F3",
            "linecolor": "#A2B1C6",
            "ticks": ""
           },
           "baxis": {
            "gridcolor": "#DFE8F3",
            "linecolor": "#A2B1C6",
            "ticks": ""
           },
           "bgcolor": "white",
           "caxis": {
            "gridcolor": "#DFE8F3",
            "linecolor": "#A2B1C6",
            "ticks": ""
           }
          },
          "title": {
           "x": 0.05
          },
          "xaxis": {
           "automargin": true,
           "gridcolor": "#EBF0F8",
           "linecolor": "#EBF0F8",
           "ticks": "",
           "title": {
            "standoff": 15
           },
           "zerolinecolor": "#EBF0F8",
           "zerolinewidth": 2
          },
          "yaxis": {
           "automargin": true,
           "gridcolor": "#EBF0F8",
           "linecolor": "#EBF0F8",
           "ticks": "",
           "title": {
            "standoff": 15
           },
           "zerolinecolor": "#EBF0F8",
           "zerolinewidth": 2
          }
         }
        },
        "title": {
         "font": {
          "color": "Black",
          "size": 22
         },
         "text": "<b>Term score decline per Topic</b>",
         "x": 0.5,
         "xanchor": "center",
         "y": 0.9,
         "yanchor": "top"
        },
        "width": 800,
        "xaxis": {
         "dtick": 2,
         "range": [
          0,
          10
         ],
         "tick0": 1,
         "title": {
          "text": "Term Rank"
         }
        },
        "yaxis": {
         "title": {
          "text": "c-TF-IDF score"
         }
        }
       }
      }
     },
     "metadata": {},
     "output_type": "display_data"
    }
   ],
   "source": [
    "topic_model.visualize_term_rank()"
   ]
  }
 ],
 "metadata": {
  "kernelspec": {
   "display_name": ".venv",
   "language": "python",
   "name": "python3"
  },
  "language_info": {
   "codemirror_mode": {
    "name": "ipython",
    "version": 3
   },
   "file_extension": ".py",
   "mimetype": "text/x-python",
   "name": "python",
   "nbconvert_exporter": "python",
   "pygments_lexer": "ipython3",
   "version": "3.12.10"
  }
 },
 "nbformat": 4,
 "nbformat_minor": 5
}
