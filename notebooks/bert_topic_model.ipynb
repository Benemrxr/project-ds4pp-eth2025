{
 "cells": [
  {
   "cell_type": "code",
   "execution_count": null,
   "id": "981b4eba",
   "metadata": {},
   "outputs": [
    {
     "name": "stderr",
     "output_type": "stream",
     "text": [
      "[nltk_data] Downloading package stopwords to /Users/rada/nltk_data...\n",
      "[nltk_data]   Package stopwords is already up-to-date!\n"
     ]
    },
    {
     "name": "stdout",
     "output_type": "stream",
     "text": [
      "Collecting en-core-web-sm==3.8.0\n",
      "  Downloading https://github.com/explosion/spacy-models/releases/download/en_core_web_sm-3.8.0/en_core_web_sm-3.8.0-py3-none-any.whl (12.8 MB)\n",
      "\u001b[2K     \u001b[90m━━━━━━━━━━━━━━━━━━━━━━━━━━━━━━━━━━━━━━━━\u001b[0m \u001b[32m12.8/12.8 MB\u001b[0m \u001b[31m42.6 MB/s\u001b[0m eta \u001b[36m0:00:00\u001b[0m \u001b[36m0:00:01\u001b[0m\n",
      "\u001b[?25h\u001b[38;5;2m✔ Download and installation successful\u001b[0m\n",
      "You can now load the package via spacy.load('en_core_web_sm')\n",
      "\u001b[38;5;3m⚠ Restart to reload dependencies\u001b[0m\n",
      "If you are in a Jupyter or Colab notebook, you may need to restart Python in\n",
      "order to load all the package's dependencies. You can do this by selecting the\n",
      "'Restart kernel' or 'Restart runtime' option.\n"
     ]
    }
   ],
   "source": [
    "# --- Load full dataset and drop missing articles ---\n",
    "import pandas as pd\n",
    "\n",
    "csv_path = \"../data/raw/newspapers/all-the-news-2-1.csv\"\n",
    "df = pd.read_csv(csv_path, nrows=10_000)\n",
    "df = df.dropna(subset=[\"article\"])\n",
    "df = df[df[\"article\"].str.strip().astype(bool)]\n",
    "\n",
    "# --- Preprocess text ---\n",
    "import re\n",
    "import nltk\n",
    "from nltk.corpus import stopwords\n",
    "import spacy\n",
    "\n",
    "# Download stopwords if not done already\n",
    "nltk.download('stopwords')\n",
    "stop_words = set(stopwords.words('english'))\n",
    "\n",
    "# Load spacy model for lemmatization\n",
    "spacy.cli.download(\"en_core_web_sm\")\n",
    "\n",
    "nlp = spacy.load('en_core_web_sm')\n",
    "\n",
    "def preprocess_text(text):\n",
    "    if not isinstance(text, str):\n",
    "        return \"\"\n",
    "\n",
    "    text = text.lower()  # Lowercase\n",
    "    text = re.sub(r'http\\S+|www\\S+', '', text)  # Remove URLs\n",
    "    text = re.sub(r'\\d+', '', text)  # Remove digits (optional)\n",
    "    text = re.sub(r'[^\\w\\s]', '', text)  # Remove punctuation\n",
    "    text = re.sub(r'\\s+', ' ', text).strip()  # Normalize whitespace\n",
    "    \n",
    "    # Remove stopwords\n",
    "    tokens = [word for word in text.split() if word not in stop_words]\n",
    "    return \" \".join(tokens)\n",
    "\n",
    "# Example: assume your DataFrame has a 'raw_text' column\n",
    "df['clean_text'] = df['article'].apply(preprocess_text)"
   ]
  },
  {
   "cell_type": "code",
   "execution_count": 2,
   "id": "4b09ae38",
   "metadata": {},
   "outputs": [
    {
     "name": "stderr",
     "output_type": "stream",
     "text": [
      "2025-05-27 21:39:19,350 - BERTopic - Embedding - Transforming documents to embeddings.\n"
     ]
    },
    {
     "data": {
      "application/vnd.jupyter.widget-view+json": {
       "model_id": "99a93decc6f742aaa8a68889a4d6a9f9",
       "version_major": 2,
       "version_minor": 0
      },
      "text/plain": [
       "Batches:   0%|          | 0/157 [00:00<?, ?it/s]"
      ]
     },
     "metadata": {},
     "output_type": "display_data"
    },
    {
     "name": "stderr",
     "output_type": "stream",
     "text": [
      "2025-05-27 21:39:40,400 - BERTopic - Embedding - Completed ✓\n",
      "2025-05-27 21:39:40,401 - BERTopic - Dimensionality - Fitting the dimensionality reduction algorithm\n",
      "2025-05-27 21:39:49,769 - BERTopic - Dimensionality - Completed ✓\n",
      "2025-05-27 21:39:49,770 - BERTopic - Cluster - Start clustering the reduced embeddings\n",
      "2025-05-27 21:39:49,866 - BERTopic - Cluster - Completed ✓\n",
      "2025-05-27 21:39:49,868 - BERTopic - Representation - Fine-tuning topics using representation models.\n",
      "2025-05-27 21:39:50,709 - BERTopic - Representation - Completed ✓\n"
     ]
    },
    {
     "data": {
      "text/html": [
       "<div>\n",
       "<style scoped>\n",
       "    .dataframe tbody tr th:only-of-type {\n",
       "        vertical-align: middle;\n",
       "    }\n",
       "\n",
       "    .dataframe tbody tr th {\n",
       "        vertical-align: top;\n",
       "    }\n",
       "\n",
       "    .dataframe thead th {\n",
       "        text-align: right;\n",
       "    }\n",
       "</style>\n",
       "<table border=\"1\" class=\"dataframe\">\n",
       "  <thead>\n",
       "    <tr style=\"text-align: right;\">\n",
       "      <th></th>\n",
       "      <th>Topic</th>\n",
       "      <th>Count</th>\n",
       "      <th>Name</th>\n",
       "      <th>Representation</th>\n",
       "      <th>Representative_Docs</th>\n",
       "    </tr>\n",
       "  </thead>\n",
       "  <tbody>\n",
       "    <tr>\n",
       "      <th>0</th>\n",
       "      <td>-1</td>\n",
       "      <td>1807</td>\n",
       "      <td>-1_like_people_one_think</td>\n",
       "      <td>[like, people, one, think, said, new, dont, al...</td>\n",
       "      <td>[movie making may changed still relies solid s...</td>\n",
       "    </tr>\n",
       "    <tr>\n",
       "      <th>1</th>\n",
       "      <td>0</td>\n",
       "      <td>186</td>\n",
       "      <td>0_art_artists_museum_work</td>\n",
       "      <td>[art, artists, museum, work, exhibition, artis...</td>\n",
       "      <td>[four years away art scene artist returns work...</td>\n",
       "    </tr>\n",
       "    <tr>\n",
       "      <th>2</th>\n",
       "      <td>1</td>\n",
       "      <td>121</td>\n",
       "      <td>1_climate_water_energy_change</td>\n",
       "      <td>[climate, water, energy, change, emissions, ca...</td>\n",
       "      <td>[donald trump made clear wants revive flagging...</td>\n",
       "    </tr>\n",
       "    <tr>\n",
       "      <th>3</th>\n",
       "      <td>2</td>\n",
       "      <td>120</td>\n",
       "      <td>2_trump_mueller_investigation_fbi</td>\n",
       "      <td>[trump, mueller, investigation, fbi, muellers,...</td>\n",
       "      <td>[washington reuters ouster attorney general je...</td>\n",
       "    </tr>\n",
       "    <tr>\n",
       "      <th>4</th>\n",
       "      <td>3</td>\n",
       "      <td>106</td>\n",
       "      <td>3_music_album_song_songs</td>\n",
       "      <td>[music, album, song, songs, like, band, listen...</td>\n",
       "      <td>[mono wordlessly confronting death nearly two ...</td>\n",
       "    </tr>\n",
       "  </tbody>\n",
       "</table>\n",
       "</div>"
      ],
      "text/plain": [
       "   Topic  Count                               Name  \\\n",
       "0     -1   1807           -1_like_people_one_think   \n",
       "1      0    186          0_art_artists_museum_work   \n",
       "2      1    121      1_climate_water_energy_change   \n",
       "3      2    120  2_trump_mueller_investigation_fbi   \n",
       "4      3    106           3_music_album_song_songs   \n",
       "\n",
       "                                      Representation  \\\n",
       "0  [like, people, one, think, said, new, dont, al...   \n",
       "1  [art, artists, museum, work, exhibition, artis...   \n",
       "2  [climate, water, energy, change, emissions, ca...   \n",
       "3  [trump, mueller, investigation, fbi, muellers,...   \n",
       "4  [music, album, song, songs, like, band, listen...   \n",
       "\n",
       "                                 Representative_Docs  \n",
       "0  [movie making may changed still relies solid s...  \n",
       "1  [four years away art scene artist returns work...  \n",
       "2  [donald trump made clear wants revive flagging...  \n",
       "3  [washington reuters ouster attorney general je...  \n",
       "4  [mono wordlessly confronting death nearly two ...  "
      ]
     },
     "metadata": {},
     "output_type": "display_data"
    }
   ],
   "source": [
    "# Optional: sample for performance (adjust as needed)\n",
    "df_sample = df.sample(n=5000, random_state=42)  # You can increase this\n",
    "\n",
    "# --- Fit BERTopic ---\n",
    "from bertopic import BERTopic\n",
    "\n",
    "topic_model = BERTopic(language=\"english\", verbose=True)\n",
    "topics, probs = topic_model.fit_transform(df_sample[\"clean_text\"].tolist())\n",
    "\n",
    "# --- View top topics ---\n",
    "topic_info = topic_model.get_topic_info()\n",
    "display(topic_info.head())\n",
    "\n",
    "# --- Visualize ---\n",
    "topic_model.visualize_topics()\n",
    "\n",
    "# --- Representative documents ---\n",
    "reps = topic_model.get_representative_docs()\n"
   ]
  },
  {
   "cell_type": "code",
   "execution_count": 3,
   "id": "98bc2f57",
   "metadata": {},
   "outputs": [
    {
     "data": {
      "application/vnd.plotly.v1+json": {
       "config": {
        "plotlyServerURL": "https://plot.ly"
       },
       "data": [
        {
         "marker": {
          "color": "#D55E00"
         },
         "orientation": "h",
         "type": "bar",
         "x": [
          0.013355846939915837,
          0.013363050177695174,
          0.015322310234266391,
          0.017894920275584862,
          0.02748820551180556
         ],
         "xaxis": "x",
         "y": [
          "exhibition  ",
          "work  ",
          "museum  ",
          "artists  ",
          "art  "
         ],
         "yaxis": "y"
        },
        {
         "marker": {
          "color": "#0072B2"
         },
         "orientation": "h",
         "type": "bar",
         "x": [
          0.01049164941285814,
          0.01077616668038118,
          0.010886847370114708,
          0.011450852755356365,
          0.020441579477517072
         ],
         "xaxis": "x2",
         "y": [
          "emissions  ",
          "change  ",
          "energy  ",
          "water  ",
          "climate  "
         ],
         "yaxis": "y2"
        },
        {
         "marker": {
          "color": "#CC79A7"
         },
         "orientation": "h",
         "type": "bar",
         "x": [
          0.015876419682307952,
          0.016609307271143667,
          0.017574556406042253,
          0.022491118101873663,
          0.024723210535096588
         ],
         "xaxis": "x3",
         "y": [
          "muellers  ",
          "fbi  ",
          "investigation  ",
          "mueller  ",
          "trump  "
         ],
         "yaxis": "y3"
        },
        {
         "marker": {
          "color": "#E69F00"
         },
         "orientation": "h",
         "type": "bar",
         "x": [
          0.013147299803978146,
          0.013486315473363401,
          0.016365235709900998,
          0.022787283093140424,
          0.02383141443419192
         ],
         "xaxis": "x4",
         "y": [
          "like  ",
          "songs  ",
          "song  ",
          "album  ",
          "music  "
         ],
         "yaxis": "y4"
        },
        {
         "marker": {
          "color": "#56B4E9"
         },
         "orientation": "h",
         "type": "bar",
         "x": [
          0.02267140439534207,
          0.024962738626489574,
          0.03104972894318336,
          0.03477664804867122,
          0.04722271242429768
         ],
         "xaxis": "x5",
         "y": [
          "tariffs  ",
          "beijing  ",
          "trade  ",
          "chinese  ",
          "china  "
         ],
         "yaxis": "y5"
        },
        {
         "marker": {
          "color": "#009E73"
         },
         "orientation": "h",
         "type": "bar",
         "x": [
          0.014847676718721602,
          0.016631902281103932,
          0.0172888471045312,
          0.01847746754405341,
          0.02137101852199766
         ],
         "xaxis": "x6",
         "y": [
          "bank  ",
          "reuters  ",
          "said  ",
          "company  ",
          "billion  "
         ],
         "yaxis": "y6"
        },
        {
         "marker": {
          "color": "#F0E442"
         },
         "orientation": "h",
         "type": "bar",
         "x": [
          0.01578690250527123,
          0.01699406728517697,
          0.01721017248604073,
          0.017626788480004825,
          0.025465533761925244
         ],
         "xaxis": "x7",
         "y": [
          "medical  ",
          "patients  ",
          "marijuana  ",
          "drugs  ",
          "drug  "
         ],
         "yaxis": "y7"
        },
        {
         "marker": {
          "color": "#D55E00"
         },
         "orientation": "h",
         "type": "bar",
         "x": [
          0.02138253720587498,
          0.022200123830533658,
          0.028670194435935978,
          0.03117399386527034,
          0.03126480460117798
         ],
         "xaxis": "x8",
         "y": [
          "moscow  ",
          "nato  ",
          "putin  ",
          "russia  ",
          "russian  "
         ],
         "yaxis": "y8"
        },
        {
         "marker": {
          "color": "#0072B2"
         },
         "orientation": "h",
         "type": "bar",
         "x": [
          0.017597093188882935,
          0.018054808212072518,
          0.01856624045951003,
          0.020095951369669893,
          0.020973191425731223
         ],
         "xaxis": "x9",
         "y": [
          "looks  ",
          "kardashian  ",
          "night  ",
          "got  ",
          "shes  "
         ],
         "yaxis": "y9"
        },
        {
         "marker": {
          "color": "#CC79A7"
         },
         "orientation": "h",
         "type": "bar",
         "x": [
          0.01565430421234481,
          0.016310866584860438,
          0.021878162062965972,
          0.029422286369922588,
          0.03148474323456136
         ],
         "xaxis": "x10",
         "y": [
          "military  ",
          "forces  ",
          "islamic  ",
          "syrian  ",
          "syria  "
         ],
         "yaxis": "y10"
        }
       ],
       "layout": {
        "annotations": [
         {
          "font": {
           "size": 16
          },
          "showarrow": false,
          "text": "Topic 0",
          "x": 0.0875,
          "xanchor": "center",
          "xref": "paper",
          "y": 1,
          "yanchor": "bottom",
          "yref": "paper"
         },
         {
          "font": {
           "size": 16
          },
          "showarrow": false,
          "text": "Topic 1",
          "x": 0.36250000000000004,
          "xanchor": "center",
          "xref": "paper",
          "y": 1,
          "yanchor": "bottom",
          "yref": "paper"
         },
         {
          "font": {
           "size": 16
          },
          "showarrow": false,
          "text": "Topic 2",
          "x": 0.6375000000000001,
          "xanchor": "center",
          "xref": "paper",
          "y": 1,
          "yanchor": "bottom",
          "yref": "paper"
         },
         {
          "font": {
           "size": 16
          },
          "showarrow": false,
          "text": "Topic 3",
          "x": 0.9125,
          "xanchor": "center",
          "xref": "paper",
          "y": 1,
          "yanchor": "bottom",
          "yref": "paper"
         },
         {
          "font": {
           "size": 16
          },
          "showarrow": false,
          "text": "Topic 4",
          "x": 0.0875,
          "xanchor": "center",
          "xref": "paper",
          "y": 0.6222222222222222,
          "yanchor": "bottom",
          "yref": "paper"
         },
         {
          "font": {
           "size": 16
          },
          "showarrow": false,
          "text": "Topic 5",
          "x": 0.36250000000000004,
          "xanchor": "center",
          "xref": "paper",
          "y": 0.6222222222222222,
          "yanchor": "bottom",
          "yref": "paper"
         },
         {
          "font": {
           "size": 16
          },
          "showarrow": false,
          "text": "Topic 6",
          "x": 0.6375000000000001,
          "xanchor": "center",
          "xref": "paper",
          "y": 0.6222222222222222,
          "yanchor": "bottom",
          "yref": "paper"
         },
         {
          "font": {
           "size": 16
          },
          "showarrow": false,
          "text": "Topic 7",
          "x": 0.9125,
          "xanchor": "center",
          "xref": "paper",
          "y": 0.6222222222222222,
          "yanchor": "bottom",
          "yref": "paper"
         },
         {
          "font": {
           "size": 16
          },
          "showarrow": false,
          "text": "Topic 8",
          "x": 0.0875,
          "xanchor": "center",
          "xref": "paper",
          "y": 0.24444444444444446,
          "yanchor": "bottom",
          "yref": "paper"
         },
         {
          "font": {
           "size": 16
          },
          "showarrow": false,
          "text": "Topic 9",
          "x": 0.36250000000000004,
          "xanchor": "center",
          "xref": "paper",
          "y": 0.24444444444444446,
          "yanchor": "bottom",
          "yref": "paper"
         }
        ],
        "height": 750,
        "hoverlabel": {
         "bgcolor": "white",
         "font": {
          "family": "Rockwell",
          "size": 16
         }
        },
        "showlegend": false,
        "template": {
         "data": {
          "bar": [
           {
            "error_x": {
             "color": "#2a3f5f"
            },
            "error_y": {
             "color": "#2a3f5f"
            },
            "marker": {
             "line": {
              "color": "white",
              "width": 0.5
             },
             "pattern": {
              "fillmode": "overlay",
              "size": 10,
              "solidity": 0.2
             }
            },
            "type": "bar"
           }
          ],
          "barpolar": [
           {
            "marker": {
             "line": {
              "color": "white",
              "width": 0.5
             },
             "pattern": {
              "fillmode": "overlay",
              "size": 10,
              "solidity": 0.2
             }
            },
            "type": "barpolar"
           }
          ],
          "carpet": [
           {
            "aaxis": {
             "endlinecolor": "#2a3f5f",
             "gridcolor": "#C8D4E3",
             "linecolor": "#C8D4E3",
             "minorgridcolor": "#C8D4E3",
             "startlinecolor": "#2a3f5f"
            },
            "baxis": {
             "endlinecolor": "#2a3f5f",
             "gridcolor": "#C8D4E3",
             "linecolor": "#C8D4E3",
             "minorgridcolor": "#C8D4E3",
             "startlinecolor": "#2a3f5f"
            },
            "type": "carpet"
           }
          ],
          "choropleth": [
           {
            "colorbar": {
             "outlinewidth": 0,
             "ticks": ""
            },
            "type": "choropleth"
           }
          ],
          "contour": [
           {
            "colorbar": {
             "outlinewidth": 0,
             "ticks": ""
            },
            "colorscale": [
             [
              0,
              "#0d0887"
             ],
             [
              0.1111111111111111,
              "#46039f"
             ],
             [
              0.2222222222222222,
              "#7201a8"
             ],
             [
              0.3333333333333333,
              "#9c179e"
             ],
             [
              0.4444444444444444,
              "#bd3786"
             ],
             [
              0.5555555555555556,
              "#d8576b"
             ],
             [
              0.6666666666666666,
              "#ed7953"
             ],
             [
              0.7777777777777778,
              "#fb9f3a"
             ],
             [
              0.8888888888888888,
              "#fdca26"
             ],
             [
              1,
              "#f0f921"
             ]
            ],
            "type": "contour"
           }
          ],
          "contourcarpet": [
           {
            "colorbar": {
             "outlinewidth": 0,
             "ticks": ""
            },
            "type": "contourcarpet"
           }
          ],
          "heatmap": [
           {
            "colorbar": {
             "outlinewidth": 0,
             "ticks": ""
            },
            "colorscale": [
             [
              0,
              "#0d0887"
             ],
             [
              0.1111111111111111,
              "#46039f"
             ],
             [
              0.2222222222222222,
              "#7201a8"
             ],
             [
              0.3333333333333333,
              "#9c179e"
             ],
             [
              0.4444444444444444,
              "#bd3786"
             ],
             [
              0.5555555555555556,
              "#d8576b"
             ],
             [
              0.6666666666666666,
              "#ed7953"
             ],
             [
              0.7777777777777778,
              "#fb9f3a"
             ],
             [
              0.8888888888888888,
              "#fdca26"
             ],
             [
              1,
              "#f0f921"
             ]
            ],
            "type": "heatmap"
           }
          ],
          "histogram": [
           {
            "marker": {
             "pattern": {
              "fillmode": "overlay",
              "size": 10,
              "solidity": 0.2
             }
            },
            "type": "histogram"
           }
          ],
          "histogram2d": [
           {
            "colorbar": {
             "outlinewidth": 0,
             "ticks": ""
            },
            "colorscale": [
             [
              0,
              "#0d0887"
             ],
             [
              0.1111111111111111,
              "#46039f"
             ],
             [
              0.2222222222222222,
              "#7201a8"
             ],
             [
              0.3333333333333333,
              "#9c179e"
             ],
             [
              0.4444444444444444,
              "#bd3786"
             ],
             [
              0.5555555555555556,
              "#d8576b"
             ],
             [
              0.6666666666666666,
              "#ed7953"
             ],
             [
              0.7777777777777778,
              "#fb9f3a"
             ],
             [
              0.8888888888888888,
              "#fdca26"
             ],
             [
              1,
              "#f0f921"
             ]
            ],
            "type": "histogram2d"
           }
          ],
          "histogram2dcontour": [
           {
            "colorbar": {
             "outlinewidth": 0,
             "ticks": ""
            },
            "colorscale": [
             [
              0,
              "#0d0887"
             ],
             [
              0.1111111111111111,
              "#46039f"
             ],
             [
              0.2222222222222222,
              "#7201a8"
             ],
             [
              0.3333333333333333,
              "#9c179e"
             ],
             [
              0.4444444444444444,
              "#bd3786"
             ],
             [
              0.5555555555555556,
              "#d8576b"
             ],
             [
              0.6666666666666666,
              "#ed7953"
             ],
             [
              0.7777777777777778,
              "#fb9f3a"
             ],
             [
              0.8888888888888888,
              "#fdca26"
             ],
             [
              1,
              "#f0f921"
             ]
            ],
            "type": "histogram2dcontour"
           }
          ],
          "mesh3d": [
           {
            "colorbar": {
             "outlinewidth": 0,
             "ticks": ""
            },
            "type": "mesh3d"
           }
          ],
          "parcoords": [
           {
            "line": {
             "colorbar": {
              "outlinewidth": 0,
              "ticks": ""
             }
            },
            "type": "parcoords"
           }
          ],
          "pie": [
           {
            "automargin": true,
            "type": "pie"
           }
          ],
          "scatter": [
           {
            "fillpattern": {
             "fillmode": "overlay",
             "size": 10,
             "solidity": 0.2
            },
            "type": "scatter"
           }
          ],
          "scatter3d": [
           {
            "line": {
             "colorbar": {
              "outlinewidth": 0,
              "ticks": ""
             }
            },
            "marker": {
             "colorbar": {
              "outlinewidth": 0,
              "ticks": ""
             }
            },
            "type": "scatter3d"
           }
          ],
          "scattercarpet": [
           {
            "marker": {
             "colorbar": {
              "outlinewidth": 0,
              "ticks": ""
             }
            },
            "type": "scattercarpet"
           }
          ],
          "scattergeo": [
           {
            "marker": {
             "colorbar": {
              "outlinewidth": 0,
              "ticks": ""
             }
            },
            "type": "scattergeo"
           }
          ],
          "scattergl": [
           {
            "marker": {
             "colorbar": {
              "outlinewidth": 0,
              "ticks": ""
             }
            },
            "type": "scattergl"
           }
          ],
          "scattermap": [
           {
            "marker": {
             "colorbar": {
              "outlinewidth": 0,
              "ticks": ""
             }
            },
            "type": "scattermap"
           }
          ],
          "scattermapbox": [
           {
            "marker": {
             "colorbar": {
              "outlinewidth": 0,
              "ticks": ""
             }
            },
            "type": "scattermapbox"
           }
          ],
          "scatterpolar": [
           {
            "marker": {
             "colorbar": {
              "outlinewidth": 0,
              "ticks": ""
             }
            },
            "type": "scatterpolar"
           }
          ],
          "scatterpolargl": [
           {
            "marker": {
             "colorbar": {
              "outlinewidth": 0,
              "ticks": ""
             }
            },
            "type": "scatterpolargl"
           }
          ],
          "scatterternary": [
           {
            "marker": {
             "colorbar": {
              "outlinewidth": 0,
              "ticks": ""
             }
            },
            "type": "scatterternary"
           }
          ],
          "surface": [
           {
            "colorbar": {
             "outlinewidth": 0,
             "ticks": ""
            },
            "colorscale": [
             [
              0,
              "#0d0887"
             ],
             [
              0.1111111111111111,
              "#46039f"
             ],
             [
              0.2222222222222222,
              "#7201a8"
             ],
             [
              0.3333333333333333,
              "#9c179e"
             ],
             [
              0.4444444444444444,
              "#bd3786"
             ],
             [
              0.5555555555555556,
              "#d8576b"
             ],
             [
              0.6666666666666666,
              "#ed7953"
             ],
             [
              0.7777777777777778,
              "#fb9f3a"
             ],
             [
              0.8888888888888888,
              "#fdca26"
             ],
             [
              1,
              "#f0f921"
             ]
            ],
            "type": "surface"
           }
          ],
          "table": [
           {
            "cells": {
             "fill": {
              "color": "#EBF0F8"
             },
             "line": {
              "color": "white"
             }
            },
            "header": {
             "fill": {
              "color": "#C8D4E3"
             },
             "line": {
              "color": "white"
             }
            },
            "type": "table"
           }
          ]
         },
         "layout": {
          "annotationdefaults": {
           "arrowcolor": "#2a3f5f",
           "arrowhead": 0,
           "arrowwidth": 1
          },
          "autotypenumbers": "strict",
          "coloraxis": {
           "colorbar": {
            "outlinewidth": 0,
            "ticks": ""
           }
          },
          "colorscale": {
           "diverging": [
            [
             0,
             "#8e0152"
            ],
            [
             0.1,
             "#c51b7d"
            ],
            [
             0.2,
             "#de77ae"
            ],
            [
             0.3,
             "#f1b6da"
            ],
            [
             0.4,
             "#fde0ef"
            ],
            [
             0.5,
             "#f7f7f7"
            ],
            [
             0.6,
             "#e6f5d0"
            ],
            [
             0.7,
             "#b8e186"
            ],
            [
             0.8,
             "#7fbc41"
            ],
            [
             0.9,
             "#4d9221"
            ],
            [
             1,
             "#276419"
            ]
           ],
           "sequential": [
            [
             0,
             "#0d0887"
            ],
            [
             0.1111111111111111,
             "#46039f"
            ],
            [
             0.2222222222222222,
             "#7201a8"
            ],
            [
             0.3333333333333333,
             "#9c179e"
            ],
            [
             0.4444444444444444,
             "#bd3786"
            ],
            [
             0.5555555555555556,
             "#d8576b"
            ],
            [
             0.6666666666666666,
             "#ed7953"
            ],
            [
             0.7777777777777778,
             "#fb9f3a"
            ],
            [
             0.8888888888888888,
             "#fdca26"
            ],
            [
             1,
             "#f0f921"
            ]
           ],
           "sequentialminus": [
            [
             0,
             "#0d0887"
            ],
            [
             0.1111111111111111,
             "#46039f"
            ],
            [
             0.2222222222222222,
             "#7201a8"
            ],
            [
             0.3333333333333333,
             "#9c179e"
            ],
            [
             0.4444444444444444,
             "#bd3786"
            ],
            [
             0.5555555555555556,
             "#d8576b"
            ],
            [
             0.6666666666666666,
             "#ed7953"
            ],
            [
             0.7777777777777778,
             "#fb9f3a"
            ],
            [
             0.8888888888888888,
             "#fdca26"
            ],
            [
             1,
             "#f0f921"
            ]
           ]
          },
          "colorway": [
           "#636efa",
           "#EF553B",
           "#00cc96",
           "#ab63fa",
           "#FFA15A",
           "#19d3f3",
           "#FF6692",
           "#B6E880",
           "#FF97FF",
           "#FECB52"
          ],
          "font": {
           "color": "#2a3f5f"
          },
          "geo": {
           "bgcolor": "white",
           "lakecolor": "white",
           "landcolor": "white",
           "showlakes": true,
           "showland": true,
           "subunitcolor": "#C8D4E3"
          },
          "hoverlabel": {
           "align": "left"
          },
          "hovermode": "closest",
          "mapbox": {
           "style": "light"
          },
          "paper_bgcolor": "white",
          "plot_bgcolor": "white",
          "polar": {
           "angularaxis": {
            "gridcolor": "#EBF0F8",
            "linecolor": "#EBF0F8",
            "ticks": ""
           },
           "bgcolor": "white",
           "radialaxis": {
            "gridcolor": "#EBF0F8",
            "linecolor": "#EBF0F8",
            "ticks": ""
           }
          },
          "scene": {
           "xaxis": {
            "backgroundcolor": "white",
            "gridcolor": "#DFE8F3",
            "gridwidth": 2,
            "linecolor": "#EBF0F8",
            "showbackground": true,
            "ticks": "",
            "zerolinecolor": "#EBF0F8"
           },
           "yaxis": {
            "backgroundcolor": "white",
            "gridcolor": "#DFE8F3",
            "gridwidth": 2,
            "linecolor": "#EBF0F8",
            "showbackground": true,
            "ticks": "",
            "zerolinecolor": "#EBF0F8"
           },
           "zaxis": {
            "backgroundcolor": "white",
            "gridcolor": "#DFE8F3",
            "gridwidth": 2,
            "linecolor": "#EBF0F8",
            "showbackground": true,
            "ticks": "",
            "zerolinecolor": "#EBF0F8"
           }
          },
          "shapedefaults": {
           "line": {
            "color": "#2a3f5f"
           }
          },
          "ternary": {
           "aaxis": {
            "gridcolor": "#DFE8F3",
            "linecolor": "#A2B1C6",
            "ticks": ""
           },
           "baxis": {
            "gridcolor": "#DFE8F3",
            "linecolor": "#A2B1C6",
            "ticks": ""
           },
           "bgcolor": "white",
           "caxis": {
            "gridcolor": "#DFE8F3",
            "linecolor": "#A2B1C6",
            "ticks": ""
           }
          },
          "title": {
           "x": 0.05
          },
          "xaxis": {
           "automargin": true,
           "gridcolor": "#EBF0F8",
           "linecolor": "#EBF0F8",
           "ticks": "",
           "title": {
            "standoff": 15
           },
           "zerolinecolor": "#EBF0F8",
           "zerolinewidth": 2
          },
          "yaxis": {
           "automargin": true,
           "gridcolor": "#EBF0F8",
           "linecolor": "#EBF0F8",
           "ticks": "",
           "title": {
            "standoff": 15
           },
           "zerolinecolor": "#EBF0F8",
           "zerolinewidth": 2
          }
         }
        },
        "title": {
         "font": {
          "color": "Black",
          "size": 22
         },
         "text": "Topic Word Scores",
         "x": 0.5,
         "xanchor": "center",
         "yanchor": "top"
        },
        "width": 1000,
        "xaxis": {
         "anchor": "y",
         "domain": [
          0,
          0.175
         ],
         "showgrid": true
        },
        "xaxis10": {
         "anchor": "y10",
         "domain": [
          0.275,
          0.45
         ],
         "showgrid": true
        },
        "xaxis11": {
         "anchor": "y11",
         "domain": [
          0.55,
          0.7250000000000001
         ],
         "showgrid": true
        },
        "xaxis12": {
         "anchor": "y12",
         "domain": [
          0.825,
          1
         ],
         "showgrid": true
        },
        "xaxis2": {
         "anchor": "y2",
         "domain": [
          0.275,
          0.45
         ],
         "showgrid": true
        },
        "xaxis3": {
         "anchor": "y3",
         "domain": [
          0.55,
          0.7250000000000001
         ],
         "showgrid": true
        },
        "xaxis4": {
         "anchor": "y4",
         "domain": [
          0.825,
          1
         ],
         "showgrid": true
        },
        "xaxis5": {
         "anchor": "y5",
         "domain": [
          0,
          0.175
         ],
         "showgrid": true
        },
        "xaxis6": {
         "anchor": "y6",
         "domain": [
          0.275,
          0.45
         ],
         "showgrid": true
        },
        "xaxis7": {
         "anchor": "y7",
         "domain": [
          0.55,
          0.7250000000000001
         ],
         "showgrid": true
        },
        "xaxis8": {
         "anchor": "y8",
         "domain": [
          0.825,
          1
         ],
         "showgrid": true
        },
        "xaxis9": {
         "anchor": "y9",
         "domain": [
          0,
          0.175
         ],
         "showgrid": true
        },
        "yaxis": {
         "anchor": "x",
         "domain": [
          0.7555555555555555,
          1
         ],
         "showgrid": true
        },
        "yaxis10": {
         "anchor": "x10",
         "domain": [
          0,
          0.24444444444444446
         ],
         "showgrid": true
        },
        "yaxis11": {
         "anchor": "x11",
         "domain": [
          0,
          0.24444444444444446
         ],
         "showgrid": true
        },
        "yaxis12": {
         "anchor": "x12",
         "domain": [
          0,
          0.24444444444444446
         ],
         "showgrid": true
        },
        "yaxis2": {
         "anchor": "x2",
         "domain": [
          0.7555555555555555,
          1
         ],
         "showgrid": true
        },
        "yaxis3": {
         "anchor": "x3",
         "domain": [
          0.7555555555555555,
          1
         ],
         "showgrid": true
        },
        "yaxis4": {
         "anchor": "x4",
         "domain": [
          0.7555555555555555,
          1
         ],
         "showgrid": true
        },
        "yaxis5": {
         "anchor": "x5",
         "domain": [
          0.37777777777777777,
          0.6222222222222222
         ],
         "showgrid": true
        },
        "yaxis6": {
         "anchor": "x6",
         "domain": [
          0.37777777777777777,
          0.6222222222222222
         ],
         "showgrid": true
        },
        "yaxis7": {
         "anchor": "x7",
         "domain": [
          0.37777777777777777,
          0.6222222222222222
         ],
         "showgrid": true
        },
        "yaxis8": {
         "anchor": "x8",
         "domain": [
          0.37777777777777777,
          0.6222222222222222
         ],
         "showgrid": true
        },
        "yaxis9": {
         "anchor": "x9",
         "domain": [
          0,
          0.24444444444444446
         ],
         "showgrid": true
        }
       }
      }
     },
     "metadata": {},
     "output_type": "display_data"
    }
   ],
   "source": [
    "topic_model.visualize_barchart(top_n_topics=10)"
   ]
  },
  {
   "cell_type": "code",
   "execution_count": 4,
   "id": "be4d8ef5",
   "metadata": {},
   "outputs": [
    {
     "data": {
      "application/vnd.plotly.v1+json": {
       "config": {
        "plotlyServerURL": "https://plot.ly"
       },
       "data": [
        {
         "coloraxis": "coloraxis",
         "hovertemplate": "x: %{x}<br>y: %{y}<br>Similarity Score: %{z}<extra></extra>",
         "name": "0",
         "type": "heatmap",
         "x": [
          "0_art_artists_museum",
          "1_climate_water_energy",
          "2_trump_mueller_investigation",
          "3_music_album_song",
          "4_china_chinese_trade",
          "5_billion_company_said",
          "6_drug_drugs_marijuana",
          "7_russian_russia_putin",
          "8_shes_got_night",
          "9_syria_syrian_islamic",
          "10_brexit_eu_deal",
          "11_north_korea_kim",
          "12_nfl_kaepernick_football",
          "13_cops_tmz_arrest",
          "14_fed_rate_dollar",
          "15_tax_bill_republicans",
          "16_health_care_obamacare",
          "17_sauce_rice_food",
          "18_facebook_zuckerberg_users",
          "19_democrats_republican_dem...",
          "20_games_game_gif",
          "21_expandable_icon_navigation",
          "22_oil_crude_barrels",
          "23_biden_trump_clinton",
          "24_season_episode_show",
          "25_iran_iranian_nuclear",
          "26_gun_guns_shooting",
          "27_pakistan_myanmar_rohingya",
          "28_book_jeanne_feminism",
          "29_sanders_clinton_democratic",
          "30_uber_drivers_lyft",
          "31_black_white_students",
          "32_netflix_streaming_amazon",
          "33_conor_fight_mcgregor",
          "34_saudi_arabia_prince",
          "35_snap_snapchat_company",
          "36_police_officers_maloney",
          "37_moon_today_sign",
          "38_court_supreme_justice",
          "39_border_immigration_child...",
          "40_maduro_venezuela_venezue...",
          "41_abortion_parenthood_birth",
          "42_european_eu_party",
          "43_mexico_mexican_migrants",
          "44_film_films_movie",
          "45_vaccine_bacteria_disease",
          "46_migrants_greece_africa",
          "47_sentences_vox_inbox",
          "48_faa_boeing_aircraft",
          "49_tesla_car_cars",
          "50_food_fiber_foods",
          "51_yankees_homer_baseball",
          "52_galaxy_iphone_apple",
          "53_daca_immigration_shutdown",
          "54_puerto_rico_cuba",
          "55_israel_israeli_palestinian",
          "56_film_movie_films",
          "57_attacks_attack_police",
          "58_transgender_military_ser...",
          "59_ufc_fight_mma",
          "60_heres_justin_bieber",
          "61_think_lab_information",
          "62_anthony_nba_team",
          "63_nba_lavar_knicks",
          "64_obama_racial_voters",
          "65_kelly_kellys_child",
          "66_amazon_mall_sales",
          "67_banks_uk_bank",
          "68_weinstein_sex_swift",
          "69_cup_ponting_england",
          "70_podcast_viceland_vice",
          "71_teachers_school_schools",
          "72_productivity_software_wo...",
          "73_apache_cosme_city",
          "74_leave_autism_paid",
          "75_queer_gay_garage",
          "76_bolsonaro_brazils_guedes",
          "77_died_death_doris",
          "78_daniels_trump_cohen",
          "79_spacey_rapp_spaceys",
          "80_ecb_inflation_economy",
          "81_kanye_kanyes_yeezy",
          "82_tennis_wimbledon_match",
          "83_whisky_beer_quebec",
          "84_moore_alabama_moores",
          "85_olympic_athletes_olympics",
          "86_nectar_advertise_hyperal...",
          "87_media_coverage_memes",
          "88_fcc_neutrality_pai",
          "89_motherboard_password_data",
          "90_gallery_january_added",
          "91_drake_wayne_song"
         ],
         "xaxis": "x",
         "y": [
          "0_art_artists_museum",
          "1_climate_water_energy",
          "2_trump_mueller_investigation",
          "3_music_album_song",
          "4_china_chinese_trade",
          "5_billion_company_said",
          "6_drug_drugs_marijuana",
          "7_russian_russia_putin",
          "8_shes_got_night",
          "9_syria_syrian_islamic",
          "10_brexit_eu_deal",
          "11_north_korea_kim",
          "12_nfl_kaepernick_football",
          "13_cops_tmz_arrest",
          "14_fed_rate_dollar",
          "15_tax_bill_republicans",
          "16_health_care_obamacare",
          "17_sauce_rice_food",
          "18_facebook_zuckerberg_users",
          "19_democrats_republican_dem...",
          "20_games_game_gif",
          "21_expandable_icon_navigation",
          "22_oil_crude_barrels",
          "23_biden_trump_clinton",
          "24_season_episode_show",
          "25_iran_iranian_nuclear",
          "26_gun_guns_shooting",
          "27_pakistan_myanmar_rohingya",
          "28_book_jeanne_feminism",
          "29_sanders_clinton_democratic",
          "30_uber_drivers_lyft",
          "31_black_white_students",
          "32_netflix_streaming_amazon",
          "33_conor_fight_mcgregor",
          "34_saudi_arabia_prince",
          "35_snap_snapchat_company",
          "36_police_officers_maloney",
          "37_moon_today_sign",
          "38_court_supreme_justice",
          "39_border_immigration_child...",
          "40_maduro_venezuela_venezue...",
          "41_abortion_parenthood_birth",
          "42_european_eu_party",
          "43_mexico_mexican_migrants",
          "44_film_films_movie",
          "45_vaccine_bacteria_disease",
          "46_migrants_greece_africa",
          "47_sentences_vox_inbox",
          "48_faa_boeing_aircraft",
          "49_tesla_car_cars",
          "50_food_fiber_foods",
          "51_yankees_homer_baseball",
          "52_galaxy_iphone_apple",
          "53_daca_immigration_shutdown",
          "54_puerto_rico_cuba",
          "55_israel_israeli_palestinian",
          "56_film_movie_films",
          "57_attacks_attack_police",
          "58_transgender_military_ser...",
          "59_ufc_fight_mma",
          "60_heres_justin_bieber",
          "61_think_lab_information",
          "62_anthony_nba_team",
          "63_nba_lavar_knicks",
          "64_obama_racial_voters",
          "65_kelly_kellys_child",
          "66_amazon_mall_sales",
          "67_banks_uk_bank",
          "68_weinstein_sex_swift",
          "69_cup_ponting_england",
          "70_podcast_viceland_vice",
          "71_teachers_school_schools",
          "72_productivity_software_wo...",
          "73_apache_cosme_city",
          "74_leave_autism_paid",
          "75_queer_gay_garage",
          "76_bolsonaro_brazils_guedes",
          "77_died_death_doris",
          "78_daniels_trump_cohen",
          "79_spacey_rapp_spaceys",
          "80_ecb_inflation_economy",
          "81_kanye_kanyes_yeezy",
          "82_tennis_wimbledon_match",
          "83_whisky_beer_quebec",
          "84_moore_alabama_moores",
          "85_olympic_athletes_olympics",
          "86_nectar_advertise_hyperal...",
          "87_media_coverage_memes",
          "88_fcc_neutrality_pai",
          "89_motherboard_password_data",
          "90_gallery_january_added",
          "91_drake_wayne_song"
         ],
         "yaxis": "y",
         "z": {
          "bdata": "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",
          "dtype": "f4",
          "shape": "92, 92"
         }
        }
       ],
       "layout": {
        "coloraxis": {
         "colorbar": {
          "title": {
           "text": "Similarity Score"
          }
         },
         "colorscale": [
          [
           0,
           "rgb(247,252,240)"
          ],
          [
           0.125,
           "rgb(224,243,219)"
          ],
          [
           0.25,
           "rgb(204,235,197)"
          ],
          [
           0.375,
           "rgb(168,221,181)"
          ],
          [
           0.5,
           "rgb(123,204,196)"
          ],
          [
           0.625,
           "rgb(78,179,211)"
          ],
          [
           0.75,
           "rgb(43,140,190)"
          ],
          [
           0.875,
           "rgb(8,104,172)"
          ],
          [
           1,
           "rgb(8,64,129)"
          ]
         ]
        },
        "height": 800,
        "hoverlabel": {
         "bgcolor": "white",
         "font": {
          "family": "Rockwell",
          "size": 16
         }
        },
        "legend": {
         "title": {
          "text": "Trend"
         }
        },
        "margin": {
         "t": 60
        },
        "showlegend": true,
        "template": {
         "data": {
          "bar": [
           {
            "error_x": {
             "color": "#2a3f5f"
            },
            "error_y": {
             "color": "#2a3f5f"
            },
            "marker": {
             "line": {
              "color": "#E5ECF6",
              "width": 0.5
             },
             "pattern": {
              "fillmode": "overlay",
              "size": 10,
              "solidity": 0.2
             }
            },
            "type": "bar"
           }
          ],
          "barpolar": [
           {
            "marker": {
             "line": {
              "color": "#E5ECF6",
              "width": 0.5
             },
             "pattern": {
              "fillmode": "overlay",
              "size": 10,
              "solidity": 0.2
             }
            },
            "type": "barpolar"
           }
          ],
          "carpet": [
           {
            "aaxis": {
             "endlinecolor": "#2a3f5f",
             "gridcolor": "white",
             "linecolor": "white",
             "minorgridcolor": "white",
             "startlinecolor": "#2a3f5f"
            },
            "baxis": {
             "endlinecolor": "#2a3f5f",
             "gridcolor": "white",
             "linecolor": "white",
             "minorgridcolor": "white",
             "startlinecolor": "#2a3f5f"
            },
            "type": "carpet"
           }
          ],
          "choropleth": [
           {
            "colorbar": {
             "outlinewidth": 0,
             "ticks": ""
            },
            "type": "choropleth"
           }
          ],
          "contour": [
           {
            "colorbar": {
             "outlinewidth": 0,
             "ticks": ""
            },
            "colorscale": [
             [
              0,
              "#0d0887"
             ],
             [
              0.1111111111111111,
              "#46039f"
             ],
             [
              0.2222222222222222,
              "#7201a8"
             ],
             [
              0.3333333333333333,
              "#9c179e"
             ],
             [
              0.4444444444444444,
              "#bd3786"
             ],
             [
              0.5555555555555556,
              "#d8576b"
             ],
             [
              0.6666666666666666,
              "#ed7953"
             ],
             [
              0.7777777777777778,
              "#fb9f3a"
             ],
             [
              0.8888888888888888,
              "#fdca26"
             ],
             [
              1,
              "#f0f921"
             ]
            ],
            "type": "contour"
           }
          ],
          "contourcarpet": [
           {
            "colorbar": {
             "outlinewidth": 0,
             "ticks": ""
            },
            "type": "contourcarpet"
           }
          ],
          "heatmap": [
           {
            "colorbar": {
             "outlinewidth": 0,
             "ticks": ""
            },
            "colorscale": [
             [
              0,
              "#0d0887"
             ],
             [
              0.1111111111111111,
              "#46039f"
             ],
             [
              0.2222222222222222,
              "#7201a8"
             ],
             [
              0.3333333333333333,
              "#9c179e"
             ],
             [
              0.4444444444444444,
              "#bd3786"
             ],
             [
              0.5555555555555556,
              "#d8576b"
             ],
             [
              0.6666666666666666,
              "#ed7953"
             ],
             [
              0.7777777777777778,
              "#fb9f3a"
             ],
             [
              0.8888888888888888,
              "#fdca26"
             ],
             [
              1,
              "#f0f921"
             ]
            ],
            "type": "heatmap"
           }
          ],
          "histogram": [
           {
            "marker": {
             "pattern": {
              "fillmode": "overlay",
              "size": 10,
              "solidity": 0.2
             }
            },
            "type": "histogram"
           }
          ],
          "histogram2d": [
           {
            "colorbar": {
             "outlinewidth": 0,
             "ticks": ""
            },
            "colorscale": [
             [
              0,
              "#0d0887"
             ],
             [
              0.1111111111111111,
              "#46039f"
             ],
             [
              0.2222222222222222,
              "#7201a8"
             ],
             [
              0.3333333333333333,
              "#9c179e"
             ],
             [
              0.4444444444444444,
              "#bd3786"
             ],
             [
              0.5555555555555556,
              "#d8576b"
             ],
             [
              0.6666666666666666,
              "#ed7953"
             ],
             [
              0.7777777777777778,
              "#fb9f3a"
             ],
             [
              0.8888888888888888,
              "#fdca26"
             ],
             [
              1,
              "#f0f921"
             ]
            ],
            "type": "histogram2d"
           }
          ],
          "histogram2dcontour": [
           {
            "colorbar": {
             "outlinewidth": 0,
             "ticks": ""
            },
            "colorscale": [
             [
              0,
              "#0d0887"
             ],
             [
              0.1111111111111111,
              "#46039f"
             ],
             [
              0.2222222222222222,
              "#7201a8"
             ],
             [
              0.3333333333333333,
              "#9c179e"
             ],
             [
              0.4444444444444444,
              "#bd3786"
             ],
             [
              0.5555555555555556,
              "#d8576b"
             ],
             [
              0.6666666666666666,
              "#ed7953"
             ],
             [
              0.7777777777777778,
              "#fb9f3a"
             ],
             [
              0.8888888888888888,
              "#fdca26"
             ],
             [
              1,
              "#f0f921"
             ]
            ],
            "type": "histogram2dcontour"
           }
          ],
          "mesh3d": [
           {
            "colorbar": {
             "outlinewidth": 0,
             "ticks": ""
            },
            "type": "mesh3d"
           }
          ],
          "parcoords": [
           {
            "line": {
             "colorbar": {
              "outlinewidth": 0,
              "ticks": ""
             }
            },
            "type": "parcoords"
           }
          ],
          "pie": [
           {
            "automargin": true,
            "type": "pie"
           }
          ],
          "scatter": [
           {
            "fillpattern": {
             "fillmode": "overlay",
             "size": 10,
             "solidity": 0.2
            },
            "type": "scatter"
           }
          ],
          "scatter3d": [
           {
            "line": {
             "colorbar": {
              "outlinewidth": 0,
              "ticks": ""
             }
            },
            "marker": {
             "colorbar": {
              "outlinewidth": 0,
              "ticks": ""
             }
            },
            "type": "scatter3d"
           }
          ],
          "scattercarpet": [
           {
            "marker": {
             "colorbar": {
              "outlinewidth": 0,
              "ticks": ""
             }
            },
            "type": "scattercarpet"
           }
          ],
          "scattergeo": [
           {
            "marker": {
             "colorbar": {
              "outlinewidth": 0,
              "ticks": ""
             }
            },
            "type": "scattergeo"
           }
          ],
          "scattergl": [
           {
            "marker": {
             "colorbar": {
              "outlinewidth": 0,
              "ticks": ""
             }
            },
            "type": "scattergl"
           }
          ],
          "scattermap": [
           {
            "marker": {
             "colorbar": {
              "outlinewidth": 0,
              "ticks": ""
             }
            },
            "type": "scattermap"
           }
          ],
          "scattermapbox": [
           {
            "marker": {
             "colorbar": {
              "outlinewidth": 0,
              "ticks": ""
             }
            },
            "type": "scattermapbox"
           }
          ],
          "scatterpolar": [
           {
            "marker": {
             "colorbar": {
              "outlinewidth": 0,
              "ticks": ""
             }
            },
            "type": "scatterpolar"
           }
          ],
          "scatterpolargl": [
           {
            "marker": {
             "colorbar": {
              "outlinewidth": 0,
              "ticks": ""
             }
            },
            "type": "scatterpolargl"
           }
          ],
          "scatterternary": [
           {
            "marker": {
             "colorbar": {
              "outlinewidth": 0,
              "ticks": ""
             }
            },
            "type": "scatterternary"
           }
          ],
          "surface": [
           {
            "colorbar": {
             "outlinewidth": 0,
             "ticks": ""
            },
            "colorscale": [
             [
              0,
              "#0d0887"
             ],
             [
              0.1111111111111111,
              "#46039f"
             ],
             [
              0.2222222222222222,
              "#7201a8"
             ],
             [
              0.3333333333333333,
              "#9c179e"
             ],
             [
              0.4444444444444444,
              "#bd3786"
             ],
             [
              0.5555555555555556,
              "#d8576b"
             ],
             [
              0.6666666666666666,
              "#ed7953"
             ],
             [
              0.7777777777777778,
              "#fb9f3a"
             ],
             [
              0.8888888888888888,
              "#fdca26"
             ],
             [
              1,
              "#f0f921"
             ]
            ],
            "type": "surface"
           }
          ],
          "table": [
           {
            "cells": {
             "fill": {
              "color": "#EBF0F8"
             },
             "line": {
              "color": "white"
             }
            },
            "header": {
             "fill": {
              "color": "#C8D4E3"
             },
             "line": {
              "color": "white"
             }
            },
            "type": "table"
           }
          ]
         },
         "layout": {
          "annotationdefaults": {
           "arrowcolor": "#2a3f5f",
           "arrowhead": 0,
           "arrowwidth": 1
          },
          "autotypenumbers": "strict",
          "coloraxis": {
           "colorbar": {
            "outlinewidth": 0,
            "ticks": ""
           }
          },
          "colorscale": {
           "diverging": [
            [
             0,
             "#8e0152"
            ],
            [
             0.1,
             "#c51b7d"
            ],
            [
             0.2,
             "#de77ae"
            ],
            [
             0.3,
             "#f1b6da"
            ],
            [
             0.4,
             "#fde0ef"
            ],
            [
             0.5,
             "#f7f7f7"
            ],
            [
             0.6,
             "#e6f5d0"
            ],
            [
             0.7,
             "#b8e186"
            ],
            [
             0.8,
             "#7fbc41"
            ],
            [
             0.9,
             "#4d9221"
            ],
            [
             1,
             "#276419"
            ]
           ],
           "sequential": [
            [
             0,
             "#0d0887"
            ],
            [
             0.1111111111111111,
             "#46039f"
            ],
            [
             0.2222222222222222,
             "#7201a8"
            ],
            [
             0.3333333333333333,
             "#9c179e"
            ],
            [
             0.4444444444444444,
             "#bd3786"
            ],
            [
             0.5555555555555556,
             "#d8576b"
            ],
            [
             0.6666666666666666,
             "#ed7953"
            ],
            [
             0.7777777777777778,
             "#fb9f3a"
            ],
            [
             0.8888888888888888,
             "#fdca26"
            ],
            [
             1,
             "#f0f921"
            ]
           ],
           "sequentialminus": [
            [
             0,
             "#0d0887"
            ],
            [
             0.1111111111111111,
             "#46039f"
            ],
            [
             0.2222222222222222,
             "#7201a8"
            ],
            [
             0.3333333333333333,
             "#9c179e"
            ],
            [
             0.4444444444444444,
             "#bd3786"
            ],
            [
             0.5555555555555556,
             "#d8576b"
            ],
            [
             0.6666666666666666,
             "#ed7953"
            ],
            [
             0.7777777777777778,
             "#fb9f3a"
            ],
            [
             0.8888888888888888,
             "#fdca26"
            ],
            [
             1,
             "#f0f921"
            ]
           ]
          },
          "colorway": [
           "#636efa",
           "#EF553B",
           "#00cc96",
           "#ab63fa",
           "#FFA15A",
           "#19d3f3",
           "#FF6692",
           "#B6E880",
           "#FF97FF",
           "#FECB52"
          ],
          "font": {
           "color": "#2a3f5f"
          },
          "geo": {
           "bgcolor": "white",
           "lakecolor": "white",
           "landcolor": "#E5ECF6",
           "showlakes": true,
           "showland": true,
           "subunitcolor": "white"
          },
          "hoverlabel": {
           "align": "left"
          },
          "hovermode": "closest",
          "mapbox": {
           "style": "light"
          },
          "paper_bgcolor": "white",
          "plot_bgcolor": "#E5ECF6",
          "polar": {
           "angularaxis": {
            "gridcolor": "white",
            "linecolor": "white",
            "ticks": ""
           },
           "bgcolor": "#E5ECF6",
           "radialaxis": {
            "gridcolor": "white",
            "linecolor": "white",
            "ticks": ""
           }
          },
          "scene": {
           "xaxis": {
            "backgroundcolor": "#E5ECF6",
            "gridcolor": "white",
            "gridwidth": 2,
            "linecolor": "white",
            "showbackground": true,
            "ticks": "",
            "zerolinecolor": "white"
           },
           "yaxis": {
            "backgroundcolor": "#E5ECF6",
            "gridcolor": "white",
            "gridwidth": 2,
            "linecolor": "white",
            "showbackground": true,
            "ticks": "",
            "zerolinecolor": "white"
           },
           "zaxis": {
            "backgroundcolor": "#E5ECF6",
            "gridcolor": "white",
            "gridwidth": 2,
            "linecolor": "white",
            "showbackground": true,
            "ticks": "",
            "zerolinecolor": "white"
           }
          },
          "shapedefaults": {
           "line": {
            "color": "#2a3f5f"
           }
          },
          "ternary": {
           "aaxis": {
            "gridcolor": "white",
            "linecolor": "white",
            "ticks": ""
           },
           "baxis": {
            "gridcolor": "white",
            "linecolor": "white",
            "ticks": ""
           },
           "bgcolor": "#E5ECF6",
           "caxis": {
            "gridcolor": "white",
            "linecolor": "white",
            "ticks": ""
           }
          },
          "title": {
           "x": 0.05
          },
          "xaxis": {
           "automargin": true,
           "gridcolor": "white",
           "linecolor": "white",
           "ticks": "",
           "title": {
            "standoff": 15
           },
           "zerolinecolor": "white",
           "zerolinewidth": 2
          },
          "yaxis": {
           "automargin": true,
           "gridcolor": "white",
           "linecolor": "white",
           "ticks": "",
           "title": {
            "standoff": 15
           },
           "zerolinecolor": "white",
           "zerolinewidth": 2
          }
         }
        },
        "title": {
         "font": {
          "color": "Black",
          "size": 22
         },
         "text": "<b>Similarity Matrix</b>",
         "x": 0.55,
         "xanchor": "center",
         "y": 0.95,
         "yanchor": "top"
        },
        "width": 800,
        "xaxis": {
         "anchor": "y",
         "constrain": "domain",
         "domain": [
          0,
          1
         ],
         "scaleanchor": "y"
        },
        "yaxis": {
         "anchor": "x",
         "autorange": "reversed",
         "constrain": "domain",
         "domain": [
          0,
          1
         ]
        }
       }
      }
     },
     "metadata": {},
     "output_type": "display_data"
    }
   ],
   "source": [
    "topic_model.visualize_heatmap()"
   ]
  },
  {
   "cell_type": "code",
   "execution_count": 5,
   "id": "7137ffe4",
   "metadata": {},
   "outputs": [
    {
     "data": {
      "application/vnd.plotly.v1+json": {
       "config": {
        "plotlyServerURL": "https://plot.ly"
       },
       "data": [
        {
         "hovertext": "<b>Topic -1</b>:like_people_one_think_said_new_don",
         "line": {
          "color": "black",
          "width": 1.5
         },
         "mode": "lines+lines",
         "name": "",
         "opacity": 0.1,
         "type": "scatter",
         "x": {
          "bdata": "AQIDBAUGBwgJCg==",
          "dtype": "i1"
         },
         "y": {
          "bdata": "z6pZgOkkfT/VTksMaLN5P3U27xdl13g/g2U05HL/dj+KYP25pxN2P8jOtsV/unQ/YdSdmj+lcz9cPUfdCYpzP5/q78YRaXM//cN/6sc6cz8=",
          "dtype": "f8"
         }
        },
        {
         "hovertext": "<b>Topic 0</b>:art_artists_museum_work_exhibition_",
         "line": {
          "color": "black",
          "width": 1.5
         },
         "mode": "lines+lines",
         "name": "",
         "opacity": 0.1,
         "type": "scatter",
         "x": {
          "bdata": "AQIDBAUGBwgJCg==",
          "dtype": "i1"
         },
         "y": {
          "bdata": "ybTLPt4lnD8uhWTFC1OSP6G816pNYY8/nXDnOxZeiz8s34luT1qLP4pZM0cxvoo/UdfxF9PRhT+sbsH4zSKFPwJTPtkvjYQ/9rTnrr/Tgz8=",
          "dtype": "f8"
         }
        },
        {
         "hovertext": "<b>Topic 1</b>:climate_water_energy_change_emissio",
         "line": {
          "color": "black",
          "width": 1.5
         },
         "mode": "lines+lines",
         "name": "",
         "opacity": 0.1,
         "type": "scatter",
         "x": {
          "bdata": "AQIDBAUGBwgJCg==",
          "dtype": "i1"
         },
         "y": {
          "bdata": "kYxWLaPulD+suMNwi3OHPwgcSuvXS4Y/hXO/m9ARhj/n5N9YpXyFP92hs7VbUoM/+n3F10/1gj9KKQQeNLKCP982L05m9n4/xdzZjkI8fj8=",
          "dtype": "f8"
         }
        },
        {
         "hovertext": "<b>Topic 2</b>:trump_mueller_investigation_fbi_mue",
         "line": {
          "color": "black",
          "width": 1.5
         },
         "mode": "lines+lines",
         "name": "",
         "opacity": 0.1,
         "type": "scatter",
         "x": {
          "bdata": "AQIDBAUGBwgJCg==",
          "dtype": "i1"
         },
         "y": {
          "bdata": "1CvNkgpRmT8Dxspi6QeXP2rLBYQQ/5E/LLUnvgcCkT/tmEB96EGQP/WVCM3/OJA/YrgcoJbXjD+AjgBQ8EuMP4v0UjA1PYw/fFNFAc2yiz8=",
          "dtype": "f8"
         }
        },
        {
         "hovertext": "<b>Topic 3</b>:music_album_song_songs_like_band_li",
         "line": {
          "color": "black",
          "width": 1.5
         },
         "mode": "lines+lines",
         "name": "",
         "opacity": 0.1,
         "type": "scatter",
         "x": {
          "bdata": "AQIDBAUGBwgJCg==",
          "dtype": "i1"
         },
         "y": {
          "bdata": "pvhyJkNnmD9OU5mujFWXPx5TqWAMwpA/L4w2n7aeiz8WpoK1+OyKP92LJSc4CIc/rZKkrcGrhj/16VNkSaOEP4Qo/cG0x4A/yHPWquCfgD8=",
          "dtype": "f8"
         }
        },
        {
         "hovertext": "<b>Topic 4</b>:china_chinese_trade_beijing_tariffs",
         "line": {
          "color": "black",
          "width": 1.5
         },
         "mode": "lines+lines",
         "name": "",
         "opacity": 0.1,
         "type": "scatter",
         "x": {
          "bdata": "AQIDBAUGBwgJCg==",
          "dtype": "i1"
         },
         "y": {
          "bdata": "ZEb7SpMtqD/TLBGsPs6hP99KcQmAy58/YtUTCNWPmT8Yw7oxLDeXP63Yyw2VLpY/v4XDe0gmlj9IwNcKMPCUP3o7KzLMkZA/EnXXe3qDkD8=",
          "dtype": "f8"
         }
        },
        {
         "hovertext": "<b>Topic 5</b>:billion_company_said_reuters_bank_t",
         "line": {
          "color": "black",
          "width": 1.5
         },
         "mode": "lines+lines",
         "name": "",
         "opacity": 0.1,
         "type": "scatter",
         "x": {
          "bdata": "AQIDBAUGBwgJCg==",
          "dtype": "i1"
         },
         "y": {
          "bdata": "KGmJxkjilT9YKULbweuSPwwYmeMqtJE/i254EfQHkT8ZjG1vdWiOP2i7HrMsT4w/YeuWz96biz8aWfg0gs2KP1gz5xkW2ok/6pf+RSOYiT8=",
          "dtype": "f8"
         }
        },
        {
         "hovertext": "<b>Topic 6</b>:drug_drugs_marijuana_patients_medic",
         "line": {
          "color": "black",
          "width": 1.5
         },
         "mode": "lines+lines",
         "name": "",
         "opacity": 0.1,
         "type": "scatter",
         "x": {
          "bdata": "AQIDBAUGBwgJCg==",
          "dtype": "i1"
         },
         "y": {
          "bdata": "VAm7CqMTmj8SdDjAwQySP8C68R+Ln5E/CQrdjORmkT93ctwXcSqQPzXwmIchZI4/LlYT46AuhT+E9YQDVkKEP2qLaIxD1oM/Rj8cAOZwgz8=",
          "dtype": "f8"
         }
        },
        {
         "hovertext": "<b>Topic 7</b>:russian_russia_putin_nato_moscow_tr",
         "line": {
          "color": "black",
          "width": 1.5
         },
         "mode": "lines+lines",
         "name": "",
         "opacity": 0.1,
         "type": "scatter",
         "x": {
          "bdata": "AQIDBAUGBwgJCg==",
          "dtype": "i1"
         },
         "y": {
          "bdata": "kUeOwvABoD9oVIxQE+yfPzyk4y24W50/kPRGF6G7lj+V2QTITeWVP3IYNBBcVZQ/yfg+PTWIkD/oCDWigk+NP/AG67E7kos/Jxmu1GXZij8=",
          "dtype": "f8"
         }
        },
        {
         "hovertext": "<b>Topic 8</b>:shes_got_night_kardashian_looks_tom",
         "line": {
          "color": "black",
          "width": 1.5
         },
         "mode": "lines+lines",
         "name": "",
         "opacity": 0.1,
         "type": "scatter",
         "x": {
          "bdata": "AQIDBAUGBwgJCg==",
          "dtype": "i1"
         },
         "y": {
          "bdata": "TqcQDf95lT88sah3CJSUPxlEVU4HA5M/5ME5q/V8kj9F8ADv+ASSPzu4uV3QPJA/aeh6tLYSjj8mUUFEU5ONPxL2YU/oioo/7uXr7GQaij8=",
          "dtype": "f8"
         }
        },
        {
         "hovertext": "<b>Topic 9</b>:syria_syrian_islamic_forces_militar",
         "line": {
          "color": "black",
          "width": 1.5
         },
         "mode": "lines+lines",
         "name": "",
         "opacity": 0.1,
         "type": "scatter",
         "x": {
          "bdata": "AQIDBAUGBwgJCg==",
          "dtype": "i1"
         },
         "y": {
          "bdata": "SeIHrcQeoD/Z8O024CCePzhlOpo6Z5Y/1qA0usuzkD8e3YiSrgeQP2cv5G8id48/qNqW8KAojj+RAWlB972LP0+dL4C5p4o/+Pe+y3zHiT8=",
          "dtype": "f8"
         }
        },
        {
         "hovertext": "<b>Topic 10</b>:brexit_eu_deal_parliament_minister",
         "line": {
          "color": "black",
          "width": 1.5
         },
         "mode": "lines+lines",
         "name": "",
         "opacity": 0.1,
         "type": "scatter",
         "x": {
          "bdata": "AQIDBAUGBwgJCg==",
          "dtype": "i1"
         },
         "y": {
          "bdata": "MTOxOjyWsj9zTzUKFPuqP3dGpUX1naM/YSTucnWtoj+sq390RPudP7HTiFlcDZs/ZOdtdcvXmj+UALwIQO2ZPw0aw+mY6Zk/ahA69IR6mT8=",
          "dtype": "f8"
         }
        },
        {
         "hovertext": "<b>Topic 11</b>:north_korea_kim_korean_nuclear_kor",
         "line": {
          "color": "black",
          "width": 1.5
         },
         "mode": "lines+lines",
         "name": "",
         "opacity": 0.1,
         "type": "scatter",
         "x": {
          "bdata": "AQIDBAUGBwgJCg==",
          "dtype": "i1"
         },
         "y": {
          "bdata": "09w3QNTBsz+s4zjLlTqxP2xG/ceO9Kc/d9aKx8Ufpj8Deq81mGmjP5Xp+APQR5w/MhKsW8oLnD9QaBvzCj+XP8yAiCByhJY//PgojeRvkj8=",
          "dtype": "f8"
         }
        },
        {
         "hovertext": "<b>Topic 12</b>:nfl_kaepernick_football_players_ga",
         "line": {
          "color": "black",
          "width": 1.5
         },
         "mode": "lines+lines",
         "name": "",
         "opacity": 0.1,
         "type": "scatter",
         "x": {
          "bdata": "AQIDBAUGBwgJCg==",
          "dtype": "i1"
         },
         "y": {
          "bdata": "DceJx1Ydrj+gJoKF50SePyxDXSXQ4po/I13fIF5Smj8zVUMKXCmVP+EK/R1wxY4/3GgkQArpjT/kEuRX1JqMPwHGl76Ekow/f3co2WU/jD8=",
          "dtype": "f8"
         }
        },
        {
         "hovertext": "<b>Topic 13</b>:cops_tmz_arrest_arrested_allegedly",
         "line": {
          "color": "black",
          "width": 1.5
         },
         "mode": "lines+lines",
         "name": "",
         "opacity": 0.1,
         "type": "scatter",
         "x": {
          "bdata": "AQIDBAUGBwgJCg==",
          "dtype": "i1"
         },
         "y": {
          "bdata": "opix3ji6pj9Z9cxEZQugP3Joq5Jmi5w/8ixha2K3mD8iXxD/JWKUP+sHT242EZM/5o8OSAFUkj+zybOY4o2RP5+OThJZ85A/w14R3BQbkD8=",
          "dtype": "f8"
         }
        },
        {
         "hovertext": "<b>Topic 14</b>:fed_rate_dollar_rates_market_us_in",
         "line": {
          "color": "black",
          "width": 1.5
         },
         "mode": "lines+lines",
         "name": "",
         "opacity": 0.1,
         "type": "scatter",
         "x": {
          "bdata": "AQIDBAUGBwgJCg==",
          "dtype": "i1"
         },
         "y": {
          "bdata": "E0nOR2jqoT8QMJvk2F+gP7I3WJ6Ke58/wDeU01vImD8L1VfZe3aWP1S9KtvgFpU/QKxc/2/IlD8Yqm/9FLuUPzXGVHW+sJQ/HeWtasQClD8=",
          "dtype": "f8"
         }
        },
        {
         "hovertext": "<b>Topic 15</b>:tax_bill_republicans_congress_cuts",
         "line": {
          "color": "black",
          "width": 1.5
         },
         "mode": "lines+lines",
         "name": "",
         "opacity": 0.1,
         "type": "scatter",
         "x": {
          "bdata": "AQIDBAUGBwgJCg==",
          "dtype": "i1"
         },
         "y": {
          "bdata": "9K0iKEpwqj+M8c3V8mGZP9wdHUKkNpM/eGDLawvAjz9Eak1yQuKOP5uugFQi74w/rmuR/aYSiz+srEh0yWaKPwG2XTSheIk/sYYeNTOsiD8=",
          "dtype": "f8"
         }
        },
        {
         "hovertext": "<b>Topic 16</b>:health_care_obamacare_insurance_me",
         "line": {
          "color": "black",
          "width": 1.5
         },
         "mode": "lines+lines",
         "name": "",
         "opacity": 0.1,
         "type": "scatter",
         "x": {
          "bdata": "AQIDBAUGBwgJCg==",
          "dtype": "i1"
         },
         "y": {
          "bdata": "lUQ0TI4sqD90adTe2fijPwMSkPU5AKM/cNy8zJ5toT85cgnjPeieP7Nisb/z95w/krBekNK4mj+h7lEHaXmVP9DN7CKWPpQ/jL+HC4Gqjz8=",
          "dtype": "f8"
         }
        },
        {
         "hovertext": "<b>Topic 17</b>:sauce_rice_food_kitchen_salt_ingre",
         "line": {
          "color": "black",
          "width": 1.5
         },
         "mode": "lines+lines",
         "name": "",
         "opacity": 0.1,
         "type": "scatter",
         "x": {
          "bdata": "AQIDBAUGBwgJCg==",
          "dtype": "i1"
         },
         "y": {
          "bdata": "xd0SVU/tnj8vMa/MO6+UP7Lk//rOIJA/I1JLaNj4jj+OIvQCfhuNPxAK5C8J6Iw/glI8s/W1iz/iriwK12SLP1yOyIrqVos/sRhj9vHeiT8=",
          "dtype": "f8"
         }
        },
        {
         "hovertext": "<b>Topic 18</b>:facebook_zuckerberg_users_dorsey_f",
         "line": {
          "color": "black",
          "width": 1.5
         },
         "mode": "lines+lines",
         "name": "",
         "opacity": 0.1,
         "type": "scatter",
         "x": {
          "bdata": "AQIDBAUGBwgJCg==",
          "dtype": "i1"
         },
         "y": {
          "bdata": "n0nXfSmWsT92hmlVUJefPwoK9cw9Z50/CuRqirlymj/QTDxcsc+WPyNJIUr/1pU/G/JYy4ofkj/pMKmA7QKSP4c09x10yZE/qq4ZV4OLkD8=",
          "dtype": "f8"
         }
        },
        {
         "hovertext": "<b>Topic 19</b>:democrats_republican_democratic_el",
         "line": {
          "color": "black",
          "width": 1.5
         },
         "mode": "lines+lines",
         "name": "",
         "opacity": 0.1,
         "type": "scatter",
         "x": {
          "bdata": "AQIDBAUGBwgJCg==",
          "dtype": "i1"
         },
         "y": {
          "bdata": "0u2GItsEoz95sIy3OiaZP9sJwq7QrJU/UGgqyRfTlD/P+rjG1tWTPyhdg1xIopM/xgwDxMvwkj9cj6Ejzv6RPzD1RD5B0ZE/GfIdqXDZkD8=",
          "dtype": "f8"
         }
        },
        {
         "hovertext": "<b>Topic 20</b>:games_game_gif_sometimes_section_o",
         "line": {
          "color": "black",
          "width": 1.5
         },
         "mode": "lines+lines",
         "name": "",
         "opacity": 0.1,
         "type": "scatter",
         "x": {
          "bdata": "AQIDBAUGBwgJCg==",
          "dtype": "i1"
         },
         "y": {
          "bdata": "mFSe++BEoT+dadPFuW6dP/mFu4mGApI/2evkYho4iz9xfSnR/AGKPzzhpAkP9ok/jgkJr4DGiT8UuGaG23uJP3FXRqUHcYk/c1cBDUBYiT8=",
          "dtype": "f8"
         }
        },
        {
         "hovertext": "<b>Topic 21</b>:expandable_icon_navigation_menu_ch",
         "line": {
          "color": "black",
          "width": 1.5
         },
         "mode": "lines+lines",
         "name": "",
         "opacity": 0.1,
         "type": "scatter",
         "x": {
          "bdata": "AQIDBAUGBwgJCg==",
          "dtype": "i1"
         },
         "y": {
          "bdata": "BkJGTDcWpT8L6AxEKAOlP2+x7oOtAaU/fAQwOM/9pD80DPhJPfukP/rKjX6S6KQ/WlsWrcWEpD9OgYNCRISkP7wenlX35aM/2gFoH+egoz8=",
          "dtype": "f8"
         }
        },
        {
         "hovertext": "<b>Topic 22</b>:oil_crude_barrels_bpd_pdvsa_lng_ba",
         "line": {
          "color": "black",
          "width": 1.5
         },
         "mode": "lines+lines",
         "name": "",
         "opacity": 0.1,
         "type": "scatter",
         "x": {
          "bdata": "AQIDBAUGBwgJCg==",
          "dtype": "i1"
         },
         "y": {
          "bdata": "XfmDckIBtD/P8g+fxHioPxuBo6pu/pg/wJ3aA56Dlj8LXBSWjq6VP1J6C5ZVtpQ/mX8Oqks8kz+IZ8aqlQORP0X3xlUXx5A/MMztU0BdkD8=",
          "dtype": "f8"
         }
        },
        {
         "hovertext": "<b>Topic 23</b>:biden_trump_clinton_debate_exit_po",
         "line": {
          "color": "black",
          "width": 1.5
         },
         "mode": "lines+lines",
         "name": "",
         "opacity": 0.1,
         "type": "scatter",
         "x": {
          "bdata": "AQIDBAUGBwgJCg==",
          "dtype": "i1"
         },
         "y": {
          "bdata": "VFJf7GxNlj+iWI3e/rmVPzLejiAJc5M/0RUurCPekj/BoyLBdDGSP1UntP2nupA/OGqq1eQFkD8Qoq8t0N6NP2h38O5mr4s/2UvpmPlkiz8=",
          "dtype": "f8"
         }
        },
        {
         "hovertext": "<b>Topic 24</b>:season_episode_show_lorelai_rory_s",
         "line": {
          "color": "black",
          "width": 1.5
         },
         "mode": "lines+lines",
         "name": "",
         "opacity": 0.1,
         "type": "scatter",
         "x": {
          "bdata": "AQIDBAUGBwgJCg==",
          "dtype": "i1"
         },
         "y": {
          "bdata": "oS5M699EpT8aJsCZYLWkPzPrsWuuYpg/arO+yaZolj/uH7RnenmTP5HpYOj2jZA/2vDYRhYLiz9wBGiyacOIP4vD6meLHYc/b0KWyHa2hj8=",
          "dtype": "f8"
         }
        },
        {
         "hovertext": "<b>Topic 25</b>:iran_iranian_nuclear_irans_sanctio",
         "line": {
          "color": "black",
          "width": 1.5
         },
         "mode": "lines+lines",
         "name": "",
         "opacity": 0.1,
         "type": "scatter",
         "x": {
          "bdata": "AQIDBAUGBwgJCg==",
          "dtype": "i1"
         },
         "y": {
          "bdata": "ru1zIvOntz9YVhRmWYSmP9lbzlp4PKQ/igFNImFroz/aPY3F9JOiP1lalofRCaE/TyOUkAWwnz+bxT6Da4aYP77wgAdVXZU/XSBjBTYilD8=",
          "dtype": "f8"
         }
        },
        {
         "hovertext": "<b>Topic 26</b>:gun_guns_shooting_control_mass_vio",
         "line": {
          "color": "black",
          "width": 1.5
         },
         "mode": "lines+lines",
         "name": "",
         "opacity": 0.1,
         "type": "scatter",
         "x": {
          "bdata": "AQIDBAUGBwgJCg==",
          "dtype": "i1"
         },
         "y": {
          "bdata": "/7KVhgGZsz/GDVQcs5mjP3L71adfZ5o/CKYttct7kz9/7jrbfAeSP4XZkHp3G5E/uYDaBM2qkD+A1INIfRmQPyjJ9hJ4SI0/GGWXoCMkjT8=",
          "dtype": "f8"
         }
        },
        {
         "hovertext": "<b>Topic 27</b>:pakistan_myanmar_rohingya_banglade",
         "line": {
          "color": "black",
          "width": 1.5
         },
         "mode": "lines+lines",
         "name": "",
         "opacity": 0.1,
         "type": "scatter",
         "x": {
          "bdata": "AQIDBAUGBwgJCg==",
          "dtype": "i1"
         },
         "y": {
          "bdata": "SknY7VPrlz+9z9euceSWPzRu5dGkkJU/7SUPsbRtkj+XbrBP5TySPzn3+YC++ZA/+q663eRDjj/HgqTrkESMP4sNitO0Eoo/LpB6nj61hz8=",
          "dtype": "f8"
         }
        },
        {
         "hovertext": "<b>Topic 28</b>:book_jeanne_feminism_women_nothing",
         "line": {
          "color": "black",
          "width": 1.5
         },
         "mode": "lines+lines",
         "name": "",
         "opacity": 0.1,
         "type": "scatter",
         "x": {
          "bdata": "AQIDBAUGBwgJCg==",
          "dtype": "i1"
         },
         "y": {
          "bdata": "jD7jaZNPkT+aOwwzX2COP6seqjE/6Ic/e7534vaThj8DQ/qBSZ6FP0Y22mQzc4U/WBPv3RwehT86UxtmPUeEP469aWoaHYM/YfrLPaGkgj8=",
          "dtype": "f8"
         }
        },
        {
         "hovertext": "<b>Topic 29</b>:sanders_clinton_democratic_party_p",
         "line": {
          "color": "black",
          "width": 1.5
         },
         "mode": "lines+lines",
         "name": "",
         "opacity": 0.1,
         "type": "scatter",
         "x": {
          "bdata": "AQIDBAUGBwgJCg==",
          "dtype": "i1"
         },
         "y": {
          "bdata": "hqtMtU//rT8olI9OevKgPwAj8yQJu5g/2REDkwiskT9PF3I8mPuQP7oYfVVgb5A/+W/AF1NfkD8PLQKl8UyQP4Hp5IgRP48/1gbYP54sjj8=",
          "dtype": "f8"
         }
        },
        {
         "hovertext": "<b>Topic 30</b>:uber_drivers_lyft_ubers_selfdrivin",
         "line": {
          "color": "black",
          "width": 1.5
         },
         "mode": "lines+lines",
         "name": "",
         "opacity": 0.1,
         "type": "scatter",
         "x": {
          "bdata": "AQIDBAUGBwgJCg==",
          "dtype": "i1"
         },
         "y": {
          "bdata": "jrXw7gbbuD/6TJ6hWQukP1N5ifG/jaE/thM6+lPknj+8wQaYH7GeP/Gtus8fNJ0/1bhIHlfDlT8BtDvRcxKTP4ZbvqYOTpI/+Rqgv2QTkj8=",
          "dtype": "f8"
         }
        },
        {
         "hovertext": "<b>Topic 31</b>:black_white_students_schools_confe",
         "line": {
          "color": "black",
          "width": 1.5
         },
         "mode": "lines+lines",
         "name": "",
         "opacity": 0.1,
         "type": "scatter",
         "x": {
          "bdata": "AQIDBAUGBwgJCg==",
          "dtype": "i1"
         },
         "y": {
          "bdata": "H3ls8b+unT+WVRo7++eWP6cGyYYQXpQ/TQfv0XSzij+EviJ2eKGKP53lWh/jDIo/XRyUaijthz/UeMe6+vKEP5w1Yhx0L4Q/ZdmYUXMphD8=",
          "dtype": "f8"
         }
        },
        {
         "hovertext": "<b>Topic 32</b>:netflix_streaming_amazon_tv_disney",
         "line": {
          "color": "black",
          "width": 1.5
         },
         "mode": "lines+lines",
         "name": "",
         "opacity": 0.1,
         "type": "scatter",
         "x": {
          "bdata": "AQIDBAUGBwgJCg==",
          "dtype": "i1"
         },
         "y": {
          "bdata": "3u69oOLuoj/bKrSW0PKhP84X6DSyr6E/ayavjWGyoD8ZRcosvQifP84M5OLWup0/B6UIrmrNmT8sBFGycy2ZPxJTwaAasJc/VfpgvI3hlT8=",
          "dtype": "f8"
         }
        },
        {
         "hovertext": "<b>Topic 33</b>:conor_fight_mcgregor_floyd_ufc_hes",
         "line": {
          "color": "black",
          "width": 1.5
         },
         "mode": "lines+lines",
         "name": "",
         "opacity": 0.1,
         "type": "scatter",
         "x": {
          "bdata": "AQIDBAUGBwgJCg==",
          "dtype": "i1"
         },
         "y": {
          "bdata": "Nvd8OBsEtT8eWVaNv4mxP3rr+zz5aak/lFh0kSqdpz+WLK9+J3ugPwkk2pY8FJw/CpW/jhnkmz8qeAfXlqmaPzR5QvwFc5o/NHlC/AVzmj8=",
          "dtype": "f8"
         }
        },
        {
         "hovertext": "<b>Topic 34</b>:saudi_arabia_prince_khashoggi_crow",
         "line": {
          "color": "black",
          "width": 1.5
         },
         "mode": "lines+lines",
         "name": "",
         "opacity": 0.1,
         "type": "scatter",
         "x": {
          "bdata": "AQIDBAUGBwgJCg==",
          "dtype": "i1"
         },
         "y": {
          "bdata": "kFWINQcVvz/aQ7JrD8OvPxUm1ZLLOak/CPVVet4Doz+h2ihvJiOeP9VAsqlNBp0/byP2QKhvmD/J5LsrdG+XPz2IYT5FOZY/CXp+3noElj8=",
          "dtype": "f8"
         }
        },
        {
         "hovertext": "<b>Topic 35</b>:snap_snapchat_company_stock_invest",
         "line": {
          "color": "black",
          "width": 1.5
         },
         "mode": "lines+lines",
         "name": "",
         "opacity": 0.1,
         "type": "scatter",
         "x": {
          "bdata": "AQIDBAUGBwgJCg==",
          "dtype": "i1"
         },
         "y": {
          "bdata": "CYaWismuoj8hk8hgpWOaPzi8RRTo0Jg/uRwZJcqVlj9TnWg4JdyVPx7s5cauK5M/M7FDLOvFkj+6okiwNYiSP9qE5kEvEpE/xyEG9DfIkD8=",
          "dtype": "f8"
         }
        },
        {
         "hovertext": "<b>Topic 36</b>:police_officers_maloney_shooting_m",
         "line": {
          "color": "black",
          "width": 1.5
         },
         "mode": "lines+lines",
         "name": "",
         "opacity": 0.1,
         "type": "scatter",
         "x": {
          "bdata": "AQIDBAUGBwgJCg==",
          "dtype": "i1"
         },
         "y": {
          "bdata": "SrYC3wHDqj90JECIqYyhP/SdaRMAvqA/Z6i4JGnXmD9OrM4gLcuVPxIf8//XoZM/vOpESGO7kj+JbxyujOmRPwTYBoumF44/sVIUHYKNjT8=",
          "dtype": "f8"
         }
        },
        {
         "hovertext": "<b>Topic 37</b>:moon_today_sign_mercury_retrograde",
         "line": {
          "color": "black",
          "width": 1.5
         },
         "mode": "lines+lines",
         "name": "",
         "opacity": 0.1,
         "type": "scatter",
         "x": {
          "bdata": "AQIDBAUGBwgJCg==",
          "dtype": "i1"
         },
         "y": {
          "bdata": "MdeFuT7CsT8T4WFFii+kP3Nmcqalt6M/Kv3j5Lxzoz8M0qmLDlegP1CCH0LQ958/qVCdtMvnnD87Cl6TUVecPxOHj3KU+5s/yyaOExDbmj8=",
          "dtype": "f8"
         }
        },
        {
         "hovertext": "<b>Topic 38</b>:court_supreme_justice_senate_justi",
         "line": {
          "color": "black",
          "width": 1.5
         },
         "mode": "lines+lines",
         "name": "",
         "opacity": 0.1,
         "type": "scatter",
         "x": {
          "bdata": "AQIDBAUGBwgJCg==",
          "dtype": "i1"
         },
         "y": {
          "bdata": "MngA9fyPqT9ppyV1d7uiPyt1HpZ7mZo/+OpUZVCLlj/hOgPhEieWPwKFrD1GTZM/hutK7Kv5kT/1CK4xr0ePP11R0kkFEY8/5p65O0xNjj8=",
          "dtype": "f8"
         }
        },
        {
         "hovertext": "<b>Topic 39</b>:border_immigration_children_immigr",
         "line": {
          "color": "black",
          "width": 1.5
         },
         "mode": "lines+lines",
         "name": "",
         "opacity": 0.1,
         "type": "scatter",
         "x": {
          "bdata": "AQIDBAUGBwgJCg==",
          "dtype": "i1"
         },
         "y": {
          "bdata": "HMJh5gEnpz/EShZCicqjP4Y3ikH1bZg/zrvd7j+jlj82arn24nKWPxzQFNsvXJU//Wua0/MbkD+tIZSYuBiQP5OaWUQg344/dRgkUHGxjj8=",
          "dtype": "f8"
         }
        },
        {
         "hovertext": "<b>Topic 40</b>:maduro_venezuela_venezuelan_maduro",
         "line": {
          "color": "black",
          "width": 1.5
         },
         "mode": "lines+lines",
         "name": "",
         "opacity": 0.1,
         "type": "scatter",
         "x": {
          "bdata": "AQIDBAUGBwgJCg==",
          "dtype": "i1"
         },
         "y": {
          "bdata": "WmrAtx3FqT/8pOxpmYKkP5A1fIhJlqE/PN41aY8Elj/+qTEfhJCVPxXixsekZZU/WKP7ejFmkz/DFWSIPPOSP7UCI4A6QpA/EL5C2oEHkD8=",
          "dtype": "f8"
         }
        },
        {
         "hovertext": "<b>Topic 41</b>:abortion_parenthood_birth_health_c",
         "line": {
          "color": "black",
          "width": 1.5
         },
         "mode": "lines+lines",
         "name": "",
         "opacity": 0.1,
         "type": "scatter",
         "x": {
          "bdata": "AQIDBAUGBwgJCg==",
          "dtype": "i1"
         },
         "y": {
          "bdata": "ugXt8GWWsj8Dh/wOl4KcP3F8mFA+Bpk/VTqoouD/lT925W/xotKVP6Pk609ctZU/IYQ+jSLLlD8zEl/ZltmSP7WyxyhSYZI/pvqr+w1Tkj8=",
          "dtype": "f8"
         }
        },
        {
         "hovertext": "<b>Topic 42</b>:european_eu_party_parliament_austr",
         "line": {
          "color": "black",
          "width": 1.5
         },
         "mode": "lines+lines",
         "name": "",
         "opacity": 0.1,
         "type": "scatter",
         "x": {
          "bdata": "AQIDBAUGBwgJCg==",
          "dtype": "i1"
         },
         "y": {
          "bdata": "moJyZ1b8pz8UrzRTfT6kP+H+Mv2+fZs/lCDD+DojmD8N7INxx1OXP5aHIFvyKJc/6dgV39btlj/unJz6Me2TP42FYzRB3ZE/v5MFXG+xkT8=",
          "dtype": "f8"
         }
        },
        {
         "hovertext": "<b>Topic 43</b>:mexico_mexican_migrants_guatemala_",
         "line": {
          "color": "black",
          "width": 1.5
         },
         "mode": "lines+lines",
         "name": "",
         "opacity": 0.1,
         "type": "scatter",
         "x": {
          "bdata": "AQIDBAUGBwgJCg==",
          "dtype": "i1"
         },
         "y": {
          "bdata": "VCfKPbQ7qT8nZfx4XE+mP52WZIxwkp8/UM04466enj8IUVCGSIeZP1zgd3WvlJc/BWB0vO1+kz+576jBJZeSP5oSCIgncpE/RIEWOXrzkD8=",
          "dtype": "f8"
         }
        },
        {
         "hovertext": "<b>Topic 44</b>:film_films_movie_best_oscars_movie",
         "line": {
          "color": "black",
          "width": 1.5
         },
         "mode": "lines+lines",
         "name": "",
         "opacity": 0.1,
         "type": "scatter",
         "x": {
          "bdata": "AQIDBAUGBwgJCg==",
          "dtype": "i1"
         },
         "y": {
          "bdata": "ylCli8nynj+r7jOa5cGdPxrsmDFXPps/PnbOf+Krlz/tqGTiUGOVPx3nsw0v05Q/Otus7Jw7lD/fX1EYEm6QP6CKUdfdS5A/olVdQqGZjz8=",
          "dtype": "f8"
         }
        },
        {
         "hovertext": "<b>Topic 45</b>:vaccine_bacteria_disease_zika_heal",
         "line": {
          "color": "black",
          "width": 1.5
         },
         "mode": "lines+lines",
         "name": "",
         "opacity": 0.1,
         "type": "scatter",
         "x": {
          "bdata": "AQIDBAUGBwgJCg==",
          "dtype": "i1"
         },
         "y": {
          "bdata": "0n14Qc4noj8/qAwtiPafP/A0nDw1SZc/x5ISEGHjlT++e18dTMmVPw5lPu9445Q/Y+r8jNNOlD/NzcDw/DmTP4Ns5WeHppI/2QWhPI82kj8=",
          "dtype": "f8"
         }
        },
        {
         "hovertext": "<b>Topic 46</b>:migrants_greece_africa_refugees_gr",
         "line": {
          "color": "black",
          "width": 1.5
         },
         "mode": "lines+lines",
         "name": "",
         "opacity": 0.1,
         "type": "scatter",
         "x": {
          "bdata": "AQIDBAUGBwgJCg==",
          "dtype": "i1"
         },
         "y": {
          "bdata": "bdWtvQH0mj+AJgPrOnSUP0KwCujD6pI/4e1kEQ3kkT/pAxFjo0aQP1JZqnph8Y8/B6Sz5Qt5jT+7ZfLPac6MPykxxJWlz4s/j6ZP65Jdiz8=",
          "dtype": "f8"
         }
        },
        {
         "hovertext": "<b>Topic 47</b>:sentences_vox_inbox_delivered_dail",
         "line": {
          "color": "black",
          "width": 1.5
         },
         "mode": "lines+lines",
         "name": "",
         "opacity": 0.1,
         "type": "scatter",
         "x": {
          "bdata": "AQIDBAUGBwgJCg==",
          "dtype": "i1"
         },
         "y": {
          "bdata": "ljHXcYairz8aeY5INgCtP6USR+A6WZ8/48e00wG7nD8BwGjGA4SaPyMt9cJBLJo/CAo2JU63lz8B7Mujnw+WP25iPFgJSJU/9foerilelD8=",
          "dtype": "f8"
         }
        },
        {
         "hovertext": "<b>Topic 48</b>:faa_boeing_aircraft_icon_expandabl",
         "line": {
          "color": "black",
          "width": 1.5
         },
         "mode": "lines+lines",
         "name": "",
         "opacity": 0.1,
         "type": "scatter",
         "x": {
          "bdata": "AQIDBAUGBwgJCg==",
          "dtype": "i1"
         },
         "y": {
          "bdata": "Qmf8Gfz9nj8vS7/96RCeP4N7Rf6jr5g/JtWcZ6oemD+YkEhqC+CXP8PPxF/KyJc/fSkiMoDBlz+guD8inbaXPwgVPHKfnpc/FlX9SDiGlz8=",
          "dtype": "f8"
         }
        },
        {
         "hovertext": "<b>Topic 49</b>:tesla_car_cars_electric_right_self",
         "line": {
          "color": "black",
          "width": 1.5
         },
         "mode": "lines+lines",
         "name": "",
         "opacity": 0.1,
         "type": "scatter",
         "x": {
          "bdata": "AQIDBAUGBwgJCg==",
          "dtype": "i1"
         },
         "y": {
          "bdata": "8JUTP139oz936EkcTyyjP1bHlc/sv5o/cPSQrJyFlT9gKhq6ODeSP6ReIAsSDpI/2hib+FlukD8aAhnkAUuOP2ciozXyq4s/wccFOk1Aiz8=",
          "dtype": "f8"
         }
        },
        {
         "hovertext": "<b>Topic 50</b>:food_fiber_foods_eating_breakfast_",
         "line": {
          "color": "black",
          "width": 1.5
         },
         "mode": "lines+lines",
         "name": "",
         "opacity": 0.1,
         "type": "scatter",
         "x": {
          "bdata": "AQIDBAUGBwgJCg==",
          "dtype": "i1"
         },
         "y": {
          "bdata": "kyASP4CAoz+xTIjCh1OiP7pzqEzfJps/QLzEwn3amj9QTVMAqOyZP89smNgHlpg/2h3juZnXlT98CE+TklaTP+I0b5DnhpI/o2gP4RgFkj8=",
          "dtype": "f8"
         }
        },
        {
         "hovertext": "<b>Topic 51</b>:yankees_homer_baseball_innings_gur",
         "line": {
          "color": "black",
          "width": 1.5
         },
         "mode": "lines+lines",
         "name": "",
         "opacity": 0.1,
         "type": "scatter",
         "x": {
          "bdata": "AQIDBAUGBwgJCg==",
          "dtype": "i1"
         },
         "y": {
          "bdata": "B8rjsauKoT8Wn4GViDyhP/GBV+Vbz6A/6UJeqGBnoD99XuV/Q82cPyrHDTatsZs/3KyhepnGmD/52t6SFqmYPy56Of5pZpc/UT/OKEL8lT8=",
          "dtype": "f8"
         }
        },
        {
         "hovertext": "<b>Topic 52</b>:galaxy_iphone_apple_samsung_phones",
         "line": {
          "color": "black",
          "width": 1.5
         },
         "mode": "lines+lines",
         "name": "",
         "opacity": 0.1,
         "type": "scatter",
         "x": {
          "bdata": "AQIDBAUGBwgJCg==",
          "dtype": "i1"
         },
         "y": {
          "bdata": "RdqwmBh4rT9z/lTYZaymP3VGH1B9qqY/NtaXM1vApD8A1EyBH+ygP8EREAOn5Z8/mcAAxY9Dlz9xpeybZSSUP4pGVxD+FZQ/fJWmnhARlD8=",
          "dtype": "f8"
         }
        },
        {
         "hovertext": "<b>Topic 53</b>:daca_immigration_shutdown_senate_d",
         "line": {
          "color": "black",
          "width": 1.5
         },
         "mode": "lines+lines",
         "name": "",
         "opacity": 0.1,
         "type": "scatter",
         "x": {
          "bdata": "AQIDBAUGBwgJCg==",
          "dtype": "i1"
         },
         "y": {
          "bdata": "Atls+Impoz/UYd/aijGgPxpxI5tiLqA/WjOXRmP2nT/1ivXdwXaZP8Y1yM0So5g/m3CJfx5KmD8xlAAEe1mWP+eHYnyN1JM/yTkScRSskz8=",
          "dtype": "f8"
         }
        },
        {
         "hovertext": "<b>Topic 54</b>:puerto_rico_cuba_castro_island_ric",
         "line": {
          "color": "black",
          "width": 1.5
         },
         "mode": "lines+lines",
         "name": "",
         "opacity": 0.1,
         "type": "scatter",
         "x": {
          "bdata": "AQIDBAUGBwgJCg==",
          "dtype": "i1"
         },
         "y": {
          "bdata": "+dnqsGRitT/yL8strEmmP5TkI8UmfqI/zigoIbEVoT+WcZBSfeuZP+wBwb6DKZk//ZuWtHlklj+bLwT8o+6TP6nEkfTGZ5I/v0q/6zpnkj8=",
          "dtype": "f8"
         }
        },
        {
         "hovertext": "<b>Topic 55</b>:israel_israeli_palestinian_jerusal",
         "line": {
          "color": "black",
          "width": 1.5
         },
         "mode": "lines+lines",
         "name": "",
         "opacity": 0.1,
         "type": "scatter",
         "x": {
          "bdata": "AQIDBAUGBwgJCg==",
          "dtype": "i1"
         },
         "y": {
          "bdata": "/bBLXiuCrj/SAv7KA9utPyrnRXttmas/ekyPulaGpz9zbi+BTgikP2//0/YmHaM/f05YGtJpnT8LjSUCrNCYP3tgLrBgnZc/gMnOcY6tlj8=",
          "dtype": "f8"
         }
        },
        {
         "hovertext": "<b>Topic 56</b>:film_movie_films_christian_movies_",
         "line": {
          "color": "black",
          "width": 1.5
         },
         "mode": "lines+lines",
         "name": "",
         "opacity": 0.1,
         "type": "scatter",
         "x": {
          "bdata": "AQIDBAUGBwgJCg==",
          "dtype": "i1"
         },
         "y": {
          "bdata": "vA8SlzLdoj+VcbqBy72VP301s66BCZM/65AZx47Gjz86+Z98KPGJP2BPsfNFf4c/kBhNQxA/hj97EKaDasWFP+70SOOUVIM/XU5JUKH4gj8=",
          "dtype": "f8"
         }
        },
        {
         "hovertext": "<b>Topic 57</b>:attacks_attack_police_isis_french_",
         "line": {
          "color": "black",
          "width": 1.5
         },
         "mode": "lines+lines",
         "name": "",
         "opacity": 0.1,
         "type": "scatter",
         "x": {
          "bdata": "AQIDBAUGBwgJCg==",
          "dtype": "i1"
         },
         "y": {
          "bdata": "2Tww0/OloT+MP57iGJ6dP4zGuwV32Jk/h7nzarMAmD8Iy1DaXQSSP5UrRuHU3JE/MMzSQ3MYjz9sgbhDqK2NPwyX3/p2ZYw/OxtwcZXziT8=",
          "dtype": "f8"
         }
        },
        {
         "hovertext": "<b>Topic 58</b>:transgender_military_service_trans",
         "line": {
          "color": "black",
          "width": 1.5
         },
         "mode": "lines+lines",
         "name": "",
         "opacity": 0.1,
         "type": "scatter",
         "x": {
          "bdata": "AQIDBAUGBwgJCg==",
          "dtype": "i1"
         },
         "y": {
          "bdata": "T6+TBrINsT+NQeYXEiCjP8Plu3Sw5qA/Qp6q+MQ9nz/rMUILKWueP9EsuGyxP54/Oi71W6cLlz/Z2Rt7XfiVP/NiIeuQTJM/hVnBo1dVkT8=",
          "dtype": "f8"
         }
        },
        {
         "hovertext": "<b>Topic 59</b>:ufc_fight_mma_royce_fighters_mcgre",
         "line": {
          "color": "black",
          "width": 1.5
         },
         "mode": "lines+lines",
         "name": "",
         "opacity": 0.1,
         "type": "scatter",
         "x": {
          "bdata": "AQIDBAUGBwgJCg==",
          "dtype": "i1"
         },
         "y": {
          "bdata": "i/G6GmotrD+X2XbfRQ+mPxddvS3ZzZo/RiM6ppBMkz+jPE/LnOeSP+JfBk4rMZI/yecEyW8Wkj9hjMQM5gaQP3jIcGmtxo4/yLWVKDvXjT8=",
          "dtype": "f8"
         }
        },
        {
         "hovertext": "<b>Topic 60</b>:heres_justin_bieber_jenner_drake_k",
         "line": {
          "color": "black",
          "width": 1.5
         },
         "mode": "lines+lines",
         "name": "",
         "opacity": 0.1,
         "type": "scatter",
         "x": {
          "bdata": "AQIDBAUGBwgJCg==",
          "dtype": "i1"
         },
         "y": {
          "bdata": "YaZUzlf7xD+fS4dOOluyP5qCnCPxt64/ajaFkKdYqD8IWq1AbH6lPylU3+lX/KQ/y75GezuvpD/cnF+nrHGkP1t6BE5LAqQ/1ka6FLrioT8=",
          "dtype": "f8"
         }
        },
        {
         "hovertext": "<b>Topic 61</b>:think_lab_information_opt_things_m",
         "line": {
          "color": "black",
          "width": 1.5
         },
         "mode": "lines+lines",
         "name": "",
         "opacity": 0.1,
         "type": "scatter",
         "x": {
          "bdata": "AQIDBAUGBwgJCg==",
          "dtype": "i1"
         },
         "y": {
          "bdata": "vhEkpoBjkj/xd7T4esGRP0CpSRjtpJA/1nT8gEwxjj93c+hU+vSKP8JgktYSVIk/dQLz5TopiD+Eipfca5WGP63lUhZ41oQ/yDFruaS8hD8=",
          "dtype": "f8"
         }
        },
        {
         "hovertext": "<b>Topic 62</b>:anthony_nba_team_game_basketball_p",
         "line": {
          "color": "black",
          "width": 1.5
         },
         "mode": "lines+lines",
         "name": "",
         "opacity": 0.1,
         "type": "scatter",
         "x": {
          "bdata": "AQIDBAUGBwgJCg==",
          "dtype": "i1"
         },
         "y": {
          "bdata": "2TvGwnG7mj9ww5/jLByZPysRRTFJGpc/IlfE2NjslD8sMFOiu5SSP9Qns0qDBpE/kNhLiMibkD84z3m1NHOQP4AAXybrPpA/vEu/tszVjz8=",
          "dtype": "f8"
         }
        },
        {
         "hovertext": "<b>Topic 63</b>:nba_lavar_knicks_kyrie_tmz_sports_",
         "line": {
          "color": "black",
          "width": 1.5
         },
         "mode": "lines+lines",
         "name": "",
         "opacity": 0.1,
         "type": "scatter",
         "x": {
          "bdata": "AQIDBAUGBwgJCg==",
          "dtype": "i1"
         },
         "y": {
          "bdata": "hp/zmUPqrj9t7sopG+KnP2ZXmvZnaKY/79PQz8I6pT9p9LbOEDilP57hpGmkBaM/SoAoG2p1oj/oPbk3JNifPyunMhKvJZ4/M6cRWPR5nD8=",
          "dtype": "f8"
         }
        },
        {
         "hovertext": "<b>Topic 64</b>:obama_racial_voters_black_obamas_p",
         "line": {
          "color": "black",
          "width": 1.5
         },
         "mode": "lines+lines",
         "name": "",
         "opacity": 0.1,
         "type": "scatter",
         "x": {
          "bdata": "AQIDBAUGBwgJCg==",
          "dtype": "i1"
         },
         "y": {
          "bdata": "mlUi6b0dpj9X/4nqALyZP7wW+1bc9pc/ZyI5o2wtlj9AIOJBzRiWP2vcMW+2oJE/YDlVS3obkD/yN5YL+RSOP2JKbHZ7BIw/8SsgK5B8iz8=",
          "dtype": "f8"
         }
        },
        {
         "hovertext": "<b>Topic 65</b>:kelly_kellys_child_tmz_tanisha_cla",
         "line": {
          "color": "black",
          "width": 1.5
         },
         "mode": "lines+lines",
         "name": "",
         "opacity": 0.1,
         "type": "scatter",
         "x": {
          "bdata": "AQIDBAUGBwgJCg==",
          "dtype": "i1"
         },
         "y": {
          "bdata": "jVEyFVMEsz8aUKrQN6+oP4pIQQ/jF6A/6TF4OYGCnT/K9qdn2DScP91Obw9f3Zs/QXhzYrhymT9BeHNiuHKZP0F4c2K4cpk/0MHu8Mj6lz8=",
          "dtype": "f8"
         }
        },
        {
         "hovertext": "<b>Topic 66</b>:amazon_mall_sales_retailers_stores",
         "line": {
          "color": "black",
          "width": 1.5
         },
         "mode": "lines+lines",
         "name": "",
         "opacity": 0.1,
         "type": "scatter",
         "x": {
          "bdata": "AQIDBAUGBwgJCg==",
          "dtype": "i1"
         },
         "y": {
          "bdata": "lWjerYmYqj92S57R3lSjP1Xs3Dn4MJc/G4yePl2tlT+uhXkFaEGVP3v2FeSATZQ/ERny9ex7kz+1hYMjQ2aTP22pI5lLSZM/btGx5qRpkT8=",
          "dtype": "f8"
         }
        },
        {
         "hovertext": "<b>Topic 67</b>:banks_uk_bank_eu_brexit_financial_",
         "line": {
          "color": "black",
          "width": 1.5
         },
         "mode": "lines+lines",
         "name": "",
         "opacity": 0.1,
         "type": "scatter",
         "x": {
          "bdata": "AQIDBAUGBwgJCg==",
          "dtype": "i1"
         },
         "y": {
          "bdata": "kqNXPyCcnj/2N9VLc4+aPx4QEhro7Zg/w0oQsKhdmD8fENuNj1CYPxerkP6fzZQ/wT6pvQpdkz8o4J3BJkOTP0iHFwhe65I/IfYT1fQJkj8=",
          "dtype": "f8"
         }
        },
        {
         "hovertext": "<b>Topic 68</b>:weinstein_sex_swift_sexual_women_a",
         "line": {
          "color": "black",
          "width": 1.5
         },
         "mode": "lines+lines",
         "name": "",
         "opacity": 0.1,
         "type": "scatter",
         "x": {
          "bdata": "AQIDBAUGBwgJCg==",
          "dtype": "i1"
         },
         "y": {
          "bdata": "GLZ0nYqesT8DBpS01JGkP+PU46u7zKA/WPYflCDFoD94G7FkIP+WPxZlSu7u75U/gGrRqy8xlT8RdKogZeuUP9htPCHreZQ/fJNByI14lD8=",
          "dtype": "f8"
         }
        },
        {
         "hovertext": "<b>Topic 69</b>:cup_ponting_england_penalty_shooto",
         "line": {
          "color": "black",
          "width": 1.5
         },
         "mode": "lines+lines",
         "name": "",
         "opacity": 0.1,
         "type": "scatter",
         "x": {
          "bdata": "AQIDBAUGBwgJCg==",
          "dtype": "i1"
         },
         "y": {
          "bdata": "va1YXtxzpT8phTfg/fyjP5koBXkSMqM/hqk/ySbPoj9kSVFRj+WYP0DwstyFjZg/XSnMY5q5lz/d0L+58xGWP6Py6HISp5U/oLOG+D4nlT8=",
          "dtype": "f8"
         }
        },
        {
         "hovertext": "<b>Topic 70</b>:podcast_viceland_vice_episode_chan",
         "line": {
          "color": "black",
          "width": 1.5
         },
         "mode": "lines+lines",
         "name": "",
         "opacity": 0.1,
         "type": "scatter",
         "x": {
          "bdata": "AQIDBAUGBwgJCg==",
          "dtype": "i1"
         },
         "y": {
          "bdata": "Bn9ZVlQGrT9yRCts4G2pPxSKj6g6pag/JPObXophnj8zEz6/0JqdP7NOHmHCkJ0/vB15bpZwnD/0Rim0py6aP4YJjeKXhpk/k2DwD58wmT8=",
          "dtype": "f8"
         }
        },
        {
         "hovertext": "<b>Topic 71</b>:teachers_school_schools_teacher_ki",
         "line": {
          "color": "black",
          "width": 1.5
         },
         "mode": "lines+lines",
         "name": "",
         "opacity": 0.1,
         "type": "scatter",
         "x": {
          "bdata": "AQIDBAUGBwgJCg==",
          "dtype": "i1"
         },
         "y": {
          "bdata": "NktcGq8Tsz/4HK6bg5CpPzPHLMxTjJ8/p+Y2h5KCnT8oos8s+/SXP2zFOa9GmpU/THYcsU4llD+o/4/OammSP747siZxO5E/DsFITQgFkT8=",
          "dtype": "f8"
         }
        },
        {
         "hovertext": "<b>Topic 72</b>:productivity_software_workplace_ti",
         "line": {
          "color": "black",
          "width": 1.5
         },
         "mode": "lines+lines",
         "name": "",
         "opacity": 0.1,
         "type": "scatter",
         "x": {
          "bdata": "AQIDBAUGBwgJCg==",
          "dtype": "i1"
         },
         "y": {
          "bdata": "zJOMGoPImD+5kAHHdbuSP1qzxVHwZpA/PBUUsxPCjz/0xbiR0fSOPylwIxIEIow/P+KmJRLciz/T1HqjyReIP0REBR2zE4g/OSxFm1hRhz8=",
          "dtype": "f8"
         }
        },
        {
         "hovertext": "<b>Topic 73</b>:apache_cosme_city_cultural_documen",
         "line": {
          "color": "black",
          "width": 1.5
         },
         "mode": "lines+lines",
         "name": "",
         "opacity": 0.1,
         "type": "scatter",
         "x": {
          "bdata": "AQIDBAUGBwgJCg==",
          "dtype": "i1"
         },
         "y": {
          "bdata": "+Clt3GxalT84Ft4T2DaQP3dZO8Ij/I4/SjZd/pWrjj/ebjdzn72NPzRjup04fYw/8jV0vsiliz/4NricfvWKP+Huwk/yfYo/dYgPCCY5iT8=",
          "dtype": "f8"
         }
        },
        {
         "hovertext": "<b>Topic 74</b>:leave_autism_paid_children_mothers",
         "line": {
          "color": "black",
          "width": 1.5
         },
         "mode": "lines+lines",
         "name": "",
         "opacity": 0.1,
         "type": "scatter",
         "x": {
          "bdata": "AQIDBAUGBwgJCg==",
          "dtype": "i1"
         },
         "y": {
          "bdata": "/N3aW24Nmj+5i6jJ0W2ZPwq/4ITUYpU/Z9j4JRktkj/TnJdgduyRPxzm3TxhrZE/uSar8rzvkD+zdUynAKOLP+UfDB70n4k/i8Id/vSPiT8=",
          "dtype": "f8"
         }
        },
        {
         "hovertext": "<b>Topic 75</b>:queer_gay_garage_sex_pride_montrea",
         "line": {
          "color": "black",
          "width": 1.5
         },
         "mode": "lines+lines",
         "name": "",
         "opacity": 0.1,
         "type": "scatter",
         "x": {
          "bdata": "AQIDBAUGBwgJCg==",
          "dtype": "i1"
         },
         "y": {
          "bdata": "F9gT97l9qT9NDQ+M1taiP0dH2Kq4eZs/5ERkJW2DmD8aoCAwKWWVPxf5Gc8DkpM/wfWcKcWCkD/pEdpS0u2JPx6qU4q/34k/555sU266iT8=",
          "dtype": "f8"
         }
        },
        {
         "hovertext": "<b>Topic 76</b>:bolsonaro_brazils_guedes_reais_bra",
         "line": {
          "color": "black",
          "width": 1.5
         },
         "mode": "lines+lines",
         "name": "",
         "opacity": 0.1,
         "type": "scatter",
         "x": {
          "bdata": "AQIDBAUGBwgJCg==",
          "dtype": "i1"
         },
         "y": {
          "bdata": "9XjdYEDYtD/+kzFWfH+xP3D9dimTV6g/j4UKPQB3pT/wTEKnydiiP56EYmXF6p8/0cx0MW3unj//JHraIRaeP/ts7bfYhJw/zMwPTNUulz8=",
          "dtype": "f8"
         }
        },
        {
         "hovertext": "<b>Topic 77</b>:died_death_doris_saunders_gaynes_m",
         "line": {
          "color": "black",
          "width": 1.5
         },
         "mode": "lines+lines",
         "name": "",
         "opacity": 0.1,
         "type": "scatter",
         "x": {
          "bdata": "AQIDBAUGBwgJCg==",
          "dtype": "i1"
         },
         "y": {
          "bdata": "IpoC+OOHtT8HKmWEJsOxPz8s5zLDZKg/Krwb27weqD8JHV3xL5GlPwkdXfEvkaU/pO9SAMqgoz9JndUkSwShP9NQXNOxuKA/7PA8dUQCoD8=",
          "dtype": "f8"
         }
        },
        {
         "hovertext": "<b>Topic 78</b>:daniels_trump_cohen_zervos_stormy_",
         "line": {
          "color": "black",
          "width": 1.5
         },
         "mode": "lines+lines",
         "name": "",
         "opacity": 0.1,
         "type": "scatter",
         "x": {
          "bdata": "AQIDBAUGBwgJCg==",
          "dtype": "i1"
         },
         "y": {
          "bdata": "4jVXO8jFqT/RvNqayXSoP2f5jSA6SaU/iWrwXchtoj9vB3NaY0KbP1q+/8Tbtpo/3O8asdGllT/y9StGin2UP5I4AXIPKpQ/ixqOjnj5kj8=",
          "dtype": "f8"
         }
        },
        {
         "hovertext": "<b>Topic 79</b>:spacey_rapp_spaceys_allegations_hu",
         "line": {
          "color": "black",
          "width": 1.5
         },
         "mode": "lines+lines",
         "name": "",
         "opacity": 0.1,
         "type": "scatter",
         "x": {
          "bdata": "AQIDBAUGBwgJCg==",
          "dtype": "i1"
         },
         "y": {
          "bdata": "Meoy9GKZuT/HPGJOLlOvPxB4ZWklUac/nMM07z4Toj8XaOUmlvagPwlp3u0qV6A/4L001AHSmj8SFFcvhbeZP6nYu3NpbpY/xu1OPo0DlT8=",
          "dtype": "f8"
         }
        },
        {
         "hovertext": "<b>Topic 80</b>:ecb_inflation_economy_euro_draghi_",
         "line": {
          "color": "black",
          "width": 1.5
         },
         "mode": "lines+lines",
         "name": "",
         "opacity": 0.1,
         "type": "scatter",
         "x": {
          "bdata": "AQIDBAUGBwgJCg==",
          "dtype": "i1"
         },
         "y": {
          "bdata": "7h4A7+CTqT9xUtiOTEipP/yeq5KfSaY/3ArO0CfCoz9DA9xVszShP5Ti1OtegqA/OIeKAV83oD8boCRZHQCgP51VP8dIDZs/nlsVvj3xmj8=",
          "dtype": "f8"
         }
        },
        {
         "hovertext": "<b>Topic 81</b>:kanye_kanyes_yeezy_ye_west_amber_c",
         "line": {
          "color": "black",
          "width": 1.5
         },
         "mode": "lines+lines",
         "name": "",
         "opacity": 0.1,
         "type": "scatter",
         "x": {
          "bdata": "AQIDBAUGBwgJCg==",
          "dtype": "i1"
         },
         "y": {
          "bdata": "aS7l9NqtxT+bBOKGRSekPy1yOyGi5qM/NtoF91h1oz9sBwD3ItKgP3IEqJwuAKA/iWkxDxc/nz/nnp/RL8GeP3qKEizmP54/CLsydTHImj8=",
          "dtype": "f8"
         }
        },
        {
         "hovertext": "<b>Topic 82</b>:tennis_wimbledon_match_gauff_djoko",
         "line": {
          "color": "black",
          "width": 1.5
         },
         "mode": "lines+lines",
         "name": "",
         "opacity": 0.1,
         "type": "scatter",
         "x": {
          "bdata": "AQIDBAUGBwgJCg==",
          "dtype": "i1"
         },
         "y": {
          "bdata": "j1XP4WtGrD+CLD2P1MmmP75sFT0TW6I/gkbXvkAtmj+utbhLtL6ZP1cniinhRpk/gccGT0VVlz8ZGpkGnISUPyEvMMR8/JI/BdN5z0rykj8=",
          "dtype": "f8"
         }
        },
        {
         "hovertext": "<b>Topic 83</b>:whisky_beer_quebec_sivo_malt_craft",
         "line": {
          "color": "black",
          "width": 1.5
         },
         "mode": "lines+lines",
         "name": "",
         "opacity": 0.1,
         "type": "scatter",
         "x": {
          "bdata": "AQIDBAUGBwgJCg==",
          "dtype": "i1"
         },
         "y": {
          "bdata": "Y3MeXVu+pj+uK2VYoUykP1jJCi/p1pQ/p2cN15F6lD/hSGh4D0KUP62NMdT5EJM/so3dbAD+kj8+Iz65jfCSP3nttIPjkZI/7P5i1IYLkj8=",
          "dtype": "f8"
         }
        },
        {
         "hovertext": "<b>Topic 84</b>:moore_alabama_moores_roy_senate_ev",
         "line": {
          "color": "black",
          "width": 1.5
         },
         "mode": "lines+lines",
         "name": "",
         "opacity": 0.1,
         "type": "scatter",
         "x": {
          "bdata": "AQIDBAUGBwgJCg==",
          "dtype": "i1"
         },
         "y": {
          "bdata": "6VMV4LcSvj/o2emmhYGnP3+2LeQT8Z8/77ZNPzV0nD/9WA8oJMuUP+17h6HooZM/v/mkYnb5kj/2tqyG9LGSP4hyp31Xr5E/EUnuwCyvkD8=",
          "dtype": "f8"
         }
        },
        {
         "hovertext": "<b>Topic 85</b>:olympic_athletes_olympics_penha_ri",
         "line": {
          "color": "black",
          "width": 1.5
         },
         "mode": "lines+lines",
         "name": "",
         "opacity": 0.1,
         "type": "scatter",
         "x": {
          "bdata": "AQIDBAUGBwgJCg==",
          "dtype": "i1"
         },
         "y": {
          "bdata": "Qr9+MWAArz+33qtMwLaoP/UXbjaz/aQ/X0vC5x/Yoz8n564fzsuhP8L046+hb58/njLcaSB0nj8tiVwlfUydP4w3PZOr3Zk/AgO2uC1TmT8=",
          "dtype": "f8"
         }
        },
        {
         "hovertext": "<b>Topic 86</b>:nectar_advertise_hyperallergic_ads",
         "line": {
          "color": "black",
          "width": 1.5
         },
         "mode": "lines+lines",
         "name": "",
         "opacity": 0.1,
         "type": "scatter",
         "x": {
          "bdata": "AQIDBAUGBwgJCg==",
          "dtype": "i1"
         },
         "y": {
          "bdata": "DMk9f7Qm4z/1+ICTZb7iP0zY7PhuquE/CwsDzwxK4D+lgkiQwCW9P6WCSJDAJb0/tZZS+Drgtz/OG80fzr21Pz5zt5ZWLrU/IwEOQhyltD8=",
          "dtype": "f8"
         }
        },
        {
         "hovertext": "<b>Topic 87</b>:media_coverage_memes_meme_politica",
         "line": {
          "color": "black",
          "width": 1.5
         },
         "mode": "lines+lines",
         "name": "",
         "opacity": 0.1,
         "type": "scatter",
         "x": {
          "bdata": "AQIDBAUGBwgJCg==",
          "dtype": "i1"
         },
         "y": {
          "bdata": "j9U2Hi20nz+BKeDjgFGRP+fLcymZfo8/m9E6cCd8jj/Ofu6Xx2OOP6VF8uI/OY0/hsm5jNuNjD8LpzEwTD+KP0NVI7M7x4c/f3rOt5QEhz8=",
          "dtype": "f8"
         }
        },
        {
         "hovertext": "<b>Topic 88</b>:fcc_neutrality_pai_internet_net_ru",
         "line": {
          "color": "black",
          "width": 1.5
         },
         "mode": "lines+lines",
         "name": "",
         "opacity": 0.1,
         "type": "scatter",
         "x": {
          "bdata": "AQIDBAUGBwgJCg==",
          "dtype": "i1"
         },
         "y": {
          "bdata": "oYpY9vUKtz9VIS70jp+xP1JrezNNPrE/9KJ0UizqrD/9hCYpdFWsP2wE0qtZ1qE/x+pr2IBEnT9kY/V1cSqbPxm98Hb4rpk/XxLLIaZRlT8=",
          "dtype": "f8"
         }
        },
        {
         "hovertext": "<b>Topic 89</b>:motherboard_password_data_breach_m",
         "line": {
          "color": "black",
          "width": 1.5
         },
         "mode": "lines+lines",
         "name": "",
         "opacity": 0.1,
         "type": "scatter",
         "x": {
          "bdata": "AQIDBAUGBwgJCg==",
          "dtype": "i1"
         },
         "y": {
          "bdata": "Jj0ghgdepj/x/V4WGJSgPxOCjVrQwJ0/TXWYL1hFmj+FHdXezlqZP1OWEaUPBZk/4E9JxJyDmD+A53toexqYP5TobFyLgZY/CElK625ulj8=",
          "dtype": "f8"
         }
        },
        {
         "hovertext": "<b>Topic 90</b>:gallery_january_added_closed_strik",
         "line": {
          "color": "black",
          "width": 1.5
         },
         "mode": "lines+lines",
         "name": "",
         "opacity": 0.1,
         "type": "scatter",
         "x": {
          "bdata": "AQIDBAUGBwgJCg==",
          "dtype": "i1"
         },
         "y": {
          "bdata": "LbphW4Zbpj/0N9FZaiilP3yEZ6IQL6A/wlUZRK5anD/qaW0ikAybP4FmrKvM/pk/sy1DkVxKlj+x5ieCTteUPwgRvnmkA5I/Ubf8nXqqkD8=",
          "dtype": "f8"
         }
        },
        {
         "hovertext": "<b>Topic 91</b>:drake_wayne_song_smith_akon_video_",
         "line": {
          "color": "black",
          "width": 1.5
         },
         "mode": "lines+lines",
         "name": "",
         "opacity": 0.1,
         "type": "scatter",
         "x": {
          "bdata": "AQIDBAUGBwgJCg==",
          "dtype": "i1"
         },
         "y": {
          "bdata": "3RpjCF+xtT8h3KzihPWmP8uOL7NAtKM/Sh2wbNTkoT9egF8I6B+hP0R4mwTZ8J8/kv15ZWIHnj8Vbeltv+ecP4xAjwzcr5k/+j/rN2ukmD8=",
          "dtype": "f8"
         }
        }
       ],
       "layout": {
        "height": 500,
        "hoverlabel": {
         "bgcolor": "white",
         "font": {
          "family": "Rockwell",
          "size": 16
         }
        },
        "showlegend": false,
        "template": {
         "data": {
          "bar": [
           {
            "error_x": {
             "color": "#2a3f5f"
            },
            "error_y": {
             "color": "#2a3f5f"
            },
            "marker": {
             "line": {
              "color": "white",
              "width": 0.5
             },
             "pattern": {
              "fillmode": "overlay",
              "size": 10,
              "solidity": 0.2
             }
            },
            "type": "bar"
           }
          ],
          "barpolar": [
           {
            "marker": {
             "line": {
              "color": "white",
              "width": 0.5
             },
             "pattern": {
              "fillmode": "overlay",
              "size": 10,
              "solidity": 0.2
             }
            },
            "type": "barpolar"
           }
          ],
          "carpet": [
           {
            "aaxis": {
             "endlinecolor": "#2a3f5f",
             "gridcolor": "#C8D4E3",
             "linecolor": "#C8D4E3",
             "minorgridcolor": "#C8D4E3",
             "startlinecolor": "#2a3f5f"
            },
            "baxis": {
             "endlinecolor": "#2a3f5f",
             "gridcolor": "#C8D4E3",
             "linecolor": "#C8D4E3",
             "minorgridcolor": "#C8D4E3",
             "startlinecolor": "#2a3f5f"
            },
            "type": "carpet"
           }
          ],
          "choropleth": [
           {
            "colorbar": {
             "outlinewidth": 0,
             "ticks": ""
            },
            "type": "choropleth"
           }
          ],
          "contour": [
           {
            "colorbar": {
             "outlinewidth": 0,
             "ticks": ""
            },
            "colorscale": [
             [
              0,
              "#0d0887"
             ],
             [
              0.1111111111111111,
              "#46039f"
             ],
             [
              0.2222222222222222,
              "#7201a8"
             ],
             [
              0.3333333333333333,
              "#9c179e"
             ],
             [
              0.4444444444444444,
              "#bd3786"
             ],
             [
              0.5555555555555556,
              "#d8576b"
             ],
             [
              0.6666666666666666,
              "#ed7953"
             ],
             [
              0.7777777777777778,
              "#fb9f3a"
             ],
             [
              0.8888888888888888,
              "#fdca26"
             ],
             [
              1,
              "#f0f921"
             ]
            ],
            "type": "contour"
           }
          ],
          "contourcarpet": [
           {
            "colorbar": {
             "outlinewidth": 0,
             "ticks": ""
            },
            "type": "contourcarpet"
           }
          ],
          "heatmap": [
           {
            "colorbar": {
             "outlinewidth": 0,
             "ticks": ""
            },
            "colorscale": [
             [
              0,
              "#0d0887"
             ],
             [
              0.1111111111111111,
              "#46039f"
             ],
             [
              0.2222222222222222,
              "#7201a8"
             ],
             [
              0.3333333333333333,
              "#9c179e"
             ],
             [
              0.4444444444444444,
              "#bd3786"
             ],
             [
              0.5555555555555556,
              "#d8576b"
             ],
             [
              0.6666666666666666,
              "#ed7953"
             ],
             [
              0.7777777777777778,
              "#fb9f3a"
             ],
             [
              0.8888888888888888,
              "#fdca26"
             ],
             [
              1,
              "#f0f921"
             ]
            ],
            "type": "heatmap"
           }
          ],
          "histogram": [
           {
            "marker": {
             "pattern": {
              "fillmode": "overlay",
              "size": 10,
              "solidity": 0.2
             }
            },
            "type": "histogram"
           }
          ],
          "histogram2d": [
           {
            "colorbar": {
             "outlinewidth": 0,
             "ticks": ""
            },
            "colorscale": [
             [
              0,
              "#0d0887"
             ],
             [
              0.1111111111111111,
              "#46039f"
             ],
             [
              0.2222222222222222,
              "#7201a8"
             ],
             [
              0.3333333333333333,
              "#9c179e"
             ],
             [
              0.4444444444444444,
              "#bd3786"
             ],
             [
              0.5555555555555556,
              "#d8576b"
             ],
             [
              0.6666666666666666,
              "#ed7953"
             ],
             [
              0.7777777777777778,
              "#fb9f3a"
             ],
             [
              0.8888888888888888,
              "#fdca26"
             ],
             [
              1,
              "#f0f921"
             ]
            ],
            "type": "histogram2d"
           }
          ],
          "histogram2dcontour": [
           {
            "colorbar": {
             "outlinewidth": 0,
             "ticks": ""
            },
            "colorscale": [
             [
              0,
              "#0d0887"
             ],
             [
              0.1111111111111111,
              "#46039f"
             ],
             [
              0.2222222222222222,
              "#7201a8"
             ],
             [
              0.3333333333333333,
              "#9c179e"
             ],
             [
              0.4444444444444444,
              "#bd3786"
             ],
             [
              0.5555555555555556,
              "#d8576b"
             ],
             [
              0.6666666666666666,
              "#ed7953"
             ],
             [
              0.7777777777777778,
              "#fb9f3a"
             ],
             [
              0.8888888888888888,
              "#fdca26"
             ],
             [
              1,
              "#f0f921"
             ]
            ],
            "type": "histogram2dcontour"
           }
          ],
          "mesh3d": [
           {
            "colorbar": {
             "outlinewidth": 0,
             "ticks": ""
            },
            "type": "mesh3d"
           }
          ],
          "parcoords": [
           {
            "line": {
             "colorbar": {
              "outlinewidth": 0,
              "ticks": ""
             }
            },
            "type": "parcoords"
           }
          ],
          "pie": [
           {
            "automargin": true,
            "type": "pie"
           }
          ],
          "scatter": [
           {
            "fillpattern": {
             "fillmode": "overlay",
             "size": 10,
             "solidity": 0.2
            },
            "type": "scatter"
           }
          ],
          "scatter3d": [
           {
            "line": {
             "colorbar": {
              "outlinewidth": 0,
              "ticks": ""
             }
            },
            "marker": {
             "colorbar": {
              "outlinewidth": 0,
              "ticks": ""
             }
            },
            "type": "scatter3d"
           }
          ],
          "scattercarpet": [
           {
            "marker": {
             "colorbar": {
              "outlinewidth": 0,
              "ticks": ""
             }
            },
            "type": "scattercarpet"
           }
          ],
          "scattergeo": [
           {
            "marker": {
             "colorbar": {
              "outlinewidth": 0,
              "ticks": ""
             }
            },
            "type": "scattergeo"
           }
          ],
          "scattergl": [
           {
            "marker": {
             "colorbar": {
              "outlinewidth": 0,
              "ticks": ""
             }
            },
            "type": "scattergl"
           }
          ],
          "scattermap": [
           {
            "marker": {
             "colorbar": {
              "outlinewidth": 0,
              "ticks": ""
             }
            },
            "type": "scattermap"
           }
          ],
          "scattermapbox": [
           {
            "marker": {
             "colorbar": {
              "outlinewidth": 0,
              "ticks": ""
             }
            },
            "type": "scattermapbox"
           }
          ],
          "scatterpolar": [
           {
            "marker": {
             "colorbar": {
              "outlinewidth": 0,
              "ticks": ""
             }
            },
            "type": "scatterpolar"
           }
          ],
          "scatterpolargl": [
           {
            "marker": {
             "colorbar": {
              "outlinewidth": 0,
              "ticks": ""
             }
            },
            "type": "scatterpolargl"
           }
          ],
          "scatterternary": [
           {
            "marker": {
             "colorbar": {
              "outlinewidth": 0,
              "ticks": ""
             }
            },
            "type": "scatterternary"
           }
          ],
          "surface": [
           {
            "colorbar": {
             "outlinewidth": 0,
             "ticks": ""
            },
            "colorscale": [
             [
              0,
              "#0d0887"
             ],
             [
              0.1111111111111111,
              "#46039f"
             ],
             [
              0.2222222222222222,
              "#7201a8"
             ],
             [
              0.3333333333333333,
              "#9c179e"
             ],
             [
              0.4444444444444444,
              "#bd3786"
             ],
             [
              0.5555555555555556,
              "#d8576b"
             ],
             [
              0.6666666666666666,
              "#ed7953"
             ],
             [
              0.7777777777777778,
              "#fb9f3a"
             ],
             [
              0.8888888888888888,
              "#fdca26"
             ],
             [
              1,
              "#f0f921"
             ]
            ],
            "type": "surface"
           }
          ],
          "table": [
           {
            "cells": {
             "fill": {
              "color": "#EBF0F8"
             },
             "line": {
              "color": "white"
             }
            },
            "header": {
             "fill": {
              "color": "#C8D4E3"
             },
             "line": {
              "color": "white"
             }
            },
            "type": "table"
           }
          ]
         },
         "layout": {
          "annotationdefaults": {
           "arrowcolor": "#2a3f5f",
           "arrowhead": 0,
           "arrowwidth": 1
          },
          "autotypenumbers": "strict",
          "coloraxis": {
           "colorbar": {
            "outlinewidth": 0,
            "ticks": ""
           }
          },
          "colorscale": {
           "diverging": [
            [
             0,
             "#8e0152"
            ],
            [
             0.1,
             "#c51b7d"
            ],
            [
             0.2,
             "#de77ae"
            ],
            [
             0.3,
             "#f1b6da"
            ],
            [
             0.4,
             "#fde0ef"
            ],
            [
             0.5,
             "#f7f7f7"
            ],
            [
             0.6,
             "#e6f5d0"
            ],
            [
             0.7,
             "#b8e186"
            ],
            [
             0.8,
             "#7fbc41"
            ],
            [
             0.9,
             "#4d9221"
            ],
            [
             1,
             "#276419"
            ]
           ],
           "sequential": [
            [
             0,
             "#0d0887"
            ],
            [
             0.1111111111111111,
             "#46039f"
            ],
            [
             0.2222222222222222,
             "#7201a8"
            ],
            [
             0.3333333333333333,
             "#9c179e"
            ],
            [
             0.4444444444444444,
             "#bd3786"
            ],
            [
             0.5555555555555556,
             "#d8576b"
            ],
            [
             0.6666666666666666,
             "#ed7953"
            ],
            [
             0.7777777777777778,
             "#fb9f3a"
            ],
            [
             0.8888888888888888,
             "#fdca26"
            ],
            [
             1,
             "#f0f921"
            ]
           ],
           "sequentialminus": [
            [
             0,
             "#0d0887"
            ],
            [
             0.1111111111111111,
             "#46039f"
            ],
            [
             0.2222222222222222,
             "#7201a8"
            ],
            [
             0.3333333333333333,
             "#9c179e"
            ],
            [
             0.4444444444444444,
             "#bd3786"
            ],
            [
             0.5555555555555556,
             "#d8576b"
            ],
            [
             0.6666666666666666,
             "#ed7953"
            ],
            [
             0.7777777777777778,
             "#fb9f3a"
            ],
            [
             0.8888888888888888,
             "#fdca26"
            ],
            [
             1,
             "#f0f921"
            ]
           ]
          },
          "colorway": [
           "#636efa",
           "#EF553B",
           "#00cc96",
           "#ab63fa",
           "#FFA15A",
           "#19d3f3",
           "#FF6692",
           "#B6E880",
           "#FF97FF",
           "#FECB52"
          ],
          "font": {
           "color": "#2a3f5f"
          },
          "geo": {
           "bgcolor": "white",
           "lakecolor": "white",
           "landcolor": "white",
           "showlakes": true,
           "showland": true,
           "subunitcolor": "#C8D4E3"
          },
          "hoverlabel": {
           "align": "left"
          },
          "hovermode": "closest",
          "mapbox": {
           "style": "light"
          },
          "paper_bgcolor": "white",
          "plot_bgcolor": "white",
          "polar": {
           "angularaxis": {
            "gridcolor": "#EBF0F8",
            "linecolor": "#EBF0F8",
            "ticks": ""
           },
           "bgcolor": "white",
           "radialaxis": {
            "gridcolor": "#EBF0F8",
            "linecolor": "#EBF0F8",
            "ticks": ""
           }
          },
          "scene": {
           "xaxis": {
            "backgroundcolor": "white",
            "gridcolor": "#DFE8F3",
            "gridwidth": 2,
            "linecolor": "#EBF0F8",
            "showbackground": true,
            "ticks": "",
            "zerolinecolor": "#EBF0F8"
           },
           "yaxis": {
            "backgroundcolor": "white",
            "gridcolor": "#DFE8F3",
            "gridwidth": 2,
            "linecolor": "#EBF0F8",
            "showbackground": true,
            "ticks": "",
            "zerolinecolor": "#EBF0F8"
           },
           "zaxis": {
            "backgroundcolor": "white",
            "gridcolor": "#DFE8F3",
            "gridwidth": 2,
            "linecolor": "#EBF0F8",
            "showbackground": true,
            "ticks": "",
            "zerolinecolor": "#EBF0F8"
           }
          },
          "shapedefaults": {
           "line": {
            "color": "#2a3f5f"
           }
          },
          "ternary": {
           "aaxis": {
            "gridcolor": "#DFE8F3",
            "linecolor": "#A2B1C6",
            "ticks": ""
           },
           "baxis": {
            "gridcolor": "#DFE8F3",
            "linecolor": "#A2B1C6",
            "ticks": ""
           },
           "bgcolor": "white",
           "caxis": {
            "gridcolor": "#DFE8F3",
            "linecolor": "#A2B1C6",
            "ticks": ""
           }
          },
          "title": {
           "x": 0.05
          },
          "xaxis": {
           "automargin": true,
           "gridcolor": "#EBF0F8",
           "linecolor": "#EBF0F8",
           "ticks": "",
           "title": {
            "standoff": 15
           },
           "zerolinecolor": "#EBF0F8",
           "zerolinewidth": 2
          },
          "yaxis": {
           "automargin": true,
           "gridcolor": "#EBF0F8",
           "linecolor": "#EBF0F8",
           "ticks": "",
           "title": {
            "standoff": 15
           },
           "zerolinecolor": "#EBF0F8",
           "zerolinewidth": 2
          }
         }
        },
        "title": {
         "font": {
          "color": "Black",
          "size": 22
         },
         "text": "<b>Term score decline per Topic</b>",
         "x": 0.5,
         "xanchor": "center",
         "y": 0.9,
         "yanchor": "top"
        },
        "width": 800,
        "xaxis": {
         "dtick": 2,
         "range": [
          0,
          10
         ],
         "tick0": 1,
         "title": {
          "text": "Term Rank"
         }
        },
        "yaxis": {
         "title": {
          "text": "c-TF-IDF score"
         }
        }
       }
      }
     },
     "metadata": {},
     "output_type": "display_data"
    }
   ],
   "source": [
    "topic_model.visualize_term_rank()"
   ]
  }
 ],
 "metadata": {
  "kernelspec": {
   "display_name": ".venv",
   "language": "python",
   "name": "python3"
  },
  "language_info": {
   "codemirror_mode": {
    "name": "ipython",
    "version": 3
   },
   "file_extension": ".py",
   "mimetype": "text/x-python",
   "name": "python",
   "nbconvert_exporter": "python",
   "pygments_lexer": "ipython3",
   "version": "3.12.10"
  }
 },
 "nbformat": 4,
 "nbformat_minor": 5
}
