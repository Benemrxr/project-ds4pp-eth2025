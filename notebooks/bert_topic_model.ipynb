{
 "cells": [
  {
   "cell_type": "code",
   "execution_count": 1,
   "id": "981b4eba",
   "metadata": {},
   "outputs": [
    {
     "name": "stderr",
     "output_type": "stream",
     "text": [
      "[nltk_data] Downloading package stopwords to /Users/rada/nltk_data...\n",
      "[nltk_data]   Package stopwords is already up-to-date!\n"
     ]
    }
   ],
   "source": [
    "# --- Load full dataset and drop missing articles ---\n",
    "import pandas as pd\n",
    "\n",
    "csv_path = \"../data/raw/newspapers/all-the-news-2-1.csv\"\n",
    "df = pd.read_csv(csv_path, nrows=100_000)\n",
    "df = df.dropna(subset=[\"article\"])\n",
    "df = df[df[\"article\"].str.strip().astype(bool)]\n",
    "\n",
    "# --- Preprocess text ---\n",
    "import re\n",
    "import nltk\n",
    "from nltk.corpus import stopwords\n",
    "\n",
    "# Download stopwords if not done already\n",
    "nltk.download('stopwords')\n",
    "stop_words = set(stopwords.words('english'))\n",
    "\n",
    "def preprocess_text(text):\n",
    "    if not isinstance(text, str):\n",
    "        return \"\"\n",
    "\n",
    "    text = text.lower()  # Lowercase\n",
    "    text = re.sub(r'http\\S+|www\\S+', '', text)  # Remove URLs\n",
    "    text = re.sub(r'\\d+', '', text)  # Remove digits (optional)\n",
    "    text = re.sub(r'[^\\w\\s]', '', text)  # Remove punctuation\n",
    "    text = re.sub(r'\\s+', ' ', text).strip()  # Normalize whitespace\n",
    "    \n",
    "    # Remove stopwords\n",
    "    tokens = [word for word in text.split() if word not in stop_words]\n",
    "    return \" \".join(tokens)\n",
    "\n",
    "# Example: assume your DataFrame has a 'raw_text' column\n",
    "df['clean_text'] = df['article'].apply(preprocess_text)"
   ]
  },
  {
   "cell_type": "code",
   "execution_count": 2,
   "id": "4b09ae38",
   "metadata": {},
   "outputs": [
    {
     "data": {
      "application/vnd.jupyter.widget-view+json": {
       "model_id": "1d2ab08a5ddc42408da820dfb8efe0ef",
       "version_major": 2,
       "version_minor": 0
      },
      "text/plain": [
       "Batches:   0%|          | 0/157 [00:00<?, ?it/s]"
      ]
     },
     "metadata": {},
     "output_type": "display_data"
    },
    {
     "name": "stderr",
     "output_type": "stream",
     "text": [
      "2025-05-29 11:01:40,656 - BERTopic - Transformed documents to Embeddings\n",
      "2025-05-29 11:01:49,878 - BERTopic - Reduced dimensionality\n",
      "2025-05-29 11:01:49,973 - BERTopic - Clustered reduced embeddings\n"
     ]
    },
    {
     "data": {
      "text/html": [
       "<div>\n",
       "<style scoped>\n",
       "    .dataframe tbody tr th:only-of-type {\n",
       "        vertical-align: middle;\n",
       "    }\n",
       "\n",
       "    .dataframe tbody tr th {\n",
       "        vertical-align: top;\n",
       "    }\n",
       "\n",
       "    .dataframe thead th {\n",
       "        text-align: right;\n",
       "    }\n",
       "</style>\n",
       "<table border=\"1\" class=\"dataframe\">\n",
       "  <thead>\n",
       "    <tr style=\"text-align: right;\">\n",
       "      <th></th>\n",
       "      <th>Topic</th>\n",
       "      <th>Count</th>\n",
       "      <th>Name</th>\n",
       "    </tr>\n",
       "  </thead>\n",
       "  <tbody>\n",
       "    <tr>\n",
       "      <th>0</th>\n",
       "      <td>-1</td>\n",
       "      <td>1631</td>\n",
       "      <td>-1_said_people_like_one</td>\n",
       "    </tr>\n",
       "    <tr>\n",
       "      <th>1</th>\n",
       "      <td>0</td>\n",
       "      <td>209</td>\n",
       "      <td>0_art_artists_work_artist</td>\n",
       "    </tr>\n",
       "    <tr>\n",
       "      <th>2</th>\n",
       "      <td>1</td>\n",
       "      <td>186</td>\n",
       "      <td>1_music_album_song_band</td>\n",
       "    </tr>\n",
       "    <tr>\n",
       "      <th>3</th>\n",
       "      <td>2</td>\n",
       "      <td>125</td>\n",
       "      <td>2_kardashian_chyna_kylie_got</td>\n",
       "    </tr>\n",
       "    <tr>\n",
       "      <th>4</th>\n",
       "      <td>3</td>\n",
       "      <td>119</td>\n",
       "      <td>3_brexit_eu_britain_minister</td>\n",
       "    </tr>\n",
       "  </tbody>\n",
       "</table>\n",
       "</div>"
      ],
      "text/plain": [
       "   Topic  Count                          Name\n",
       "0     -1   1631       -1_said_people_like_one\n",
       "1      0    209     0_art_artists_work_artist\n",
       "2      1    186       1_music_album_song_band\n",
       "3      2    125  2_kardashian_chyna_kylie_got\n",
       "4      3    119  3_brexit_eu_britain_minister"
      ]
     },
     "metadata": {},
     "output_type": "display_data"
    }
   ],
   "source": [
    "# Optional: sample for performance (adjust as needed)\n",
    "df_sample = df.sample(n=5000, random_state=42)  # You can increase this\n",
    "\n",
    "# --- Fit BERTopic ---\n",
    "from bertopic import BERTopic\n",
    "\n",
    "topic_model = BERTopic(language=\"english\", verbose=True)\n",
    "topics, probs = topic_model.fit_transform(df_sample[\"clean_text\"].tolist())\n",
    "\n",
    "# --- View top topics ---\n",
    "topic_info = topic_model.get_topic_info()\n",
    "display(topic_info.head())\n",
    "\n",
    "# --- Visualize ---\n",
    "topic_model.visualize_topics()\n",
    "\n",
    "# --- Representative documents ---\n",
    "reps = topic_model.get_representative_docs()\n"
   ]
  },
  {
   "cell_type": "code",
   "execution_count": 3,
   "id": "98bc2f57",
   "metadata": {},
   "outputs": [
    {
     "data": {
      "application/vnd.plotly.v1+json": {
       "config": {
        "plotlyServerURL": "https://plot.ly"
       },
       "data": [
        {
         "marker": {
          "color": "#D55E00"
         },
         "orientation": "h",
         "type": "bar",
         "x": [
          0.011391233579100025,
          0.011586565121645416,
          0.012307832753572218,
          0.01480739354678829,
          0.024468659680653523
         ],
         "xaxis": "x",
         "y": [
          "museum  ",
          "artist  ",
          "work  ",
          "artists  ",
          "art  "
         ],
         "yaxis": "y"
        },
        {
         "marker": {
          "color": "#0072B2"
         },
         "orientation": "h",
         "type": "bar",
         "x": [
          0.014050092844758763,
          0.014887730910734259,
          0.014924804875250074,
          0.01609623721492886,
          0.022299665490886772
         ],
         "xaxis": "x2",
         "y": [
          "like  ",
          "band  ",
          "song  ",
          "album  ",
          "music  "
         ],
         "yaxis": "y2"
        },
        {
         "marker": {
          "color": "#CC79A7"
         },
         "orientation": "h",
         "type": "bar",
         "x": [
          0.01785555950115878,
          0.018293555666037454,
          0.021078431048506634,
          0.024399250716317707,
          0.025422886182185092
         ],
         "xaxis": "x3",
         "y": [
          "shes  ",
          "got  ",
          "kylie  ",
          "chyna  ",
          "kardashian  "
         ],
         "yaxis": "y3"
        },
        {
         "marker": {
          "color": "#E69F00"
         },
         "orientation": "h",
         "type": "bar",
         "x": [
          0.018983250216466505,
          0.019655676060324877,
          0.02004152889240936,
          0.0351571780132003,
          0.03643024637333796
         ],
         "xaxis": "x4",
         "y": [
          "european  ",
          "minister  ",
          "britain  ",
          "eu  ",
          "brexit  "
         ],
         "yaxis": "y4"
        },
        {
         "marker": {
          "color": "#56B4E9"
         },
         "orientation": "h",
         "type": "bar",
         "x": [
          0.011871782352258853,
          0.01195190804796805,
          0.013851473107555988,
          0.015216462669606835,
          0.019783230229208183
         ],
         "xaxis": "x5",
         "y": [
          "patients  ",
          "marijuana  ",
          "opioid  ",
          "drug  ",
          "health  "
         ],
         "yaxis": "y5"
        },
        {
         "marker": {
          "color": "#009E73"
         },
         "orientation": "h",
         "type": "bar",
         "x": [
          0.01545966669344831,
          0.01617636319732452,
          0.017335232735086997,
          0.017384564064152945,
          0.018703546444866156
         ],
         "xaxis": "x6",
         "y": [
          "kelly  ",
          "assault  ",
          "tmz  ",
          "cops  ",
          "sexual  "
         ],
         "yaxis": "y6"
        },
        {
         "marker": {
          "color": "#F0E442"
         },
         "orientation": "h",
         "type": "bar",
         "x": [
          0.014553352844506304,
          0.015512018734809398,
          0.01552181847998682,
          0.016096886400803017,
          0.018156018861600173
         ],
         "xaxis": "x7",
         "y": [
          "voters  ",
          "party  ",
          "democrats  ",
          "trump  ",
          "republican  "
         ],
         "yaxis": "y7"
        },
        {
         "marker": {
          "color": "#D55E00"
         },
         "orientation": "h",
         "type": "bar",
         "x": [
          0.01145164812836321,
          0.013777246942085077,
          0.014211287769692984,
          0.024869834379630446,
          0.02554250996832129
         ],
         "xaxis": "x8",
         "y": [
          "eating  ",
          "eat  ",
          "pizza  ",
          "meat  ",
          "food  "
         ],
         "yaxis": "y8"
        },
        {
         "marker": {
          "color": "#0072B2"
         },
         "orientation": "h",
         "type": "bar",
         "x": [
          0.01703912650601406,
          0.022092354072354672,
          0.025176752516118454,
          0.027317691803941807,
          0.03249599438839179
         ],
         "xaxis": "x9",
         "y": [
          "trump  ",
          "immigrants  ",
          "border  ",
          "daca  ",
          "immigration  "
         ],
         "yaxis": "y9"
        },
        {
         "marker": {
          "color": "#CC79A7"
         },
         "orientation": "h",
         "type": "bar",
         "x": [
          0.0232965331665691,
          0.023386748082684733,
          0.024318430653345723,
          0.025509705618165013,
          0.0293862783234206
         ],
         "xaxis": "x10",
         "y": [
          "rate  ",
          "index  ",
          "dollar  ",
          "trade  ",
          "fed  "
         ],
         "yaxis": "y10"
        }
       ],
       "layout": {
        "annotations": [
         {
          "font": {
           "size": 16
          },
          "showarrow": false,
          "text": "Topic 0",
          "x": 0.0875,
          "xanchor": "center",
          "xref": "paper",
          "y": 1,
          "yanchor": "bottom",
          "yref": "paper"
         },
         {
          "font": {
           "size": 16
          },
          "showarrow": false,
          "text": "Topic 1",
          "x": 0.36250000000000004,
          "xanchor": "center",
          "xref": "paper",
          "y": 1,
          "yanchor": "bottom",
          "yref": "paper"
         },
         {
          "font": {
           "size": 16
          },
          "showarrow": false,
          "text": "Topic 2",
          "x": 0.6375000000000001,
          "xanchor": "center",
          "xref": "paper",
          "y": 1,
          "yanchor": "bottom",
          "yref": "paper"
         },
         {
          "font": {
           "size": 16
          },
          "showarrow": false,
          "text": "Topic 3",
          "x": 0.9125,
          "xanchor": "center",
          "xref": "paper",
          "y": 1,
          "yanchor": "bottom",
          "yref": "paper"
         },
         {
          "font": {
           "size": 16
          },
          "showarrow": false,
          "text": "Topic 4",
          "x": 0.0875,
          "xanchor": "center",
          "xref": "paper",
          "y": 0.6222222222222222,
          "yanchor": "bottom",
          "yref": "paper"
         },
         {
          "font": {
           "size": 16
          },
          "showarrow": false,
          "text": "Topic 5",
          "x": 0.36250000000000004,
          "xanchor": "center",
          "xref": "paper",
          "y": 0.6222222222222222,
          "yanchor": "bottom",
          "yref": "paper"
         },
         {
          "font": {
           "size": 16
          },
          "showarrow": false,
          "text": "Topic 6",
          "x": 0.6375000000000001,
          "xanchor": "center",
          "xref": "paper",
          "y": 0.6222222222222222,
          "yanchor": "bottom",
          "yref": "paper"
         },
         {
          "font": {
           "size": 16
          },
          "showarrow": false,
          "text": "Topic 7",
          "x": 0.9125,
          "xanchor": "center",
          "xref": "paper",
          "y": 0.6222222222222222,
          "yanchor": "bottom",
          "yref": "paper"
         },
         {
          "font": {
           "size": 16
          },
          "showarrow": false,
          "text": "Topic 8",
          "x": 0.0875,
          "xanchor": "center",
          "xref": "paper",
          "y": 0.24444444444444446,
          "yanchor": "bottom",
          "yref": "paper"
         },
         {
          "font": {
           "size": 16
          },
          "showarrow": false,
          "text": "Topic 9",
          "x": 0.36250000000000004,
          "xanchor": "center",
          "xref": "paper",
          "y": 0.24444444444444446,
          "yanchor": "bottom",
          "yref": "paper"
         }
        ],
        "height": 750,
        "hoverlabel": {
         "bgcolor": "white",
         "font": {
          "family": "Rockwell",
          "size": 16
         }
        },
        "showlegend": false,
        "template": {
         "data": {
          "bar": [
           {
            "error_x": {
             "color": "#2a3f5f"
            },
            "error_y": {
             "color": "#2a3f5f"
            },
            "marker": {
             "line": {
              "color": "white",
              "width": 0.5
             },
             "pattern": {
              "fillmode": "overlay",
              "size": 10,
              "solidity": 0.2
             }
            },
            "type": "bar"
           }
          ],
          "barpolar": [
           {
            "marker": {
             "line": {
              "color": "white",
              "width": 0.5
             },
             "pattern": {
              "fillmode": "overlay",
              "size": 10,
              "solidity": 0.2
             }
            },
            "type": "barpolar"
           }
          ],
          "carpet": [
           {
            "aaxis": {
             "endlinecolor": "#2a3f5f",
             "gridcolor": "#C8D4E3",
             "linecolor": "#C8D4E3",
             "minorgridcolor": "#C8D4E3",
             "startlinecolor": "#2a3f5f"
            },
            "baxis": {
             "endlinecolor": "#2a3f5f",
             "gridcolor": "#C8D4E3",
             "linecolor": "#C8D4E3",
             "minorgridcolor": "#C8D4E3",
             "startlinecolor": "#2a3f5f"
            },
            "type": "carpet"
           }
          ],
          "choropleth": [
           {
            "colorbar": {
             "outlinewidth": 0,
             "ticks": ""
            },
            "type": "choropleth"
           }
          ],
          "contour": [
           {
            "colorbar": {
             "outlinewidth": 0,
             "ticks": ""
            },
            "colorscale": [
             [
              0,
              "#0d0887"
             ],
             [
              0.1111111111111111,
              "#46039f"
             ],
             [
              0.2222222222222222,
              "#7201a8"
             ],
             [
              0.3333333333333333,
              "#9c179e"
             ],
             [
              0.4444444444444444,
              "#bd3786"
             ],
             [
              0.5555555555555556,
              "#d8576b"
             ],
             [
              0.6666666666666666,
              "#ed7953"
             ],
             [
              0.7777777777777778,
              "#fb9f3a"
             ],
             [
              0.8888888888888888,
              "#fdca26"
             ],
             [
              1,
              "#f0f921"
             ]
            ],
            "type": "contour"
           }
          ],
          "contourcarpet": [
           {
            "colorbar": {
             "outlinewidth": 0,
             "ticks": ""
            },
            "type": "contourcarpet"
           }
          ],
          "heatmap": [
           {
            "colorbar": {
             "outlinewidth": 0,
             "ticks": ""
            },
            "colorscale": [
             [
              0,
              "#0d0887"
             ],
             [
              0.1111111111111111,
              "#46039f"
             ],
             [
              0.2222222222222222,
              "#7201a8"
             ],
             [
              0.3333333333333333,
              "#9c179e"
             ],
             [
              0.4444444444444444,
              "#bd3786"
             ],
             [
              0.5555555555555556,
              "#d8576b"
             ],
             [
              0.6666666666666666,
              "#ed7953"
             ],
             [
              0.7777777777777778,
              "#fb9f3a"
             ],
             [
              0.8888888888888888,
              "#fdca26"
             ],
             [
              1,
              "#f0f921"
             ]
            ],
            "type": "heatmap"
           }
          ],
          "histogram": [
           {
            "marker": {
             "pattern": {
              "fillmode": "overlay",
              "size": 10,
              "solidity": 0.2
             }
            },
            "type": "histogram"
           }
          ],
          "histogram2d": [
           {
            "colorbar": {
             "outlinewidth": 0,
             "ticks": ""
            },
            "colorscale": [
             [
              0,
              "#0d0887"
             ],
             [
              0.1111111111111111,
              "#46039f"
             ],
             [
              0.2222222222222222,
              "#7201a8"
             ],
             [
              0.3333333333333333,
              "#9c179e"
             ],
             [
              0.4444444444444444,
              "#bd3786"
             ],
             [
              0.5555555555555556,
              "#d8576b"
             ],
             [
              0.6666666666666666,
              "#ed7953"
             ],
             [
              0.7777777777777778,
              "#fb9f3a"
             ],
             [
              0.8888888888888888,
              "#fdca26"
             ],
             [
              1,
              "#f0f921"
             ]
            ],
            "type": "histogram2d"
           }
          ],
          "histogram2dcontour": [
           {
            "colorbar": {
             "outlinewidth": 0,
             "ticks": ""
            },
            "colorscale": [
             [
              0,
              "#0d0887"
             ],
             [
              0.1111111111111111,
              "#46039f"
             ],
             [
              0.2222222222222222,
              "#7201a8"
             ],
             [
              0.3333333333333333,
              "#9c179e"
             ],
             [
              0.4444444444444444,
              "#bd3786"
             ],
             [
              0.5555555555555556,
              "#d8576b"
             ],
             [
              0.6666666666666666,
              "#ed7953"
             ],
             [
              0.7777777777777778,
              "#fb9f3a"
             ],
             [
              0.8888888888888888,
              "#fdca26"
             ],
             [
              1,
              "#f0f921"
             ]
            ],
            "type": "histogram2dcontour"
           }
          ],
          "mesh3d": [
           {
            "colorbar": {
             "outlinewidth": 0,
             "ticks": ""
            },
            "type": "mesh3d"
           }
          ],
          "parcoords": [
           {
            "line": {
             "colorbar": {
              "outlinewidth": 0,
              "ticks": ""
             }
            },
            "type": "parcoords"
           }
          ],
          "pie": [
           {
            "automargin": true,
            "type": "pie"
           }
          ],
          "scatter": [
           {
            "fillpattern": {
             "fillmode": "overlay",
             "size": 10,
             "solidity": 0.2
            },
            "type": "scatter"
           }
          ],
          "scatter3d": [
           {
            "line": {
             "colorbar": {
              "outlinewidth": 0,
              "ticks": ""
             }
            },
            "marker": {
             "colorbar": {
              "outlinewidth": 0,
              "ticks": ""
             }
            },
            "type": "scatter3d"
           }
          ],
          "scattercarpet": [
           {
            "marker": {
             "colorbar": {
              "outlinewidth": 0,
              "ticks": ""
             }
            },
            "type": "scattercarpet"
           }
          ],
          "scattergeo": [
           {
            "marker": {
             "colorbar": {
              "outlinewidth": 0,
              "ticks": ""
             }
            },
            "type": "scattergeo"
           }
          ],
          "scattergl": [
           {
            "marker": {
             "colorbar": {
              "outlinewidth": 0,
              "ticks": ""
             }
            },
            "type": "scattergl"
           }
          ],
          "scattermap": [
           {
            "marker": {
             "colorbar": {
              "outlinewidth": 0,
              "ticks": ""
             }
            },
            "type": "scattermap"
           }
          ],
          "scattermapbox": [
           {
            "marker": {
             "colorbar": {
              "outlinewidth": 0,
              "ticks": ""
             }
            },
            "type": "scattermapbox"
           }
          ],
          "scatterpolar": [
           {
            "marker": {
             "colorbar": {
              "outlinewidth": 0,
              "ticks": ""
             }
            },
            "type": "scatterpolar"
           }
          ],
          "scatterpolargl": [
           {
            "marker": {
             "colorbar": {
              "outlinewidth": 0,
              "ticks": ""
             }
            },
            "type": "scatterpolargl"
           }
          ],
          "scatterternary": [
           {
            "marker": {
             "colorbar": {
              "outlinewidth": 0,
              "ticks": ""
             }
            },
            "type": "scatterternary"
           }
          ],
          "surface": [
           {
            "colorbar": {
             "outlinewidth": 0,
             "ticks": ""
            },
            "colorscale": [
             [
              0,
              "#0d0887"
             ],
             [
              0.1111111111111111,
              "#46039f"
             ],
             [
              0.2222222222222222,
              "#7201a8"
             ],
             [
              0.3333333333333333,
              "#9c179e"
             ],
             [
              0.4444444444444444,
              "#bd3786"
             ],
             [
              0.5555555555555556,
              "#d8576b"
             ],
             [
              0.6666666666666666,
              "#ed7953"
             ],
             [
              0.7777777777777778,
              "#fb9f3a"
             ],
             [
              0.8888888888888888,
              "#fdca26"
             ],
             [
              1,
              "#f0f921"
             ]
            ],
            "type": "surface"
           }
          ],
          "table": [
           {
            "cells": {
             "fill": {
              "color": "#EBF0F8"
             },
             "line": {
              "color": "white"
             }
            },
            "header": {
             "fill": {
              "color": "#C8D4E3"
             },
             "line": {
              "color": "white"
             }
            },
            "type": "table"
           }
          ]
         },
         "layout": {
          "annotationdefaults": {
           "arrowcolor": "#2a3f5f",
           "arrowhead": 0,
           "arrowwidth": 1
          },
          "autotypenumbers": "strict",
          "coloraxis": {
           "colorbar": {
            "outlinewidth": 0,
            "ticks": ""
           }
          },
          "colorscale": {
           "diverging": [
            [
             0,
             "#8e0152"
            ],
            [
             0.1,
             "#c51b7d"
            ],
            [
             0.2,
             "#de77ae"
            ],
            [
             0.3,
             "#f1b6da"
            ],
            [
             0.4,
             "#fde0ef"
            ],
            [
             0.5,
             "#f7f7f7"
            ],
            [
             0.6,
             "#e6f5d0"
            ],
            [
             0.7,
             "#b8e186"
            ],
            [
             0.8,
             "#7fbc41"
            ],
            [
             0.9,
             "#4d9221"
            ],
            [
             1,
             "#276419"
            ]
           ],
           "sequential": [
            [
             0,
             "#0d0887"
            ],
            [
             0.1111111111111111,
             "#46039f"
            ],
            [
             0.2222222222222222,
             "#7201a8"
            ],
            [
             0.3333333333333333,
             "#9c179e"
            ],
            [
             0.4444444444444444,
             "#bd3786"
            ],
            [
             0.5555555555555556,
             "#d8576b"
            ],
            [
             0.6666666666666666,
             "#ed7953"
            ],
            [
             0.7777777777777778,
             "#fb9f3a"
            ],
            [
             0.8888888888888888,
             "#fdca26"
            ],
            [
             1,
             "#f0f921"
            ]
           ],
           "sequentialminus": [
            [
             0,
             "#0d0887"
            ],
            [
             0.1111111111111111,
             "#46039f"
            ],
            [
             0.2222222222222222,
             "#7201a8"
            ],
            [
             0.3333333333333333,
             "#9c179e"
            ],
            [
             0.4444444444444444,
             "#bd3786"
            ],
            [
             0.5555555555555556,
             "#d8576b"
            ],
            [
             0.6666666666666666,
             "#ed7953"
            ],
            [
             0.7777777777777778,
             "#fb9f3a"
            ],
            [
             0.8888888888888888,
             "#fdca26"
            ],
            [
             1,
             "#f0f921"
            ]
           ]
          },
          "colorway": [
           "#636efa",
           "#EF553B",
           "#00cc96",
           "#ab63fa",
           "#FFA15A",
           "#19d3f3",
           "#FF6692",
           "#B6E880",
           "#FF97FF",
           "#FECB52"
          ],
          "font": {
           "color": "#2a3f5f"
          },
          "geo": {
           "bgcolor": "white",
           "lakecolor": "white",
           "landcolor": "white",
           "showlakes": true,
           "showland": true,
           "subunitcolor": "#C8D4E3"
          },
          "hoverlabel": {
           "align": "left"
          },
          "hovermode": "closest",
          "mapbox": {
           "style": "light"
          },
          "paper_bgcolor": "white",
          "plot_bgcolor": "white",
          "polar": {
           "angularaxis": {
            "gridcolor": "#EBF0F8",
            "linecolor": "#EBF0F8",
            "ticks": ""
           },
           "bgcolor": "white",
           "radialaxis": {
            "gridcolor": "#EBF0F8",
            "linecolor": "#EBF0F8",
            "ticks": ""
           }
          },
          "scene": {
           "xaxis": {
            "backgroundcolor": "white",
            "gridcolor": "#DFE8F3",
            "gridwidth": 2,
            "linecolor": "#EBF0F8",
            "showbackground": true,
            "ticks": "",
            "zerolinecolor": "#EBF0F8"
           },
           "yaxis": {
            "backgroundcolor": "white",
            "gridcolor": "#DFE8F3",
            "gridwidth": 2,
            "linecolor": "#EBF0F8",
            "showbackground": true,
            "ticks": "",
            "zerolinecolor": "#EBF0F8"
           },
           "zaxis": {
            "backgroundcolor": "white",
            "gridcolor": "#DFE8F3",
            "gridwidth": 2,
            "linecolor": "#EBF0F8",
            "showbackground": true,
            "ticks": "",
            "zerolinecolor": "#EBF0F8"
           }
          },
          "shapedefaults": {
           "line": {
            "color": "#2a3f5f"
           }
          },
          "ternary": {
           "aaxis": {
            "gridcolor": "#DFE8F3",
            "linecolor": "#A2B1C6",
            "ticks": ""
           },
           "baxis": {
            "gridcolor": "#DFE8F3",
            "linecolor": "#A2B1C6",
            "ticks": ""
           },
           "bgcolor": "white",
           "caxis": {
            "gridcolor": "#DFE8F3",
            "linecolor": "#A2B1C6",
            "ticks": ""
           }
          },
          "title": {
           "x": 0.05
          },
          "xaxis": {
           "automargin": true,
           "gridcolor": "#EBF0F8",
           "linecolor": "#EBF0F8",
           "ticks": "",
           "title": {
            "standoff": 15
           },
           "zerolinecolor": "#EBF0F8",
           "zerolinewidth": 2
          },
          "yaxis": {
           "automargin": true,
           "gridcolor": "#EBF0F8",
           "linecolor": "#EBF0F8",
           "ticks": "",
           "title": {
            "standoff": 15
           },
           "zerolinecolor": "#EBF0F8",
           "zerolinewidth": 2
          }
         }
        },
        "title": {
         "font": {
          "color": "Black",
          "size": 22
         },
         "text": "Topic Word Scores",
         "x": 0.5,
         "xanchor": "center",
         "yanchor": "top"
        },
        "width": 1000,
        "xaxis": {
         "anchor": "y",
         "domain": [
          0,
          0.175
         ],
         "showgrid": true
        },
        "xaxis10": {
         "anchor": "y10",
         "domain": [
          0.275,
          0.45
         ],
         "showgrid": true
        },
        "xaxis11": {
         "anchor": "y11",
         "domain": [
          0.55,
          0.7250000000000001
         ],
         "showgrid": true
        },
        "xaxis12": {
         "anchor": "y12",
         "domain": [
          0.825,
          1
         ],
         "showgrid": true
        },
        "xaxis2": {
         "anchor": "y2",
         "domain": [
          0.275,
          0.45
         ],
         "showgrid": true
        },
        "xaxis3": {
         "anchor": "y3",
         "domain": [
          0.55,
          0.7250000000000001
         ],
         "showgrid": true
        },
        "xaxis4": {
         "anchor": "y4",
         "domain": [
          0.825,
          1
         ],
         "showgrid": true
        },
        "xaxis5": {
         "anchor": "y5",
         "domain": [
          0,
          0.175
         ],
         "showgrid": true
        },
        "xaxis6": {
         "anchor": "y6",
         "domain": [
          0.275,
          0.45
         ],
         "showgrid": true
        },
        "xaxis7": {
         "anchor": "y7",
         "domain": [
          0.55,
          0.7250000000000001
         ],
         "showgrid": true
        },
        "xaxis8": {
         "anchor": "y8",
         "domain": [
          0.825,
          1
         ],
         "showgrid": true
        },
        "xaxis9": {
         "anchor": "y9",
         "domain": [
          0,
          0.175
         ],
         "showgrid": true
        },
        "yaxis": {
         "anchor": "x",
         "domain": [
          0.7555555555555555,
          1
         ],
         "showgrid": true
        },
        "yaxis10": {
         "anchor": "x10",
         "domain": [
          0,
          0.24444444444444446
         ],
         "showgrid": true
        },
        "yaxis11": {
         "anchor": "x11",
         "domain": [
          0,
          0.24444444444444446
         ],
         "showgrid": true
        },
        "yaxis12": {
         "anchor": "x12",
         "domain": [
          0,
          0.24444444444444446
         ],
         "showgrid": true
        },
        "yaxis2": {
         "anchor": "x2",
         "domain": [
          0.7555555555555555,
          1
         ],
         "showgrid": true
        },
        "yaxis3": {
         "anchor": "x3",
         "domain": [
          0.7555555555555555,
          1
         ],
         "showgrid": true
        },
        "yaxis4": {
         "anchor": "x4",
         "domain": [
          0.7555555555555555,
          1
         ],
         "showgrid": true
        },
        "yaxis5": {
         "anchor": "x5",
         "domain": [
          0.37777777777777777,
          0.6222222222222222
         ],
         "showgrid": true
        },
        "yaxis6": {
         "anchor": "x6",
         "domain": [
          0.37777777777777777,
          0.6222222222222222
         ],
         "showgrid": true
        },
        "yaxis7": {
         "anchor": "x7",
         "domain": [
          0.37777777777777777,
          0.6222222222222222
         ],
         "showgrid": true
        },
        "yaxis8": {
         "anchor": "x8",
         "domain": [
          0.37777777777777777,
          0.6222222222222222
         ],
         "showgrid": true
        },
        "yaxis9": {
         "anchor": "x9",
         "domain": [
          0,
          0.24444444444444446
         ],
         "showgrid": true
        }
       }
      }
     },
     "metadata": {},
     "output_type": "display_data"
    }
   ],
   "source": [
    "topic_model.visualize_barchart(top_n_topics=10)"
   ]
  },
  {
   "cell_type": "code",
   "execution_count": 4,
   "id": "be4d8ef5",
   "metadata": {},
   "outputs": [
    {
     "data": {
      "application/vnd.plotly.v1+json": {
       "config": {
        "plotlyServerURL": "https://plot.ly"
       },
       "data": [
        {
         "coloraxis": "coloraxis",
         "hovertemplate": "x: %{x}<br>y: %{y}<br>Similarity Score: %{z}<extra></extra>",
         "name": "0",
         "type": "heatmap",
         "x": [
          "0_art_artists_work",
          "1_music_album_song",
          "2_kardashian_chyna_kylie",
          "3_brexit_eu_britain",
          "4_health_drug_opioid",
          "5_sexual_cops_tmz",
          "6_republican_trump_democrats",
          "7_food_meat_pizza",
          "8_immigration_daca_border",
          "9_fed_trade_dollar",
          "10_film_movie_movies",
          "11_north_korea_korean",
          "12_russian_putin_russia",
          "13_syria_forces_syrian",
          "14_fight_ufc_boxing",
          "15_mueller_investigation_tr...",
          "16_tariffs_trade_china",
          "17_climate_coal_energy",
          "18_iran_nuclear_irans",
          "19_nfl_football_bowl",
          "20_shares_company_billion",
          "21_security_hackers_informa...",
          "22_police_officers_shooting",
          "23_maduro_venezuelan_venezu...",
          "24_menu_expandable_indicates",
          "25_insurance_health_care",
          "26_moon_enters_mercury",
          "27_tesla_musk_car",
          "28_twitter_snapchat_content",
          "29_flight_boeing_airport",
          "30_lakers_lavar_lebron",
          "31_oil_crude_opec",
          "32_israeli_jerusalem_israel",
          "33_hurricane_storm_fire",
          "34_netflix_expandable_navig...",
          "35_plastic_species_recycling",
          "36_cup_soccer_game",
          "37_prison_crime_court",
          "38_sentences_vox_px",
          "39_facebook_zuckerberg_data",
          "40_amazon_flywheel_delivery",
          "41_china_chinese_beijing",
          "42_book_books_cinderella",
          "43_game_games_players",
          "44_ceo_google_company",
          "45_bank_banks_deutsche",
          "46_rohingya_ullah_buddhist",
          "47_kanye_lemon_kanyes",
          "48_uber_drivers_ubers",
          "49_apple_iphone_apples",
          "50_nba_basketball_league",
          "51_kavanaugh_court_supreme",
          "52_cohen_trump_daniels",
          "53_thrones_game_season",
          "54_yeah_think_ks",
          "55_wwe_ronda_wrestling",
          "56_french_le_france",
          "57_cow_india_bjp",
          "58_tax_budget_taxes",
          "59_gmt_italy_euro",
          "60_manafort_gates_manaforts",
          "61_ceu_puigdemont_grenell",
          "62_trump_billy_press",
          "63_died_zsa_death",
          "64_viceland_mero_desus",
          "65_season_episode_buffy",
          "66_boko_haram_sudan",
          "67_gibb_marathon_olympic",
          "68_gun_guns_violence",
          "69_teachers_workers_unions",
          "70_inning_homer_innings",
          "71_white_womens_people",
          "72_obama_politics_america",
          "73_nhl_hockey_season",
          "74_bolsonaro_brazilians_bra...",
          "75_baseball_yankees_players",
          "76_erdogan_turkey_turkish",
          "77_chapo_mexican_mexico",
          "78_nafta_canada_trade",
          "79_saudi_prince_arabia",
          "80_tyga_heres_kylie",
          "81_skin_korean_brands",
          "82_trump_right_like",
          "83_shares_management_percent"
         ],
         "xaxis": "x",
         "y": [
          "0_art_artists_work",
          "1_music_album_song",
          "2_kardashian_chyna_kylie",
          "3_brexit_eu_britain",
          "4_health_drug_opioid",
          "5_sexual_cops_tmz",
          "6_republican_trump_democrats",
          "7_food_meat_pizza",
          "8_immigration_daca_border",
          "9_fed_trade_dollar",
          "10_film_movie_movies",
          "11_north_korea_korean",
          "12_russian_putin_russia",
          "13_syria_forces_syrian",
          "14_fight_ufc_boxing",
          "15_mueller_investigation_tr...",
          "16_tariffs_trade_china",
          "17_climate_coal_energy",
          "18_iran_nuclear_irans",
          "19_nfl_football_bowl",
          "20_shares_company_billion",
          "21_security_hackers_informa...",
          "22_police_officers_shooting",
          "23_maduro_venezuelan_venezu...",
          "24_menu_expandable_indicates",
          "25_insurance_health_care",
          "26_moon_enters_mercury",
          "27_tesla_musk_car",
          "28_twitter_snapchat_content",
          "29_flight_boeing_airport",
          "30_lakers_lavar_lebron",
          "31_oil_crude_opec",
          "32_israeli_jerusalem_israel",
          "33_hurricane_storm_fire",
          "34_netflix_expandable_navig...",
          "35_plastic_species_recycling",
          "36_cup_soccer_game",
          "37_prison_crime_court",
          "38_sentences_vox_px",
          "39_facebook_zuckerberg_data",
          "40_amazon_flywheel_delivery",
          "41_china_chinese_beijing",
          "42_book_books_cinderella",
          "43_game_games_players",
          "44_ceo_google_company",
          "45_bank_banks_deutsche",
          "46_rohingya_ullah_buddhist",
          "47_kanye_lemon_kanyes",
          "48_uber_drivers_ubers",
          "49_apple_iphone_apples",
          "50_nba_basketball_league",
          "51_kavanaugh_court_supreme",
          "52_cohen_trump_daniels",
          "53_thrones_game_season",
          "54_yeah_think_ks",
          "55_wwe_ronda_wrestling",
          "56_french_le_france",
          "57_cow_india_bjp",
          "58_tax_budget_taxes",
          "59_gmt_italy_euro",
          "60_manafort_gates_manaforts",
          "61_ceu_puigdemont_grenell",
          "62_trump_billy_press",
          "63_died_zsa_death",
          "64_viceland_mero_desus",
          "65_season_episode_buffy",
          "66_boko_haram_sudan",
          "67_gibb_marathon_olympic",
          "68_gun_guns_violence",
          "69_teachers_workers_unions",
          "70_inning_homer_innings",
          "71_white_womens_people",
          "72_obama_politics_america",
          "73_nhl_hockey_season",
          "74_bolsonaro_brazilians_bra...",
          "75_baseball_yankees_players",
          "76_erdogan_turkey_turkish",
          "77_chapo_mexican_mexico",
          "78_nafta_canada_trade",
          "79_saudi_prince_arabia",
          "80_tyga_heres_kylie",
          "81_skin_korean_brands",
          "82_trump_right_like",
          "83_shares_management_percent"
         ],
         "yaxis": "y",
         "z": {
          "bdata": "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",
          "dtype": "f8",
          "shape": "84, 84"
         }
        }
       ],
       "layout": {
        "coloraxis": {
         "colorbar": {
          "title": {
           "text": "Similarity Score"
          }
         },
         "colorscale": [
          [
           0,
           "rgb(247,252,240)"
          ],
          [
           0.125,
           "rgb(224,243,219)"
          ],
          [
           0.25,
           "rgb(204,235,197)"
          ],
          [
           0.375,
           "rgb(168,221,181)"
          ],
          [
           0.5,
           "rgb(123,204,196)"
          ],
          [
           0.625,
           "rgb(78,179,211)"
          ],
          [
           0.75,
           "rgb(43,140,190)"
          ],
          [
           0.875,
           "rgb(8,104,172)"
          ],
          [
           1,
           "rgb(8,64,129)"
          ]
         ]
        },
        "height": 800,
        "hoverlabel": {
         "bgcolor": "white",
         "font": {
          "family": "Rockwell",
          "size": 16
         }
        },
        "legend": {
         "title": {
          "text": "Trend"
         }
        },
        "margin": {
         "t": 60
        },
        "showlegend": true,
        "template": {
         "data": {
          "bar": [
           {
            "error_x": {
             "color": "#2a3f5f"
            },
            "error_y": {
             "color": "#2a3f5f"
            },
            "marker": {
             "line": {
              "color": "#E5ECF6",
              "width": 0.5
             },
             "pattern": {
              "fillmode": "overlay",
              "size": 10,
              "solidity": 0.2
             }
            },
            "type": "bar"
           }
          ],
          "barpolar": [
           {
            "marker": {
             "line": {
              "color": "#E5ECF6",
              "width": 0.5
             },
             "pattern": {
              "fillmode": "overlay",
              "size": 10,
              "solidity": 0.2
             }
            },
            "type": "barpolar"
           }
          ],
          "carpet": [
           {
            "aaxis": {
             "endlinecolor": "#2a3f5f",
             "gridcolor": "white",
             "linecolor": "white",
             "minorgridcolor": "white",
             "startlinecolor": "#2a3f5f"
            },
            "baxis": {
             "endlinecolor": "#2a3f5f",
             "gridcolor": "white",
             "linecolor": "white",
             "minorgridcolor": "white",
             "startlinecolor": "#2a3f5f"
            },
            "type": "carpet"
           }
          ],
          "choropleth": [
           {
            "colorbar": {
             "outlinewidth": 0,
             "ticks": ""
            },
            "type": "choropleth"
           }
          ],
          "contour": [
           {
            "colorbar": {
             "outlinewidth": 0,
             "ticks": ""
            },
            "colorscale": [
             [
              0,
              "#0d0887"
             ],
             [
              0.1111111111111111,
              "#46039f"
             ],
             [
              0.2222222222222222,
              "#7201a8"
             ],
             [
              0.3333333333333333,
              "#9c179e"
             ],
             [
              0.4444444444444444,
              "#bd3786"
             ],
             [
              0.5555555555555556,
              "#d8576b"
             ],
             [
              0.6666666666666666,
              "#ed7953"
             ],
             [
              0.7777777777777778,
              "#fb9f3a"
             ],
             [
              0.8888888888888888,
              "#fdca26"
             ],
             [
              1,
              "#f0f921"
             ]
            ],
            "type": "contour"
           }
          ],
          "contourcarpet": [
           {
            "colorbar": {
             "outlinewidth": 0,
             "ticks": ""
            },
            "type": "contourcarpet"
           }
          ],
          "heatmap": [
           {
            "colorbar": {
             "outlinewidth": 0,
             "ticks": ""
            },
            "colorscale": [
             [
              0,
              "#0d0887"
             ],
             [
              0.1111111111111111,
              "#46039f"
             ],
             [
              0.2222222222222222,
              "#7201a8"
             ],
             [
              0.3333333333333333,
              "#9c179e"
             ],
             [
              0.4444444444444444,
              "#bd3786"
             ],
             [
              0.5555555555555556,
              "#d8576b"
             ],
             [
              0.6666666666666666,
              "#ed7953"
             ],
             [
              0.7777777777777778,
              "#fb9f3a"
             ],
             [
              0.8888888888888888,
              "#fdca26"
             ],
             [
              1,
              "#f0f921"
             ]
            ],
            "type": "heatmap"
           }
          ],
          "histogram": [
           {
            "marker": {
             "pattern": {
              "fillmode": "overlay",
              "size": 10,
              "solidity": 0.2
             }
            },
            "type": "histogram"
           }
          ],
          "histogram2d": [
           {
            "colorbar": {
             "outlinewidth": 0,
             "ticks": ""
            },
            "colorscale": [
             [
              0,
              "#0d0887"
             ],
             [
              0.1111111111111111,
              "#46039f"
             ],
             [
              0.2222222222222222,
              "#7201a8"
             ],
             [
              0.3333333333333333,
              "#9c179e"
             ],
             [
              0.4444444444444444,
              "#bd3786"
             ],
             [
              0.5555555555555556,
              "#d8576b"
             ],
             [
              0.6666666666666666,
              "#ed7953"
             ],
             [
              0.7777777777777778,
              "#fb9f3a"
             ],
             [
              0.8888888888888888,
              "#fdca26"
             ],
             [
              1,
              "#f0f921"
             ]
            ],
            "type": "histogram2d"
           }
          ],
          "histogram2dcontour": [
           {
            "colorbar": {
             "outlinewidth": 0,
             "ticks": ""
            },
            "colorscale": [
             [
              0,
              "#0d0887"
             ],
             [
              0.1111111111111111,
              "#46039f"
             ],
             [
              0.2222222222222222,
              "#7201a8"
             ],
             [
              0.3333333333333333,
              "#9c179e"
             ],
             [
              0.4444444444444444,
              "#bd3786"
             ],
             [
              0.5555555555555556,
              "#d8576b"
             ],
             [
              0.6666666666666666,
              "#ed7953"
             ],
             [
              0.7777777777777778,
              "#fb9f3a"
             ],
             [
              0.8888888888888888,
              "#fdca26"
             ],
             [
              1,
              "#f0f921"
             ]
            ],
            "type": "histogram2dcontour"
           }
          ],
          "mesh3d": [
           {
            "colorbar": {
             "outlinewidth": 0,
             "ticks": ""
            },
            "type": "mesh3d"
           }
          ],
          "parcoords": [
           {
            "line": {
             "colorbar": {
              "outlinewidth": 0,
              "ticks": ""
             }
            },
            "type": "parcoords"
           }
          ],
          "pie": [
           {
            "automargin": true,
            "type": "pie"
           }
          ],
          "scatter": [
           {
            "fillpattern": {
             "fillmode": "overlay",
             "size": 10,
             "solidity": 0.2
            },
            "type": "scatter"
           }
          ],
          "scatter3d": [
           {
            "line": {
             "colorbar": {
              "outlinewidth": 0,
              "ticks": ""
             }
            },
            "marker": {
             "colorbar": {
              "outlinewidth": 0,
              "ticks": ""
             }
            },
            "type": "scatter3d"
           }
          ],
          "scattercarpet": [
           {
            "marker": {
             "colorbar": {
              "outlinewidth": 0,
              "ticks": ""
             }
            },
            "type": "scattercarpet"
           }
          ],
          "scattergeo": [
           {
            "marker": {
             "colorbar": {
              "outlinewidth": 0,
              "ticks": ""
             }
            },
            "type": "scattergeo"
           }
          ],
          "scattergl": [
           {
            "marker": {
             "colorbar": {
              "outlinewidth": 0,
              "ticks": ""
             }
            },
            "type": "scattergl"
           }
          ],
          "scattermap": [
           {
            "marker": {
             "colorbar": {
              "outlinewidth": 0,
              "ticks": ""
             }
            },
            "type": "scattermap"
           }
          ],
          "scattermapbox": [
           {
            "marker": {
             "colorbar": {
              "outlinewidth": 0,
              "ticks": ""
             }
            },
            "type": "scattermapbox"
           }
          ],
          "scatterpolar": [
           {
            "marker": {
             "colorbar": {
              "outlinewidth": 0,
              "ticks": ""
             }
            },
            "type": "scatterpolar"
           }
          ],
          "scatterpolargl": [
           {
            "marker": {
             "colorbar": {
              "outlinewidth": 0,
              "ticks": ""
             }
            },
            "type": "scatterpolargl"
           }
          ],
          "scatterternary": [
           {
            "marker": {
             "colorbar": {
              "outlinewidth": 0,
              "ticks": ""
             }
            },
            "type": "scatterternary"
           }
          ],
          "surface": [
           {
            "colorbar": {
             "outlinewidth": 0,
             "ticks": ""
            },
            "colorscale": [
             [
              0,
              "#0d0887"
             ],
             [
              0.1111111111111111,
              "#46039f"
             ],
             [
              0.2222222222222222,
              "#7201a8"
             ],
             [
              0.3333333333333333,
              "#9c179e"
             ],
             [
              0.4444444444444444,
              "#bd3786"
             ],
             [
              0.5555555555555556,
              "#d8576b"
             ],
             [
              0.6666666666666666,
              "#ed7953"
             ],
             [
              0.7777777777777778,
              "#fb9f3a"
             ],
             [
              0.8888888888888888,
              "#fdca26"
             ],
             [
              1,
              "#f0f921"
             ]
            ],
            "type": "surface"
           }
          ],
          "table": [
           {
            "cells": {
             "fill": {
              "color": "#EBF0F8"
             },
             "line": {
              "color": "white"
             }
            },
            "header": {
             "fill": {
              "color": "#C8D4E3"
             },
             "line": {
              "color": "white"
             }
            },
            "type": "table"
           }
          ]
         },
         "layout": {
          "annotationdefaults": {
           "arrowcolor": "#2a3f5f",
           "arrowhead": 0,
           "arrowwidth": 1
          },
          "autotypenumbers": "strict",
          "coloraxis": {
           "colorbar": {
            "outlinewidth": 0,
            "ticks": ""
           }
          },
          "colorscale": {
           "diverging": [
            [
             0,
             "#8e0152"
            ],
            [
             0.1,
             "#c51b7d"
            ],
            [
             0.2,
             "#de77ae"
            ],
            [
             0.3,
             "#f1b6da"
            ],
            [
             0.4,
             "#fde0ef"
            ],
            [
             0.5,
             "#f7f7f7"
            ],
            [
             0.6,
             "#e6f5d0"
            ],
            [
             0.7,
             "#b8e186"
            ],
            [
             0.8,
             "#7fbc41"
            ],
            [
             0.9,
             "#4d9221"
            ],
            [
             1,
             "#276419"
            ]
           ],
           "sequential": [
            [
             0,
             "#0d0887"
            ],
            [
             0.1111111111111111,
             "#46039f"
            ],
            [
             0.2222222222222222,
             "#7201a8"
            ],
            [
             0.3333333333333333,
             "#9c179e"
            ],
            [
             0.4444444444444444,
             "#bd3786"
            ],
            [
             0.5555555555555556,
             "#d8576b"
            ],
            [
             0.6666666666666666,
             "#ed7953"
            ],
            [
             0.7777777777777778,
             "#fb9f3a"
            ],
            [
             0.8888888888888888,
             "#fdca26"
            ],
            [
             1,
             "#f0f921"
            ]
           ],
           "sequentialminus": [
            [
             0,
             "#0d0887"
            ],
            [
             0.1111111111111111,
             "#46039f"
            ],
            [
             0.2222222222222222,
             "#7201a8"
            ],
            [
             0.3333333333333333,
             "#9c179e"
            ],
            [
             0.4444444444444444,
             "#bd3786"
            ],
            [
             0.5555555555555556,
             "#d8576b"
            ],
            [
             0.6666666666666666,
             "#ed7953"
            ],
            [
             0.7777777777777778,
             "#fb9f3a"
            ],
            [
             0.8888888888888888,
             "#fdca26"
            ],
            [
             1,
             "#f0f921"
            ]
           ]
          },
          "colorway": [
           "#636efa",
           "#EF553B",
           "#00cc96",
           "#ab63fa",
           "#FFA15A",
           "#19d3f3",
           "#FF6692",
           "#B6E880",
           "#FF97FF",
           "#FECB52"
          ],
          "font": {
           "color": "#2a3f5f"
          },
          "geo": {
           "bgcolor": "white",
           "lakecolor": "white",
           "landcolor": "#E5ECF6",
           "showlakes": true,
           "showland": true,
           "subunitcolor": "white"
          },
          "hoverlabel": {
           "align": "left"
          },
          "hovermode": "closest",
          "mapbox": {
           "style": "light"
          },
          "paper_bgcolor": "white",
          "plot_bgcolor": "#E5ECF6",
          "polar": {
           "angularaxis": {
            "gridcolor": "white",
            "linecolor": "white",
            "ticks": ""
           },
           "bgcolor": "#E5ECF6",
           "radialaxis": {
            "gridcolor": "white",
            "linecolor": "white",
            "ticks": ""
           }
          },
          "scene": {
           "xaxis": {
            "backgroundcolor": "#E5ECF6",
            "gridcolor": "white",
            "gridwidth": 2,
            "linecolor": "white",
            "showbackground": true,
            "ticks": "",
            "zerolinecolor": "white"
           },
           "yaxis": {
            "backgroundcolor": "#E5ECF6",
            "gridcolor": "white",
            "gridwidth": 2,
            "linecolor": "white",
            "showbackground": true,
            "ticks": "",
            "zerolinecolor": "white"
           },
           "zaxis": {
            "backgroundcolor": "#E5ECF6",
            "gridcolor": "white",
            "gridwidth": 2,
            "linecolor": "white",
            "showbackground": true,
            "ticks": "",
            "zerolinecolor": "white"
           }
          },
          "shapedefaults": {
           "line": {
            "color": "#2a3f5f"
           }
          },
          "ternary": {
           "aaxis": {
            "gridcolor": "white",
            "linecolor": "white",
            "ticks": ""
           },
           "baxis": {
            "gridcolor": "white",
            "linecolor": "white",
            "ticks": ""
           },
           "bgcolor": "#E5ECF6",
           "caxis": {
            "gridcolor": "white",
            "linecolor": "white",
            "ticks": ""
           }
          },
          "title": {
           "x": 0.05
          },
          "xaxis": {
           "automargin": true,
           "gridcolor": "white",
           "linecolor": "white",
           "ticks": "",
           "title": {
            "standoff": 15
           },
           "zerolinecolor": "white",
           "zerolinewidth": 2
          },
          "yaxis": {
           "automargin": true,
           "gridcolor": "white",
           "linecolor": "white",
           "ticks": "",
           "title": {
            "standoff": 15
           },
           "zerolinecolor": "white",
           "zerolinewidth": 2
          }
         }
        },
        "title": {
         "font": {
          "color": "Black",
          "size": 22
         },
         "text": "<b>Similarity Matrix</b>",
         "x": 0.55,
         "xanchor": "center",
         "y": 0.95,
         "yanchor": "top"
        },
        "width": 800,
        "xaxis": {
         "anchor": "y",
         "constrain": "domain",
         "domain": [
          0,
          1
         ],
         "scaleanchor": "y"
        },
        "yaxis": {
         "anchor": "x",
         "autorange": "reversed",
         "constrain": "domain",
         "domain": [
          0,
          1
         ]
        }
       }
      }
     },
     "metadata": {},
     "output_type": "display_data"
    }
   ],
   "source": [
    "topic_model.visualize_heatmap()"
   ]
  },
  {
   "cell_type": "code",
   "execution_count": 5,
   "id": "7137ffe4",
   "metadata": {},
   "outputs": [
    {
     "data": {
      "application/vnd.plotly.v1+json": {
       "config": {
        "plotlyServerURL": "https://plot.ly"
       },
       "data": [
        {
         "hovertext": "<b>Topic -1</b>:said_people_like_one_trump_would_u",
         "line": {
          "color": "black",
          "width": 1.5
         },
         "mode": "lines+lines",
         "name": "",
         "opacity": 0.1,
         "type": "scatter",
         "x": {
          "bdata": "AQIDBAUGBwgJCg==",
          "dtype": "i1"
         },
         "y": {
          "bdata": "CeT5bnMdej+Y581X1qh5P3f3LYtwY3g/KgX1duMPeD95mjsloP13P3W4tp4283Q/YdMYrtTXdD+8rj4EzL90P/GP1hcpgHQ/yO+9dGDqcT8=",
          "dtype": "f8"
         }
        },
        {
         "hovertext": "<b>Topic 0</b>:art_artists_work_artist_museum_pain",
         "line": {
          "color": "black",
          "width": 1.5
         },
         "mode": "lines+lines",
         "name": "",
         "opacity": 0.1,
         "type": "scatter",
         "x": {
          "bdata": "AQIDBAUGBwgJCg==",
          "dtype": "i1"
         },
         "y": {
          "bdata": "rONr9E8OmT8E/i24VlOOPx0zSlnZNIk/JN0pcrK6hz+Udnd9SVSHP7+9IzDgOYc/cyUWprpohj8KTJt0OCqGP6xoU1zRj4M/ebR4ohMTgD8=",
          "dtype": "f8"
         }
        },
        {
         "hovertext": "<b>Topic 1</b>:music_album_song_band_like_songs_re",
         "line": {
          "color": "black",
          "width": 1.5
         },
         "mode": "lines+lines",
         "name": "",
         "opacity": 0.1,
         "type": "scatter",
         "x": {
          "bdata": "AQIDBAUGBwgJCg==",
          "dtype": "i1"
         },
         "y": {
          "bdata": "GPv6N7nVlj8uBbUxiHuQP8wAtWblkI4/g2v8anV9jj84KDGKS8aMPysWmDs+kIw/0diqen/4iT9oVVnDbo+EP0tDSxOhX4E/fzjZ/V8agT8=",
          "dtype": "f8"
         }
        },
        {
         "hovertext": "<b>Topic 2</b>:kardashian_chyna_kylie_got_shes_bab",
         "line": {
          "color": "black",
          "width": 1.5
         },
         "mode": "lines+lines",
         "name": "",
         "opacity": 0.1,
         "type": "scatter",
         "x": {
          "bdata": "AQIDBAUGBwgJCg==",
          "dtype": "i1"
         },
         "y": {
          "bdata": "1MDjAnUImj/vc37/HfyYP0tuBJCVlZU/7bNAvYu7kj+a4W9QukiSP59b6DVtSpE/jZgr2XMmjT+HCoYtzIeMP7zKn7N9Xoo/7xcesifRiD8=",
          "dtype": "f8"
         }
        },
        {
         "hovertext": "<b>Topic 3</b>:brexit_eu_britain_minister_european",
         "line": {
          "color": "black",
          "width": 1.5
         },
         "mode": "lines+lines",
         "name": "",
         "opacity": 0.1,
         "type": "scatter",
         "x": {
          "bdata": "AQIDBAUGBwgJCg==",
          "dtype": "i1"
         },
         "y": {
          "bdata": "hnWEOfymoj/im5IjHwCiP3VznjzEhZQ/k4BwF54glD/c8WdbWHCTP1Fw9ycPMZI/i/HCvom/kT807bHAAb6QP2wKDvBNMZA/1mPi3ti8jz8=",
          "dtype": "f8"
         }
        },
        {
         "hovertext": "<b>Topic 4</b>:health_drug_opioid_marijuana_patien",
         "line": {
          "color": "black",
          "width": 1.5
         },
         "mode": "lines+lines",
         "name": "",
         "opacity": 0.1,
         "type": "scatter",
         "x": {
          "bdata": "AQIDBAUGBwgJCg==",
          "dtype": "i1"
         },
         "y": {
          "bdata": "re9fGw5ClD800TYMzymPP8ys/D8pXow/rM2G8T16iD9N4JWnO1CIP+/6tLNeNYg/EVbbNv/DhT/6O9nKyz6EP2QxwAlaw4I/xYX47i5ygj8=",
          "dtype": "f8"
         }
        },
        {
         "hovertext": "<b>Topic 5</b>:sexual_cops_tmz_assault_kelly_weins",
         "line": {
          "color": "black",
          "width": 1.5
         },
         "mode": "lines+lines",
         "name": "",
         "opacity": 0.1,
         "type": "scatter",
         "x": {
          "bdata": "AQIDBAUGBwgJCg==",
          "dtype": "i1"
         },
         "y": {
          "bdata": "fx0zwQUnkz9uaXFYQs2RP6i5qcZTwJE/IViaW4mQkD/w5tdWUamPP6BsF+XXLY8/Q1sWzfb9jT+vnZBHxpCNP3Mujk08Wok/HDzVgU4SiT8=",
          "dtype": "f8"
         }
        },
        {
         "hovertext": "<b>Topic 6</b>:republican_trump_democrats_party_vo",
         "line": {
          "color": "black",
          "width": 1.5
         },
         "mode": "lines+lines",
         "name": "",
         "opacity": 0.1,
         "type": "scatter",
         "x": {
          "bdata": "AQIDBAUGBwgJCg==",
          "dtype": "i1"
         },
         "y": {
          "bdata": "j8zxzH2Xkj9rsKLCs3uQP5DK9zXnyY8/4Z1J6cPEjz/4Sh30Jc6NPzmpWg9sKYs/av0Ic2YChz9T9ce7MeyGP7llUhU75YU/N8opQIoFhT8=",
          "dtype": "f8"
         }
        },
        {
         "hovertext": "<b>Topic 7</b>:food_meat_pizza_eat_eating_foods_br",
         "line": {
          "color": "black",
          "width": 1.5
         },
         "mode": "lines+lines",
         "name": "",
         "opacity": 0.1,
         "type": "scatter",
         "x": {
          "bdata": "AQIDBAUGBwgJCg==",
          "dtype": "i1"
         },
         "y": {
          "bdata": "vAPj09Anmj9oEUVVeneZPxuWo8HOGo0/1IJcyD43jD9MrZIx9nOHP/5twghDKIc/ShT5wGJggz8zFI12viuCP1Skb37i+IE/uC8nL9hJgT8=",
          "dtype": "f8"
         }
        },
        {
         "hovertext": "<b>Topic 8</b>:immigration_daca_border_immigrants_",
         "line": {
          "color": "black",
          "width": 1.5
         },
         "mode": "lines+lines",
         "name": "",
         "opacity": 0.1,
         "type": "scatter",
         "x": {
          "bdata": "AQIDBAUGBwgJCg==",
          "dtype": "i1"
         },
         "y": {
          "bdata": "YFxMolCjoD+YvZlDK/mbP5FxtELvx5k/ZP7tyGCflj/qCGJstHKRP17UtCKdCpE/m4JEzmFSkD8lQ9Dl6kiOP3IcEu1qE40/Bn4zCM1WjD8=",
          "dtype": "f8"
         }
        },
        {
         "hovertext": "<b>Topic 9</b>:fed_trade_dollar_index_rate_us_stoc",
         "line": {
          "color": "black",
          "width": 1.5
         },
         "mode": "lines+lines",
         "name": "",
         "opacity": 0.1,
         "type": "scatter",
         "x": {
          "bdata": "AQIDBAUGBwgJCg==",
          "dtype": "i1"
         },
         "y": {
          "bdata": "raZmwW8Xnj/AQnFdNx+aP8N4YkHu5pg/qB6zGLLylz9ADD7gC9uXP+IdOlKnmZQ/pACj2WYqlD8eCnbCwQaTP5tpu2S4ypI/CiOTERnkkT8=",
          "dtype": "f8"
         }
        },
        {
         "hovertext": "<b>Topic 10</b>:film_movie_movies_films_story_best",
         "line": {
          "color": "black",
          "width": 1.5
         },
         "mode": "lines+lines",
         "name": "",
         "opacity": 0.1,
         "type": "scatter",
         "x": {
          "bdata": "AQIDBAUGBwgJCg==",
          "dtype": "i1"
         },
         "y": {
          "bdata": "KF082itGnz8emkD3s02YP2/hMZ6nF5M/lIgJhDNQkT8F9IqYCM+KPzKDUxqf0Yg/xcEUstWTgT8l1RI/Ss6AP6DB4fRMr4A/3LxI1fc7gD8=",
          "dtype": "f8"
         }
        },
        {
         "hovertext": "<b>Topic 11</b>:north_korea_korean_kim_south_nucle",
         "line": {
          "color": "black",
          "width": 1.5
         },
         "mode": "lines+lines",
         "name": "",
         "opacity": 0.1,
         "type": "scatter",
         "x": {
          "bdata": "AQIDBAUGBwgJCg==",
          "dtype": "i1"
         },
         "y": {
          "bdata": "dzl+xMcCuD9swdDKPVi0PxzI+IGJMKw/vO4Ox5SZqT9uLOUoYoGjPxvnBlysY6A/JH81P1RVnz94JwukgtaZP6hmOSFD3Zc/mmtFVpJElD8=",
          "dtype": "f8"
         }
        },
        {
         "hovertext": "<b>Topic 12</b>:russian_putin_russia_moscow_sancti",
         "line": {
          "color": "black",
          "width": 1.5
         },
         "mode": "lines+lines",
         "name": "",
         "opacity": 0.1,
         "type": "scatter",
         "x": {
          "bdata": "AQIDBAUGBwgJCg==",
          "dtype": "i1"
         },
         "y": {
          "bdata": "MWatcCAcqj/nUlPX8lWlPzwEyCqDJaU/aUCeDr1woj93x3jD4aCWP6kW7v6RKZQ/tcPCRCYDkz/AT9C0IbOSP10sOTZ+H48/WhGpk+7jjT8=",
          "dtype": "f8"
         }
        },
        {
         "hovertext": "<b>Topic 13</b>:syria_forces_syrian_islamic_said_i",
         "line": {
          "color": "black",
          "width": 1.5
         },
         "mode": "lines+lines",
         "name": "",
         "opacity": 0.1,
         "type": "scatter",
         "x": {
          "bdata": "AQIDBAUGBwgJCg==",
          "dtype": "i1"
         },
         "y": {
          "bdata": "RVRqcU3OoD93YHDzs+uZP8UjBRpOn5k/CY12s+jolD+7ocNy0bCPP1ICGUfMU48/1/gTkl/qjT8AK9pDk6iNPzrKrNYmZo0/JJRjuur1jD8=",
          "dtype": "f8"
         }
        },
        {
         "hovertext": "<b>Topic 14</b>:fight_ufc_boxing_floyd_mma_conor_f",
         "line": {
          "color": "black",
          "width": 1.5
         },
         "mode": "lines+lines",
         "name": "",
         "opacity": 0.1,
         "type": "scatter",
         "x": {
          "bdata": "AQIDBAUGBwgJCg==",
          "dtype": "i1"
         },
         "y": {
          "bdata": "LY92TkZrqT+1nbSPKXCnP8UDEiyQyZU/9MLdpmoYlD+Vwk2dxuGSP26oVVuRnJE/YWvaYhRnkT8ChoC81TCRP0yauwn/tZA/YmG8AvZWjT8=",
          "dtype": "f8"
         }
        },
        {
         "hovertext": "<b>Topic 15</b>:mueller_investigation_trump_attorn",
         "line": {
          "color": "black",
          "width": 1.5
         },
         "mode": "lines+lines",
         "name": "",
         "opacity": 0.1,
         "type": "scatter",
         "x": {
          "bdata": "AQIDBAUGBwgJCg==",
          "dtype": "i1"
         },
         "y": {
          "bdata": "18pmSE+joT+vtFMsX92bPy+lhV4OdJk/RsPmTXOPlz+IN+wqP6qVP4T+4f9QP5U/IYz+HZYylT/P4CKUWCKVP2TES267GZU/Jy/GB1NFkz8=",
          "dtype": "f8"
         }
        },
        {
         "hovertext": "<b>Topic 16</b>:tariffs_trade_china_chinese_steel_",
         "line": {
          "color": "black",
          "width": 1.5
         },
         "mode": "lines+lines",
         "name": "",
         "opacity": 0.1,
         "type": "scatter",
         "x": {
          "bdata": "AQIDBAUGBwgJCg==",
          "dtype": "i1"
         },
         "y": {
          "bdata": "jX7751+yrz99EzCd/4yrP1w2Et84jaY//tCqFuGBoD/3RHr74FCfP00Oo2YNg50/Dz36AfNRmz+YIO20HQWUP0kQoWdQ8ZM/3YgUarbQkz8=",
          "dtype": "f8"
         }
        },
        {
         "hovertext": "<b>Topic 17</b>:climate_coal_energy_fossil_emissio",
         "line": {
          "color": "black",
          "width": 1.5
         },
         "mode": "lines+lines",
         "name": "",
         "opacity": 0.1,
         "type": "scatter",
         "x": {
          "bdata": "AQIDBAUGBwgJCg==",
          "dtype": "i1"
         },
         "y": {
          "bdata": "iSBrPBZ3oT8NnVmvXeieP/UW/6Brmpo/p6g23h7Rkz8XS54r24mSPyUFczEmFJI/pVWb/BxUkD8qHPEVQRWPP1FvPEwBtI4/XWQKIjI2jT8=",
          "dtype": "f8"
         }
        },
        {
         "hovertext": "<b>Topic 18</b>:iran_nuclear_irans_iranian_tehran_",
         "line": {
          "color": "black",
          "width": 1.5
         },
         "mode": "lines+lines",
         "name": "",
         "opacity": 0.1,
         "type": "scatter",
         "x": {
          "bdata": "AQIDBAUGBwgJCg==",
          "dtype": "i1"
         },
         "y": {
          "bdata": "UWk8hiXUsj+4pm6cCYWkP6Z6q8U4m50/DNlB9nabnD8o0FXsIPibP5/jA/K/P5k/BC/SGsW+kz9v7c6nLpKTP56jEoy0YZI/aJ4be2uIkT8=",
          "dtype": "f8"
         }
        },
        {
         "hovertext": "<b>Topic 19</b>:nfl_football_bowl_team_game_patrio",
         "line": {
          "color": "black",
          "width": 1.5
         },
         "mode": "lines+lines",
         "name": "",
         "opacity": 0.1,
         "type": "scatter",
         "x": {
          "bdata": "AQIDBAUGBwgJCg==",
          "dtype": "i1"
         },
         "y": {
          "bdata": "bCSQEnCSoT+2BENFY42cP60RPqmJfpY/RFY8eiIYkz9/xVgPEWySP1BHjTHA2pE/moAtWn9FkD+U9xFKaI+PP1WWPi56/ow/aXoS5ZJNiz8=",
          "dtype": "f8"
         }
        },
        {
         "hovertext": "<b>Topic 20</b>:shares_company_billion_said_pounds",
         "line": {
          "color": "black",
          "width": 1.5
         },
         "mode": "lines+lines",
         "name": "",
         "opacity": 0.1,
         "type": "scatter",
         "x": {
          "bdata": "AQIDBAUGBwgJCg==",
          "dtype": "i1"
         },
         "y": {
          "bdata": "xaa5vtJclz/veS++x0qXP0vsl6HhYZU/1lyDkoCYlD9moXUQHCWTP7CEZ+pVspI/hg5CUpEDkT9eMyEzv1aQPyCl+9/PhI4/+xbF6XAejj8=",
          "dtype": "f8"
         }
        },
        {
         "hovertext": "<b>Topic 21</b>:security_hackers_information_devic",
         "line": {
          "color": "black",
          "width": 1.5
         },
         "mode": "lines+lines",
         "name": "",
         "opacity": 0.1,
         "type": "scatter",
         "x": {
          "bdata": "AQIDBAUGBwgJCg==",
          "dtype": "i1"
         },
         "y": {
          "bdata": "NnOjo6X7kz+3uh7P0ZmSPyfnEBRC6pA/Jd/kPSuFkD/eNRmMQ9+OP8nKi1Fc8I0/itlXmukBjT+xEW6EzSeLP98EzNPfj4o/eVpZElnIiT8=",
          "dtype": "f8"
         }
        },
        {
         "hovertext": "<b>Topic 22</b>:police_officers_shooting_officer_b",
         "line": {
          "color": "black",
          "width": 1.5
         },
         "mode": "lines+lines",
         "name": "",
         "opacity": 0.1,
         "type": "scatter",
         "x": {
          "bdata": "AQIDBAUGBwgJCg==",
          "dtype": "i1"
         },
         "y": {
          "bdata": "oO2FjvAzrT+bY8kjjqifPxNl7b/bzZk/DA0SLzaMmD8WeHtIqr+NP801YXTbwos/PlX90KVYhz96Ds1iLtiGP7GZqta1toY/g722qkhjhT8=",
          "dtype": "f8"
         }
        },
        {
         "hovertext": "<b>Topic 23</b>:maduro_venezuelan_venezuelas_kuczy",
         "line": {
          "color": "black",
          "width": 1.5
         },
         "mode": "lines+lines",
         "name": "",
         "opacity": 0.1,
         "type": "scatter",
         "x": {
          "bdata": "AQIDBAUGBwgJCg==",
          "dtype": "i1"
         },
         "y": {
          "bdata": "K9lSMoQooD/RO9IiejOYP80hAn8bApY/zS4ED03CkT8qLldf0HORP8Dr5jwDg48/G3iM2eeSjj+memuJZhWNPyzRffnhp4w/kvp6FjAAjD8=",
          "dtype": "f8"
         }
        },
        {
         "hovertext": "<b>Topic 24</b>:menu_expandable_indicates_icon_nav",
         "line": {
          "color": "black",
          "width": 1.5
         },
         "mode": "lines+lines",
         "name": "",
         "opacity": 0.1,
         "type": "scatter",
         "x": {
          "bdata": "AQIDBAUGBwgJCg==",
          "dtype": "i1"
         },
         "y": {
          "bdata": "TCCu3knUoD+8B0LiKLOgP6Duw8EAs6A/OwWY/26moD8L6DEwBp6gP/SopkHWmaA/3RB71mQ3oD/nLC097BKgPyZjmOmhyJ4/YbYwrrZXnj8=",
          "dtype": "f8"
         }
        },
        {
         "hovertext": "<b>Topic 25</b>:insurance_health_care_medicaid_oba",
         "line": {
          "color": "black",
          "width": 1.5
         },
         "mode": "lines+lines",
         "name": "",
         "opacity": 0.1,
         "type": "scatter",
         "x": {
          "bdata": "AQIDBAUGBwgJCg==",
          "dtype": "i1"
         },
         "y": {
          "bdata": "uzduoUxLpT8EtZ8HUR6lPwKi1VsZAqI//aswk5EEoD9zSzvdjWKcP4FhqF+SNpg/897KB90Ekz8lJPhmqCuNP4b1XlXmT4w/OdjZdyG0iz8=",
          "dtype": "f8"
         }
        },
        {
         "hovertext": "<b>Topic 26</b>:moon_enters_mercury_mars_sign_venu",
         "line": {
          "color": "black",
          "width": 1.5
         },
         "mode": "lines+lines",
         "name": "",
         "opacity": 0.1,
         "type": "scatter",
         "x": {
          "bdata": "AQIDBAUGBwgJCg==",
          "dtype": "i1"
         },
         "y": {
          "bdata": "BEPtI8xJtz/Z4s6NXGCiP2o29sV+z6A/v9lgHQsxnD/4g3Lvz8qbPyH3CIoHL5o/IlcVv2eQmT9B95OfhS2YP0qetTrwM5c/Bs4LIhYVlT8=",
          "dtype": "f8"
         }
        },
        {
         "hovertext": "<b>Topic 27</b>:tesla_musk_car_vehicles_cars_tesla",
         "line": {
          "color": "black",
          "width": 1.5
         },
         "mode": "lines+lines",
         "name": "",
         "opacity": 0.1,
         "type": "scatter",
         "x": {
          "bdata": "AQIDBAUGBwgJCg==",
          "dtype": "i1"
         },
         "y": {
          "bdata": "56PQCUQArj+gUtj6HMihP6zdETeyDKA/HUY9yGUbmz+MFUGHZLiaP0U1p6fvQpg/edW0f6MXmD8njf/qJiCXPxUuiJiNXZQ/EPkPjyLEkj8=",
          "dtype": "f8"
         }
        },
        {
         "hovertext": "<b>Topic 28</b>:twitter_snapchat_content_facebook_",
         "line": {
          "color": "black",
          "width": 1.5
         },
         "mode": "lines+lines",
         "name": "",
         "opacity": 0.1,
         "type": "scatter",
         "x": {
          "bdata": "AQIDBAUGBwgJCg==",
          "dtype": "i1"
         },
         "y": {
          "bdata": "cMROPMqqmT8JT+RHXb6YPwHdt3TZ4JU/yhAZOrKLlT8bWB/98L2QP6vX9bJuOIw/af56RYgliz8MEXLxVP6KP0iNTVh3EYo/EbWc4mKBhz8=",
          "dtype": "f8"
         }
        },
        {
         "hovertext": "<b>Topic 29</b>:flight_boeing_airport_airlines_ind",
         "line": {
          "color": "black",
          "width": 1.5
         },
         "mode": "lines+lines",
         "name": "",
         "opacity": 0.1,
         "type": "scatter",
         "x": {
          "bdata": "AQIDBAUGBwgJCg==",
          "dtype": "i1"
         },
         "y": {
          "bdata": "7Wc8dI9XoT+OPtXG026ZP0lYc8C6hZg/cV3nDkrZlD+2bYImb9eSP6HHk1BrppI/dwcJwNCOkj9tHfSiI4qSP/LMRBrjeZI/VHkZU9Zhkj8=",
          "dtype": "f8"
         }
        },
        {
         "hovertext": "<b>Topic 30</b>:lakers_lavar_lebron_nba_kobe_warri",
         "line": {
          "color": "black",
          "width": 1.5
         },
         "mode": "lines+lines",
         "name": "",
         "opacity": 0.1,
         "type": "scatter",
         "x": {
          "bdata": "AQIDBAUGBwgJCg==",
          "dtype": "i1"
         },
         "y": {
          "bdata": "EwhkMCQBqz8kLSzSWgupP41FBY5ueaU/lpbAaXxWoD+mrFeBEySgP5fOWzJznpk/X+RoyvZQlz9IXkmapRqXP5PDSfq4qZY/nA7ev8ohlD8=",
          "dtype": "f8"
         }
        },
        {
         "hovertext": "<b>Topic 31</b>:oil_crude_opec_bpd_saudi_output_pr",
         "line": {
          "color": "black",
          "width": 1.5
         },
         "mode": "lines+lines",
         "name": "",
         "opacity": 0.1,
         "type": "scatter",
         "x": {
          "bdata": "AQIDBAUGBwgJCg==",
          "dtype": "i1"
         },
         "y": {
          "bdata": "VtRTUkE5sj+n4NAar92tPx4dVhk3hac/F2XQ3Kp6pT+jCKdKrIidP/RRq+HMGJ0/jyhkhAR9nD/y+t2QQY+bP/1TtNnse5k/BkrnKmVOlz8=",
          "dtype": "f8"
         }
        },
        {
         "hovertext": "<b>Topic 32</b>:israeli_jerusalem_israel_palestini",
         "line": {
          "color": "black",
          "width": 1.5
         },
         "mode": "lines+lines",
         "name": "",
         "opacity": 0.1,
         "type": "scatter",
         "x": {
          "bdata": "AQIDBAUGBwgJCg==",
          "dtype": "i1"
         },
         "y": {
          "bdata": "ZMvyipW1rz/Dv385sSWsP49Q1GlAYqs/Ryk1BXytpz9k77QjmgShP7eY2PCV6Zo/NgZwhwP8mT9uFBQjY+eYP17KRx7R0pE/meobgWG7kT8=",
          "dtype": "f8"
         }
        },
        {
         "hovertext": "<b>Topic 33</b>:hurricane_storm_fire_said_water_fl",
         "line": {
          "color": "black",
          "width": 1.5
         },
         "mode": "lines+lines",
         "name": "",
         "opacity": 0.1,
         "type": "scatter",
         "x": {
          "bdata": "AQIDBAUGBwgJCg==",
          "dtype": "i1"
         },
         "y": {
          "bdata": "/s9BYMLbmz8sKRXfyaqWP/9EEAD4x5M/8drYuFMujT8IVLNaoa+LPycnpiKrCos/dMiTsilHiT8BV+GtxVWIPzP6CGTZ7Ic/iY0saQZHhz8=",
          "dtype": "f8"
         }
        },
        {
         "hovertext": "<b>Topic 34</b>:netflix_expandable_navigation_chev",
         "line": {
          "color": "black",
          "width": 1.5
         },
         "mode": "lines+lines",
         "name": "",
         "opacity": 0.1,
         "type": "scatter",
         "x": {
          "bdata": "AQIDBAUGBwgJCg==",
          "dtype": "i1"
         },
         "y": {
          "bdata": "OlskeW/Prz+2Invd122jP0RsMehAVaM/i1J0ymFQoz9ROXR5cz+jP/irNwC0LqM/rTdDiGUmoz/Kls3orseiP0UJ1ZO2oKI/KisRWEx4oj8=",
          "dtype": "f8"
         }
        },
        {
         "hovertext": "<b>Topic 35</b>:plastic_species_recycling_shark_et",
         "line": {
          "color": "black",
          "width": 1.5
         },
         "mode": "lines+lines",
         "name": "",
         "opacity": 0.1,
         "type": "scatter",
         "x": {
          "bdata": "AQIDBAUGBwgJCg==",
          "dtype": "i1"
         },
         "y": {
          "bdata": "pSKjkDIenD+2+cYoQCaWP379Fdb/QY8/Y1dG8OoRiz8MocV6CVeJP/jQGLXCV4g/ZS8qVQxDhz/VNWgDieKGPxMzIoIZF4Y/pO503vCRhT8=",
          "dtype": "f8"
         }
        },
        {
         "hovertext": "<b>Topic 36</b>:cup_soccer_game_team_sports_fans_p",
         "line": {
          "color": "black",
          "width": 1.5
         },
         "mode": "lines+lines",
         "name": "",
         "opacity": 0.1,
         "type": "scatter",
         "x": {
          "bdata": "AQIDBAUGBwgJCg==",
          "dtype": "i1"
         },
         "y": {
          "bdata": "52boh7fFoD8bQ2/I5WecPzvEI/idd5g/Z5btC1cllT9JJUFhevGUP1xteVCd1JM/rVqdF44akz+3qNjzGciSP3EtnR65FpI/F/yIiurDkT8=",
          "dtype": "f8"
         }
        },
        {
         "hovertext": "<b>Topic 37</b>:prison_crime_court_inmates_crimina",
         "line": {
          "color": "black",
          "width": 1.5
         },
         "mode": "lines+lines",
         "name": "",
         "opacity": 0.1,
         "type": "scatter",
         "x": {
          "bdata": "AQIDBAUGBwgJCg==",
          "dtype": "i1"
         },
         "y": {
          "bdata": "Rr4jMoVJnT/2QW4oA66XPzi7mN9JjpI/8cCgQ7wPkj9TEAdn+GSQP9Fla+hSNpA/tBeg0MVvjj97bmmmmQWOP6U9WhRJs4o/GGPAwX0Uij8=",
          "dtype": "f8"
         }
        },
        {
         "hovertext": "<b>Topic 38</b>:sentences_vox_px_em_inbox_delivere",
         "line": {
          "color": "black",
          "width": 1.5
         },
         "mode": "lines+lines",
         "name": "",
         "opacity": 0.1,
         "type": "scatter",
         "x": {
          "bdata": "AQIDBAUGBwgJCg==",
          "dtype": "i1"
         },
         "y": {
          "bdata": "H2m3ac2gvD8iGCoPjSu7P5hIRVk6e7A/1R6/jZ4orT/gU70m4+6sP3PxEFdXtKo/o/Q4pY0IqT8Q2+6LqG2oP4hzmFQheqU/hWlxTCL+oz8=",
          "dtype": "f8"
         }
        },
        {
         "hovertext": "<b>Topic 39</b>:facebook_zuckerberg_data_users_fac",
         "line": {
          "color": "black",
          "width": 1.5
         },
         "mode": "lines+lines",
         "name": "",
         "opacity": 0.1,
         "type": "scatter",
         "x": {
          "bdata": "AQIDBAUGBwgJCg==",
          "dtype": "i1"
         },
         "y": {
          "bdata": "fjql8aU1tj+h1rMJyxSlPzBdUHgcW58/xRsFzXECnj89FKIs/pqdP1aXXX0f05Y/VpiAAfUHlT8BpYWq8siSP+bxfQ0byY8/hkx6FlxVjT8=",
          "dtype": "f8"
         }
        },
        {
         "hovertext": "<b>Topic 40</b>:amazon_flywheel_delivery_customers",
         "line": {
          "color": "black",
          "width": 1.5
         },
         "mode": "lines+lines",
         "name": "",
         "opacity": 0.1,
         "type": "scatter",
         "x": {
          "bdata": "AQIDBAUGBwgJCg==",
          "dtype": "i1"
         },
         "y": {
          "bdata": "KWWsM3Z1nD+UxAN2aYWUPz00pzmKbZM/x+samytYij+nZgm9SQiJPz6vN9mWwYg/hQMsDk/Qhz+BTJiOlaaHPwB0YHfuw4Y/oOXlBYiNhj8=",
          "dtype": "f8"
         }
        },
        {
         "hovertext": "<b>Topic 41</b>:china_chinese_beijing_huawei_xi_ch",
         "line": {
          "color": "black",
          "width": 1.5
         },
         "mode": "lines+lines",
         "name": "",
         "opacity": 0.1,
         "type": "scatter",
         "x": {
          "bdata": "AQIDBAUGBwgJCg==",
          "dtype": "i1"
         },
         "y": {
          "bdata": "nx7g9Z6cqT/KjJkFLlaiPyfSk9WKHZI/Zbz/CDI/kT+OCw8MnaWQPzqKqRXYKpA/diceOPSEjz9tv8yd0wKOPxPcrJqqjI0/n4ADMS5cjD8=",
          "dtype": "f8"
         }
        },
        {
         "hovertext": "<b>Topic 42</b>:book_books_cinderella_ferrante_har",
         "line": {
          "color": "black",
          "width": 1.5
         },
         "mode": "lines+lines",
         "name": "",
         "opacity": 0.1,
         "type": "scatter",
         "x": {
          "bdata": "AQIDBAUGBwgJCg==",
          "dtype": "i1"
         },
         "y": {
          "bdata": "U1tmMzcRnT/kg5oTDkqXPxpdlCikgpM/HEt4lnePjj/sQ93wtKKLP2Y9vkwT+Yo/Fz7selWbij9uPlbYmhCIP2vNkoqnUoc/n0zppYVYhD8=",
          "dtype": "f8"
         }
        },
        {
         "hovertext": "<b>Topic 43</b>:game_games_players_warcraft_play_m",
         "line": {
          "color": "black",
          "width": 1.5
         },
         "mode": "lines+lines",
         "name": "",
         "opacity": 0.1,
         "type": "scatter",
         "x": {
          "bdata": "AQIDBAUGBwgJCg==",
          "dtype": "i1"
         },
         "y": {
          "bdata": "MyP2D7zUqT+JRQ8csHiiP3qmIAJD/po/paKumlWTmj8P2SUSQ/mQP7YbtaW4apA/6AJI3vA9ij9pYqLCLsaJPxX4FLRzDIg/PsQH8ea2hz8=",
          "dtype": "f8"
         }
        },
        {
         "hovertext": "<b>Topic 44</b>:ceo_google_company_tinder_microsof",
         "line": {
          "color": "black",
          "width": 1.5
         },
         "mode": "lines+lines",
         "name": "",
         "opacity": 0.1,
         "type": "scatter",
         "x": {
          "bdata": "AQIDBAUGBwgJCg==",
          "dtype": "i1"
         },
         "y": {
          "bdata": "0i5div2knD/S2lng83+cP399jwodjps/yebHdd0Tlj+yu9AxzpOSPy30hCx4OZI/ALmdWk2AkT+kBacmoQ2OP6mNWtq4DY0/AC+xvsabjD8=",
          "dtype": "f8"
         }
        },
        {
         "hovertext": "<b>Topic 45</b>:bank_banks_deutsche_swiss_trading_",
         "line": {
          "color": "black",
          "width": 1.5
         },
         "mode": "lines+lines",
         "name": "",
         "opacity": 0.1,
         "type": "scatter",
         "x": {
          "bdata": "AQIDBAUGBwgJCg==",
          "dtype": "i1"
         },
         "y": {
          "bdata": "wsl/Qahjsj9IHDOJEYatP77aIC8t0qU/O8BFhqyNnj/PZpi9DKudP40J5UrcM5k/gqA17U4rlj/yLmYqL36RP6QEaa1fVJE/GrhkWiPdkD8=",
          "dtype": "f8"
         }
        },
        {
         "hovertext": "<b>Topic 46</b>:rohingya_ullah_buddhist_myanmar_po",
         "line": {
          "color": "black",
          "width": 1.5
         },
         "mode": "lines+lines",
         "name": "",
         "opacity": 0.1,
         "type": "scatter",
         "x": {
          "bdata": "AQIDBAUGBwgJCg==",
          "dtype": "i1"
         },
         "y": {
          "bdata": "YQxhsn/FoD9P/2qWN0WaP/tf2qssF5o/N1s3uZT3mT+hmMN+khWZPxpx54ZSlJg/7reb8Zyikz/bCW+8RjiTP28CV9b5DpM/6Q2+2xKakT8=",
          "dtype": "f8"
         }
        },
        {
         "hovertext": "<b>Topic 47</b>:kanye_lemon_kanyes_west_tupac_ye_t",
         "line": {
          "color": "black",
          "width": 1.5
         },
         "mode": "lines+lines",
         "name": "",
         "opacity": 0.1,
         "type": "scatter",
         "x": {
          "bdata": "AQIDBAUGBwgJCg==",
          "dtype": "i1"
         },
         "y": {
          "bdata": "QGfHceGcvD+fonn4TImiP/JDveRxCaE/WWhGU4KKnz+A0VSrZB2cP4GgnsDIPps/0qKyD51fmD/9wSXRUIuWPxgi04DtpZQ/riYYJIO3kz8=",
          "dtype": "f8"
         }
        },
        {
         "hovertext": "<b>Topic 48</b>:uber_drivers_ubers_kalanick_compan",
         "line": {
          "color": "black",
          "width": 1.5
         },
         "mode": "lines+lines",
         "name": "",
         "opacity": 0.1,
         "type": "scatter",
         "x": {
          "bdata": "AQIDBAUGBwgJCg==",
          "dtype": "i1"
         },
         "y": {
          "bdata": "vCPXEKR5tz8u+LtaJuuvP1H/gSQBQ6I/qv7TYA2onT89NpiOhaSdP6u6YID/JJc/q727+2AElj82q+Z+rUqOP96lp55CrI0/TYYSDeCOij8=",
          "dtype": "f8"
         }
        },
        {
         "hovertext": "<b>Topic 49</b>:apple_iphone_apples_google_mac_lun",
         "line": {
          "color": "black",
          "width": 1.5
         },
         "mode": "lines+lines",
         "name": "",
         "opacity": 0.1,
         "type": "scatter",
         "x": {
          "bdata": "AQIDBAUGBwgJCg==",
          "dtype": "i1"
         },
         "y": {
          "bdata": "GTsNgcwgrT840WbU08OnPzpVUuY+mqE/uRJY/gUXmz97dYDhgJiZP1v3FtsmjJQ/TlSf6j4Fkz9WafKQZaeSP3gbUj3wlo8/vu5BpCtRjD8=",
          "dtype": "f8"
         }
        },
        {
         "hovertext": "<b>Topic 50</b>:nba_basketball_league_players_fish",
         "line": {
          "color": "black",
          "width": 1.5
         },
         "mode": "lines+lines",
         "name": "",
         "opacity": 0.1,
         "type": "scatter",
         "x": {
          "bdata": "AQIDBAUGBwgJCg==",
          "dtype": "i1"
         },
         "y": {
          "bdata": "awANFl2WoT+ZyRGOIFqWP9UTqytddpQ/LQwemehUkj+9HOGKskmSP09B7HGbKJI/dD2b3aEikj9NxOnhTCWRP/3VJ2naFJE/JP0v6xoIkT8=",
          "dtype": "f8"
         }
        },
        {
         "hovertext": "<b>Topic 51</b>:kavanaugh_court_supreme_sexual_jus",
         "line": {
          "color": "black",
          "width": 1.5
         },
         "mode": "lines+lines",
         "name": "",
         "opacity": 0.1,
         "type": "scatter",
         "x": {
          "bdata": "AQIDBAUGBwgJCg==",
          "dtype": "i1"
         },
         "y": {
          "bdata": "2j8Y0nuuqj83fkFrT8ygP+vALjcbNJw/iGo4kzSmmD8F0ISfnp+WPzvBaJXZUZQ/+TPT7ye/kz+sTvFKvpOTP47zAlBAXZE/uTr3trqukD8=",
          "dtype": "f8"
         }
        },
        {
         "hovertext": "<b>Topic 52</b>:cohen_trump_daniels_campaign_trump",
         "line": {
          "color": "black",
          "width": 1.5
         },
         "mode": "lines+lines",
         "name": "",
         "opacity": 0.1,
         "type": "scatter",
         "x": {
          "bdata": "AQIDBAUGBwgJCg==",
          "dtype": "i1"
         },
         "y": {
          "bdata": "jnLwjKATuj8lt0k1+HWnP2uvyaNXP6c/M4YI+3Hsmz8+92BgoCGZPzk1lyDES5c/PmKaTfeJlj8KXngxqFWWPz6Ue98LIJU/Ml43Zwp7lD8=",
          "dtype": "f8"
         }
        },
        {
         "hovertext": "<b>Topic 53</b>:thrones_game_season_books_show_cer",
         "line": {
          "color": "black",
          "width": 1.5
         },
         "mode": "lines+lines",
         "name": "",
         "opacity": 0.1,
         "type": "scatter",
         "x": {
          "bdata": "AQIDBAUGBwgJCg==",
          "dtype": "i1"
         },
         "y": {
          "bdata": "4SPk+kTZrD8DCxqwYVqhP9UHPRk0Tp8/4h2jSghslj/Cmzy4n06WP8TR6/8VTJY/9wzFD1WdlT9HMfOiX1CSP1uzraRgEJE/W7OtpGAQkT8=",
          "dtype": "f8"
         }
        },
        {
         "hovertext": "<b>Topic 54</b>:yeah_think_ks_right_like_lg_thats_",
         "line": {
          "color": "black",
          "width": 1.5
         },
         "mode": "lines+lines",
         "name": "",
         "opacity": 0.1,
         "type": "scatter",
         "x": {
          "bdata": "AQIDBAUGBwgJCg==",
          "dtype": "i1"
         },
         "y": {
          "bdata": "RhVVKKDqoD9JB/vdpTudP6dbVEc9c5w/y+ZXyPCpmD/fONZU1+CUP5ZAQkSGOZQ/REh4l4xHkz+Yi2tL35CSP8CPBJI67JA/2Fa+NS+ZkD8=",
          "dtype": "f8"
         }
        },
        {
         "hovertext": "<b>Topic 55</b>:wwe_ronda_wrestling_ufc_reigns_hul",
         "line": {
          "color": "black",
          "width": 1.5
         },
         "mode": "lines+lines",
         "name": "",
         "opacity": 0.1,
         "type": "scatter",
         "x": {
          "bdata": "AQIDBAUGBwgJCg==",
          "dtype": "i1"
         },
         "y": {
          "bdata": "RK3YqMqDsz/fPJoy4gCqP/Ta79Y7BqA/dGFF3NfYnj942NxOOwSeP0nYbkY7LZ0/c88OZr/cmD+E8/dqPpKYPx7gj+y/w5Y/QfPnuuWulT8=",
          "dtype": "f8"
         }
        },
        {
         "hovertext": "<b>Topic 56</b>:french_le_france_macron_paris_pen_",
         "line": {
          "color": "black",
          "width": 1.5
         },
         "mode": "lines+lines",
         "name": "",
         "opacity": 0.1,
         "type": "scatter",
         "x": {
          "bdata": "AQIDBAUGBwgJCg==",
          "dtype": "i1"
         },
         "y": {
          "bdata": "FitIBdo1pj8qi1PvgHijPxxiVg+usaA/EnNw+/Arnj/smxkBLbubP/7UwE+iG5Y/vxUF9gJYkT/LNRlzVguQP6q0SGXBzY4/EZw+NWv4jT8=",
          "dtype": "f8"
         }
        },
        {
         "hovertext": "<b>Topic 57</b>:cow_india_bjp_cows_modis_modi_catt",
         "line": {
          "color": "black",
          "width": 1.5
         },
         "mode": "lines+lines",
         "name": "",
         "opacity": 0.1,
         "type": "scatter",
         "x": {
          "bdata": "AQIDBAUGBwgJCg==",
          "dtype": "i1"
         },
         "y": {
          "bdata": "jcZnk3UDoj+6i0H1T8CcPzPwnWjUFps/6M7ZdjDimT8AhP+/+3aZP3sOXkHLkpg/XR/DngGwlz/Di7i8I0aXP5KXZPoMEJc/6/PFWPyilT8=",
          "dtype": "f8"
         }
        },
        {
         "hovertext": "<b>Topic 58</b>:tax_budget_taxes_bill_republicans_",
         "line": {
          "color": "black",
          "width": 1.5
         },
         "mode": "lines+lines",
         "name": "",
         "opacity": 0.1,
         "type": "scatter",
         "x": {
          "bdata": "AQIDBAUGBwgJCg==",
          "dtype": "i1"
         },
         "y": {
          "bdata": "NDojqDpHtz8SzBtjdfilPxz6llywYqE/IlyEW+XtoD+c2TJJQQGcPxB1Nq3vqpk/ZlMzOQDZlj9FPqzUySqWP/l30A8GFZY/ZxlRs/walD8=",
          "dtype": "f8"
         }
        },
        {
         "hovertext": "<b>Topic 59</b>:gmt_italy_euro_italian_releases_bo",
         "line": {
          "color": "black",
          "width": 1.5
         },
         "mode": "lines+lines",
         "name": "",
         "opacity": 0.1,
         "type": "scatter",
         "x": {
          "bdata": "AQIDBAUGBwgJCg==",
          "dtype": "i1"
         },
         "y": {
          "bdata": "cGTVEdp4sj9i9ezXty2uPwX5ZJ07g6Q/X7W85HSwoj97+YBstIafP+KuwBFrlJ0/WLDiQVh0nT9F3seIb16dP49ulDIqE5w/dhYwgf97mz8=",
          "dtype": "f8"
         }
        },
        {
         "hovertext": "<b>Topic 60</b>:manafort_gates_manaforts_mueller_c",
         "line": {
          "color": "black",
          "width": 1.5
         },
         "mode": "lines+lines",
         "name": "",
         "opacity": 0.1,
         "type": "scatter",
         "x": {
          "bdata": "AQIDBAUGBwgJCg==",
          "dtype": "i1"
         },
         "y": {
          "bdata": "CdIwoLnkvj+dZ23/Ee+nP89ulzhAt6Y/65eIAFqPmT/UCxTf+1uZPwmlWYbpiZc/4+DsLCJLlz/Mi12RA3KVP88EJuuPJ5M/fof/fO0jkz8=",
          "dtype": "f8"
         }
        },
        {
         "hovertext": "<b>Topic 61</b>:ceu_puigdemont_grenell_spain_germa",
         "line": {
          "color": "black",
          "width": 1.5
         },
         "mode": "lines+lines",
         "name": "",
         "opacity": 0.1,
         "type": "scatter",
         "x": {
          "bdata": "AQIDBAUGBwgJCg==",
          "dtype": "i1"
         },
         "y": {
          "bdata": "Zij4JcvynT9mKPgly/KdP92voAUQapg/fZ3FuAtFlz99DhypfASXP8RmMCivX5Y/kHsJQSvTlT+uDHZf6raUP1LH5tnOqpM/V4frep5Jkz8=",
          "dtype": "f8"
         }
        },
        {
         "hovertext": "<b>Topic 62</b>:trump_billy_press_trumps_tape_dona",
         "line": {
          "color": "black",
          "width": 1.5
         },
         "mode": "lines+lines",
         "name": "",
         "opacity": 0.1,
         "type": "scatter",
         "x": {
          "bdata": "AQIDBAUGBwgJCg==",
          "dtype": "i1"
         },
         "y": {
          "bdata": "X9lG+/owqz9UGZOsJa6dP/tHVPPag50/ctZRqNRPmj8Gf/FwZLSZP+GenB8voJc/r52vXnxwlj/e1a5w3q6TP9mIJ6WXJpM/4aiIa8k2kj8=",
          "dtype": "f8"
         }
        },
        {
         "hovertext": "<b>Topic 63</b>:died_zsa_death_tmz_home_ross_hospi",
         "line": {
          "color": "black",
          "width": 1.5
         },
         "mode": "lines+lines",
         "name": "",
         "opacity": 0.1,
         "type": "scatter",
         "x": {
          "bdata": "AQIDBAUGBwgJCg==",
          "dtype": "i1"
         },
         "y": {
          "bdata": "wCR8MAIEpD9hWGHZJoOjP0dQwJ9D5J8/oBZP97bVnz/mxxUdHq+eP56W0tPOrJ0/z/TBdsH8nD8qAUcHj8ubP7fZbw2d9po/gd/2lzJrmT8=",
          "dtype": "f8"
         }
        },
        {
         "hovertext": "<b>Topic 64</b>:viceland_mero_desus_pm_episode_lap",
         "line": {
          "color": "black",
          "width": 1.5
         },
         "mode": "lines+lines",
         "name": "",
         "opacity": 0.1,
         "type": "scatter",
         "x": {
          "bdata": "AQIDBAUGBwgJCg==",
          "dtype": "i1"
         },
         "y": {
          "bdata": "ln5U7ev8uD/s8CJew+akP+zwIl7D5qQ/7sAzyPBWpD+GKKkrNQ+iPx+XMfDnJaA/dWhqilPZnj8BMG7cuICeP3OVby9jCJk/yh3ov6O6mD8=",
          "dtype": "f8"
         }
        },
        {
         "hovertext": "<b>Topic 65</b>:season_episode_buffy_cg_show_buffy",
         "line": {
          "color": "black",
          "width": 1.5
         },
         "mode": "lines+lines",
         "name": "",
         "opacity": 0.1,
         "type": "scatter",
         "x": {
          "bdata": "AQIDBAUGBwgJCg==",
          "dtype": "i1"
         },
         "y": {
          "bdata": "1MvIs3yqqz+9STU30GirP428LOvqHac/drzsc6r6mD9flnuzVAGVP0EdwJyfUZM/mDPuWIffkT9s1IwzisaLP2J/h/pOYIo/QetCFP1IiD8=",
          "dtype": "f8"
         }
        },
        {
         "hovertext": "<b>Topic 66</b>:boko_haram_sudan_girls_al_mursi_bo",
         "line": {
          "color": "black",
          "width": 1.5
         },
         "mode": "lines+lines",
         "name": "",
         "opacity": 0.1,
         "type": "scatter",
         "x": {
          "bdata": "AQIDBAUGBwgJCg==",
          "dtype": "i1"
         },
         "y": {
          "bdata": "Z3oom6Mcoj+fwA7GMAaiP1X+PCFqNKE/Ele5kOawlj/c4fbkx1STP3jWJ6IqZJI/eNYnoipkkj/kHMnjRPuQP/nFJPj/+ZA/h9EyE8T1kD8=",
          "dtype": "f8"
         }
        },
        {
         "hovertext": "<b>Topic 67</b>:gibb_marathon_olympic_athletes_nas",
         "line": {
          "color": "black",
          "width": 1.5
         },
         "mode": "lines+lines",
         "name": "",
         "opacity": 0.1,
         "type": "scatter",
         "x": {
          "bdata": "AQIDBAUGBwgJCg==",
          "dtype": "i1"
         },
         "y": {
          "bdata": "VuJLurQfpz+jzhrlO0KlP5ZY11jdPKQ/Hp+YmavCoz9Q6Bwvxn+gP2/wHLGrqp4/aEZfgKoAmz8n2r2iSbCYP+VqgdK2JJg/RFSPnjQplj8=",
          "dtype": "f8"
         }
        },
        {
         "hovertext": "<b>Topic 68</b>:gun_guns_violence_deaths_shooting_",
         "line": {
          "color": "black",
          "width": 1.5
         },
         "mode": "lines+lines",
         "name": "",
         "opacity": 0.1,
         "type": "scatter",
         "x": {
          "bdata": "AQIDBAUGBwgJCg==",
          "dtype": "i1"
         },
         "y": {
          "bdata": "JY86WdfQuj99mTFWEWeqPyZb88ZnEKQ/iKidY990mT9IUTfEfmyVP0mWTb1U75M/FzkXTv+9kz8V6KEmdZWTP7TjVCgtm5I/smeNOJaPkT8=",
          "dtype": "f8"
         }
        },
        {
         "hovertext": "<b>Topic 69</b>:teachers_workers_unions_wage_labor",
         "line": {
          "color": "black",
          "width": 1.5
         },
         "mode": "lines+lines",
         "name": "",
         "opacity": 0.1,
         "type": "scatter",
         "x": {
          "bdata": "AQIDBAUGBwgJCg==",
          "dtype": "i1"
         },
         "y": {
          "bdata": "MHaj/p+RqT+YphliROKhPx8IRGS9npk/HBsT+uBmmD+yDZBzGCyYP1knh1NsqpU/l/Q92Azbkz+/GDkQ2syTP1LuWt+w/5I/P8d4sFqwkj8=",
          "dtype": "f8"
         }
        },
        {
         "hovertext": "<b>Topic 70</b>:inning_homer_innings_hits_runs_two",
         "line": {
          "color": "black",
          "width": 1.5
         },
         "mode": "lines+lines",
         "name": "",
         "opacity": 0.1,
         "type": "scatter",
         "x": {
          "bdata": "AQIDBAUGBwgJCg==",
          "dtype": "i1"
         },
         "y": {
          "bdata": "/YJn7ghStD+ClSEQ7WywP4KVIRDtbLA/w7j9Nn1ssD/wIle/+GOoP36Wr9wEh6Q//zCFw5zGoj9nS/IKm2OiP+02X1Gnv6E/I1SuAUlcoT8=",
          "dtype": "f8"
         }
        },
        {
         "hovertext": "<b>Topic 71</b>:white_womens_people_march_think_na",
         "line": {
          "color": "black",
          "width": 1.5
         },
         "mode": "lines+lines",
         "name": "",
         "opacity": 0.1,
         "type": "scatter",
         "x": {
          "bdata": "AQIDBAUGBwgJCg==",
          "dtype": "i1"
         },
         "y": {
          "bdata": "7qRgiswjmj+IK18cxR+WP9HiswTfrpU/EW7oTyiskj/2o2xXCcuMP0Wi+VFtnYw/NFN4XCW+iz92meS+KcGHPy04HyE9JYc/J6lUYqEchz8=",
          "dtype": "f8"
         }
        },
        {
         "hovertext": "<b>Topic 72</b>:obama_politics_america_coates_amer",
         "line": {
          "color": "black",
          "width": 1.5
         },
         "mode": "lines+lines",
         "name": "",
         "opacity": 0.1,
         "type": "scatter",
         "x": {
          "bdata": "AQIDBAUGBwgJCg==",
          "dtype": "i1"
         },
         "y": {
          "bdata": "QAJe/7GppD+cabblB2+RPxjwM+j1l48//igOQ/MPjz9JaduyY8aNP6fvGufZsYk/CAWUPUSAiT8/4Yr/VKGHP7cu+37CQYc/DVxaBiEzhz8=",
          "dtype": "f8"
         }
        },
        {
         "hovertext": "<b>Topic 73</b>:nhl_hockey_season_goals_players_le",
         "line": {
          "color": "black",
          "width": 1.5
         },
         "mode": "lines+lines",
         "name": "",
         "opacity": 0.1,
         "type": "scatter",
         "x": {
          "bdata": "AQIDBAUGBwgJCg==",
          "dtype": "i1"
         },
         "y": {
          "bdata": "TJpRCW5xqT+I4X39yo6iP9n0GKLEQJ0/1TgFPErymj8EdQ8OvbiaP+NwjbdU3pk/n1/L7vDKmD91pDXuFlSYP8gIGbrFzpU/U8jUEBgOlT8=",
          "dtype": "f8"
         }
        },
        {
         "hovertext": "<b>Topic 74</b>:bolsonaro_brazilians_brazils_brazi",
         "line": {
          "color": "black",
          "width": 1.5
         },
         "mode": "lines+lines",
         "name": "",
         "opacity": 0.1,
         "type": "scatter",
         "x": {
          "bdata": "AQIDBAUGBwgJCg==",
          "dtype": "i1"
         },
         "y": {
          "bdata": "+F0j3lhpqj/+HkQEq/WnPxujGx1U3aI/YaJMltQzoT91Ad3YBO+fPwAlYXEjSZ4/6GU/AhOEnD+FWP6EiDCZP6y4aHG8F5g/rb6AWYFClT8=",
          "dtype": "f8"
         }
        },
        {
         "hovertext": "<b>Topic 75</b>:baseball_yankees_players_league_ml",
         "line": {
          "color": "black",
          "width": 1.5
         },
         "mode": "lines+lines",
         "name": "",
         "opacity": 0.1,
         "type": "scatter",
         "x": {
          "bdata": "AQIDBAUGBwgJCg==",
          "dtype": "i1"
         },
         "y": {
          "bdata": "HZyVPF+apT8vVX/0blajPwmx0UNOSKI/g1NxGLQEoD/B9qLtIoyfP3ycu6aFZJ4/tdTNFkKtlz+J09Z6OP+UPz/sXNWz9ZQ/KKN6Dv90lD8=",
          "dtype": "f8"
         }
        },
        {
         "hovertext": "<b>Topic 76</b>:erdogan_turkey_turkish_turkeys_ist",
         "line": {
          "color": "black",
          "width": 1.5
         },
         "mode": "lines+lines",
         "name": "",
         "opacity": 0.1,
         "type": "scatter",
         "x": {
          "bdata": "AQIDBAUGBwgJCg==",
          "dtype": "i1"
         },
         "y": {
          "bdata": "5xw6E0pfsT9QipH+F6CvP5XPgAfRVK8/ZHtjO9Mhpj81dszy36ygP513fN/P9J4/m5N4dSIwnT8jsIThggWdP94WJ+lkKJg/JM15S1bZlz8=",
          "dtype": "f8"
         }
        },
        {
         "hovertext": "<b>Topic 77</b>:chapo_mexican_mexico_acapulco_el_c",
         "line": {
          "color": "black",
          "width": 1.5
         },
         "mode": "lines+lines",
         "name": "",
         "opacity": 0.1,
         "type": "scatter",
         "x": {
          "bdata": "AQIDBAUGBwgJCg==",
          "dtype": "i1"
         },
         "y": {
          "bdata": "EwMl6E4Doj8oDNfvJIifP+ncAw7bmZ4/wPrOaDf5mT/tl57rNcmZP8tHMayDHpg/D+i467eHlD9Czriu/T6UP4oVtYcdu5I/+SPzqv2akj8=",
          "dtype": "f8"
         }
        },
        {
         "hovertext": "<b>Topic 78</b>:nafta_canada_trade_agreement_canad",
         "line": {
          "color": "black",
          "width": 1.5
         },
         "mode": "lines+lines",
         "name": "",
         "opacity": 0.1,
         "type": "scatter",
         "x": {
          "bdata": "AQIDBAUGBwgJCg==",
          "dtype": "i1"
         },
         "y": {
          "bdata": "bshnwlkJuD/bRLdZ6sazP/95UTIVfa4/WItBURjfoj+qRP2NnaihP29aWPNToKE/46m2w27boD8ZGUI2yI2YPwKuO5dliJg/w8IqfQVEmD8=",
          "dtype": "f8"
         }
        },
        {
         "hovertext": "<b>Topic 79</b>:saudi_prince_arabia_mbs_salman_cro",
         "line": {
          "color": "black",
          "width": 1.5
         },
         "mode": "lines+lines",
         "name": "",
         "opacity": 0.1,
         "type": "scatter",
         "x": {
          "bdata": "AQIDBAUGBwgJCg==",
          "dtype": "i1"
         },
         "y": {
          "bdata": "OeGTyTe6vj+wbrzCL2epPxdM01Www6g///WvTZ0vpD+vIKnlYn6jP+tvYWoYAKM/xl9cMxUVoj/lzUE8njCfPyjvwKhGzpg/V3VPDGcxlz8=",
          "dtype": "f8"
         }
        },
        {
         "hovertext": "<b>Topic 80</b>:tyga_heres_kylie_treyzon_lawyer_je",
         "line": {
          "color": "black",
          "width": 1.5
         },
         "mode": "lines+lines",
         "name": "",
         "opacity": 0.1,
         "type": "scatter",
         "x": {
          "bdata": "AQIDBAUGBwgJCg==",
          "dtype": "i1"
         },
         "y": {
          "bdata": "/4t67LUhwT9D3EbZ3EC9Px6HQxMic7Q/xdmp9nwurz8NERFFfb6sPxcCDxFnfqs/BUY3jlj3pD9sn+mkdR2jP8v48K1TxqE/I3rsTS4poT8=",
          "dtype": "f8"
         }
        },
        {
         "hovertext": "<b>Topic 81</b>:skin_korean_brands_tanning_product",
         "line": {
          "color": "black",
          "width": 1.5
         },
         "mode": "lines+lines",
         "name": "",
         "opacity": 0.1,
         "type": "scatter",
         "x": {
          "bdata": "AQIDBAUGBwgJCg==",
          "dtype": "i1"
         },
         "y": {
          "bdata": "aXt5ZKYctT9jLuJFk1WlPzKkS1u3FqU/ufVvLBYUoj94jm/zRXKeP2KAJNTwTJ0/UOh7f1jmmj/eYrwtXX2YP4GsXDFJc5Y/FIUhK90vlD8=",
          "dtype": "f8"
         }
        },
        {
         "hovertext": "<b>Topic 82</b>:trump_right_like_sort_media_think_",
         "line": {
          "color": "black",
          "width": 1.5
         },
         "mode": "lines+lines",
         "name": "",
         "opacity": 0.1,
         "type": "scatter",
         "x": {
          "bdata": "AQIDBAUGBwgJCg==",
          "dtype": "i1"
         },
         "y": {
          "bdata": "HtWjccRYlj8w+N3u1SSVP98MDJ4VWJE/J2pLgpEvkD+CGgj2sqOMP+up1M+imYw/XjFjv2prjD+XNZLyZA6MP/M9BgngBow/Nb8Es6wyiz8=",
          "dtype": "f8"
         }
        },
        {
         "hovertext": "<b>Topic 83</b>:shares_management_percent_stock_ri",
         "line": {
          "color": "black",
          "width": 1.5
         },
         "mode": "lines+lines",
         "name": "",
         "opacity": 0.1,
         "type": "scatter",
         "x": {
          "bdata": "AQIDBAUGBwgJCg==",
          "dtype": "i1"
         },
         "y": {
          "bdata": "MRp9TQ67oz+3sSJ8ckmiP8D948NSXqE/bCsIV4ysoD83KCkXiHydPxV3Lkx575s/TcJL8Miwmj+MLuqvF4qaPxhQlZKnJJo/6876x5RHmD8=",
          "dtype": "f8"
         }
        }
       ],
       "layout": {
        "height": 500,
        "hoverlabel": {
         "bgcolor": "white",
         "font": {
          "family": "Rockwell",
          "size": 16
         }
        },
        "showlegend": false,
        "template": {
         "data": {
          "bar": [
           {
            "error_x": {
             "color": "#2a3f5f"
            },
            "error_y": {
             "color": "#2a3f5f"
            },
            "marker": {
             "line": {
              "color": "white",
              "width": 0.5
             },
             "pattern": {
              "fillmode": "overlay",
              "size": 10,
              "solidity": 0.2
             }
            },
            "type": "bar"
           }
          ],
          "barpolar": [
           {
            "marker": {
             "line": {
              "color": "white",
              "width": 0.5
             },
             "pattern": {
              "fillmode": "overlay",
              "size": 10,
              "solidity": 0.2
             }
            },
            "type": "barpolar"
           }
          ],
          "carpet": [
           {
            "aaxis": {
             "endlinecolor": "#2a3f5f",
             "gridcolor": "#C8D4E3",
             "linecolor": "#C8D4E3",
             "minorgridcolor": "#C8D4E3",
             "startlinecolor": "#2a3f5f"
            },
            "baxis": {
             "endlinecolor": "#2a3f5f",
             "gridcolor": "#C8D4E3",
             "linecolor": "#C8D4E3",
             "minorgridcolor": "#C8D4E3",
             "startlinecolor": "#2a3f5f"
            },
            "type": "carpet"
           }
          ],
          "choropleth": [
           {
            "colorbar": {
             "outlinewidth": 0,
             "ticks": ""
            },
            "type": "choropleth"
           }
          ],
          "contour": [
           {
            "colorbar": {
             "outlinewidth": 0,
             "ticks": ""
            },
            "colorscale": [
             [
              0,
              "#0d0887"
             ],
             [
              0.1111111111111111,
              "#46039f"
             ],
             [
              0.2222222222222222,
              "#7201a8"
             ],
             [
              0.3333333333333333,
              "#9c179e"
             ],
             [
              0.4444444444444444,
              "#bd3786"
             ],
             [
              0.5555555555555556,
              "#d8576b"
             ],
             [
              0.6666666666666666,
              "#ed7953"
             ],
             [
              0.7777777777777778,
              "#fb9f3a"
             ],
             [
              0.8888888888888888,
              "#fdca26"
             ],
             [
              1,
              "#f0f921"
             ]
            ],
            "type": "contour"
           }
          ],
          "contourcarpet": [
           {
            "colorbar": {
             "outlinewidth": 0,
             "ticks": ""
            },
            "type": "contourcarpet"
           }
          ],
          "heatmap": [
           {
            "colorbar": {
             "outlinewidth": 0,
             "ticks": ""
            },
            "colorscale": [
             [
              0,
              "#0d0887"
             ],
             [
              0.1111111111111111,
              "#46039f"
             ],
             [
              0.2222222222222222,
              "#7201a8"
             ],
             [
              0.3333333333333333,
              "#9c179e"
             ],
             [
              0.4444444444444444,
              "#bd3786"
             ],
             [
              0.5555555555555556,
              "#d8576b"
             ],
             [
              0.6666666666666666,
              "#ed7953"
             ],
             [
              0.7777777777777778,
              "#fb9f3a"
             ],
             [
              0.8888888888888888,
              "#fdca26"
             ],
             [
              1,
              "#f0f921"
             ]
            ],
            "type": "heatmap"
           }
          ],
          "histogram": [
           {
            "marker": {
             "pattern": {
              "fillmode": "overlay",
              "size": 10,
              "solidity": 0.2
             }
            },
            "type": "histogram"
           }
          ],
          "histogram2d": [
           {
            "colorbar": {
             "outlinewidth": 0,
             "ticks": ""
            },
            "colorscale": [
             [
              0,
              "#0d0887"
             ],
             [
              0.1111111111111111,
              "#46039f"
             ],
             [
              0.2222222222222222,
              "#7201a8"
             ],
             [
              0.3333333333333333,
              "#9c179e"
             ],
             [
              0.4444444444444444,
              "#bd3786"
             ],
             [
              0.5555555555555556,
              "#d8576b"
             ],
             [
              0.6666666666666666,
              "#ed7953"
             ],
             [
              0.7777777777777778,
              "#fb9f3a"
             ],
             [
              0.8888888888888888,
              "#fdca26"
             ],
             [
              1,
              "#f0f921"
             ]
            ],
            "type": "histogram2d"
           }
          ],
          "histogram2dcontour": [
           {
            "colorbar": {
             "outlinewidth": 0,
             "ticks": ""
            },
            "colorscale": [
             [
              0,
              "#0d0887"
             ],
             [
              0.1111111111111111,
              "#46039f"
             ],
             [
              0.2222222222222222,
              "#7201a8"
             ],
             [
              0.3333333333333333,
              "#9c179e"
             ],
             [
              0.4444444444444444,
              "#bd3786"
             ],
             [
              0.5555555555555556,
              "#d8576b"
             ],
             [
              0.6666666666666666,
              "#ed7953"
             ],
             [
              0.7777777777777778,
              "#fb9f3a"
             ],
             [
              0.8888888888888888,
              "#fdca26"
             ],
             [
              1,
              "#f0f921"
             ]
            ],
            "type": "histogram2dcontour"
           }
          ],
          "mesh3d": [
           {
            "colorbar": {
             "outlinewidth": 0,
             "ticks": ""
            },
            "type": "mesh3d"
           }
          ],
          "parcoords": [
           {
            "line": {
             "colorbar": {
              "outlinewidth": 0,
              "ticks": ""
             }
            },
            "type": "parcoords"
           }
          ],
          "pie": [
           {
            "automargin": true,
            "type": "pie"
           }
          ],
          "scatter": [
           {
            "fillpattern": {
             "fillmode": "overlay",
             "size": 10,
             "solidity": 0.2
            },
            "type": "scatter"
           }
          ],
          "scatter3d": [
           {
            "line": {
             "colorbar": {
              "outlinewidth": 0,
              "ticks": ""
             }
            },
            "marker": {
             "colorbar": {
              "outlinewidth": 0,
              "ticks": ""
             }
            },
            "type": "scatter3d"
           }
          ],
          "scattercarpet": [
           {
            "marker": {
             "colorbar": {
              "outlinewidth": 0,
              "ticks": ""
             }
            },
            "type": "scattercarpet"
           }
          ],
          "scattergeo": [
           {
            "marker": {
             "colorbar": {
              "outlinewidth": 0,
              "ticks": ""
             }
            },
            "type": "scattergeo"
           }
          ],
          "scattergl": [
           {
            "marker": {
             "colorbar": {
              "outlinewidth": 0,
              "ticks": ""
             }
            },
            "type": "scattergl"
           }
          ],
          "scattermap": [
           {
            "marker": {
             "colorbar": {
              "outlinewidth": 0,
              "ticks": ""
             }
            },
            "type": "scattermap"
           }
          ],
          "scattermapbox": [
           {
            "marker": {
             "colorbar": {
              "outlinewidth": 0,
              "ticks": ""
             }
            },
            "type": "scattermapbox"
           }
          ],
          "scatterpolar": [
           {
            "marker": {
             "colorbar": {
              "outlinewidth": 0,
              "ticks": ""
             }
            },
            "type": "scatterpolar"
           }
          ],
          "scatterpolargl": [
           {
            "marker": {
             "colorbar": {
              "outlinewidth": 0,
              "ticks": ""
             }
            },
            "type": "scatterpolargl"
           }
          ],
          "scatterternary": [
           {
            "marker": {
             "colorbar": {
              "outlinewidth": 0,
              "ticks": ""
             }
            },
            "type": "scatterternary"
           }
          ],
          "surface": [
           {
            "colorbar": {
             "outlinewidth": 0,
             "ticks": ""
            },
            "colorscale": [
             [
              0,
              "#0d0887"
             ],
             [
              0.1111111111111111,
              "#46039f"
             ],
             [
              0.2222222222222222,
              "#7201a8"
             ],
             [
              0.3333333333333333,
              "#9c179e"
             ],
             [
              0.4444444444444444,
              "#bd3786"
             ],
             [
              0.5555555555555556,
              "#d8576b"
             ],
             [
              0.6666666666666666,
              "#ed7953"
             ],
             [
              0.7777777777777778,
              "#fb9f3a"
             ],
             [
              0.8888888888888888,
              "#fdca26"
             ],
             [
              1,
              "#f0f921"
             ]
            ],
            "type": "surface"
           }
          ],
          "table": [
           {
            "cells": {
             "fill": {
              "color": "#EBF0F8"
             },
             "line": {
              "color": "white"
             }
            },
            "header": {
             "fill": {
              "color": "#C8D4E3"
             },
             "line": {
              "color": "white"
             }
            },
            "type": "table"
           }
          ]
         },
         "layout": {
          "annotationdefaults": {
           "arrowcolor": "#2a3f5f",
           "arrowhead": 0,
           "arrowwidth": 1
          },
          "autotypenumbers": "strict",
          "coloraxis": {
           "colorbar": {
            "outlinewidth": 0,
            "ticks": ""
           }
          },
          "colorscale": {
           "diverging": [
            [
             0,
             "#8e0152"
            ],
            [
             0.1,
             "#c51b7d"
            ],
            [
             0.2,
             "#de77ae"
            ],
            [
             0.3,
             "#f1b6da"
            ],
            [
             0.4,
             "#fde0ef"
            ],
            [
             0.5,
             "#f7f7f7"
            ],
            [
             0.6,
             "#e6f5d0"
            ],
            [
             0.7,
             "#b8e186"
            ],
            [
             0.8,
             "#7fbc41"
            ],
            [
             0.9,
             "#4d9221"
            ],
            [
             1,
             "#276419"
            ]
           ],
           "sequential": [
            [
             0,
             "#0d0887"
            ],
            [
             0.1111111111111111,
             "#46039f"
            ],
            [
             0.2222222222222222,
             "#7201a8"
            ],
            [
             0.3333333333333333,
             "#9c179e"
            ],
            [
             0.4444444444444444,
             "#bd3786"
            ],
            [
             0.5555555555555556,
             "#d8576b"
            ],
            [
             0.6666666666666666,
             "#ed7953"
            ],
            [
             0.7777777777777778,
             "#fb9f3a"
            ],
            [
             0.8888888888888888,
             "#fdca26"
            ],
            [
             1,
             "#f0f921"
            ]
           ],
           "sequentialminus": [
            [
             0,
             "#0d0887"
            ],
            [
             0.1111111111111111,
             "#46039f"
            ],
            [
             0.2222222222222222,
             "#7201a8"
            ],
            [
             0.3333333333333333,
             "#9c179e"
            ],
            [
             0.4444444444444444,
             "#bd3786"
            ],
            [
             0.5555555555555556,
             "#d8576b"
            ],
            [
             0.6666666666666666,
             "#ed7953"
            ],
            [
             0.7777777777777778,
             "#fb9f3a"
            ],
            [
             0.8888888888888888,
             "#fdca26"
            ],
            [
             1,
             "#f0f921"
            ]
           ]
          },
          "colorway": [
           "#636efa",
           "#EF553B",
           "#00cc96",
           "#ab63fa",
           "#FFA15A",
           "#19d3f3",
           "#FF6692",
           "#B6E880",
           "#FF97FF",
           "#FECB52"
          ],
          "font": {
           "color": "#2a3f5f"
          },
          "geo": {
           "bgcolor": "white",
           "lakecolor": "white",
           "landcolor": "white",
           "showlakes": true,
           "showland": true,
           "subunitcolor": "#C8D4E3"
          },
          "hoverlabel": {
           "align": "left"
          },
          "hovermode": "closest",
          "mapbox": {
           "style": "light"
          },
          "paper_bgcolor": "white",
          "plot_bgcolor": "white",
          "polar": {
           "angularaxis": {
            "gridcolor": "#EBF0F8",
            "linecolor": "#EBF0F8",
            "ticks": ""
           },
           "bgcolor": "white",
           "radialaxis": {
            "gridcolor": "#EBF0F8",
            "linecolor": "#EBF0F8",
            "ticks": ""
           }
          },
          "scene": {
           "xaxis": {
            "backgroundcolor": "white",
            "gridcolor": "#DFE8F3",
            "gridwidth": 2,
            "linecolor": "#EBF0F8",
            "showbackground": true,
            "ticks": "",
            "zerolinecolor": "#EBF0F8"
           },
           "yaxis": {
            "backgroundcolor": "white",
            "gridcolor": "#DFE8F3",
            "gridwidth": 2,
            "linecolor": "#EBF0F8",
            "showbackground": true,
            "ticks": "",
            "zerolinecolor": "#EBF0F8"
           },
           "zaxis": {
            "backgroundcolor": "white",
            "gridcolor": "#DFE8F3",
            "gridwidth": 2,
            "linecolor": "#EBF0F8",
            "showbackground": true,
            "ticks": "",
            "zerolinecolor": "#EBF0F8"
           }
          },
          "shapedefaults": {
           "line": {
            "color": "#2a3f5f"
           }
          },
          "ternary": {
           "aaxis": {
            "gridcolor": "#DFE8F3",
            "linecolor": "#A2B1C6",
            "ticks": ""
           },
           "baxis": {
            "gridcolor": "#DFE8F3",
            "linecolor": "#A2B1C6",
            "ticks": ""
           },
           "bgcolor": "white",
           "caxis": {
            "gridcolor": "#DFE8F3",
            "linecolor": "#A2B1C6",
            "ticks": ""
           }
          },
          "title": {
           "x": 0.05
          },
          "xaxis": {
           "automargin": true,
           "gridcolor": "#EBF0F8",
           "linecolor": "#EBF0F8",
           "ticks": "",
           "title": {
            "standoff": 15
           },
           "zerolinecolor": "#EBF0F8",
           "zerolinewidth": 2
          },
          "yaxis": {
           "automargin": true,
           "gridcolor": "#EBF0F8",
           "linecolor": "#EBF0F8",
           "ticks": "",
           "title": {
            "standoff": 15
           },
           "zerolinecolor": "#EBF0F8",
           "zerolinewidth": 2
          }
         }
        },
        "title": {
         "font": {
          "color": "Black",
          "size": 22
         },
         "text": "<b>Term score decline per Topic</b>",
         "x": 0.5,
         "xanchor": "center",
         "y": 0.9,
         "yanchor": "top"
        },
        "width": 800,
        "xaxis": {
         "dtick": 2,
         "range": [
          0,
          10
         ],
         "tick0": 1,
         "title": {
          "text": "Term Rank"
         }
        },
        "yaxis": {
         "title": {
          "text": "c-TF-IDF score"
         }
        }
       }
      }
     },
     "metadata": {},
     "output_type": "display_data"
    }
   ],
   "source": [
    "topic_model.visualize_term_rank()"
   ]
  },
  {
   "cell_type": "code",
   "execution_count": 6,
   "id": "9306b49e",
   "metadata": {},
   "outputs": [
    {
     "name": "stdout",
     "output_type": "stream",
     "text": [
      "    Topic  Count     Share\n",
      "1       0    209  0.062036\n",
      "2       1    186  0.055209\n",
      "3       2    125  0.037103\n",
      "4       3    119  0.035322\n",
      "5       4    107  0.031760\n",
      "..    ...    ...       ...\n",
      "80     79     11  0.003265\n",
      "81     80     10  0.002968\n",
      "82     81     10  0.002968\n",
      "83     82     10  0.002968\n",
      "84     83     10  0.002968\n",
      "\n",
      "[84 rows x 3 columns]\n"
     ]
    }
   ],
   "source": [
    "# Get topic frequencies\n",
    "topic_freq = topic_model.get_topic_info()\n",
    "\n",
    "# Remove -1 topic as we don't want \"outliers\"/unclassified\n",
    "topic_freq_filtered = topic_freq[topic_freq.Topic != -1]\n",
    "\n",
    "# Calculate total number of documents assigned a topic\n",
    "total_docs = topic_freq_filtered['Count'].sum()\n",
    "\n",
    "# Compute topic shares\n",
    "topic_freq_filtered['Share'] = topic_freq_filtered['Count'] / total_docs\n",
    "\n",
    "# Format as a DataFrame with Topic, Count, and Share\n",
    "topic_shares = topic_freq_filtered[['Topic', 'Count', 'Share']]\n",
    "print(topic_shares)\n"
   ]
  }
 ],
 "metadata": {
  "kernelspec": {
   "display_name": ".venv",
   "language": "python",
   "name": "python3"
  },
  "language_info": {
   "codemirror_mode": {
    "name": "ipython",
    "version": 3
   },
   "file_extension": ".py",
   "mimetype": "text/x-python",
   "name": "python",
   "nbconvert_exporter": "python",
   "pygments_lexer": "ipython3",
   "version": "3.12.10"
  }
 },
 "nbformat": 4,
 "nbformat_minor": 5
}
