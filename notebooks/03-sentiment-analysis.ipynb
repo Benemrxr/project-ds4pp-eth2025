{
 "cells": [
  {
   "cell_type": "markdown",
   "id": "daeccf72",
   "metadata": {},
   "source": [
    "# Sentiment Analysis\n",
    "\n",
    "Using the Loughran-McDonald_MasterDictionary."
   ]
  },
  {
   "cell_type": "code",
   "execution_count": null,
   "id": "1a0ffe71",
   "metadata": {},
   "outputs": [],
   "source": [
    "import pandas as pd\n",
    "# load publishers data from the corresponding file\n",
    "publishers = pd.read_csv(\"../data/processed/publishers.csv\") "
   ]
  },
  {
   "cell_type": "code",
   "execution_count": null,
   "id": "c10c43c8",
   "metadata": {},
   "outputs": [],
   "source": [
    "# --- Monthly Composite Sentiment for all publishers using spaCy ---\n",
    "\n",
    "import pandas as pd\n",
    "import spacy\n",
    "import re\n",
    "\n",
    "# 1) spaCy setup\n",
    "nlp = spacy.load(\"en_core_web_sm\", disable=[\"parser\",\"ner\"])\n",
    "\n",
    "# 2) load Loughran–McDonald dictionary\n",
    "lmd = pd.read_csv(\"../data/raw/Loughran-McDonald_MasterDictionary_1993-2024.csv\")\n",
    "pos_words = set(lmd.loc[lmd.Positive > 0, \"Word\"].str.lower())\n",
    "neg_words = set(lmd.loc[lmd.Negative > 0, \"Word\"].str.lower())\n",
    "\n",
    "# 3) helper to count pos/neg tokens\n",
    "def count_sentiment(text):\n",
    "    doc = nlp(str(text))\n",
    "    pos = neg = 0\n",
    "    for tok in doc:\n",
    "        w = tok.text.lower()\n",
    "        if tok.is_alpha:\n",
    "            if w in pos_words: pos += 1\n",
    "            if w in neg_words: neg += 1\n",
    "    return pd.Series({\"pos\": pos, \"neg\": neg})\n"
   ]
  },
  {
   "cell_type": "code",
   "execution_count": null,
   "id": "23acf0dd",
   "metadata": {},
   "outputs": [],
   "source": [
    "# 4) loop over publisher samples and compute monthly sentiment\n",
    "monthly_records = []\n",
    "for pub in publishers['publication']:\n",
    "    safe   = re.sub(r'\\W+', '_', pub.lower()).strip('_')\n",
    "    # removed infer_datetime_format (now default)\n",
    "    sample = pd.read_csv(f\"../data/processed/newspapers/sample_{safe}.csv\", parse_dates=['date'])\n",
    "    sample = sample.dropna(subset=['date'])\n",
    "    texts  = sample['article'].astype(str).tolist()\n",
    "\n",
    "    # batch‐process spaCy\n",
    "    docs = nlp.pipe(texts, batch_size=500)\n",
    "    sent_counts = []\n",
    "    for doc in docs:\n",
    "        pos = sum(1 for tok in doc if tok.is_alpha and tok.text.lower() in pos_words)\n",
    "        neg = sum(1 for tok in doc if tok.is_alpha and tok.text.lower() in neg_words)\n",
    "        sent_counts.append((pos, neg))\n",
    "\n",
    "    sample[['pos','neg']] = pd.DataFrame(sent_counts, index=sample.index)\n",
    "\n",
    "    agg = (\n",
    "        sample\n",
    "          .set_index('date')\n",
    "          # use 'ME' (month end) instead of deprecated 'M'\n",
    "          .resample('ME')\n",
    "          .agg({'pos':'sum','neg':'sum'})\n",
    "          .assign(\n",
    "            sentiment=lambda df: (df.pos - df.neg)/(df.pos + df.neg + 1e-9),\n",
    "            publication=pub\n",
    "          )\n",
    "          .reset_index()[['date','publication','sentiment']]\n",
    "    )\n",
    "    monthly_records.append(agg)\n",
    "\n",
    "df_monthly_all = pd.concat(monthly_records, ignore_index=True)\n",
    "# save df_monthly_all as csv\n",
    "df_monthly_all.to_csv(\"../data/processed/monthly_sentiment_all.csv\", index=False)\n",
    "display(df_monthly_all)"
   ]
  },
  {
   "cell_type": "code",
   "execution_count": null,
   "id": "759346e7",
   "metadata": {},
   "outputs": [],
   "source": [
    "# Plot monthly sentiment for all publishers in one figure\n",
    "import matplotlib.pyplot as plt\n",
    "\n",
    "plt.figure(figsize=(12, 6))\n",
    "for pub, grp in df_monthly_all.groupby('publication'):\n",
    "    plt.plot(grp['date'], grp['sentiment'], marker='o', linestyle='-', label=pub)\n",
    "\n",
    "plt.title('Monthly Composite Sentiment for All Publishers')\n",
    "plt.xlabel('Month')\n",
    "plt.ylabel('Sentiment Score')\n",
    "plt.legend(title='Publisher', bbox_to_anchor=(1.05, 1), loc='upper left')\n",
    "plt.grid(True)\n",
    "plt.tight_layout()\n",
    "plt.show()"
   ]
  },
  {
   "cell_type": "code",
   "execution_count": null,
   "id": "05b64a5e",
   "metadata": {},
   "outputs": [],
   "source": [
    "# Plot monthly sentiment for all publishers: grey lines + black average line\n",
    "\n",
    "plt.figure(figsize=(12, 6))\n",
    "\n",
    "# plot each publisher in grey\n",
    "for _, grp in df_monthly_all.groupby('publication'):\n",
    "    plt.plot(grp['date'], grp['sentiment'],\n",
    "             color='grey', alpha=0.5, linewidth=1)\n",
    "\n",
    "# compute and plot the average sentiment per month\n",
    "avg = df_monthly_all.groupby('date')['sentiment'].mean().reset_index()\n",
    "plt.plot(avg['date'], avg['sentiment'],\n",
    "         color='black', marker='o', linestyle='-',\n",
    "         linewidth=2, label='Average')\n",
    "\n",
    "plt.title('Monthly Composite Sentiment for All Publishers')\n",
    "plt.xlabel('Month')\n",
    "plt.ylabel('Sentiment Score')\n",
    "plt.legend()\n",
    "plt.grid(True)\n",
    "plt.tight_layout()\n",
    "plt.show()"
   ]
  }
 ],
 "metadata": {
  "kernelspec": {
   "display_name": ".venv",
   "language": "python",
   "name": "python3"
  },
  "language_info": {
   "name": "python",
   "version": "3.12.6"
  }
 },
 "nbformat": 4,
 "nbformat_minor": 5
}
