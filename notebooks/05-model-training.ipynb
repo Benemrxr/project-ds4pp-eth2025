{
 "cells": [
  {
   "cell_type": "markdown",
   "id": "fbbb3d65",
   "metadata": {},
   "source": [
    "# Model Training\n",
    "\n",
    "Model comparison (XGBoost, RandomForest, Ridge, etc.) with RMSE evaluation. "
   ]
  },
  {
   "cell_type": "markdown",
   "id": "a214a973",
   "metadata": {},
   "source": [
    "To be added from national-news.ipynb soon!"
   ]
  }
 ],
 "metadata": {
  "language_info": {
   "name": "python"
  }
 },
 "nbformat": 4,
 "nbformat_minor": 5
}
