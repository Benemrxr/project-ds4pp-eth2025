{
 "cells": [
  {
   "cell_type": "markdown",
   "id": "fbbb3d65",
   "metadata": {},
   "source": [
    "# Model Training\n",
    "\n",
    "Model comparison (XGBoost, RandomForest, Ridge, etc.) with RMSE evaluation. "
   ]
  },
  {
   "cell_type": "markdown",
   "id": "a214a973",
   "metadata": {},
   "source": [
    "To be added from national-news.ipynb soon!"
   ]
  },
  {
   "cell_type": "code",
   "execution_count": 1,
   "id": "0db10bd2",
   "metadata": {},
   "outputs": [],
   "source": [
    "# Load features from 04-feature-engineering.ipynb\n",
    "import pandas as pd\n",
    "df_lda = pd.read_csv(\"../data/processed/features_lda_monthly.csv\")"
   ]
  },
  {
   "cell_type": "code",
   "execution_count": 2,
   "id": "8e130d53",
   "metadata": {},
   "outputs": [
    {
     "data": {
      "application/vnd.microsoft.datawrangler.viewer.v0+json": {
       "columns": [
        {
         "name": "index",
         "rawType": "int64",
         "type": "integer"
        },
        {
         "name": "month",
         "rawType": "object",
         "type": "string"
        },
        {
         "name": "INDPRO",
         "rawType": "float64",
         "type": "float"
        },
        {
         "name": "sentiment",
         "rawType": "float64",
         "type": "float"
        },
        {
         "name": "topic_0",
         "rawType": "float64",
         "type": "float"
        },
        {
         "name": "topic_1",
         "rawType": "float64",
         "type": "float"
        },
        {
         "name": "topic_2",
         "rawType": "float64",
         "type": "float"
        },
        {
         "name": "topic_3",
         "rawType": "float64",
         "type": "float"
        },
        {
         "name": "topic_4",
         "rawType": "float64",
         "type": "float"
        },
        {
         "name": "topic_5",
         "rawType": "float64",
         "type": "float"
        },
        {
         "name": "topic_6",
         "rawType": "float64",
         "type": "float"
        },
        {
         "name": "topic_7",
         "rawType": "float64",
         "type": "float"
        },
        {
         "name": "topic_8",
         "rawType": "float64",
         "type": "float"
        },
        {
         "name": "topic_9",
         "rawType": "float64",
         "type": "float"
        },
        {
         "name": "date",
         "rawType": "object",
         "type": "string"
        },
        {
         "name": "observation_date",
         "rawType": "object",
         "type": "string"
        },
        {
         "name": "publication_Business Insider",
         "rawType": "bool",
         "type": "boolean"
        },
        {
         "name": "publication_Buzzfeed News",
         "rawType": "bool",
         "type": "boolean"
        },
        {
         "name": "publication_CNBC",
         "rawType": "bool",
         "type": "boolean"
        },
        {
         "name": "publication_CNN",
         "rawType": "bool",
         "type": "boolean"
        },
        {
         "name": "publication_Economist",
         "rawType": "bool",
         "type": "boolean"
        },
        {
         "name": "publication_Fox News",
         "rawType": "bool",
         "type": "boolean"
        },
        {
         "name": "publication_Gizmodo",
         "rawType": "bool",
         "type": "boolean"
        },
        {
         "name": "publication_Hyperallergic",
         "rawType": "bool",
         "type": "boolean"
        },
        {
         "name": "publication_Mashable",
         "rawType": "bool",
         "type": "boolean"
        },
        {
         "name": "publication_New Republic",
         "rawType": "bool",
         "type": "boolean"
        },
        {
         "name": "publication_New Yorker",
         "rawType": "bool",
         "type": "boolean"
        },
        {
         "name": "publication_People",
         "rawType": "bool",
         "type": "boolean"
        },
        {
         "name": "publication_Politico",
         "rawType": "bool",
         "type": "boolean"
        },
        {
         "name": "publication_Refinery 29",
         "rawType": "bool",
         "type": "boolean"
        },
        {
         "name": "publication_Reuters",
         "rawType": "bool",
         "type": "boolean"
        },
        {
         "name": "publication_TMZ",
         "rawType": "bool",
         "type": "boolean"
        },
        {
         "name": "publication_TechCrunch",
         "rawType": "bool",
         "type": "boolean"
        },
        {
         "name": "publication_The Hill",
         "rawType": "bool",
         "type": "boolean"
        },
        {
         "name": "publication_The New York Times",
         "rawType": "bool",
         "type": "boolean"
        },
        {
         "name": "publication_The Verge",
         "rawType": "bool",
         "type": "boolean"
        },
        {
         "name": "publication_Vice",
         "rawType": "bool",
         "type": "boolean"
        },
        {
         "name": "publication_Vice News",
         "rawType": "bool",
         "type": "boolean"
        },
        {
         "name": "publication_Vox",
         "rawType": "bool",
         "type": "boolean"
        },
        {
         "name": "publication_Washington Post",
         "rawType": "bool",
         "type": "boolean"
        },
        {
         "name": "publication_Wired",
         "rawType": "bool",
         "type": "boolean"
        }
       ],
       "ref": "4aa2d3a8-9aad-4ba4-949d-fab5a8b0ccd4",
       "rows": [
        [
         "0",
         "2016-01-01",
         "99.4391",
         "-0.3323657474596047",
         "0.047302984",
         "0.108756624",
         "0.06540001",
         "0.17748734",
         "0.07895617",
         "0.0894271",
         "0.14779136",
         "0.20320085",
         "0.062031247",
         "0.01964631",
         "2016-01-31",
         "2016-01-01",
         "True",
         "False",
         "False",
         "False",
         "False",
         "False",
         "False",
         "False",
         "False",
         "False",
         "False",
         "False",
         "False",
         "False",
         "False",
         "False",
         "False",
         "False",
         "False",
         "False",
         "False",
         "False",
         "False",
         "False",
         "False"
        ],
        [
         "1",
         "2016-01-01",
         "99.4391",
         "-0.3597597597595436",
         "0.048579417",
         "0.034059517",
         "0.039285414",
         "0.08041005",
         "0.0489814",
         "0.047445092",
         "0.08220616",
         "0.5336004",
         "0.04123221",
         "0.044200376",
         "2016-01-31",
         "2016-01-01",
         "False",
         "False",
         "True",
         "False",
         "False",
         "False",
         "False",
         "False",
         "False",
         "False",
         "False",
         "False",
         "False",
         "False",
         "False",
         "False",
         "False",
         "False",
         "False",
         "False",
         "False",
         "False",
         "False",
         "False",
         "False"
        ],
        [
         "2",
         "2016-01-01",
         "99.4391",
         "-0.4536340852128904",
         "0.076842524",
         "0.10081227",
         "0.06280597",
         "0.020818982",
         "0.08496678",
         "0.1640641",
         "0.14369948",
         "0.028038414",
         "0.031465318",
         "0.28648618",
         "2016-01-31",
         "2016-01-01",
         "False",
         "False",
         "False",
         "True",
         "False",
         "False",
         "False",
         "False",
         "False",
         "False",
         "False",
         "False",
         "False",
         "False",
         "False",
         "False",
         "False",
         "False",
         "False",
         "False",
         "False",
         "False",
         "False",
         "False",
         "False"
        ],
        [
         "3",
         "2016-01-01",
         "99.4391",
         "-0.4493644936448442",
         "0.17875434",
         "0.0656785",
         "0.06935496",
         "0.09241578",
         "0.028589163",
         "0.14639984",
         "0.13329387",
         "0.1846203",
         "0.045752045",
         "0.055141196",
         "2016-01-31",
         "2016-01-01",
         "False",
         "False",
         "False",
         "False",
         "True",
         "False",
         "False",
         "False",
         "False",
         "False",
         "False",
         "False",
         "False",
         "False",
         "False",
         "False",
         "False",
         "False",
         "False",
         "False",
         "False",
         "False",
         "False",
         "False",
         "False"
        ],
        [
         "4",
         "2016-01-01",
         "99.4391",
         "-0.1711229946523301",
         "0.027663002",
         "0.11516362",
         "0.1631974",
         "0.3090547",
         "0.035086274",
         "0.03496487",
         "0.18921006",
         "0.026135849",
         "0.08845387",
         "0.011070326",
         "2016-01-31",
         "2016-01-01",
         "False",
         "False",
         "False",
         "False",
         "False",
         "False",
         "True",
         "False",
         "False",
         "False",
         "False",
         "False",
         "False",
         "False",
         "False",
         "False",
         "False",
         "False",
         "False",
         "False",
         "False",
         "False",
         "False",
         "False",
         "False"
        ]
       ],
       "shape": {
        "columns": 40,
        "rows": 5
       }
      },
      "text/html": [
       "<div>\n",
       "<style scoped>\n",
       "    .dataframe tbody tr th:only-of-type {\n",
       "        vertical-align: middle;\n",
       "    }\n",
       "\n",
       "    .dataframe tbody tr th {\n",
       "        vertical-align: top;\n",
       "    }\n",
       "\n",
       "    .dataframe thead th {\n",
       "        text-align: right;\n",
       "    }\n",
       "</style>\n",
       "<table border=\"1\" class=\"dataframe\">\n",
       "  <thead>\n",
       "    <tr style=\"text-align: right;\">\n",
       "      <th></th>\n",
       "      <th>month</th>\n",
       "      <th>INDPRO</th>\n",
       "      <th>sentiment</th>\n",
       "      <th>topic_0</th>\n",
       "      <th>topic_1</th>\n",
       "      <th>topic_2</th>\n",
       "      <th>topic_3</th>\n",
       "      <th>topic_4</th>\n",
       "      <th>topic_5</th>\n",
       "      <th>topic_6</th>\n",
       "      <th>...</th>\n",
       "      <th>publication_TMZ</th>\n",
       "      <th>publication_TechCrunch</th>\n",
       "      <th>publication_The Hill</th>\n",
       "      <th>publication_The New York Times</th>\n",
       "      <th>publication_The Verge</th>\n",
       "      <th>publication_Vice</th>\n",
       "      <th>publication_Vice News</th>\n",
       "      <th>publication_Vox</th>\n",
       "      <th>publication_Washington Post</th>\n",
       "      <th>publication_Wired</th>\n",
       "    </tr>\n",
       "  </thead>\n",
       "  <tbody>\n",
       "    <tr>\n",
       "      <th>0</th>\n",
       "      <td>2016-01-01</td>\n",
       "      <td>99.4391</td>\n",
       "      <td>-0.332366</td>\n",
       "      <td>0.047303</td>\n",
       "      <td>0.108757</td>\n",
       "      <td>0.065400</td>\n",
       "      <td>0.177487</td>\n",
       "      <td>0.078956</td>\n",
       "      <td>0.089427</td>\n",
       "      <td>0.147791</td>\n",
       "      <td>...</td>\n",
       "      <td>False</td>\n",
       "      <td>False</td>\n",
       "      <td>False</td>\n",
       "      <td>False</td>\n",
       "      <td>False</td>\n",
       "      <td>False</td>\n",
       "      <td>False</td>\n",
       "      <td>False</td>\n",
       "      <td>False</td>\n",
       "      <td>False</td>\n",
       "    </tr>\n",
       "    <tr>\n",
       "      <th>1</th>\n",
       "      <td>2016-01-01</td>\n",
       "      <td>99.4391</td>\n",
       "      <td>-0.359760</td>\n",
       "      <td>0.048579</td>\n",
       "      <td>0.034060</td>\n",
       "      <td>0.039285</td>\n",
       "      <td>0.080410</td>\n",
       "      <td>0.048981</td>\n",
       "      <td>0.047445</td>\n",
       "      <td>0.082206</td>\n",
       "      <td>...</td>\n",
       "      <td>False</td>\n",
       "      <td>False</td>\n",
       "      <td>False</td>\n",
       "      <td>False</td>\n",
       "      <td>False</td>\n",
       "      <td>False</td>\n",
       "      <td>False</td>\n",
       "      <td>False</td>\n",
       "      <td>False</td>\n",
       "      <td>False</td>\n",
       "    </tr>\n",
       "    <tr>\n",
       "      <th>2</th>\n",
       "      <td>2016-01-01</td>\n",
       "      <td>99.4391</td>\n",
       "      <td>-0.453634</td>\n",
       "      <td>0.076843</td>\n",
       "      <td>0.100812</td>\n",
       "      <td>0.062806</td>\n",
       "      <td>0.020819</td>\n",
       "      <td>0.084967</td>\n",
       "      <td>0.164064</td>\n",
       "      <td>0.143699</td>\n",
       "      <td>...</td>\n",
       "      <td>False</td>\n",
       "      <td>False</td>\n",
       "      <td>False</td>\n",
       "      <td>False</td>\n",
       "      <td>False</td>\n",
       "      <td>False</td>\n",
       "      <td>False</td>\n",
       "      <td>False</td>\n",
       "      <td>False</td>\n",
       "      <td>False</td>\n",
       "    </tr>\n",
       "    <tr>\n",
       "      <th>3</th>\n",
       "      <td>2016-01-01</td>\n",
       "      <td>99.4391</td>\n",
       "      <td>-0.449364</td>\n",
       "      <td>0.178754</td>\n",
       "      <td>0.065679</td>\n",
       "      <td>0.069355</td>\n",
       "      <td>0.092416</td>\n",
       "      <td>0.028589</td>\n",
       "      <td>0.146400</td>\n",
       "      <td>0.133294</td>\n",
       "      <td>...</td>\n",
       "      <td>False</td>\n",
       "      <td>False</td>\n",
       "      <td>False</td>\n",
       "      <td>False</td>\n",
       "      <td>False</td>\n",
       "      <td>False</td>\n",
       "      <td>False</td>\n",
       "      <td>False</td>\n",
       "      <td>False</td>\n",
       "      <td>False</td>\n",
       "    </tr>\n",
       "    <tr>\n",
       "      <th>4</th>\n",
       "      <td>2016-01-01</td>\n",
       "      <td>99.4391</td>\n",
       "      <td>-0.171123</td>\n",
       "      <td>0.027663</td>\n",
       "      <td>0.115164</td>\n",
       "      <td>0.163197</td>\n",
       "      <td>0.309055</td>\n",
       "      <td>0.035086</td>\n",
       "      <td>0.034965</td>\n",
       "      <td>0.189210</td>\n",
       "      <td>...</td>\n",
       "      <td>False</td>\n",
       "      <td>False</td>\n",
       "      <td>False</td>\n",
       "      <td>False</td>\n",
       "      <td>False</td>\n",
       "      <td>False</td>\n",
       "      <td>False</td>\n",
       "      <td>False</td>\n",
       "      <td>False</td>\n",
       "      <td>False</td>\n",
       "    </tr>\n",
       "  </tbody>\n",
       "</table>\n",
       "<p>5 rows × 40 columns</p>\n",
       "</div>"
      ],
      "text/plain": [
       "        month   INDPRO  sentiment   topic_0   topic_1   topic_2   topic_3  \\\n",
       "0  2016-01-01  99.4391  -0.332366  0.047303  0.108757  0.065400  0.177487   \n",
       "1  2016-01-01  99.4391  -0.359760  0.048579  0.034060  0.039285  0.080410   \n",
       "2  2016-01-01  99.4391  -0.453634  0.076843  0.100812  0.062806  0.020819   \n",
       "3  2016-01-01  99.4391  -0.449364  0.178754  0.065679  0.069355  0.092416   \n",
       "4  2016-01-01  99.4391  -0.171123  0.027663  0.115164  0.163197  0.309055   \n",
       "\n",
       "    topic_4   topic_5   topic_6  ...  publication_TMZ  publication_TechCrunch  \\\n",
       "0  0.078956  0.089427  0.147791  ...            False                   False   \n",
       "1  0.048981  0.047445  0.082206  ...            False                   False   \n",
       "2  0.084967  0.164064  0.143699  ...            False                   False   \n",
       "3  0.028589  0.146400  0.133294  ...            False                   False   \n",
       "4  0.035086  0.034965  0.189210  ...            False                   False   \n",
       "\n",
       "   publication_The Hill publication_The New York Times publication_The Verge  \\\n",
       "0                 False                          False                 False   \n",
       "1                 False                          False                 False   \n",
       "2                 False                          False                 False   \n",
       "3                 False                          False                 False   \n",
       "4                 False                          False                 False   \n",
       "\n",
       "   publication_Vice  publication_Vice News  publication_Vox  \\\n",
       "0             False                  False            False   \n",
       "1             False                  False            False   \n",
       "2             False                  False            False   \n",
       "3             False                  False            False   \n",
       "4             False                  False            False   \n",
       "\n",
       "   publication_Washington Post  publication_Wired  \n",
       "0                        False              False  \n",
       "1                        False              False  \n",
       "2                        False              False  \n",
       "3                        False              False  \n",
       "4                        False              False  \n",
       "\n",
       "[5 rows x 40 columns]"
      ]
     },
     "metadata": {},
     "output_type": "display_data"
    }
   ],
   "source": [
    "# print preview of the features dataFrame\n",
    "cols = ['month', 'INDPRO', 'sentiment'] + [c for c in df_lda.columns if c not in ('month', 'INDPRO', 'sentiment')]\n",
    "display(df_lda[cols].head())"
   ]
  },
  {
   "cell_type": "code",
   "execution_count": 4,
   "id": "cc22a6f0",
   "metadata": {},
   "outputs": [],
   "source": [
    "df = df_lda.copy()"
   ]
  },
  {
   "cell_type": "markdown",
   "id": "96143c55",
   "metadata": {},
   "source": [
    "## Compare different models"
   ]
  },
  {
   "cell_type": "markdown",
   "id": "f3c3ed75",
   "metadata": {},
   "source": [
    "### 1. Define models and their hyperparameter grids"
   ]
  },
  {
   "cell_type": "code",
   "execution_count": 3,
   "id": "6124a0d1",
   "metadata": {},
   "outputs": [],
   "source": [
    "from sklearn.ensemble import RandomForestRegressor, GradientBoostingRegressor\n",
    "from sklearn.linear_model import Ridge\n",
    "from xgboost import XGBRegressor\n",
    "\n",
    "models_and_params = {\n",
    "    'XGBoost': {\n",
    "        'model': XGBRegressor(objective='reg:squarederror', random_state=42),\n",
    "        'params': {\n",
    "            'n_estimators': [100, 300],\n",
    "            'max_depth': [3, 5],\n",
    "            'learning_rate': [0.01, 0.1],\n",
    "            'subsample': [0.8, 1.0]\n",
    "        }\n",
    "    },\n",
    "    'RandomForest': {\n",
    "        'model': RandomForestRegressor(random_state=42),\n",
    "        'params': {\n",
    "            'n_estimators': [100, 300],\n",
    "            'max_depth': [None, 10],\n",
    "            'min_samples_split': [2, 5]\n",
    "        }\n",
    "    },\n",
    "    'GradientBoosting': {\n",
    "        'model': GradientBoostingRegressor(random_state=42),\n",
    "        'params': {\n",
    "            'n_estimators': [100, 300],\n",
    "            'learning_rate': [0.01, 0.1],\n",
    "            'max_depth': [3, 5]\n",
    "        }\n",
    "    },\n",
    "    'Ridge': {\n",
    "        'model': Ridge(),\n",
    "        'params': {\n",
    "            'alpha': [0.1, 1.0, 10.0]\n",
    "        }\n",
    "    }\n",
    "}\n"
   ]
  },
  {
   "cell_type": "markdown",
   "id": "59f95c16",
   "metadata": {},
   "source": [
    "### 2. Time-aware train/test split"
   ]
  },
  {
   "cell_type": "code",
   "execution_count": 5,
   "id": "238bb341",
   "metadata": {},
   "outputs": [],
   "source": [
    "# Define features and target\n",
    "features = [col for col in df.columns if col.startswith('topic_') or col.startswith('publication_')]\n",
    "features.append('sentiment')\n",
    "X = df[features]\n",
    "y = df['INDPRO']\n",
    "\n",
    "split_idx = int(len(df) * 0.8)\n",
    "X_train, X_test = X.iloc[:split_idx], X.iloc[split_idx:]\n",
    "y_train, y_test = y.iloc[:split_idx], y.iloc[split_idx:]\n",
    "\n",
    "# Set Up TimeSeriesSplit ---\n",
    "from sklearn.model_selection import TimeSeriesSplit\n",
    "tscv = TimeSeriesSplit(n_splits=3)"
   ]
  },
  {
   "cell_type": "markdown",
   "id": "6d21b973",
   "metadata": {},
   "source": [
    "### 3. Run GridSearchCV with 3-fold CV"
   ]
  },
  {
   "cell_type": "code",
   "execution_count": 6,
   "id": "36329c64",
   "metadata": {},
   "outputs": [
    {
     "name": "stdout",
     "output_type": "stream",
     "text": [
      "\n",
      "🔍 Tuning XGBoost...\n",
      "\n",
      "🔍 Tuning RandomForest...\n",
      "\n",
      "🔍 Tuning GradientBoosting...\n",
      "\n",
      "🔍 Tuning Ridge...\n"
     ]
    }
   ],
   "source": [
    "from sklearn.model_selection import GridSearchCV\n",
    "from sklearn.metrics import mean_squared_error\n",
    "import numpy as np\n",
    "\n",
    "best_models = []\n",
    "for name, mp in models_and_params.items():\n",
    "    print(f\"\\n🔍 Tuning {name}...\")\n",
    "    grid = GridSearchCV(\n",
    "        estimator=mp['model'],\n",
    "        param_grid=mp['params'],\n",
    "        cv=tscv,\n",
    "        scoring='neg_root_mean_squared_error',\n",
    "        verbose=0\n",
    "    )\n",
    "    grid.fit(X_train, y_train)\n",
    "\n",
    "    best_model = grid.best_estimator_\n",
    "    y_pred = best_model.predict(X_test)\n",
    "    rmse = np.sqrt(mean_squared_error(y_test, y_pred))\n",
    "\n",
    "    best_models.append({\n",
    "        'Model': name,\n",
    "        'Best Params': grid.best_params_,\n",
    "        'Test RMSE': rmse\n",
    "    })\n",
    "\n"
   ]
  },
  {
   "cell_type": "markdown",
   "id": "59964de5",
   "metadata": {},
   "source": [
    "### 4. Display results"
   ]
  },
  {
   "cell_type": "code",
   "execution_count": 7,
   "id": "52e2306a",
   "metadata": {},
   "outputs": [
    {
     "name": "stdout",
     "output_type": "stream",
     "text": [
      "              Model                                        Best Params  \\\n",
      "1      RandomForest  {'max_depth': None, 'min_samples_split': 2, 'n...   \n",
      "0           XGBoost  {'learning_rate': 0.1, 'max_depth': 5, 'n_esti...   \n",
      "2  GradientBoosting  {'learning_rate': 0.1, 'max_depth': 5, 'n_esti...   \n",
      "3             Ridge                                     {'alpha': 0.1}   \n",
      "\n",
      "   Test RMSE  \n",
      "1   2.961406  \n",
      "0   3.065962  \n",
      "2   3.145013  \n",
      "3   3.228735  \n"
     ]
    }
   ],
   "source": [
    "results_df = pd.DataFrame(best_models).sort_values(by='Test RMSE')\n",
    "print(results_df)\n",
    "\n"
   ]
  },
  {
   "cell_type": "markdown",
   "id": "8417c4f9",
   "metadata": {},
   "source": [
    "### 5. Visualization"
   ]
  },
  {
   "cell_type": "code",
   "execution_count": 8,
   "id": "57562edc",
   "metadata": {},
   "outputs": [
    {
     "data": {
      "image/png": "[encoded data removed]",
      "text/plain": [
       "<Figure size 640x480 with 1 Axes>"
      ]
     },
     "metadata": {},
     "output_type": "display_data"
    }
   ],
   "source": [
    "import matplotlib.pyplot as plt\n",
    "\n",
    "results_df.plot(x='Model', y='Test RMSE', kind='barh', legend=False, title='Model Comparison (Test RMSE)')\n",
    "plt.xlabel(\"RMSE (Lower is Better)\")\n",
    "plt.tight_layout()\n",
    "plt.show()"
   ]
  },
  {
   "cell_type": "markdown",
   "id": "e1631ad3",
   "metadata": {},
   "source": [
    "### 6. Save Best Models"
   ]
  },
  {
   "cell_type": "code",
   "execution_count": 9,
   "id": "cb142459",
   "metadata": {},
   "outputs": [
    {
     "name": "stdout",
     "output_type": "stream",
     "text": [
      "✅ Saved best model (RandomForest) to ../models/best_model.joblib\n"
     ]
    }
   ],
   "source": [
    "# Save best models\n",
    "import joblib\n",
    "from xgboost import XGBRegressor\n",
    "from sklearn.ensemble import RandomForestRegressor, GradientBoostingRegressor\n",
    "from sklearn.linear_model import Ridge\n",
    "\n",
    "# 1) Identify best model by lowest RMSE\n",
    "best_idx     = results_df['Test RMSE'].idxmin()\n",
    "best_name    = results_df.loc[best_idx, 'Model']\n",
    "best_params  = results_df.loc[best_idx, 'Best Params']\n",
    "\n",
    "# 2) Re‐instantiate and fit on full training set\n",
    "if best_name == 'XGBoost':\n",
    "    best_model = XGBRegressor(objective='reg:squarederror', random_state=42, **best_params)\n",
    "elif best_name == 'RandomForest':\n",
    "    best_model = RandomForestRegressor(random_state=42, **best_params)\n",
    "elif best_name == 'GradientBoosting':\n",
    "    best_model = GradientBoostingRegressor(random_state=42, **best_params)\n",
    "elif best_name == 'Ridge':\n",
    "    best_model = Ridge(**best_params)\n",
    "else:\n",
    "    raise ValueError(f\"Unknown model: {best_name}\")\n",
    "\n",
    "best_model.fit(X_train, y_train)\n",
    "\n",
    "# 3) Save to disk for later use (e.g. SHAP analysis)\n",
    "model_path = \"../models/best_model.joblib\"\n",
    "joblib.dump(best_model, model_path)\n",
    "print(f\"✅ Saved best model ({best_name}) to {model_path}\")\n"
   ]
  }
 ],
 "metadata": {
  "kernelspec": {
   "display_name": ".venv",
   "language": "python",
   "name": "python3"
  },
  "language_info": {
   "codemirror_mode": {
    "name": "ipython",
    "version": 3
   },
   "file_extension": ".py",
   "mimetype": "text/x-python",
   "name": "python",
   "nbconvert_exporter": "python",
   "pygments_lexer": "ipython3",
   "version": "3.12.6"
  }
 },
 "nbformat": 4,
 "nbformat_minor": 5
}
